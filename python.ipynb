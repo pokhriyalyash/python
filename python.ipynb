{
  "nbformat": 4,
  "nbformat_minor": 0,
  "metadata": {
    "colab": {
      "provenance": [],
      "toc_visible": true,
      "authorship_tag": "ABX9TyN1x2PS4ILZcAVmBxAB8Vd9",
      "include_colab_link": true
    },
    "kernelspec": {
      "name": "python3",
      "display_name": "Python 3"
    },
    "language_info": {
      "name": "python"
    }
  },
  "cells": [
    {
      "cell_type": "markdown",
      "metadata": {
        "id": "view-in-github",
        "colab_type": "text"
      },
      "source": [
        "<a href=\"https://colab.research.google.com/github/pokhriyalyash/python/blob/main/python.ipynb\" target=\"_parent\"><img src=\"https://colab.research.google.com/assets/colab-badge.svg\" alt=\"Open In Colab\"/></a>"
      ]
    },
    {
      "cell_type": "markdown",
      "source": [
        "# Python\n",
        "\n"
      ],
      "metadata": {
        "id": "jPvHMe0QzPp9"
      }
    },
    {
      "cell_type": "markdown",
      "source": [
        "## 1. Python Input Output"
      ],
      "metadata": {
        "id": "N9lTj20YzTmz"
      }
    },
    {
      "cell_type": "code",
      "execution_count": 1,
      "metadata": {
        "colab": {
          "base_uri": "https://localhost:8080/"
        },
        "id": "pjvzPHD2ytvz",
        "outputId": "c5e27d21-82ee-4d39-cea3-fc63917f4f4e"
      },
      "outputs": [
        {
          "output_type": "stream",
          "name": "stdout",
          "text": [
            "Hello World\n"
          ]
        }
      ],
      "source": [
        "print(\"Hello World\")\n",
        "\n",
        "#python is case sensitive language"
      ]
    },
    {
      "cell_type": "code",
      "source": [
        "print(\"Sallu bhai\")"
      ],
      "metadata": {
        "colab": {
          "base_uri": "https://localhost:8080/"
        },
        "id": "dpE9rE0lza8h",
        "outputId": "9ddee9db-f2bb-441a-fc07-12988f0a0b32"
      },
      "execution_count": 2,
      "outputs": [
        {
          "output_type": "stream",
          "name": "stdout",
          "text": [
            "Sallu bhai\n"
          ]
        }
      ]
    },
    {
      "cell_type": "code",
      "source": [
        "print(7)"
      ],
      "metadata": {
        "colab": {
          "base_uri": "https://localhost:8080/"
        },
        "id": "7g4sEB1TziuH",
        "outputId": "bbb3cf76-63a7-4479-ad8d-b1bd87552c32"
      },
      "execution_count": 3,
      "outputs": [
        {
          "output_type": "stream",
          "name": "stdout",
          "text": [
            "7\n"
          ]
        }
      ]
    },
    {
      "cell_type": "code",
      "source": [
        "print(7.7)"
      ],
      "metadata": {
        "colab": {
          "base_uri": "https://localhost:8080/"
        },
        "id": "GinTeCbqzkyn",
        "outputId": "ea38dcde-ed44-49a5-a30c-4207f8f92a87"
      },
      "execution_count": 4,
      "outputs": [
        {
          "output_type": "stream",
          "name": "stdout",
          "text": [
            "7.7\n"
          ]
        }
      ]
    },
    {
      "cell_type": "code",
      "source": [
        "print(\"hello\",7,7.7,1+5j)"
      ],
      "metadata": {
        "colab": {
          "base_uri": "https://localhost:8080/"
        },
        "id": "RnTJpTRfznQf",
        "outputId": "77d8bdd7-d9af-4c0b-de3c-434a5b8c03c4"
      },
      "execution_count": 5,
      "outputs": [
        {
          "output_type": "stream",
          "name": "stdout",
          "text": [
            "hello 7 7.7 (1+5j)\n"
          ]
        }
      ]
    },
    {
      "cell_type": "code",
      "source": [
        "# end and sep\n",
        "\n",
        "print(\"hello\",end=\" \")\n",
        "print(\"world\")\n",
        "# end -> what print after end\n",
        "# default /n\n",
        "\n",
        "print(\"Hello\",\"cutie\",sep=\"-\")\n",
        "# sep -> separated by (-)\n",
        "# default space"
      ],
      "metadata": {
        "colab": {
          "base_uri": "https://localhost:8080/"
        },
        "id": "WLm_gOgfztH0",
        "outputId": "eda5c7e7-71b9-40dc-c349-4f68dc5a458d"
      },
      "execution_count": 6,
      "outputs": [
        {
          "output_type": "stream",
          "name": "stdout",
          "text": [
            "hello world\n",
            "Hello-cutie\n"
          ]
        }
      ]
    },
    {
      "cell_type": "markdown",
      "source": [
        "### 1.1 DataTypes"
      ],
      "metadata": {
        "id": "2egAb7ZP0Xlx"
      }
    },
    {
      "cell_type": "code",
      "source": [
        "# Integer\n",
        "print(7)\n",
        "\n",
        "# 1*10^309\n",
        "print(1e309)\n",
        "# 1*10^308\n",
        "print(1e308)"
      ],
      "metadata": {
        "colab": {
          "base_uri": "https://localhost:8080/"
        },
        "id": "86SStNSvz4Xa",
        "outputId": "8603c59d-d82d-412a-8e00-dbd371d30035"
      },
      "execution_count": 7,
      "outputs": [
        {
          "output_type": "stream",
          "name": "stdout",
          "text": [
            "7\n",
            "inf\n",
            "1e+308\n"
          ]
        }
      ]
    },
    {
      "cell_type": "code",
      "source": [
        "# Decimal/Float\n",
        "print(7.7)"
      ],
      "metadata": {
        "colab": {
          "base_uri": "https://localhost:8080/"
        },
        "id": "E3D9OmzD0ihA",
        "outputId": "adbb7e00-5c42-4946-b36e-af9ccdc48900"
      },
      "execution_count": 8,
      "outputs": [
        {
          "output_type": "stream",
          "name": "stdout",
          "text": [
            "7.7\n"
          ]
        }
      ]
    },
    {
      "cell_type": "code",
      "source": [
        "# Boolean\n",
        "print(True)\n",
        "print(False)"
      ],
      "metadata": {
        "colab": {
          "base_uri": "https://localhost:8080/"
        },
        "id": "WC2WUAtb0wNg",
        "outputId": "2272d230-e7a9-4c85-d2d5-6fed24a39f3a"
      },
      "execution_count": 9,
      "outputs": [
        {
          "output_type": "stream",
          "name": "stdout",
          "text": [
            "True\n",
            "False\n"
          ]
        }
      ]
    },
    {
      "cell_type": "code",
      "source": [
        "# Text/String\n",
        "print('hello world')\n",
        "print(\"hello world\")\n",
        "print(\"\"\"hello world\"\"\")\n",
        "print('''hello world''')"
      ],
      "metadata": {
        "colab": {
          "base_uri": "https://localhost:8080/"
        },
        "id": "4JDbPPwW01QW",
        "outputId": "bdf3b87f-c611-4560-da37-90a06ffb1c5d"
      },
      "execution_count": 10,
      "outputs": [
        {
          "output_type": "stream",
          "name": "stdout",
          "text": [
            "hello world\n",
            "hello world\n",
            "hello world\n",
            "hello world\n"
          ]
        }
      ]
    },
    {
      "cell_type": "code",
      "source": [
        "# Complex Numbers\n",
        "print(1+5j)"
      ],
      "metadata": {
        "colab": {
          "base_uri": "https://localhost:8080/"
        },
        "id": "3KKgePpL1DM_",
        "outputId": "d90b17bd-331b-4ae7-c3d0-155067dfa572"
      },
      "execution_count": 11,
      "outputs": [
        {
          "output_type": "stream",
          "name": "stdout",
          "text": [
            "(1+5j)\n"
          ]
        }
      ]
    },
    {
      "cell_type": "code",
      "source": [
        "# List\n",
        "a = [1,2,3,4]\n",
        "print(a)"
      ],
      "metadata": {
        "colab": {
          "base_uri": "https://localhost:8080/"
        },
        "id": "hqFJS1Ab1J4N",
        "outputId": "da2f671d-983e-4f9d-bbdc-8682bac485e8"
      },
      "execution_count": 12,
      "outputs": [
        {
          "output_type": "stream",
          "name": "stdout",
          "text": [
            "[1, 2, 3, 4]\n"
          ]
        }
      ]
    },
    {
      "cell_type": "code",
      "source": [
        "# Tuple\n",
        "a = (1,2,3)\n",
        "print(a)"
      ],
      "metadata": {
        "colab": {
          "base_uri": "https://localhost:8080/"
        },
        "id": "t7F1JoP01Mzb",
        "outputId": "11b9b2a1-8e46-4322-c7eb-48e1d42ecfe7"
      },
      "execution_count": 13,
      "outputs": [
        {
          "output_type": "stream",
          "name": "stdout",
          "text": [
            "(1, 2, 3)\n"
          ]
        }
      ]
    },
    {
      "cell_type": "code",
      "source": [
        "# Sets\n",
        "a = {1,2,3,4}\n",
        "print(a)"
      ],
      "metadata": {
        "colab": {
          "base_uri": "https://localhost:8080/"
        },
        "id": "Tg9ovmqY1Rta",
        "outputId": "dcfe2f71-50a8-419c-a23a-d1378414d593"
      },
      "execution_count": 14,
      "outputs": [
        {
          "output_type": "stream",
          "name": "stdout",
          "text": [
            "{1, 2, 3, 4}\n"
          ]
        }
      ]
    },
    {
      "cell_type": "code",
      "source": [
        "# Dictionary\n",
        "a = {'name':'yash','gender':'male'}\n",
        "print(a)"
      ],
      "metadata": {
        "colab": {
          "base_uri": "https://localhost:8080/"
        },
        "id": "JR5lIok61Wkj",
        "outputId": "7f69e8a4-2ca0-4cf1-8334-a6cd5f4ecae3"
      },
      "execution_count": 15,
      "outputs": [
        {
          "output_type": "stream",
          "name": "stdout",
          "text": [
            "{'name': 'yash', 'gender': 'male'}\n"
          ]
        }
      ]
    },
    {
      "cell_type": "code",
      "source": [
        "# type() function tells about type opf datatype\n",
        "print(type('a'))\n",
        "print(type(7))\n",
        "print(type([1,2,3]))\n",
        "print(type((1,2,3)))\n",
        "print(type({1,2,3}))\n",
        "print(type({1:'yash',2:\"aranya\",3:\"raja\"}))"
      ],
      "metadata": {
        "colab": {
          "base_uri": "https://localhost:8080/"
        },
        "id": "79R8vJJr1dRT",
        "outputId": "372c4673-65b7-4b14-de0b-927269190d86"
      },
      "execution_count": 16,
      "outputs": [
        {
          "output_type": "stream",
          "name": "stdout",
          "text": [
            "<class 'str'>\n",
            "<class 'int'>\n",
            "<class 'list'>\n",
            "<class 'tuple'>\n",
            "<class 'set'>\n",
            "<class 'dict'>\n"
          ]
        }
      ]
    },
    {
      "cell_type": "markdown",
      "source": [
        "### 1.2 Variables"
      ],
      "metadata": {
        "id": "3cgIwsJN12ok"
      }
    },
    {
      "cell_type": "code",
      "source": [
        "# Static vs dynamic typing\n",
        "# Static binding vs Dynamuc binding\n",
        "# Stylish Declaration technique"
      ],
      "metadata": {
        "id": "cXc7z3jd1l_-"
      },
      "execution_count": 17,
      "outputs": []
    },
    {
      "cell_type": "code",
      "source": [
        "name = 'yash'\n",
        "print('Hi i am yash',name)\n"
      ],
      "metadata": {
        "colab": {
          "base_uri": "https://localhost:8080/"
        },
        "id": "pSQWa6vu2Gfk",
        "outputId": "551125e1-7fd8-42a0-dc55-fbd68706389e"
      },
      "execution_count": 18,
      "outputs": [
        {
          "output_type": "stream",
          "name": "stdout",
          "text": [
            "Hi i am yash yash\n"
          ]
        }
      ]
    },
    {
      "cell_type": "code",
      "source": [
        "# Static typing\n",
        "# int a = 2\n",
        "# type decide during compile time\n",
        "\n",
        "# Dynamic typing\n",
        "# type decide during runtime\n",
        "a = 3\n",
        "print(type(a))\n"
      ],
      "metadata": {
        "colab": {
          "base_uri": "https://localhost:8080/"
        },
        "id": "6gjCGdIZ2W0J",
        "outputId": "72900b3e-86da-429a-ce02-75ac07438645"
      },
      "execution_count": 19,
      "outputs": [
        {
          "output_type": "stream",
          "name": "stdout",
          "text": [
            "<class 'int'>\n"
          ]
        }
      ]
    },
    {
      "cell_type": "code",
      "source": [
        "# Static binding\n",
        "# function call decide on compile time\n",
        "# int a = 5\n",
        "# a = \"hi i am heero\"\n",
        "# print(a) -> gives error\n",
        "\n",
        "# Dynamic binding\n",
        "# function call decide on runtime\n",
        "a = 5\n",
        "a = \"hello\"\n",
        "print(a)"
      ],
      "metadata": {
        "colab": {
          "base_uri": "https://localhost:8080/"
        },
        "id": "pTBkZI3Y2fY5",
        "outputId": "641613da-dcef-4495-8bff-71ad611149f2"
      },
      "execution_count": 20,
      "outputs": [
        {
          "output_type": "stream",
          "name": "stdout",
          "text": [
            "hello\n"
          ]
        }
      ]
    },
    {
      "cell_type": "code",
      "source": [
        "# Stylish Declaration Technique\n",
        "a = 1\n",
        "b = 2\n",
        "c = 3\n",
        "print(a,b,c)\n",
        "\n",
        "a,b,c= 4,5,6\n",
        "print(a,b,c)\n",
        "\n",
        "a = b = c = 5\n",
        "print(a,b,c)"
      ],
      "metadata": {
        "colab": {
          "base_uri": "https://localhost:8080/"
        },
        "id": "VbLIV4l13p_r",
        "outputId": "108123be-c77e-4df9-b726-16553437f36e"
      },
      "execution_count": 21,
      "outputs": [
        {
          "output_type": "stream",
          "name": "stdout",
          "text": [
            "1 2 3\n",
            "4 5 6\n",
            "5 5 5\n"
          ]
        }
      ]
    },
    {
      "cell_type": "markdown",
      "source": [
        "### 1.3 Keywords and Identifiers\n",
        "\n",
        "- **Compilation** : High level language to binary code\n",
        "- **Compiler** : read and execute at once\n",
        "- **Interpreter** : read code line by line\n",
        "- **Keywords** : name reserved for interpreter\n",
        "- **Identifier** : name of variable , function etc"
      ],
      "metadata": {
        "id": "Ze3yw_3-4eEE"
      }
    },
    {
      "cell_type": "markdown",
      "source": [
        "        1. You can't start with digit\n",
        "        2. You can use upper case and lower case but in special character -> _ underscore .\n",
        "        3. Identifier can't be keyword"
      ],
      "metadata": {
        "id": "rAOzn-8k5Rz-"
      }
    },
    {
      "cell_type": "markdown",
      "source": [
        "### 1.4 Input"
      ],
      "metadata": {
        "id": "gy-XL5Af5ftS"
      }
    },
    {
      "cell_type": "code",
      "source": [
        "name = input(\"Tell your name cutie :) \")\n",
        "print(\"Hello \",name)"
      ],
      "metadata": {
        "colab": {
          "base_uri": "https://localhost:8080/"
        },
        "id": "SY_bC9th4Lyr",
        "outputId": "f1fdc773-e695-4b27-93d4-3973a2eea3cd"
      },
      "execution_count": 22,
      "outputs": [
        {
          "output_type": "stream",
          "name": "stdout",
          "text": [
            "Tell your name cutie :) yash\n",
            "Hello  yash\n"
          ]
        }
      ]
    },
    {
      "cell_type": "code",
      "source": [
        "# A programme which gives sum\n",
        "\n",
        "fnum = int(input(\"enter first number : \"))\n",
        "snum = int(input(\"enter second number : \"))\n",
        "print(\"Sum of your two numebers\",fnum,\"and\",snum,\"is :\",fnum+snum)"
      ],
      "metadata": {
        "colab": {
          "base_uri": "https://localhost:8080/"
        },
        "id": "qUOk-10L5pLL",
        "outputId": "1d0773f5-2fc4-459f-c423-7af96ad51bab"
      },
      "execution_count": 23,
      "outputs": [
        {
          "output_type": "stream",
          "name": "stdout",
          "text": [
            "enter first number : 2\n",
            "enter second number : 3\n",
            "Sum of your two numebers 2 and 3 is : 5\n"
          ]
        }
      ]
    },
    {
      "cell_type": "markdown",
      "source": [
        "### 1.5 Type conversion"
      ],
      "metadata": {
        "id": "MkNqslzb6gOY"
      }
    },
    {
      "cell_type": "code",
      "source": [
        "# Implicit type conversion\n",
        "\n",
        "a = 1\n",
        "b = 2.5\n",
        "print(type(a),type(b),type(a+b),a+b)\n",
        "c = True + 4\n",
        "d = False + 4\n",
        "print(c)\n",
        "print(d)\n",
        "\n",
        "# Explicit type conversion\n",
        "\n",
        "print(int(8.9))\n",
        "print(float(8))\n",
        "print(str(7))"
      ],
      "metadata": {
        "colab": {
          "base_uri": "https://localhost:8080/"
        },
        "id": "p26UCofA6HnB",
        "outputId": "c4af821c-0eb0-4e9e-e797-59e8fd92db80"
      },
      "execution_count": 24,
      "outputs": [
        {
          "output_type": "stream",
          "name": "stdout",
          "text": [
            "<class 'int'> <class 'float'> <class 'float'> 3.5\n",
            "5\n",
            "4\n",
            "8\n",
            "8.0\n",
            "7\n"
          ]
        }
      ]
    },
    {
      "cell_type": "markdown",
      "source": [
        "### 1.6 Literals"
      ],
      "metadata": {
        "id": "znDQuBYx7JgR"
      }
    },
    {
      "cell_type": "code",
      "source": [
        "a = 0b101 # binary literal\n",
        "print(a)\n",
        "\n",
        "b = 10 # decimal literal\n",
        "print(b)\n",
        "\n",
        "c = 0o310 # octal literal\n",
        "print(c)\n",
        "\n",
        "d = 0x12c # hexadecimal literal\n",
        "print(d)\n",
        "\n",
        "e = 1e104 # float literal\n",
        "print(e)\n",
        "\n",
        "f = 1e-103 # float literal\n",
        "print(f)\n",
        "\n",
        "g = 5+6j # complex literal\n",
        "print(g)\n",
        "print(g.real,g.imag,g.conjugate())"
      ],
      "metadata": {
        "colab": {
          "base_uri": "https://localhost:8080/"
        },
        "id": "yaiaLwq56ldp",
        "outputId": "c7064982-7e27-4b6d-9662-bee6e64441e8"
      },
      "execution_count": 25,
      "outputs": [
        {
          "output_type": "stream",
          "name": "stdout",
          "text": [
            "5\n",
            "10\n",
            "200\n",
            "300\n",
            "1e+104\n",
            "1e-103\n",
            "(5+6j)\n",
            "5.0 6.0 (5-6j)\n"
          ]
        }
      ]
    },
    {
      "cell_type": "markdown",
      "source": [
        "### 1.7 Strings\n",
        "\n",
        "- Sequece of characters"
      ],
      "metadata": {
        "id": "LVexDJ188ppA"
      }
    },
    {
      "cell_type": "code",
      "source": [
        "string1 = \"This is python\"\n",
        "string2 = 'This is python'\n",
        "string3 =\"\"\"multi line\"\"\"\n",
        "char = 'a'\n",
        "unicode = u\"\\U0001F600\\U0001F606\\U0001F923\"\n",
        "raw_str = r\"raw \\n string\"\n",
        "\n",
        "print(string1)\n",
        "print(string2)\n",
        "print(string3)\n",
        "print(char)\n",
        "print(unicode)\n",
        "print(raw_str)"
      ],
      "metadata": {
        "colab": {
          "base_uri": "https://localhost:8080/"
        },
        "id": "WD4IiwCh8sPJ",
        "outputId": "13e59c5d-7d51-4bc1-f3b9-2c55f0160f32"
      },
      "execution_count": 26,
      "outputs": [
        {
          "output_type": "stream",
          "name": "stdout",
          "text": [
            "This is python\n",
            "This is python\n",
            "multi line\n",
            "a\n",
            "😀😆🤣\n",
            "raw \\n string\n"
          ]
        }
      ]
    },
    {
      "cell_type": "code",
      "source": [
        "str1,str2,str3 =\"hello\",\"hi\",\"namaste\"\n",
        "print(str1,str2,str3)"
      ],
      "metadata": {
        "colab": {
          "base_uri": "https://localhost:8080/"
        },
        "id": "VldvjCKP7Y-M",
        "outputId": "4521f0ac-6dc9-4fbb-f5f9-b8ed183a78f9"
      },
      "execution_count": 27,
      "outputs": [
        {
          "output_type": "stream",
          "name": "stdout",
          "text": [
            "hello hi namaste\n"
          ]
        }
      ]
    },
    {
      "cell_type": "markdown",
      "source": [
        "### 1.8 Operators"
      ],
      "metadata": {
        "id": "sEaX_8Hq-Rsk"
      }
    },
    {
      "cell_type": "code",
      "source": [
        "# Arithmetic Operators\n",
        "\n",
        "a = 2\n",
        "b = 4\n",
        "\n",
        "print(a+b)\n",
        "print(a-b)\n",
        "print(a*b)\n",
        "print(a/b)"
      ],
      "metadata": {
        "colab": {
          "base_uri": "https://localhost:8080/"
        },
        "id": "IdTPkiR_9rGF",
        "outputId": "212a53ff-7ecc-4c19-8b45-c3e4df458aaf"
      },
      "execution_count": 28,
      "outputs": [
        {
          "output_type": "stream",
          "name": "stdout",
          "text": [
            "6\n",
            "-2\n",
            "8\n",
            "0.5\n"
          ]
        }
      ]
    },
    {
      "cell_type": "code",
      "source": [
        "# Relational Operators\n",
        "\n",
        "a = 2\n",
        "b = 4\n",
        "\n",
        "print(a>b)\n",
        "print(a<=b)\n",
        "print(a<b)\n",
        "print(a>=b)"
      ],
      "metadata": {
        "colab": {
          "base_uri": "https://localhost:8080/"
        },
        "id": "Iiv93ixE9zQl",
        "outputId": "76263e6b-d4f6-4c8c-8acb-8b47f507018d"
      },
      "execution_count": 29,
      "outputs": [
        {
          "output_type": "stream",
          "name": "stdout",
          "text": [
            "False\n",
            "True\n",
            "True\n",
            "False\n"
          ]
        }
      ]
    },
    {
      "cell_type": "code",
      "source": [
        "# Logical Operator\n",
        "\n",
        "# and\n",
        "print(1 and 0)\n",
        "print(0 and 1)\n",
        "print(1 and 1)\n",
        "print(0 and 0)\n",
        "\n",
        "# or\n",
        "print(1 or 0)\n",
        "print(0 or 1)\n",
        "print(1 or 1)\n",
        "print(0 or 0)\n",
        "\n",
        "# not\n",
        "print(not 1)\n",
        "print(not 0)"
      ],
      "metadata": {
        "colab": {
          "base_uri": "https://localhost:8080/"
        },
        "id": "bQAv81Y1-vYa",
        "outputId": "637cdec7-9959-4a77-8e09-c6e7ad1279f3"
      },
      "execution_count": 30,
      "outputs": [
        {
          "output_type": "stream",
          "name": "stdout",
          "text": [
            "0\n",
            "0\n",
            "1\n",
            "0\n",
            "1\n",
            "1\n",
            "1\n",
            "0\n",
            "False\n",
            "True\n"
          ]
        }
      ]
    },
    {
      "cell_type": "code",
      "source": [
        "# Bitwise Operaor\n",
        "# Binary value : 2:010 , 3:011\n",
        "a = 2\n",
        "b = 3\n",
        "\n",
        "# bitwise and (&)\n",
        "# 010\n",
        "# 011\n",
        "# 010\n",
        "print(a&b)\n",
        "\n",
        "# bitwise or (|)\n",
        "# 010\n",
        "# 011\n",
        "# 011\n",
        "print(a|b)\n",
        "\n",
        "# bitwise xor (^)\n",
        "# same same = 0\n",
        "# different = 1\n",
        "# 010\n",
        "# 011\n",
        "# 001\n",
        "print(a^b)\n",
        "\n",
        "# Bitwise not (~)\n",
        "# 010\n",
        "# 101\n",
        "print(~a)\n",
        "\n",
        "# Bitwise right shift\n",
        "# 010 >> 1000\n",
        "print(a>>2)\n",
        "\n",
        "# Bitwise left shift\n",
        "# 010 >> 1000\n",
        "print(a<<2)"
      ],
      "metadata": {
        "colab": {
          "base_uri": "https://localhost:8080/"
        },
        "id": "KHLhXNPv_HIS",
        "outputId": "7fe8594f-92e3-4a89-b95f-915ac8634adc"
      },
      "execution_count": 31,
      "outputs": [
        {
          "output_type": "stream",
          "name": "stdout",
          "text": [
            "2\n",
            "3\n",
            "1\n",
            "-3\n",
            "0\n",
            "8\n"
          ]
        }
      ]
    },
    {
      "cell_type": "code",
      "source": [
        "# Assignment Operator\n",
        "a = 1\n",
        "print(a)\n",
        "b = 2\n",
        "print(b)\n",
        "a +=1\n",
        "print(a)"
      ],
      "metadata": {
        "colab": {
          "base_uri": "https://localhost:8080/"
        },
        "id": "aFQiB8hT_uIb",
        "outputId": "4f61eb1e-c694-4576-9a38-8a6113cfb729"
      },
      "execution_count": 32,
      "outputs": [
        {
          "output_type": "stream",
          "name": "stdout",
          "text": [
            "1\n",
            "2\n",
            "2\n"
          ]
        }
      ]
    },
    {
      "cell_type": "code",
      "source": [
        "# Membership Operator\n",
        "print('d' in \"delhi\")\n",
        "print(1 in [1,2,3])\n",
        "print(2 not in (3,4))\n",
        "print(2 in (3,4))"
      ],
      "metadata": {
        "colab": {
          "base_uri": "https://localhost:8080/"
        },
        "id": "-lAKvFNNBYf_",
        "outputId": "99491ac1-fa16-421d-f0aa-3637147b9801"
      },
      "execution_count": 33,
      "outputs": [
        {
          "output_type": "stream",
          "name": "stdout",
          "text": [
            "True\n",
            "True\n",
            "True\n",
            "False\n"
          ]
        }
      ]
    },
    {
      "cell_type": "code",
      "source": [
        "# Find the sum of three digit number entered by the user\n",
        "num = int(input(\"enter three digit number\"))\n",
        "sum = 0\n",
        "sum = num%10\n",
        "num = num//10\n",
        "sum += num%10\n",
        "num = num//10\n",
        "sum += num\n",
        "print(sum)"
      ],
      "metadata": {
        "colab": {
          "base_uri": "https://localhost:8080/"
        },
        "id": "LRApbOEkBmtN",
        "outputId": "3b486356-9537-4c28-faa2-fde95b40efcb"
      },
      "execution_count": 34,
      "outputs": [
        {
          "output_type": "stream",
          "name": "stdout",
          "text": [
            "enter three digit number123\n",
            "6\n"
          ]
        }
      ]
    },
    {
      "cell_type": "markdown",
      "source": [
        "## 2. Conditionals"
      ],
      "metadata": {
        "id": "W9oaKNOtDLeA"
      }
    },
    {
      "cell_type": "markdown",
      "source": [
        "### 2.1 If-else statement"
      ],
      "metadata": {
        "id": "3Gy5FVepDWzR"
      }
    },
    {
      "cell_type": "code",
      "source": [
        "# eligible to vote or not\n",
        "\n",
        "age = int(input(\"enter your age :\"))\n",
        "if age>=18:\n",
        "  print(\"eligible to vote\")\n",
        "else:\n",
        "  print(\"not eligible to vote\")\n"
      ],
      "metadata": {
        "colab": {
          "base_uri": "https://localhost:8080/"
        },
        "id": "OD_B_n7hE6zs",
        "outputId": "ed8fae4d-1ae3-44c5-8321-263a8c3e6a59"
      },
      "execution_count": 35,
      "outputs": [
        {
          "output_type": "stream",
          "name": "stdout",
          "text": [
            "enter your age :19\n",
            "eligible to vote\n"
          ]
        }
      ]
    },
    {
      "cell_type": "markdown",
      "source": [
        "### 2.2 Nested if else"
      ],
      "metadata": {
        "id": "T2WCAdM7Foa9"
      }
    },
    {
      "cell_type": "code",
      "source": [
        "# Login programme\n",
        "# email -> yashpokhriyal524@gmail.com\n",
        "# password -> 1234\n",
        "email = input(\"enter your email : \")\n",
        "password = input(\"enter your password : \")\n",
        "if email == \"yashpokhriyal524@gmail.com\":\n",
        "  if password == \"1234\":\n",
        "    print(\"Welcome yash\")\n",
        "  else:\n",
        "    print(\"Wrong password\")\n",
        "    password = input(\"enter password\")\n",
        "    if password != \"1234\":\n",
        "       print(\"Due to iterative wrong password Access denied\")\n",
        "    else:\n",
        "      print(\"Welcome yash\")\n",
        "else :\n",
        "  print(\"Invalid credentials\")"
      ],
      "metadata": {
        "colab": {
          "base_uri": "https://localhost:8080/"
        },
        "id": "u92ivW2oDPHm",
        "outputId": "2fd7fb20-f8dd-4b4c-eaf6-b1e106ed5c8e"
      },
      "execution_count": 36,
      "outputs": [
        {
          "output_type": "stream",
          "name": "stdout",
          "text": [
            "enter your email : yash@gmail.com\n",
            "enter your password : 123\n",
            "Invalid credentials\n"
          ]
        }
      ]
    },
    {
      "cell_type": "code",
      "source": [
        "# if elif\n",
        "name = input(\"enter position : \")\n",
        "if name == \"ceo\":\n",
        "  print(\"Welcome ceo :) \")\n",
        "elif name == \"engineer\":\n",
        "  print(\"Welcome engineer :)\")\n",
        "elif name == \"developer\":\n",
        "  print(\"Welcome developer :)\")\n",
        "else:\n",
        "  print(\"Wrong position there is no position like that\")"
      ],
      "metadata": {
        "colab": {
          "base_uri": "https://localhost:8080/"
        },
        "id": "0YK0k_UbF4NV",
        "outputId": "4f34bc28-c60d-4365-c4b9-38d47a743757"
      },
      "execution_count": 37,
      "outputs": [
        {
          "output_type": "stream",
          "name": "stdout",
          "text": [
            "enter position : ceo\n",
            "Welcome ceo :) \n"
          ]
        }
      ]
    },
    {
      "cell_type": "markdown",
      "source": [
        "### 2.4 Problems"
      ],
      "metadata": {
        "id": "3vif0eDfGsxC"
      }
    },
    {
      "cell_type": "code",
      "source": [
        "# Find minimum of three numbers\n",
        "a = int(input(\"enter first number : \"))\n",
        "b = int(input(\"enter second number : \"))\n",
        "c = int(input(\"enter third number : \"))\n",
        "\n",
        "if a<b and a<c:\n",
        "  print(a,\"is the minimum\")\n",
        "elif b<c:\n",
        "  print(b,\"is minimum\")\n",
        "else:\n",
        "  print(c,\"is minimumum\")"
      ],
      "metadata": {
        "colab": {
          "base_uri": "https://localhost:8080/"
        },
        "id": "izfxplG1C_2B",
        "outputId": "632dbf32-9f53-48c4-8553-eabe1e4ebc80"
      },
      "execution_count": 38,
      "outputs": [
        {
          "output_type": "stream",
          "name": "stdout",
          "text": [
            "enter first number : 1\n",
            "enter second number : 3\n",
            "enter third number : 2\n",
            "1 is the minimum\n"
          ]
        }
      ]
    },
    {
      "cell_type": "markdown",
      "source": [
        "Some modules\n",
        "- math\n",
        "- random\n",
        "- datetime\n",
        "- keyword\n"
      ],
      "metadata": {
        "id": "2zeyBi4ZHaHl"
      }
    },
    {
      "cell_type": "code",
      "source": [
        "import math\n",
        "\n",
        "print(math.factorial(5))\n",
        "print(math.sqrt(4))\n"
      ],
      "metadata": {
        "colab": {
          "base_uri": "https://localhost:8080/"
        },
        "id": "uh9t1GpoG8F1",
        "outputId": "def23d5c-ef68-44da-949b-c3821193ff4c"
      },
      "execution_count": 39,
      "outputs": [
        {
          "output_type": "stream",
          "name": "stdout",
          "text": [
            "120\n",
            "2.0\n"
          ]
        }
      ]
    },
    {
      "cell_type": "code",
      "source": [
        "import keyword\n",
        "\n",
        "keyword.kwlist"
      ],
      "metadata": {
        "colab": {
          "base_uri": "https://localhost:8080/"
        },
        "id": "DolzQkniHkSO",
        "outputId": "9ecae0a8-e4c2-4152-a269-588dcbd76581"
      },
      "execution_count": 40,
      "outputs": [
        {
          "output_type": "execute_result",
          "data": {
            "text/plain": [
              "['False',\n",
              " 'None',\n",
              " 'True',\n",
              " 'and',\n",
              " 'as',\n",
              " 'assert',\n",
              " 'async',\n",
              " 'await',\n",
              " 'break',\n",
              " 'class',\n",
              " 'continue',\n",
              " 'def',\n",
              " 'del',\n",
              " 'elif',\n",
              " 'else',\n",
              " 'except',\n",
              " 'finally',\n",
              " 'for',\n",
              " 'from',\n",
              " 'global',\n",
              " 'if',\n",
              " 'import',\n",
              " 'in',\n",
              " 'is',\n",
              " 'lambda',\n",
              " 'nonlocal',\n",
              " 'not',\n",
              " 'or',\n",
              " 'pass',\n",
              " 'raise',\n",
              " 'return',\n",
              " 'try',\n",
              " 'while',\n",
              " 'with',\n",
              " 'yield']"
            ]
          },
          "metadata": {},
          "execution_count": 40
        }
      ]
    },
    {
      "cell_type": "code",
      "source": [
        "# random\n",
        "import random\n",
        "\n",
        "print(random.randint(1,11))"
      ],
      "metadata": {
        "colab": {
          "base_uri": "https://localhost:8080/"
        },
        "id": "EEZOgSLWII6P",
        "outputId": "5cbf990e-4b7c-4d8b-83f9-4155dc3ecb91"
      },
      "execution_count": 41,
      "outputs": [
        {
          "output_type": "stream",
          "name": "stdout",
          "text": [
            "1\n"
          ]
        }
      ]
    },
    {
      "cell_type": "code",
      "source": [
        "# datetime\n",
        "import datetime\n",
        "\n",
        "print(datetime.datetime.now())"
      ],
      "metadata": {
        "colab": {
          "base_uri": "https://localhost:8080/"
        },
        "id": "oRvqqfasKuc3",
        "outputId": "a6b452e1-8d61-4025-ad16-67a6aa0ee694"
      },
      "execution_count": 42,
      "outputs": [
        {
          "output_type": "stream",
          "name": "stdout",
          "text": [
            "2025-09-23 10:23:44.983017\n"
          ]
        }
      ]
    },
    {
      "cell_type": "markdown",
      "source": [
        "### 2.5 Loops"
      ],
      "metadata": {
        "id": "5efTUeoiK7F8"
      }
    },
    {
      "cell_type": "markdown",
      "source": [
        "- while loops\n",
        "- while else loops\n",
        "- for loops\n",
        "- nested loops"
      ],
      "metadata": {
        "id": "5r6Cmn5qLA7J"
      }
    },
    {
      "cell_type": "markdown",
      "source": [
        "Problems Questions"
      ],
      "metadata": {
        "id": "SV37hoq4LG91"
      }
    },
    {
      "cell_type": "code",
      "source": [
        "# 1. Programme to print table\n",
        "\n",
        "num = int(input(\"enter num :\"))\n",
        "\n",
        "i = 1\n",
        "while i<=10:\n",
        "  print(num,\"X\",i,\"=\",i*num)\n",
        "  i+=1\n"
      ],
      "metadata": {
        "colab": {
          "base_uri": "https://localhost:8080/"
        },
        "id": "ZB_t-J3FK_jp",
        "outputId": "452f6241-009c-4c5f-c31a-bb811b721aaf"
      },
      "execution_count": 43,
      "outputs": [
        {
          "output_type": "stream",
          "name": "stdout",
          "text": [
            "enter num :6\n",
            "6 X 1 = 6\n",
            "6 X 2 = 12\n",
            "6 X 3 = 18\n",
            "6 X 4 = 24\n",
            "6 X 5 = 30\n",
            "6 X 6 = 36\n",
            "6 X 7 = 42\n",
            "6 X 8 = 48\n",
            "6 X 9 = 54\n",
            "6 X 10 = 60\n"
          ]
        }
      ]
    },
    {
      "cell_type": "code",
      "source": [
        "# 2. Sum of all digit of a given number\n",
        "\n",
        "num =int(input(\"enter num :\"))\n",
        "sum = 0\n",
        "\n",
        "while num>0:\n",
        "  sum += num%10\n",
        "  num//=10\n",
        "\n",
        "print(\"Sum of all digits is :\",sum)\n"
      ],
      "metadata": {
        "colab": {
          "base_uri": "https://localhost:8080/"
        },
        "id": "pCNrwxhPK8v1",
        "outputId": "5ab5f24e-0fc6-4301-9b67-7a7d1cacff28"
      },
      "execution_count": 44,
      "outputs": [
        {
          "output_type": "stream",
          "name": "stdout",
          "text": [
            "enter num :123\n",
            "Sum of all digits is : 6\n"
          ]
        }
      ]
    },
    {
      "cell_type": "markdown",
      "source": [
        "- while loop with else"
      ],
      "metadata": {
        "id": "nl5hcyZnMXwG"
      }
    },
    {
      "cell_type": "code",
      "source": [
        "i = 1\n",
        "\n",
        "while i<=3:\n",
        "  print(\"Try again\")\n",
        "  i+=1\n",
        "else:\n",
        "  print(\"Limit exceeded\")"
      ],
      "metadata": {
        "colab": {
          "base_uri": "https://localhost:8080/"
        },
        "id": "FFIf_r3SMSIO",
        "outputId": "9d10aa38-9022-4b53-fe0b-73e7227be765"
      },
      "execution_count": 45,
      "outputs": [
        {
          "output_type": "stream",
          "name": "stdout",
          "text": [
            "Try again\n",
            "Try again\n",
            "Try again\n",
            "Limit exceeded\n"
          ]
        }
      ]
    },
    {
      "cell_type": "markdown",
      "source": [
        "#### Guessing game"
      ],
      "metadata": {
        "id": "wVisbHniMo0z"
      }
    },
    {
      "cell_type": "code",
      "source": [
        "import random\n",
        "\n",
        "print(\"Guess number 1-11\")\n",
        "num = int(input(\"Guess a number :\"))\n",
        "jackpot = random.randint(1,11)\n",
        "attempt = 1\n",
        "\n",
        "while num!=jackpot:\n",
        "\n",
        "  if num<jackpot:\n",
        "    print(\"Think higher :) \")\n",
        "    num = int(input(\"Guess a number  :\"))\n",
        "  else :\n",
        "    print(\"Think lower\")\n",
        "    num = int(input(\"Guess a number  :\"))\n",
        "  attempt+=1\n",
        "\n",
        "else:\n",
        "  print(\"Congratulation you won the jackpot in \",attempt,\"attempt\")\n"
      ],
      "metadata": {
        "id": "yGZsh0DAb7ez"
      },
      "execution_count": null,
      "outputs": []
    },
    {
      "cell_type": "markdown",
      "source": [
        "- for loops"
      ],
      "metadata": {
        "id": "kklYWOkcevxC"
      }
    },
    {
      "cell_type": "code",
      "source": [
        "for i in range(1,11,1):\n",
        "  print(i)"
      ],
      "metadata": {
        "id": "TZ-sBsQhdGy7",
        "colab": {
          "base_uri": "https://localhost:8080/"
        },
        "outputId": "f972def8-a8a9-4aab-e0dd-1add8ac44a83"
      },
      "execution_count": 47,
      "outputs": [
        {
          "output_type": "stream",
          "name": "stdout",
          "text": [
            "1\n",
            "2\n",
            "3\n",
            "4\n",
            "5\n",
            "6\n",
            "7\n",
            "8\n",
            "9\n",
            "10\n"
          ]
        }
      ]
    },
    {
      "cell_type": "code",
      "source": [
        "for i in range(1,11,2):\n",
        "  print(i)"
      ],
      "metadata": {
        "id": "3GovpMRDe41i",
        "colab": {
          "base_uri": "https://localhost:8080/"
        },
        "outputId": "3fb66e81-8cc6-48ca-8d16-33f0beaa6702"
      },
      "execution_count": 48,
      "outputs": [
        {
          "output_type": "stream",
          "name": "stdout",
          "text": [
            "1\n",
            "3\n",
            "5\n",
            "7\n",
            "9\n"
          ]
        }
      ]
    },
    {
      "cell_type": "code",
      "source": [
        "for i in 'delhi':\n",
        "  print(i)"
      ],
      "metadata": {
        "id": "CZmT2p2Fe7my",
        "colab": {
          "base_uri": "https://localhost:8080/"
        },
        "outputId": "3a291f52-c914-4e07-8305-320380ad93d6"
      },
      "execution_count": 49,
      "outputs": [
        {
          "output_type": "stream",
          "name": "stdout",
          "text": [
            "d\n",
            "e\n",
            "l\n",
            "h\n",
            "i\n"
          ]
        }
      ]
    },
    {
      "cell_type": "code",
      "source": [
        "for i in [1,2,3]:\n",
        "  print(i)"
      ],
      "metadata": {
        "id": "xQqhwIEHe_M2",
        "colab": {
          "base_uri": "https://localhost:8080/"
        },
        "outputId": "b182af2c-d847-4ed1-b5f4-3886b31a8b97"
      },
      "execution_count": 50,
      "outputs": [
        {
          "output_type": "stream",
          "name": "stdout",
          "text": [
            "1\n",
            "2\n",
            "3\n"
          ]
        }
      ]
    },
    {
      "cell_type": "code",
      "source": [
        "for i in (1,2,3):\n",
        "  print(i)"
      ],
      "metadata": {
        "id": "sVihOiuofCQk",
        "colab": {
          "base_uri": "https://localhost:8080/"
        },
        "outputId": "2001c472-3053-4285-bec9-4654576d06d5"
      },
      "execution_count": 51,
      "outputs": [
        {
          "output_type": "stream",
          "name": "stdout",
          "text": [
            "1\n",
            "2\n",
            "3\n"
          ]
        }
      ]
    },
    {
      "cell_type": "code",
      "source": [
        "for i in {'name':'yash','age':22}:\n",
        "  print(i)"
      ],
      "metadata": {
        "id": "a2dXaiN4fFNL",
        "colab": {
          "base_uri": "https://localhost:8080/"
        },
        "outputId": "4946f216-5772-4a46-a6c6-3a778d1171a5"
      },
      "execution_count": 52,
      "outputs": [
        {
          "output_type": "stream",
          "name": "stdout",
          "text": [
            "name\n",
            "age\n"
          ]
        }
      ]
    },
    {
      "cell_type": "markdown",
      "source": [
        "Problems"
      ],
      "metadata": {
        "id": "qTQSCP5vfQG0"
      }
    },
    {
      "cell_type": "code",
      "source": [
        "# 1. The current population of a town is 10000 . The population of the town is increasing at the rate of 10% per year .\n",
        "# You have to write the programme to find population 10 year ago .\n",
        "import math\n",
        "\n",
        "curr_pop = 10000\n",
        "year = int(input(\"enter the year you want population of :\"))\n",
        "\n",
        "\n",
        "for i in range(1,year+1):\n",
        "    curr_pop = curr_pop/1.1\n",
        "\n",
        "print(\"Population\",year,\"year ago is\",math.floor(curr_pop))\n",
        "\n",
        "\n"
      ],
      "metadata": {
        "id": "zgf8KXl1fLLu",
        "colab": {
          "base_uri": "https://localhost:8080/"
        },
        "outputId": "e054854c-db9f-425a-d68c-cd4a2f0a5731"
      },
      "execution_count": 53,
      "outputs": [
        {
          "output_type": "stream",
          "name": "stdout",
          "text": [
            "enter the year you want population of :4\n",
            "Population 4 year ago is 6830\n"
          ]
        }
      ]
    },
    {
      "cell_type": "code",
      "source": [
        "# 2. Sequence Sum - 1/1! + 2/2! + 3/3! + . . .\n",
        "\n",
        "num = int(input(\"enter the number \"))\n",
        "fact = 1\n",
        "result = 0\n",
        "\n",
        "for i in range(1,num+1):\n",
        "  fact*=i\n",
        "  result += i/fact\n",
        "\n",
        "print(\"Answer is :\",result)\n"
      ],
      "metadata": {
        "id": "FKmw5gQcgDQs",
        "colab": {
          "base_uri": "https://localhost:8080/"
        },
        "outputId": "40cdaff5-f25d-474e-b887-ae25f92c33bf"
      },
      "execution_count": 54,
      "outputs": [
        {
          "output_type": "stream",
          "name": "stdout",
          "text": [
            "enter the number 3\n",
            "Answer is : 2.5\n"
          ]
        }
      ]
    },
    {
      "cell_type": "markdown",
      "source": [
        "- Nested Loops"
      ],
      "metadata": {
        "id": "zqeLqZd7hul3"
      }
    },
    {
      "cell_type": "code",
      "source": [
        "for i in range(1,4):\n",
        "  for j in range(1,4):\n",
        "    print(i,j)"
      ],
      "metadata": {
        "id": "HPqTjWlzhg4U",
        "colab": {
          "base_uri": "https://localhost:8080/"
        },
        "outputId": "4aa75165-ef63-4ccb-909c-a5bcaf020cf7"
      },
      "execution_count": 55,
      "outputs": [
        {
          "output_type": "stream",
          "name": "stdout",
          "text": [
            "1 1\n",
            "1 2\n",
            "1 3\n",
            "2 1\n",
            "2 2\n",
            "2 3\n",
            "3 1\n",
            "3 2\n",
            "3 3\n"
          ]
        }
      ]
    },
    {
      "cell_type": "markdown",
      "source": [
        "Pattern Questions"
      ],
      "metadata": {
        "id": "ynijO6tTiG8q"
      }
    },
    {
      "cell_type": "markdown",
      "source": [
        "        *\n",
        "        * *\n",
        "        * * *"
      ],
      "metadata": {
        "id": "eilnRx0CiL1s"
      }
    },
    {
      "cell_type": "code",
      "source": [
        "n = int(input(\"enter the n value :\"))\n",
        "\n",
        "for i in range(n):\n",
        "  for j in range(i+1):\n",
        "    print(\"*\",end=\" \")\n",
        "  print()"
      ],
      "metadata": {
        "id": "vQ8_yB0Pj-Id",
        "colab": {
          "base_uri": "https://localhost:8080/"
        },
        "outputId": "1cb2e29f-8caa-4f87-b0e7-03233da8f88e"
      },
      "execution_count": 1,
      "outputs": [
        {
          "output_type": "stream",
          "name": "stdout",
          "text": [
            "enter the n value :2\n",
            "* \n",
            "* * \n"
          ]
        }
      ]
    },
    {
      "cell_type": "markdown",
      "source": [
        "       1\n",
        "       1 2 1\n",
        "       1 2 3 2 1\n",
        "       1 2 3 4 3 2 1"
      ],
      "metadata": {
        "id": "RHEb2V5WiOwr"
      }
    },
    {
      "cell_type": "code",
      "source": [
        "n = int(input(\"enter the n value :\"))\n",
        "\n",
        "for i in range(1,n+1):\n",
        "  for j in range(1,i+1):\n",
        "    print(j,end=\" \")\n",
        "  for k in range(i-1,0,-1):\n",
        "    print(k,end=\" \")\n",
        "\n",
        "  print()"
      ],
      "metadata": {
        "id": "sa4SYUGtkZsg",
        "colab": {
          "base_uri": "https://localhost:8080/"
        },
        "outputId": "9aa78b79-413c-4236-9a5d-2f914495c689"
      },
      "execution_count": 2,
      "outputs": [
        {
          "output_type": "stream",
          "name": "stdout",
          "text": [
            "enter the n value :3\n",
            "1 \n",
            "1 2 1 \n",
            "1 2 3 2 1 \n"
          ]
        }
      ]
    },
    {
      "cell_type": "markdown",
      "source": [
        "      * * * *\n",
        "      * * *\n",
        "      * *\n",
        "      *"
      ],
      "metadata": {
        "id": "lOSvr-PJivQF"
      }
    },
    {
      "cell_type": "code",
      "source": [
        "n = int(input(\"enter the n value :\"))\n",
        "for i in range(n):\n",
        "  for j in range(n-i,0,-1):\n",
        "    print(\"*\",end=\" \")\n",
        "\n",
        "  print()"
      ],
      "metadata": {
        "id": "HDaCW2O3xMMv",
        "colab": {
          "base_uri": "https://localhost:8080/"
        },
        "outputId": "586d3ce7-e3a7-437d-dba9-0dc725670f56"
      },
      "execution_count": 3,
      "outputs": [
        {
          "output_type": "stream",
          "name": "stdout",
          "text": [
            "enter the n value :3\n",
            "* * * \n",
            "* * \n",
            "* \n"
          ]
        }
      ]
    },
    {
      "cell_type": "markdown",
      "source": [
        "         *\n",
        "        ***\n",
        "       *****\n",
        "      *******"
      ],
      "metadata": {
        "id": "03vD5-T0i8pq"
      }
    },
    {
      "cell_type": "code",
      "source": [
        "n = int(input(\"enter the n value :\"))\n",
        "\n",
        "for i in range(n):\n",
        "  for j in range(n-i-1):\n",
        "    print(\" \",end=\" \")\n",
        "  for k in range(2*i+1):\n",
        "    print(\"*\",end=\" \")\n",
        "  print()\n"
      ],
      "metadata": {
        "id": "WYI7Eqgsx94M",
        "colab": {
          "base_uri": "https://localhost:8080/"
        },
        "outputId": "437bbeb1-90b5-4127-bb39-97932a45d111"
      },
      "execution_count": 4,
      "outputs": [
        {
          "output_type": "stream",
          "name": "stdout",
          "text": [
            "enter the n value :4\n",
            "      * \n",
            "    * * * \n",
            "  * * * * * \n",
            "* * * * * * * \n"
          ]
        }
      ]
    },
    {
      "cell_type": "markdown",
      "source": [
        "      *******\n",
        "       *****\n",
        "        ***\n",
        "         *\n"
      ],
      "metadata": {
        "id": "sTq_YbRMjDLm"
      }
    },
    {
      "cell_type": "code",
      "source": [
        "n = int(input(\"enter the n value :\"))\n",
        "for i in range(n,0,-1):\n",
        "  for j in range(n-i):\n",
        "    print(\" \",end=\" \")\n",
        "  for k in range(2*i-1):\n",
        "    print(\"*\",end=\" \")\n",
        "  print()\n",
        "\n"
      ],
      "metadata": {
        "id": "4VXQ7X-C1mB7",
        "colab": {
          "base_uri": "https://localhost:8080/"
        },
        "outputId": "f7a16c2f-d615-4cc4-bfeb-8fa539ec82a6"
      },
      "execution_count": 5,
      "outputs": [
        {
          "output_type": "stream",
          "name": "stdout",
          "text": [
            "enter the n value :4\n",
            "* * * * * * * \n",
            "  * * * * * \n",
            "    * * * \n",
            "      * \n"
          ]
        }
      ]
    },
    {
      "cell_type": "markdown",
      "source": [
        "         *\n",
        "        ***\n",
        "       *****\n",
        "      *******\n",
        "       *****\n",
        "        ***\n",
        "         *"
      ],
      "metadata": {
        "id": "oQlqkrDjjLXi"
      }
    },
    {
      "cell_type": "code",
      "source": [
        "n = int(input(\"enter the n value :\"))\n",
        "\n",
        "for i in range(n):\n",
        "  for j in range(n-i-1):\n",
        "    print(\" \",end=\" \")\n",
        "  for k in range(2*i+1):\n",
        "    print(\"*\",end=\" \")\n",
        "  print()\n",
        "\n",
        "for i in range(n-1,0,-1):\n",
        "  for j in range(n-i):\n",
        "    print(\" \",end=\" \")\n",
        "  for k in range(2*i-1):\n",
        "    print(\"*\",end=\" \")\n",
        "  print()"
      ],
      "metadata": {
        "id": "V_SdRVJD4wvH"
      },
      "execution_count": null,
      "outputs": []
    },
    {
      "cell_type": "markdown",
      "source": [
        "      1\n",
        "      22\n",
        "      333\n",
        "      4444"
      ],
      "metadata": {
        "id": "JN_Jpk8VjULV"
      }
    },
    {
      "cell_type": "code",
      "source": [
        "n = int(input(\"enter the n value :\"))\n",
        "\n",
        "for i in range(1,n+1):\n",
        "  for j in range(1,i+1):\n",
        "    print(i,end=\" \")\n",
        "  print()"
      ],
      "metadata": {
        "id": "IRpKIlzh7mVW"
      },
      "execution_count": null,
      "outputs": []
    },
    {
      "cell_type": "markdown",
      "source": [
        "      A\n",
        "      AB\n",
        "      ABC\n",
        "      ABCD"
      ],
      "metadata": {
        "id": "8iXme7H3jaAP"
      }
    },
    {
      "cell_type": "code",
      "source": [
        "n = int(input(\"enter the n value :\"))\n",
        "\n",
        "for i in range(n):\n",
        "  for j in range(i+1):\n",
        "    print(chr(65+j),end=\" \")\n",
        "  print()"
      ],
      "metadata": {
        "id": "7ZaZB88Y8SkE"
      },
      "execution_count": null,
      "outputs": []
    },
    {
      "cell_type": "markdown",
      "source": [
        "        1\n",
        "        2 3\n",
        "        4 5 6\n",
        "        7 8 9 10"
      ],
      "metadata": {
        "id": "x7zHJjxb827a"
      }
    },
    {
      "cell_type": "code",
      "source": [
        "num = int(input(\"Enter num :\"))\n",
        "a = 1\n",
        "for i in range(1,n+1):\n",
        "  for j in range(1,i+1):\n",
        "    print(a,end=\" \")\n",
        "    a+=1\n",
        "  print()"
      ],
      "metadata": {
        "id": "1qmuC4r_82Ws"
      },
      "execution_count": null,
      "outputs": []
    },
    {
      "cell_type": "markdown",
      "source": [
        "        A\n",
        "        B C\n",
        "        D E F\n",
        "        G H I J\n",
        "        K L M N O"
      ],
      "metadata": {
        "id": "KJELU3QF9h8K"
      }
    },
    {
      "cell_type": "code",
      "source": [
        "num = int(input(\"Enter num :\"))\n",
        "a = 65\n",
        "for i in range(n):\n",
        "  for j in range(i+1):\n",
        "    print(chr(a),end=\" \")\n",
        "    a+=1\n",
        "\n",
        "  print()\n"
      ],
      "metadata": {
        "id": "W_YE1BdX9wxA",
        "colab": {
          "base_uri": "https://localhost:8080/"
        },
        "outputId": "f2c9a0a6-b27b-4e9e-d7b0-0f030f2ce504"
      },
      "execution_count": 6,
      "outputs": [
        {
          "output_type": "stream",
          "name": "stdout",
          "text": [
            "Enter num :4\n",
            "A \n",
            "B C \n",
            "D E F \n",
            "G H I J \n"
          ]
        }
      ]
    },
    {
      "cell_type": "markdown",
      "source": [
        "  Ask for width and height and print hollow triangle .\n",
        "\n",
        "      * * * * *\n",
        "      *       *\n",
        "      * * * * *"
      ],
      "metadata": {
        "id": "25JrdYpvjk0K"
      }
    },
    {
      "cell_type": "code",
      "source": [
        "width = int(input(\"enter the width \"))\n",
        "height = int(input(\"enter the height \"))\n",
        "\n",
        "for i in range(1,height+1):\n",
        "  print(\"*\",end=\" \")\n",
        "  for j in range(width-2):\n",
        "    if i == 1 or i == height:\n",
        "      print(\"*\",end=\" \")\n",
        "    else:\n",
        "      print(\" \",end=\" \")\n",
        "  print(\"*\")\n",
        "\n",
        "\n",
        "\n"
      ],
      "metadata": {
        "id": "3QPFZwGuAvnP",
        "colab": {
          "base_uri": "https://localhost:8080/"
        },
        "outputId": "16ec28aa-576e-40c9-8b6c-f323e897d15a"
      },
      "execution_count": 7,
      "outputs": [
        {
          "output_type": "stream",
          "name": "stdout",
          "text": [
            "enter the width 4\n",
            "enter the height 3\n",
            "* * * *\n",
            "*     *\n",
            "* * * *\n"
          ]
        }
      ]
    },
    {
      "cell_type": "markdown",
      "source": [
        "           A\n",
        "          ABA\n",
        "         ABCBA\n",
        "        ABCDCBA"
      ],
      "metadata": {
        "id": "h1Oq2DsPEOys"
      }
    },
    {
      "cell_type": "code",
      "source": [
        "num = int(input(\"enter num \"))\n",
        "a = 65\n",
        "\n",
        "for i in range(num):\n",
        "  for j in range(num-i-1):\n",
        "    print(\" \",end=\" \")\n",
        "  for k in range(i+1):\n",
        "    print(chr(a+k),end=\" \")\n",
        "  for l in range(i-1,-1,-1):\n",
        "    print(chr(a+l),end=\" \")\n",
        "  print()"
      ],
      "metadata": {
        "id": "B8NzH4QBjZz_",
        "colab": {
          "base_uri": "https://localhost:8080/"
        },
        "outputId": "ecbb4f03-28f7-4458-def9-840aff5e38b9"
      },
      "execution_count": 8,
      "outputs": [
        {
          "output_type": "stream",
          "name": "stdout",
          "text": [
            "enter num 4\n",
            "      A \n",
            "    A B A \n",
            "  A B C B A \n",
            "A B C D C B A \n"
          ]
        }
      ]
    },
    {
      "cell_type": "markdown",
      "source": [
        "- Loop control statement\n",
        "      \n",
        "      1. break\n",
        "      2. continue\n",
        "      3. pass"
      ],
      "metadata": {
        "id": "JD_QwlOvIQav"
      }
    },
    {
      "cell_type": "markdown",
      "source": [
        "Question"
      ],
      "metadata": {
        "id": "nP8EPF9IIlYa"
      }
    },
    {
      "cell_type": "code",
      "source": [
        "# 1. Print all prime numbers in a range\n",
        "\n",
        "upper_range = int(input(\"enter upper range : \"))\n",
        "lower_range = int(input(\"enter lower range : \"))\n",
        "\n",
        "for i in range(lower_range,upper_range):\n",
        "  for j in range(2,i):\n",
        "    if i%j==0:\n",
        "      break\n",
        "  else:\n",
        "    print(i,\" \")\n",
        "\n",
        "# Break terminate execution of loop"
      ],
      "metadata": {
        "id": "3laziYFXiEtB",
        "colab": {
          "base_uri": "https://localhost:8080/"
        },
        "outputId": "80b9eac0-ab3f-4e8b-fe71-d00544851da6"
      },
      "execution_count": 12,
      "outputs": [
        {
          "name": "stdout",
          "output_type": "stream",
          "text": [
            "enter upper range : 1\n",
            "enter lower range : 100\n"
          ]
        }
      ]
    },
    {
      "cell_type": "code",
      "source": [
        "# 2. Print all name except vijay malya\n",
        "name = [\"yash\",\"raju\",\"ambani\",\"vijay malya\",\"adaani\"]\n",
        "for i in name:\n",
        "  if i ==\"vijay malya\":\n",
        "    continue\n",
        "  else:\n",
        "    print(i)\n",
        "\n",
        "# 3. Skip the number 5 in range 1 to 10\n",
        "for i in range(1,11):\n",
        "  if i==5:\n",
        "    continue\n",
        "  else:\n",
        "    print(i)\n",
        "# continue skip the iteration"
      ],
      "metadata": {
        "id": "39FGKVN0Jv2e",
        "colab": {
          "base_uri": "https://localhost:8080/"
        },
        "outputId": "107d34c9-0ad4-41d8-9665-06b693c7a59f"
      },
      "execution_count": 10,
      "outputs": [
        {
          "output_type": "stream",
          "name": "stdout",
          "text": [
            "yash\n",
            "raju\n",
            "ambani\n",
            "adaani\n",
            "1\n",
            "2\n",
            "3\n",
            "4\n",
            "6\n",
            "7\n",
            "8\n",
            "9\n",
            "10\n"
          ]
        }
      ]
    },
    {
      "cell_type": "markdown",
      "source": [
        "## 3. Strings\n",
        "\n",
        "- Strings are sequence of characters\n",
        "- In pythion specifically strings are sequence of unicode characters .(16 bit)"
      ],
      "metadata": {
        "id": "kijvl3BgLJMq"
      }
    },
    {
      "cell_type": "markdown",
      "source": [
        "### 3.1 CRUD Operation"
      ],
      "metadata": {
        "id": "0eHoocCzXtj8"
      }
    },
    {
      "cell_type": "markdown",
      "source": [
        "Creating and accessing strings"
      ],
      "metadata": {
        "id": "_JdVJwMYT1EB"
      }
    },
    {
      "cell_type": "code",
      "source": [
        "# Creating\n",
        "str1 = \"hi\"\n",
        "str2 ='hi'\n",
        "multi_str = \"\"\"hi i am yash.\"\"\"\n",
        "print(str1)\n",
        "print(str2)\n",
        "print(multi_str)"
      ],
      "metadata": {
        "id": "Wdf6b6g_LIn9"
      },
      "execution_count": null,
      "outputs": []
    },
    {
      "cell_type": "code",
      "source": [
        "# Accessing\n",
        "name = \"yash\"\n",
        "\n",
        "# positive indexing\n",
        "print(name[0])\n",
        "print(name[1])\n",
        "print(name[2])\n",
        "print(name[3])\n",
        "\n",
        "# negative indexing\n",
        "print(name[-1])\n",
        "print(name[-2])\n",
        "print(name[-3])\n",
        "print(name[-4])"
      ],
      "metadata": {
        "id": "mpd0oPUTKZju"
      },
      "execution_count": null,
      "outputs": []
    },
    {
      "cell_type": "code",
      "source": [
        "# Slicing\n",
        "print(name[0:])\n",
        "print(name[0:2])\n",
        "print(name[0::2])\n",
        "print(name[::-1]) # reverse\n",
        "print(name[-1:-2:-1])\n"
      ],
      "metadata": {
        "id": "uR23o5sSUsyq"
      },
      "execution_count": null,
      "outputs": []
    },
    {
      "cell_type": "markdown",
      "source": [
        "Editing and deleting in Strings"
      ],
      "metadata": {
        "id": "hycOnGqEW-u3"
      }
    },
    {
      "cell_type": "code",
      "source": [
        "print(name)\n",
        "\n",
        "del name[1]\n",
        "print(name)\n",
        "\n",
        "# Editing and deleting is not possible as string is immutable\n",
        "# But we can del whole string by -> del name"
      ],
      "metadata": {
        "id": "8jSYYGEUWPeh"
      },
      "execution_count": null,
      "outputs": []
    },
    {
      "cell_type": "markdown",
      "source": [
        "### 3.2 Operation of strings"
      ],
      "metadata": {
        "id": "uDSDkkW2XzOb"
      }
    },
    {
      "cell_type": "markdown",
      "source": [
        "Arithmetic operation"
      ],
      "metadata": {
        "id": "-MZCCOTfX6Pa"
      }
    },
    {
      "cell_type": "code",
      "source": [
        "# Addition and multiplication\n",
        "str1 = \"yash\"\n",
        "str2 = \"pokhriyal\"\n",
        "\n",
        "print(str1+str2)\n",
        "print(str1*2)"
      ],
      "metadata": {
        "id": "HXqKDO7eXSos"
      },
      "execution_count": null,
      "outputs": []
    },
    {
      "cell_type": "markdown",
      "source": [
        "Relational operation"
      ],
      "metadata": {
        "id": "yM9sgxZhYN5O"
      }
    },
    {
      "cell_type": "code",
      "source": [
        "a = 'yash'\n",
        "b = 'aranya'\n",
        "\n",
        "# compare lexiographically\n",
        "\n",
        "print(a>b)\n",
        "print(a<=b)\n",
        "print(a>=b)\n",
        "print(a<b)\n",
        "print(\"delhi\"==\"Delhi\")\n",
        "print(\"delhi\"==\"delhi\")\n"
      ],
      "metadata": {
        "id": "HRrh9ma4YDEo"
      },
      "execution_count": null,
      "outputs": []
    },
    {
      "cell_type": "markdown",
      "source": [
        "Logical operation"
      ],
      "metadata": {
        "id": "l8F5yALzYovu"
      }
    },
    {
      "cell_type": "code",
      "source": [
        "print(\"name\" and \"yash\")\n",
        "print(\"name\" or \"yash\")\n",
        "print(\"\" and \"yash\")\n",
        "print(\"\" or \"yash\")\n",
        "print(\"\" or \"\")\n",
        "print(not \"\")"
      ],
      "metadata": {
        "id": "vhAVnj9hYXNq"
      },
      "execution_count": null,
      "outputs": []
    },
    {
      "cell_type": "markdown",
      "source": [
        "Member function"
      ],
      "metadata": {
        "id": "oqAHcs8_ZS5G"
      }
    },
    {
      "cell_type": "code",
      "source": [
        "print('a' in 'dallas')\n",
        "print('b' not in 'dallas')"
      ],
      "metadata": {
        "id": "G2ab2TjyY5wo"
      },
      "execution_count": null,
      "outputs": []
    },
    {
      "cell_type": "markdown",
      "source": [
        "### 3.3 Strings Functions"
      ],
      "metadata": {
        "id": "dn_y7pqpZfYU"
      }
    },
    {
      "cell_type": "markdown",
      "source": [
        "Common Functions which are applicable on all datatypes"
      ],
      "metadata": {
        "id": "Lv_C7JgDZ-mQ"
      }
    },
    {
      "cell_type": "code",
      "source": [
        "#len()/max()/min()/sorted\n",
        "\n",
        "str = \"yash is my name\"\n",
        "print(len(str))\n",
        "print(max(str))\n",
        "print(min(str))\n",
        "print(sorted(str)) # gives list\n",
        "print(sorted(str,reverse=True))"
      ],
      "metadata": {
        "id": "luE44z9ZZXCG"
      },
      "execution_count": null,
      "outputs": []
    },
    {
      "cell_type": "markdown",
      "source": [
        "Strings specific functions"
      ],
      "metadata": {
        "id": "WmOu8BTkarm9"
      }
    },
    {
      "cell_type": "markdown",
      "source": [
        "- capitalize/title/upper/lower/swapcase"
      ],
      "metadata": {
        "id": "QTfVmw2ja4mu"
      }
    },
    {
      "cell_type": "code",
      "source": [
        "name = \"Yash is my name\"\n",
        "print(name.capitalize())\n",
        "print(name.title())\n",
        "print(name.upper())\n",
        "print(name.lower())\n",
        "print(name.swapcase())"
      ],
      "metadata": {
        "id": "EaYauhQGaNua"
      },
      "execution_count": null,
      "outputs": []
    },
    {
      "cell_type": "markdown",
      "source": [
        "- count()/find()/index()\n"
      ],
      "metadata": {
        "id": "lGg4ZQCxbORP"
      }
    },
    {
      "cell_type": "code",
      "source": [
        "name = \"yashaaa\"\n",
        "print(name.count('a')) # tells frequency\n",
        "print(name.find('e')) # gives index if not found gives -1\n",
        "print(name.index('a')) # gives index if not found gives error"
      ],
      "metadata": {
        "id": "1yDO1-uUbNnl"
      },
      "execution_count": null,
      "outputs": []
    },
    {
      "cell_type": "markdown",
      "source": [
        "- endswith/startswith"
      ],
      "metadata": {
        "id": "8Ut8exS8cl03"
      }
    },
    {
      "cell_type": "code",
      "source": [
        "name = \"yasha\"\n",
        "\n",
        "print(name.startswith('sha'))\n",
        "print(name.startswith('ya'))\n",
        "print(name.endswith('ya'))\n",
        "print(name.endswith('sha'))"
      ],
      "metadata": {
        "id": "ikdsyclma_VC"
      },
      "execution_count": null,
      "outputs": []
    },
    {
      "cell_type": "markdown",
      "source": [
        "- format"
      ],
      "metadata": {
        "id": "eOCWVcx6c2gD"
      }
    },
    {
      "cell_type": "code",
      "source": [
        "fname = \"yash\"\n",
        "lname = \"pokhriyal\"\n",
        "print('{} {} is my name'.format(fname,lname))"
      ],
      "metadata": {
        "id": "CX8meXsKcr2O"
      },
      "execution_count": null,
      "outputs": []
    },
    {
      "cell_type": "markdown",
      "source": [
        "- isalnum/isalpha/isdigit/isidentifier"
      ],
      "metadata": {
        "id": "WBs-HIZPdFrM"
      }
    },
    {
      "cell_type": "code",
      "source": [
        "a = '1234'\n",
        "b = \"yash123\"\n",
        "c = \"yash\"\n",
        "d = \"_yash\"\n",
        "e = \"1yash\"\n",
        "print(a.isalnum())\n",
        "print(a.isalpha())\n",
        "print(e.isidentifier())\n",
        "print(d.isidentifier())\n",
        "print(a.isdigit())\n"
      ],
      "metadata": {
        "id": "ak8NHT9OdCyl"
      },
      "execution_count": null,
      "outputs": []
    },
    {
      "cell_type": "markdown",
      "source": [
        "- strip"
      ],
      "metadata": {
        "id": "bMANn1HZdkDq"
      }
    },
    {
      "cell_type": "code",
      "source": [
        "a = \"    name    \"\n",
        "print(a)\n",
        "\n",
        "a.strip()\n",
        "# removes extra space"
      ],
      "metadata": {
        "id": "xnwXGpSTdOjT"
      },
      "execution_count": null,
      "outputs": []
    },
    {
      "cell_type": "markdown",
      "source": [
        "- replace"
      ],
      "metadata": {
        "id": "14l--apFd1K-"
      }
    },
    {
      "cell_type": "code",
      "source": [
        "a = \"my name is yash\"\n",
        "a.replace(\"yash\",\"heero\")\n"
      ],
      "metadata": {
        "id": "Nf4x4qyed0OT"
      },
      "execution_count": null,
      "outputs": []
    },
    {
      "cell_type": "markdown",
      "source": [
        "- **split/join**"
      ],
      "metadata": {
        "id": "ZJtcY70JeDS4"
      }
    },
    {
      "cell_type": "code",
      "source": [
        "# split - gives the list  split on base of argument . default = \" \"\n",
        "a = \"yash is my name\"\n",
        "print(a.split())\n",
        "\n",
        "b = \"aeiji-sunte-heero\"\n",
        "print(b.split(\"-\"))\n",
        "\n",
        "# join is reverse of split\n",
        "print(\" \".join([\"my\",\"name\",\"is\",\"my\",\"yash\"]))"
      ],
      "metadata": {
        "id": "2m0pGuixdvOB"
      },
      "execution_count": null,
      "outputs": []
    },
    {
      "cell_type": "markdown",
      "source": [
        "### 3.4 Questions on Strings"
      ],
      "metadata": {
        "id": "enD-3GZpfBkI"
      }
    },
    {
      "cell_type": "markdown",
      "source": [
        "1. Find the length of the given string without using len() function"
      ],
      "metadata": {
        "id": "SkuGv4KOgen1"
      }
    },
    {
      "cell_type": "code",
      "source": [
        "str = input(\"enter the string :\")\n",
        "count = 0\n",
        "for i in str:\n",
        "    count+=1\n",
        "print(\"length of string is\",count)"
      ],
      "metadata": {
        "id": "yfI5_7MNeTwY"
      },
      "execution_count": null,
      "outputs": []
    },
    {
      "cell_type": "markdown",
      "source": [
        "2. Extract username from input from a given email eg if the emall is yash123@gmail.com username is yash123"
      ],
      "metadata": {
        "id": "v7dwXAhSgkwA"
      }
    },
    {
      "cell_type": "code",
      "source": [
        "str = input(\"enter the string :\")\n",
        "\n",
        "user_name = ''\n",
        "for i in str:\n",
        "  if i == '@':\n",
        "    break\n",
        "  else:\n",
        "    user_name+=i\n",
        "\n",
        "print(user_name,\"is the username\")"
      ],
      "metadata": {
        "id": "eBGvnxo-gQ3h"
      },
      "execution_count": null,
      "outputs": []
    },
    {
      "cell_type": "code",
      "source": [
        "index = str.find('@')\n",
        "print(str[0:index])"
      ],
      "metadata": {
        "id": "JfKR2dxphQzj"
      },
      "execution_count": null,
      "outputs": []
    },
    {
      "cell_type": "markdown",
      "source": [
        "3. Count frequency of a character in a particular string"
      ],
      "metadata": {
        "id": "UNyun1AdhsuP"
      }
    },
    {
      "cell_type": "code",
      "source": [
        "# word.count('character')\n",
        "count=0\n",
        "word = input(\"enter the word :\")\n",
        "character = input(\"enter the word :\")\n",
        "\n",
        "for i in word:\n",
        "  if i == character:\n",
        "    count+=1\n",
        "\n",
        "print(\"Your character\",character,\"count is :\",count)"
      ],
      "metadata": {
        "id": "mpHDiz0ChGgR"
      },
      "execution_count": null,
      "outputs": []
    },
    {
      "cell_type": "markdown",
      "source": [
        "4. Write a programme which can remove particular character from string"
      ],
      "metadata": {
        "id": "3BEdBHGNiy_w"
      }
    },
    {
      "cell_type": "code",
      "source": [
        "word = input(\"enter the word :\")\n",
        "char = input(\"enter the word :\")\n",
        "\n",
        "result =\"\"\n",
        "for i in word:\n",
        "  if i == char:\n",
        "     continue\n",
        "  else:\n",
        "    result+=i\n",
        "\n",
        "print(result)\n"
      ],
      "metadata": {
        "id": "grMl2C-6iy0k"
      },
      "execution_count": null,
      "outputs": []
    },
    {
      "cell_type": "markdown",
      "source": [
        "5. Write a programme which can check whether the given string is palindrome or not"
      ],
      "metadata": {
        "id": "cXzxMA_4jvdS"
      }
    },
    {
      "cell_type": "code",
      "source": [
        "str = input(\"enter the string :\")\n",
        "flag = True\n",
        "for i in range(len(str)//2):\n",
        "  if str[i] != str[len(str)-i-1]:\n",
        "    flag =False\n",
        "\n",
        "if flag:\n",
        "  print(\"Its a palindrome\")\n",
        "else:\n",
        "  print(\"Not a palindrome\")\n"
      ],
      "metadata": {
        "id": "YFVPK3nsifOe"
      },
      "execution_count": null,
      "outputs": []
    },
    {
      "cell_type": "code",
      "source": [
        "str = input(\"enter the string :\")\n",
        "\n",
        "for i in range(len(str)//2):\n",
        "  if str[i] != str[len(str)-i-1]:\n",
        "    print(\"Not a palindrome\")\n",
        "    break\n",
        "else:\n",
        "    print(\"Its a palindrome\")"
      ],
      "metadata": {
        "id": "k5B3T7-5ktBW"
      },
      "execution_count": null,
      "outputs": []
    },
    {
      "cell_type": "markdown",
      "source": [
        "6. Write a programme to count number of words in the string without split()"
      ],
      "metadata": {
        "id": "fhdsLBcMlHl7"
      }
    },
    {
      "cell_type": "code",
      "source": [
        "str = input(\"enter the string :\")\n",
        "word = 1\n",
        "for i in str:\n",
        "  if i==\" \":\n",
        "    word+=1\n",
        "print(\"No. of words are :\",word)\n",
        "\n",
        "# len(\"heero is my name\".split())"
      ],
      "metadata": {
        "id": "y39JKJaVk7LJ"
      },
      "execution_count": null,
      "outputs": []
    },
    {
      "cell_type": "code",
      "source": [
        "l =[]\n",
        "temp = \"\"\n",
        "for i in str:\n",
        "  if i != \" \":\n",
        "    temp+=i\n",
        "  else:\n",
        "    l.append(temp)\n",
        "    temp=''\n",
        "l.append(temp)\n",
        "\n",
        "len(l)\n",
        "\n"
      ],
      "metadata": {
        "id": "d6-7c-TmlmHT"
      },
      "execution_count": null,
      "outputs": []
    },
    {
      "cell_type": "markdown",
      "source": [
        " 7. Write a programme to convert a string to title case without using the title()"
      ],
      "metadata": {
        "id": "uETTq9j9mw01"
      }
    },
    {
      "cell_type": "code",
      "source": [
        "str = input(\"enter the string :\")\n",
        "l = []\n",
        "\n",
        "for i in str.split():\n",
        "  l.append(i[0].upper()+i[1:].lower())\n",
        "\n",
        "print(\" \".join(l))"
      ],
      "metadata": {
        "id": "EmrbBBPWmc6n"
      },
      "execution_count": null,
      "outputs": []
    },
    {
      "cell_type": "markdown",
      "source": [
        "8. Convert given integer to string"
      ],
      "metadata": {
        "id": "Xom8CttEoPB8"
      }
    },
    {
      "cell_type": "code",
      "source": [
        "num = int(input(\"enter the integer\"))\n",
        "digit ='0123456789'\n",
        "ans =''\n",
        "while num>0:\n",
        "    ans = digit[num%10] + ans\n",
        "    num//=10\n",
        "\n",
        "print(ans)\n",
        "#logn complexity"
      ],
      "metadata": {
        "id": "-vdcmxYlnrQC"
      },
      "execution_count": null,
      "outputs": []
    },
    {
      "cell_type": "markdown",
      "source": [
        "#### Some Coding Platforms Questions"
      ],
      "metadata": {
        "id": "g68J854KSXKn"
      }
    },
    {
      "cell_type": "markdown",
      "source": [
        "1. https://leetcode.com/problems/longest-substring-without-repeating-characters/description/"
      ],
      "metadata": {
        "id": "2rr6k4zdSTYM"
      }
    },
    {
      "cell_type": "code",
      "source": [
        "def lsc(str):\n",
        "  set_char =set()\n",
        "  left = 0\n",
        "  max_len_sub_str = 0\n",
        "\n",
        "  for right,char in enumerate(s):\n",
        "\n",
        "    while char in set_char:\n",
        "\n",
        "      set_char.remove(s[left])\n",
        "      left+=1\n",
        "\n",
        "    set_char.add(char)\n",
        "\n",
        "    max_len_sub_str = max(max_len_sub_str,right-left+1)\n",
        "\n",
        "  return max_len_sub_str\n",
        "\n"
      ],
      "metadata": {
        "id": "9PG7e5ygoura"
      },
      "execution_count": null,
      "outputs": []
    },
    {
      "cell_type": "code",
      "source": [
        "s = \"abcabcbb\"\n",
        "\n",
        "lsc(s)\n"
      ],
      "metadata": {
        "id": "YCTQP3NYTet-"
      },
      "execution_count": null,
      "outputs": []
    },
    {
      "cell_type": "code",
      "source": [
        "def lsc1(str):\n",
        "\n",
        "  set_char = set()\n",
        "  left = 0\n",
        "  max_len_substring = 0\n",
        "  for right,char in enumerate(str):\n",
        "    while char in set_char:\n",
        "      set_char.remove(s[left])\n",
        "      left+=1\n",
        "    set_char.add(char)\n",
        "\n",
        "    max_len_substring = max(max_len_substring,right-left+1)\n",
        "\n",
        "  return max_len_substring\n",
        "\n",
        "s = \"abcabcbb\"\n",
        "\n",
        "lsc1(s)"
      ],
      "metadata": {
        "id": "yQ5JYRjMRzxa"
      },
      "execution_count": null,
      "outputs": []
    },
    {
      "cell_type": "markdown",
      "source": [
        "2. https://leetcode.com/problems/minimum-window-substring/description/"
      ],
      "metadata": {
        "id": "eZHSSoUtNnPD"
      }
    },
    {
      "cell_type": "code",
      "source": [
        "# Time complexity = o(n)\n",
        "# import Counter\n",
        "from collections import Counter\n",
        "\n",
        "def min_substr(s,t):\n",
        "  t_counts = Counter(t)\n",
        "  required = len(t_counts)\n",
        "\n",
        "  window_counter = {}\n",
        "  found = 0\n",
        "\n",
        "  min_length = float('inf')\n",
        "  min_start = 0\n",
        "\n",
        "  left = 0\n",
        "  right = 0\n",
        "\n",
        "  for right in range(len(s)):\n",
        "    char = s[right]\n",
        "    window_counter[char] = window_counter.get(char,0)+1\n",
        "\n",
        "    if char in t_counts and window_counter[char] == t_counts[char]:\n",
        "      found+=1\n",
        "\n",
        "    while required == found:\n",
        "      curr_length = right - left + 1\n",
        "      if curr_length < min_length:\n",
        "        min_length = curr_length\n",
        "        min_start = left\n",
        "\n",
        "      left_char = s[left]\n",
        "      window_counter[left_char]-=1\n",
        "\n",
        "      if left_char in t_counts and window_counter[left_char] < t_counts[left_char]:\n",
        "        found-=1\n",
        "\n",
        "      left+=1\n",
        "\n",
        "  if min_length == float('inf'):\n",
        "    return \"\"\n",
        "  else:\n",
        "    return s[min_start:min_length+min_start]\n",
        "\n",
        "\n",
        "s = \"ADOBECODEBANC\"\n",
        "t = \"ABC\"\n",
        "min_substr(s,t)"
      ],
      "metadata": {
        "id": "iwi4HPV3NqRF"
      },
      "execution_count": null,
      "outputs": []
    },
    {
      "cell_type": "markdown",
      "source": [
        "## 4. Lists\n",
        "- List is datatype in which you can store mutiple datatype / items at once\n",
        "- In technical terms its more like dynamic array in which you can add item on fly"
      ],
      "metadata": {
        "id": "6VLOg5sN5DZF"
      }
    },
    {
      "cell_type": "markdown",
      "source": [
        "List vs Arrays\n",
        "\n",
        "     1. Dynamic vs Fixed\n",
        "     2. Heterogeneous vs homogeneous\n",
        "     3. List takes more memory and more time in execution than arrays"
      ],
      "metadata": {
        "id": "S4ImofBI5cxR"
      }
    },
    {
      "cell_type": "markdown",
      "source": [
        "### 4.1 List in memory"
      ],
      "metadata": {
        "id": "AQUhSNFv55a_"
      }
    },
    {
      "cell_type": "markdown",
      "source": [
        "        List uses pointer or reference address in memory thats why its heterogeneous"
      ],
      "metadata": {
        "id": "ELg6RHlo5_-2"
      }
    },
    {
      "cell_type": "code",
      "source": [
        "# memory address\n",
        "a = [1,2,3]\n",
        "\n",
        "print(\"Address of 1 in list\",id(a[0]))\n",
        "print(\"Address of 2 in list\",id(a[1]))\n",
        "print(\"Address of 3 in list\",id(a[2]))\n",
        "\n",
        "print(\"Address of 1 \",id(1))\n",
        "print(\"Address of 2 \",id(2))\n",
        "print(\"Address of 3 \",id(3))"
      ],
      "metadata": {
        "id": "ifTPvHryTmlU",
        "colab": {
          "base_uri": "https://localhost:8080/"
        },
        "outputId": "6ba0c348-9e2c-41cd-ba3d-42ecd073c119"
      },
      "execution_count": 14,
      "outputs": [
        {
          "output_type": "stream",
          "name": "stdout",
          "text": [
            "Address of 1 in list 11642088\n",
            "Address of 2 in list 11642120\n",
            "Address of 3 in list 11642152\n",
            "Address of 1  11642088\n",
            "Address of 2  11642120\n",
            "Address of 3  11642152\n"
          ]
        }
      ]
    },
    {
      "cell_type": "markdown",
      "source": [
        "         Characters of Lists\n",
        "      \n",
        "      - Dynamic array\n",
        "      - Heterogeneous\n",
        "      - mutable\n",
        "      - duplicates allow\n",
        "      - ordered\n",
        "      - can be nested\n",
        "      - items can be accesed\n",
        "      - can contain any type of object in python"
      ],
      "metadata": {
        "id": "6MASdTjb7OcM"
      }
    },
    {
      "cell_type": "markdown",
      "source": [
        "### 4.2 CRUD operations"
      ],
      "metadata": {
        "id": "JzUm2nIq7R1p"
      }
    },
    {
      "cell_type": "markdown",
      "source": [
        "Creating a list"
      ],
      "metadata": {
        "id": "Cn72_uhM7WlC"
      }
    },
    {
      "cell_type": "code",
      "source": [
        "# 1. Empty List\n",
        "a = []\n",
        "print(a)\n",
        "\n",
        "# 2. 1D List - Homo\n",
        "b = [1,2,3]\n",
        "print(b)\n",
        "\n",
        "# 3. 2D List - Hetero\n",
        "c = [[1,2,3],4]\n",
        "print(c)\n",
        "\n",
        "# 4. 3D List\n",
        "d = [[[1,2,3],[4,5,6]]]\n",
        "print(d)\n",
        "\n",
        "# 5. Heterogeneous list\n",
        "e = [[[1,2,3],'a'],'b',True]\n",
        "print(e)\n",
        "\n",
        "# 6. Using type conversion\n",
        "f = list(\"delhi\")\n",
        "print(f)"
      ],
      "metadata": {
        "id": "EM8kR5HE6xTH",
        "colab": {
          "base_uri": "https://localhost:8080/"
        },
        "outputId": "84dc32da-8e91-44a4-aa75-670d2b2d85f8"
      },
      "execution_count": 15,
      "outputs": [
        {
          "output_type": "stream",
          "name": "stdout",
          "text": [
            "[]\n",
            "[1, 2, 3]\n",
            "[[1, 2, 3], 4]\n",
            "[[[1, 2, 3], [4, 5, 6]]]\n",
            "[[[1, 2, 3], 'a'], 'b', True]\n",
            "['d', 'e', 'l', 'h', 'i']\n"
          ]
        }
      ]
    },
    {
      "cell_type": "markdown",
      "source": [
        " Accessing items from List"
      ],
      "metadata": {
        "id": "oXw5EaZb8fOi"
      }
    },
    {
      "cell_type": "code",
      "source": [
        "# indexing\n",
        "a = [1,2,3,4]\n",
        "\n",
        "# Positive indexing\n",
        "print(a[0])\n",
        "print(a[1])\n",
        "print(a[2])\n",
        "print(a[3])\n",
        "\n",
        "# Negative indexing\n",
        "print(a[-1])\n",
        "print(a[-2])\n",
        "print(a[-3])\n",
        "print(a[-4])\n"
      ],
      "metadata": {
        "id": "anM48n3c7uUH",
        "colab": {
          "base_uri": "https://localhost:8080/"
        },
        "outputId": "c0253119-3a60-4d7f-88b8-6e003523fcd6"
      },
      "execution_count": 16,
      "outputs": [
        {
          "output_type": "stream",
          "name": "stdout",
          "text": [
            "1\n",
            "2\n",
            "3\n",
            "4\n",
            "4\n",
            "3\n",
            "2\n",
            "1\n"
          ]
        }
      ]
    },
    {
      "cell_type": "code",
      "source": [
        "b = [[1,2,3],[4,5,6]]\n",
        "print(b[0][0])\n",
        "print(b[0][1])\n",
        "print(b[0][2])\n",
        "print(b[1][0])\n",
        "print(b[1][1])\n",
        "print(b[1][2])"
      ],
      "metadata": {
        "id": "iUcbpn6V92Dc",
        "colab": {
          "base_uri": "https://localhost:8080/"
        },
        "outputId": "5fb23ec5-420b-4220-c275-3f02c22f7e8d"
      },
      "execution_count": 17,
      "outputs": [
        {
          "output_type": "stream",
          "name": "stdout",
          "text": [
            "1\n",
            "2\n",
            "3\n",
            "4\n",
            "5\n",
            "6\n"
          ]
        }
      ]
    },
    {
      "cell_type": "code",
      "source": [
        "c = [[[1,2,3],[4,5,6],[7,8,9]]]\n",
        "print(c[0][0][0])\n",
        "print(c[0][0][1])\n",
        "print(c[0][0][2])\n",
        "print(c[0][1][0])\n",
        "print(c[0][1][1])\n",
        "print(c[0][1][2])\n",
        "print(c[0][2][0])\n",
        "print(c[0][2][1])\n",
        "print(c[0][2][2])"
      ],
      "metadata": {
        "id": "6AphZQvY943e",
        "colab": {
          "base_uri": "https://localhost:8080/"
        },
        "outputId": "0a800da9-e273-4d68-87c8-2aaaffb32470"
      },
      "execution_count": 18,
      "outputs": [
        {
          "output_type": "stream",
          "name": "stdout",
          "text": [
            "1\n",
            "2\n",
            "3\n",
            "4\n",
            "5\n",
            "6\n",
            "7\n",
            "8\n",
            "9\n"
          ]
        }
      ]
    },
    {
      "cell_type": "code",
      "source": [
        "# Slicing\n",
        "L = [1,2,3,4]\n",
        "print(L[1:3])\n",
        "print(L[1::2])\n",
        "print(L[1:3])\n",
        "print(L[::-1])\n"
      ],
      "metadata": {
        "id": "Fsp6MF0d8yjM",
        "colab": {
          "base_uri": "https://localhost:8080/"
        },
        "outputId": "212bbcef-015e-4a2a-da96-37f95009ddc6"
      },
      "execution_count": 19,
      "outputs": [
        {
          "output_type": "stream",
          "name": "stdout",
          "text": [
            "[2, 3]\n",
            "[2, 4]\n",
            "[2, 3]\n",
            "[4, 3, 2, 1]\n"
          ]
        }
      ]
    },
    {
      "cell_type": "code",
      "source": [
        "L1 = [[1,2,3],[4,5,6]]\n",
        "print(L1[1][1:2])"
      ],
      "metadata": {
        "id": "xrvNG56b-X5v",
        "colab": {
          "base_uri": "https://localhost:8080/"
        },
        "outputId": "e6d800a1-97bf-48df-c0e2-cad15ed30292"
      },
      "execution_count": 20,
      "outputs": [
        {
          "output_type": "stream",
          "name": "stdout",
          "text": [
            "[5]\n"
          ]
        }
      ]
    },
    {
      "cell_type": "code",
      "source": [
        "L2 = [[[1,2,3],[4,5,6],[7,8,9]]]\n",
        "print(L2[0][1:][0::2])\n",
        "print(L2[0][1:][1::2])"
      ],
      "metadata": {
        "id": "GUDgO0Wp-tJH",
        "colab": {
          "base_uri": "https://localhost:8080/"
        },
        "outputId": "7d4d8128-89ab-498a-dafc-5bd632c46b3d"
      },
      "execution_count": 21,
      "outputs": [
        {
          "output_type": "stream",
          "name": "stdout",
          "text": [
            "[[4, 5, 6]]\n",
            "[[7, 8, 9]]\n"
          ]
        }
      ]
    },
    {
      "cell_type": "markdown",
      "source": [
        "Adding items to list\n",
        "     \n",
        "     - append() : add one item at once at end\n",
        "     - extend() : add multiple items at once at end\n",
        "     - insert() : insert item at desired location"
      ],
      "metadata": {
        "id": "YFZ0gtD3ABCv"
      }
    },
    {
      "cell_type": "code",
      "source": [
        "L = [1,2,3,4]\n",
        "L.append(5)\n",
        "print(L)\n",
        "L.append([7,8])\n",
        "print(L)"
      ],
      "metadata": {
        "id": "Ax4kIsu4_ON0",
        "colab": {
          "base_uri": "https://localhost:8080/"
        },
        "outputId": "4ebb70aa-db0f-4191-e5cd-f07c44a4ef32"
      },
      "execution_count": 22,
      "outputs": [
        {
          "output_type": "stream",
          "name": "stdout",
          "text": [
            "[1, 2, 3, 4, 5]\n",
            "[1, 2, 3, 4, 5, [7, 8]]\n"
          ]
        }
      ]
    },
    {
      "cell_type": "code",
      "source": [
        "L = [1,2,3]\n",
        "L.extend([4,5,6])\n",
        "print(L)\n"
      ],
      "metadata": {
        "id": "ROXpAFi9AehS",
        "colab": {
          "base_uri": "https://localhost:8080/"
        },
        "outputId": "53227e01-6485-49bf-9289-35e916a6cc1c"
      },
      "execution_count": 23,
      "outputs": [
        {
          "output_type": "stream",
          "name": "stdout",
          "text": [
            "[1, 2, 3, 4, 5, 6]\n"
          ]
        }
      ]
    },
    {
      "cell_type": "code",
      "source": [
        "L = [1,2,3]\n",
        "\n",
        "#add 100 at index 1\n",
        "L.insert(1,100)\n",
        "print(L)"
      ],
      "metadata": {
        "id": "sX5ByNACAn70",
        "colab": {
          "base_uri": "https://localhost:8080/"
        },
        "outputId": "84ee1896-4166-46c2-fb6b-70dcbd17db19"
      },
      "execution_count": 24,
      "outputs": [
        {
          "output_type": "stream",
          "name": "stdout",
          "text": [
            "[1, 100, 2, 3]\n"
          ]
        }
      ]
    },
    {
      "cell_type": "markdown",
      "source": [
        "Editing item at list"
      ],
      "metadata": {
        "id": "uQMV6oXBBJ1J"
      }
    },
    {
      "cell_type": "code",
      "source": [
        "L = [1,2,3,4]\n",
        "\n",
        "# Editing with indexing\n",
        "L[1] = 5\n",
        "print(L)\n",
        "\n",
        "# Editing with slicing\n",
        "L[1:] = [4,5,6]\n",
        "print(L)"
      ],
      "metadata": {
        "id": "9lbsHPU-A971",
        "colab": {
          "base_uri": "https://localhost:8080/"
        },
        "outputId": "f2653509-c0c2-4c8f-8c88-a99f28344916"
      },
      "execution_count": 25,
      "outputs": [
        {
          "output_type": "stream",
          "name": "stdout",
          "text": [
            "[1, 5, 3, 4]\n",
            "[1, 4, 5, 6]\n"
          ]
        }
      ]
    },
    {
      "cell_type": "markdown",
      "source": [
        "Deleting item from List"
      ],
      "metadata": {
        "id": "tmd2OquWBl3J"
      }
    },
    {
      "cell_type": "code",
      "source": [
        "L = [1,2,3,4,5,6]\n",
        "\n",
        "# using del keyword\n",
        "del L[0]\n",
        "print(L)\n",
        "\n",
        "del L[2:4]\n",
        "print(L)"
      ],
      "metadata": {
        "id": "H4E6G4w_BRb-",
        "colab": {
          "base_uri": "https://localhost:8080/"
        },
        "outputId": "521f4ab6-9e8f-4580-8bd7-3c5e0cf2ba45"
      },
      "execution_count": 26,
      "outputs": [
        {
          "output_type": "stream",
          "name": "stdout",
          "text": [
            "[2, 3, 4, 5, 6]\n",
            "[2, 3, 6]\n"
          ]
        }
      ]
    },
    {
      "cell_type": "code",
      "source": [
        "# remove\n",
        "L = [1,2,3,4,5]\n",
        "L.remove(2)\n",
        "print(L)"
      ],
      "metadata": {
        "id": "mePwrCOaBthK",
        "colab": {
          "base_uri": "https://localhost:8080/"
        },
        "outputId": "5d2b144b-4172-441b-b5a4-784ce4aae249"
      },
      "execution_count": 27,
      "outputs": [
        {
          "output_type": "stream",
          "name": "stdout",
          "text": [
            "[1, 3, 4, 5]\n"
          ]
        }
      ]
    },
    {
      "cell_type": "code",
      "source": [
        "# pop - default delete from last\n",
        "L = [1,2,3,4,5]\n",
        "\n",
        "L.pop()\n",
        "print(L)\n",
        "\n",
        "L.pop(2)\n",
        "print(L)\n"
      ],
      "metadata": {
        "id": "P17LcKmWCJRX",
        "colab": {
          "base_uri": "https://localhost:8080/"
        },
        "outputId": "da617050-9983-4ea9-cb6a-ae6e772897d2"
      },
      "execution_count": 28,
      "outputs": [
        {
          "output_type": "stream",
          "name": "stdout",
          "text": [
            "[1, 2, 3, 4]\n",
            "[1, 2, 4]\n"
          ]
        }
      ]
    },
    {
      "cell_type": "code",
      "source": [
        "# clear() - delete all items from list and make list empty\n",
        "L =[1,2,3]\n",
        "L.clear()\n",
        "print(L)"
      ],
      "metadata": {
        "id": "54SUaR2NCT0E",
        "colab": {
          "base_uri": "https://localhost:8080/"
        },
        "outputId": "a0e2f295-f931-4cf7-f832-d463ad04cd72"
      },
      "execution_count": 29,
      "outputs": [
        {
          "output_type": "stream",
          "name": "stdout",
          "text": [
            "[]\n"
          ]
        }
      ]
    },
    {
      "cell_type": "markdown",
      "source": [
        "### 4.3 Operations\n"
      ],
      "metadata": {
        "id": "KyMvsdjYDLBa"
      }
    },
    {
      "cell_type": "markdown",
      "source": [
        "- arithmetic operation\n",
        "- membership\n",
        "- iteration\n"
      ],
      "metadata": {
        "id": "XMxKyCZNDO2L"
      }
    },
    {
      "cell_type": "markdown",
      "source": [
        "Arithmetic Operation"
      ],
      "metadata": {
        "id": "F1Ase2jIDYJx"
      }
    },
    {
      "cell_type": "code",
      "source": [
        "l1 = [1,2,3,4]\n",
        "l2 = [5,6,7,8]\n",
        "print(l1+l2)\n",
        "print(l1*2)\n"
      ],
      "metadata": {
        "id": "P7It2ITOC1ic",
        "colab": {
          "base_uri": "https://localhost:8080/"
        },
        "outputId": "84786b37-073f-409c-ce43-61b1533fc9c0"
      },
      "execution_count": 30,
      "outputs": [
        {
          "output_type": "stream",
          "name": "stdout",
          "text": [
            "[1, 2, 3, 4, 5, 6, 7, 8]\n",
            "[1, 2, 3, 4, 1, 2, 3, 4]\n"
          ]
        }
      ]
    },
    {
      "cell_type": "markdown",
      "source": [
        "Membership"
      ],
      "metadata": {
        "id": "VgOV4G4EDmyw"
      }
    },
    {
      "cell_type": "code",
      "source": [
        "l1 = [1,2,3,4]\n",
        "print(2 in l1)\n",
        "print(2 not in l1)"
      ],
      "metadata": {
        "id": "oiMUss_HDig3",
        "colab": {
          "base_uri": "https://localhost:8080/"
        },
        "outputId": "bcbda073-d55b-46a1-dea2-05166b6dec31"
      },
      "execution_count": 31,
      "outputs": [
        {
          "output_type": "stream",
          "name": "stdout",
          "text": [
            "True\n",
            "False\n"
          ]
        }
      ]
    },
    {
      "cell_type": "markdown",
      "source": [
        "Iteration"
      ],
      "metadata": {
        "id": "_INfyzdiDzzE"
      }
    },
    {
      "cell_type": "code",
      "source": [
        "l1 = [1,2,3,4]\n",
        "for i in l1:\n",
        "  print(i)"
      ],
      "metadata": {
        "id": "wyiskz5kDw6z",
        "colab": {
          "base_uri": "https://localhost:8080/"
        },
        "outputId": "0c8129fa-a0ed-4aec-95bb-2840c98c8fa2"
      },
      "execution_count": 32,
      "outputs": [
        {
          "output_type": "stream",
          "name": "stdout",
          "text": [
            "1\n",
            "2\n",
            "3\n",
            "4\n"
          ]
        }
      ]
    },
    {
      "cell_type": "code",
      "source": [
        "for i in [[1,2,3],[4,5,6]]:\n",
        "  print(i)"
      ],
      "metadata": {
        "id": "3FM92wUdD5Q1",
        "colab": {
          "base_uri": "https://localhost:8080/"
        },
        "outputId": "a1773716-a64a-46b7-996b-3cdbde3ec450"
      },
      "execution_count": 33,
      "outputs": [
        {
          "output_type": "stream",
          "name": "stdout",
          "text": [
            "[1, 2, 3]\n",
            "[4, 5, 6]\n"
          ]
        }
      ]
    },
    {
      "cell_type": "markdown",
      "source": [
        "### 4.4 List functions"
      ],
      "metadata": {
        "id": "CL7o_E2iENm1"
      }
    },
    {
      "cell_type": "markdown",
      "source": [
        "       List functions\n",
        "\n",
        "      1. len()/min()/max()/sorted()/sum() - temporary operation\n",
        "      2. count()\n",
        "      3. index()\n",
        "      4. reverse() - permanent operation\n",
        "      5. sort() - permanent operation\n",
        "      6. copy()"
      ],
      "metadata": {
        "id": "xTIsklo2EWDu"
      }
    },
    {
      "cell_type": "markdown",
      "source": [
        "  1. len()/min()/max()/sorted()/sum() - temporary operation"
      ],
      "metadata": {
        "id": "1HIiDuTNE0PO"
      }
    },
    {
      "cell_type": "code",
      "source": [
        "L = [1,2,3,4]\n",
        "print(len(L))\n",
        "print(min(L))\n",
        "print(max(L))\n",
        "print(sorted(L))\n",
        "print(sum(L))\n"
      ],
      "metadata": {
        "id": "eRQMLY5FECWb",
        "colab": {
          "base_uri": "https://localhost:8080/"
        },
        "outputId": "f5c757a4-c6dd-409a-8b61-baded6406ddd"
      },
      "execution_count": 34,
      "outputs": [
        {
          "output_type": "stream",
          "name": "stdout",
          "text": [
            "4\n",
            "1\n",
            "4\n",
            "[1, 2, 3, 4]\n",
            "10\n"
          ]
        }
      ]
    },
    {
      "cell_type": "markdown",
      "source": [
        "2. count()"
      ],
      "metadata": {
        "id": "uaSZIkv4FDjr"
      }
    },
    {
      "cell_type": "code",
      "source": [
        "L = [1,1,2,3,3,4,4,4]\n",
        "print(L.count(1))"
      ],
      "metadata": {
        "id": "RCXtWBaAFBNr",
        "colab": {
          "base_uri": "https://localhost:8080/"
        },
        "outputId": "2b732196-62a5-44cf-8c36-b294e7db2c89"
      },
      "execution_count": 35,
      "outputs": [
        {
          "output_type": "stream",
          "name": "stdout",
          "text": [
            "2\n"
          ]
        }
      ]
    },
    {
      "cell_type": "markdown",
      "source": [
        "3. index()"
      ],
      "metadata": {
        "id": "hLD6tivaFMw_"
      }
    },
    {
      "cell_type": "code",
      "source": [
        "L = [1,1,2,3,3,4,4,4]\n",
        "print(L.index(2))"
      ],
      "metadata": {
        "id": "9KgrYF8BFKrh",
        "colab": {
          "base_uri": "https://localhost:8080/"
        },
        "outputId": "c64223b7-31c5-4c8b-c725-b2e977610611"
      },
      "execution_count": 36,
      "outputs": [
        {
          "output_type": "stream",
          "name": "stdout",
          "text": [
            "2\n"
          ]
        }
      ]
    },
    {
      "cell_type": "markdown",
      "source": [
        "4. reverse()"
      ],
      "metadata": {
        "id": "3s0Pu4k6FTvV"
      }
    },
    {
      "cell_type": "code",
      "source": [
        "L = [1,2,3,4]\n",
        "L.reverse()\n",
        "print(L)"
      ],
      "metadata": {
        "id": "86Z0VSCaFRZ0",
        "colab": {
          "base_uri": "https://localhost:8080/"
        },
        "outputId": "c89d0f37-1470-4229-9a30-c01fe2de48d5"
      },
      "execution_count": 37,
      "outputs": [
        {
          "output_type": "stream",
          "name": "stdout",
          "text": [
            "[4, 3, 2, 1]\n"
          ]
        }
      ]
    },
    {
      "cell_type": "markdown",
      "source": [
        "5. sort() - permanent operation\n"
      ],
      "metadata": {
        "id": "TGQFcL-WFh88"
      }
    },
    {
      "cell_type": "code",
      "source": [
        "L = [1,2,3,4,9,8,6]\n",
        "L.sort()\n",
        "print(L)"
      ],
      "metadata": {
        "id": "B9RyOaUzFfFQ",
        "colab": {
          "base_uri": "https://localhost:8080/"
        },
        "outputId": "f6da422e-751d-4ca8-c9f7-df64b2c1b36b"
      },
      "execution_count": 38,
      "outputs": [
        {
          "output_type": "stream",
          "name": "stdout",
          "text": [
            "[1, 2, 3, 4, 6, 8, 9]\n"
          ]
        }
      ]
    },
    {
      "cell_type": "markdown",
      "source": [
        "6. copy()"
      ],
      "metadata": {
        "id": "bk1-WGC5Fwug"
      }
    },
    {
      "cell_type": "code",
      "source": [
        "a = [1,2,3,4]\n",
        "b = a\n",
        "b.append(5)\n",
        "print(a)\n",
        "print(b)\n",
        "\n",
        "# deep copy as list store reference address"
      ],
      "metadata": {
        "id": "0l-q6cLjFwZ-",
        "colab": {
          "base_uri": "https://localhost:8080/"
        },
        "outputId": "cf2e7afd-b095-4bd5-af19-a483bf3bed17"
      },
      "execution_count": 39,
      "outputs": [
        {
          "output_type": "stream",
          "name": "stdout",
          "text": [
            "[1, 2, 3, 4, 5]\n",
            "[1, 2, 3, 4, 5]\n"
          ]
        }
      ]
    },
    {
      "cell_type": "code",
      "source": [
        "a = [1,2,3,4]\n",
        "b = a.copy()\n",
        "b.append(5)\n",
        "print(a)\n",
        "print(b)"
      ],
      "metadata": {
        "id": "KwszP9ZzGGJo",
        "colab": {
          "base_uri": "https://localhost:8080/"
        },
        "outputId": "d397414b-18e5-4e0d-9e8e-f66848d6d026"
      },
      "execution_count": 40,
      "outputs": [
        {
          "output_type": "stream",
          "name": "stdout",
          "text": [
            "[1, 2, 3, 4]\n",
            "[1, 2, 3, 4, 5]\n"
          ]
        }
      ]
    },
    {
      "cell_type": "markdown",
      "source": [
        "### 4.5 List comprehension\n",
        "     \n",
        "Provides concise way to create a List\n",
        "\n",
        "       new_list = [expression for item in iterable if condition == True]"
      ],
      "metadata": {
        "id": "qO9wxSeYGQLR"
      }
    },
    {
      "cell_type": "code",
      "source": [
        "# Traditional way\n",
        "L = []\n",
        "for i in range(1,11):\n",
        "  L.append(i)\n",
        "\n",
        "print(L)"
      ],
      "metadata": {
        "id": "ET8xWIP-FpM4",
        "colab": {
          "base_uri": "https://localhost:8080/"
        },
        "outputId": "eae3deef-9ce6-45d1-f13d-83fbd986b051"
      },
      "execution_count": 41,
      "outputs": [
        {
          "output_type": "stream",
          "name": "stdout",
          "text": [
            "[1, 2, 3, 4, 5, 6, 7, 8, 9, 10]\n"
          ]
        }
      ]
    },
    {
      "cell_type": "code",
      "source": [
        "# List comprehension\n",
        "L = [i for i in range(1,11)]\n",
        "print(L)"
      ],
      "metadata": {
        "id": "Qmlz6MvTGwGb",
        "colab": {
          "base_uri": "https://localhost:8080/"
        },
        "outputId": "14badaad-aea4-48fa-dcd5-ead65aa2cfdd"
      },
      "execution_count": 42,
      "outputs": [
        {
          "output_type": "stream",
          "name": "stdout",
          "text": [
            "[1, 2, 3, 4, 5, 6, 7, 8, 9, 10]\n"
          ]
        }
      ]
    },
    {
      "cell_type": "code",
      "source": [
        "# scalar multiplication on vector\n",
        "v =[1,2,3]\n",
        "s = 5\n",
        "\n",
        "L = [i*s for i in v]\n",
        "print(L)\n"
      ],
      "metadata": {
        "id": "SEx48Eb5HHNW",
        "colab": {
          "base_uri": "https://localhost:8080/"
        },
        "outputId": "62df2cfb-7686-4db2-bfdb-a8f594dbab9a"
      },
      "execution_count": 43,
      "outputs": [
        {
          "output_type": "stream",
          "name": "stdout",
          "text": [
            "[5, 10, 15]\n"
          ]
        }
      ]
    },
    {
      "cell_type": "code",
      "source": [
        "# Square of a given List\n",
        "a = [1,2,3,4]\n",
        "s = [i**2 for i in a]\n",
        "print(s)"
      ],
      "metadata": {
        "id": "ohYm2F-JHW4C",
        "colab": {
          "base_uri": "https://localhost:8080/"
        },
        "outputId": "d6f0365f-5bc8-4bd5-d046-1ca69cf7271e"
      },
      "execution_count": 44,
      "outputs": [
        {
          "output_type": "stream",
          "name": "stdout",
          "text": [
            "[1, 4, 9, 16]\n"
          ]
        }
      ]
    },
    {
      "cell_type": "code",
      "source": [
        "# Print all the numbers divisible by 5 in the range 1 to 50\n",
        "L =[i for i in range(1,51) if i%5==0]\n",
        "print(L)"
      ],
      "metadata": {
        "id": "DFILVM8vHkg8",
        "colab": {
          "base_uri": "https://localhost:8080/"
        },
        "outputId": "1f86f563-e5d9-4070-b244-0a9dd3507e74"
      },
      "execution_count": 45,
      "outputs": [
        {
          "output_type": "stream",
          "name": "stdout",
          "text": [
            "[5, 10, 15, 20, 25, 30, 35, 40, 45, 50]\n"
          ]
        }
      ]
    },
    {
      "cell_type": "code",
      "source": [
        "# Find languages which start with letter p\n",
        "languages = ['java','php','python','c','javascript']\n",
        "\n",
        "ans = [i for i in languages if i.startswith('p')]\n",
        "print(ans)"
      ],
      "metadata": {
        "id": "BYksqUYvH0pf",
        "colab": {
          "base_uri": "https://localhost:8080/"
        },
        "outputId": "3d9094b9-5139-4c3a-bdff-0f294f44dfa8"
      },
      "execution_count": 46,
      "outputs": [
        {
          "output_type": "stream",
          "name": "stdout",
          "text": [
            "['php', 'python']\n"
          ]
        }
      ]
    },
    {
      "cell_type": "code",
      "source": [
        "# Nested if with List comprehension\n",
        "basket = ['apple','guava','cherry','banana']\n",
        "my_fruits = ['apple','kiwi','grapes','banana']\n",
        "\n",
        "# add new list from my_fruits and items if the fruits exist in basket and also starts with 'a'\n",
        "\n",
        "ans = [i for i in my_fruits if i in basket and i.startswith('a')]\n",
        "print(ans)"
      ],
      "metadata": {
        "id": "NCAqmuFBIDDw",
        "colab": {
          "base_uri": "https://localhost:8080/"
        },
        "outputId": "3d3df450-6f19-4d88-9010-530302027d66"
      },
      "execution_count": 47,
      "outputs": [
        {
          "output_type": "stream",
          "name": "stdout",
          "text": [
            "['apple']\n"
          ]
        }
      ]
    },
    {
      "cell_type": "code",
      "source": [
        "# Print 3X3 matrix using list comprehension ->Nested List comprehension\n",
        "\n",
        "l = [[i for i in range(1,5)] for j in range(1,4)]\n",
        "print(l)"
      ],
      "metadata": {
        "id": "_PPmdZmoI0gx",
        "colab": {
          "base_uri": "https://localhost:8080/"
        },
        "outputId": "a0a703e5-474c-4317-e1cb-e9b549d5ff1d"
      },
      "execution_count": 48,
      "outputs": [
        {
          "output_type": "stream",
          "name": "stdout",
          "text": [
            "[[1, 2, 3, 4], [1, 2, 3, 4], [1, 2, 3, 4]]\n"
          ]
        }
      ]
    },
    {
      "cell_type": "code",
      "source": [
        "# # Cartesian product -> List comprehension in 2 Lists together\n",
        "L1 = [1,2,3]\n",
        "L2 = [4,5,6]\n",
        "\n",
        "cart_prod = [i*j for i in L1 for j in L2]\n",
        "print(cart_prod)"
      ],
      "metadata": {
        "id": "Y2DmsCmoJTfh",
        "colab": {
          "base_uri": "https://localhost:8080/"
        },
        "outputId": "062994ee-0b1b-4631-9c71-076473d9d39d"
      },
      "execution_count": 49,
      "outputs": [
        {
          "output_type": "stream",
          "name": "stdout",
          "text": [
            "[4, 5, 6, 8, 10, 12, 12, 15, 18]\n"
          ]
        }
      ]
    },
    {
      "cell_type": "markdown",
      "source": [
        "Two ways to traverse the List\n",
        "\n",
        "- indexwise\n",
        "- itemwise"
      ],
      "metadata": {
        "id": "GHS8ROiUKDTB"
      }
    },
    {
      "cell_type": "code",
      "source": [
        "# indexwise\n",
        "a = [1,2,3,4]\n",
        "for i in range(len(a)):\n",
        "  print(i,a[i])"
      ],
      "metadata": {
        "id": "C6D1wQs1KRIb",
        "colab": {
          "base_uri": "https://localhost:8080/"
        },
        "outputId": "aa6dd8b6-0bf8-4313-efdf-39014cf6b428"
      },
      "execution_count": 50,
      "outputs": [
        {
          "output_type": "stream",
          "name": "stdout",
          "text": [
            "0 1\n",
            "1 2\n",
            "2 3\n",
            "3 4\n"
          ]
        }
      ]
    },
    {
      "cell_type": "code",
      "source": [
        "# itemwise\n",
        "for i in [1,2,3]:\n",
        "  print(i)"
      ],
      "metadata": {
        "id": "42q3PuHcJ1Dt",
        "colab": {
          "base_uri": "https://localhost:8080/"
        },
        "outputId": "6dca74d1-59cc-460e-8bac-34b38f66cd9d"
      },
      "execution_count": 51,
      "outputs": [
        {
          "output_type": "stream",
          "name": "stdout",
          "text": [
            "1\n",
            "2\n",
            "3\n"
          ]
        }
      ]
    },
    {
      "cell_type": "markdown",
      "source": [
        "### 4.5 Zip() function\n",
        "-  the zip() function is a super useful tool that's used to combine multiple iterables (like lists or tuples) together, pair by pair. 🤝 It basically lets you create pairs of items from different sources, creating a new iterable of these paired tuples.\n",
        "\n",
        "- returns a zip object which is an iterator of tuples  where the first item in each passed iterator is paired together and then the second item in each assed iterator are paired together ,\n",
        "If the passed iterators ave differenrt lengths, the iterator with the least items decide the length of the new iterator"
      ],
      "metadata": {
        "id": "Y4N60MkiKqPL"
      }
    },
    {
      "cell_type": "code",
      "source": [
        "a = [1,2,3,4]\n",
        "b = [5,6,7,8]\n",
        "c = list(zip(a,b))\n",
        "l = [i+j for i,j in c]\n",
        "print(l)"
      ],
      "metadata": {
        "id": "JsG9UjmLKLiY",
        "colab": {
          "base_uri": "https://localhost:8080/"
        },
        "outputId": "06368b5f-c14d-4eab-ffb8-958de7ddea7e"
      },
      "execution_count": 52,
      "outputs": [
        {
          "output_type": "stream",
          "name": "stdout",
          "text": [
            "[6, 8, 10, 12]\n"
          ]
        }
      ]
    },
    {
      "cell_type": "markdown",
      "source": [
        "In python everything is object"
      ],
      "metadata": {
        "id": "L_fkgI8GLE9E"
      }
    },
    {
      "cell_type": "code",
      "source": [
        "L =[len,print,1]\n",
        "print(L)"
      ],
      "metadata": {
        "id": "8PQL_gqPK-7S",
        "colab": {
          "base_uri": "https://localhost:8080/"
        },
        "outputId": "c3bf6d62-05e2-497c-e8d3-825a6436fce6"
      },
      "execution_count": 53,
      "outputs": [
        {
          "output_type": "stream",
          "name": "stdout",
          "text": [
            "[<built-in function len>, <built-in function print>, 1]\n"
          ]
        }
      ]
    },
    {
      "cell_type": "markdown",
      "source": [
        "Disadvantages\n",
        "\n",
        "- slow\n",
        "- risky usage\n",
        "- eats lots of memory"
      ],
      "metadata": {
        "id": "LxMg7130LPsp"
      }
    },
    {
      "cell_type": "markdown",
      "source": [
        "### 4.6 Problems on Lists"
      ],
      "metadata": {
        "id": "MJ7U8ZEALYUM"
      }
    },
    {
      "cell_type": "markdown",
      "source": [
        "1. Create 2 lists from a given list where 1st list will contain all the odd numbers from the original list and the second list contain all the even number ."
      ],
      "metadata": {
        "id": "xKH0-VvnLdpW"
      }
    },
    {
      "cell_type": "code",
      "source": [
        "a = [1,2,3,4,5,6]\n",
        "a_odd = [i for i in a if i%2!=0]\n",
        "a_even = [i for i in a if i%2==0]\n",
        "print(a_odd)\n",
        "print(a_even)"
      ],
      "metadata": {
        "id": "Pp1Ajx-BSjf-",
        "colab": {
          "base_uri": "https://localhost:8080/"
        },
        "outputId": "a929ac82-d383-4f81-ae86-5b25cf56e1c5"
      },
      "execution_count": 54,
      "outputs": [
        {
          "output_type": "stream",
          "name": "stdout",
          "text": [
            "[1, 3, 5]\n",
            "[2, 4, 6]\n"
          ]
        }
      ]
    },
    {
      "cell_type": "markdown",
      "source": [
        "2.  How to take list as input from user"
      ],
      "metadata": {
        "id": "7MUQdOq6Lmyv"
      }
    },
    {
      "cell_type": "code",
      "source": [
        "l = input(\"enter the str \")\n",
        "e=l.split()\n",
        "print(e)"
      ],
      "metadata": {
        "id": "xEy4AGzhSxg1",
        "colab": {
          "base_uri": "https://localhost:8080/"
        },
        "outputId": "136b049a-2cf5-49d9-f5f1-861ffaad2b47"
      },
      "execution_count": 55,
      "outputs": [
        {
          "output_type": "stream",
          "name": "stdout",
          "text": [
            "enter the str hi my\n",
            "['hi', 'my']\n"
          ]
        }
      ]
    },
    {
      "cell_type": "code",
      "source": [
        "# usig number string\n",
        "l = input(\"enter numbers separated by commas\")\n",
        "my_name = [int(x) for x in l.split(\",\")]\n",
        "print(my_name)"
      ],
      "metadata": {
        "id": "SUB2hWcHTGX8",
        "colab": {
          "base_uri": "https://localhost:8080/"
        },
        "outputId": "dbe91637-e274-4ac0-94ff-f7e48c529627"
      },
      "execution_count": 57,
      "outputs": [
        {
          "output_type": "stream",
          "name": "stdout",
          "text": [
            "enter numbers separated by commas1,2,3,4,5\n",
            "[1, 2, 3, 4, 5]\n"
          ]
        }
      ]
    },
    {
      "cell_type": "markdown",
      "source": [
        " 3. Write a programme to merge two list without using the + operater"
      ],
      "metadata": {
        "id": "7rGDxAGWLobv"
      }
    },
    {
      "cell_type": "code",
      "source": [
        "# Way 1\n",
        "l1 = [1,2,3,4]\n",
        "l2 = [5,6,7,8]\n",
        "\n",
        "for i in l1:\n",
        "  l2.append(i)\n",
        "\n",
        "print(l2)"
      ],
      "metadata": {
        "id": "nKXzkLtwTlQT",
        "colab": {
          "base_uri": "https://localhost:8080/"
        },
        "outputId": "9114238d-93b6-4b01-b7ef-8ce4d287bb68"
      },
      "execution_count": 58,
      "outputs": [
        {
          "output_type": "stream",
          "name": "stdout",
          "text": [
            "[5, 6, 7, 8, 1, 2, 3, 4]\n"
          ]
        }
      ]
    },
    {
      "cell_type": "code",
      "source": [
        "# Way 2\n",
        "l1 = [1,2,3]\n",
        "l2 =[4,5,6,7]\n",
        "# unpacking\n",
        "merge = [*l1,*l2]\n",
        "print(merge)"
      ],
      "metadata": {
        "id": "MoSzJiDHT6Pc",
        "colab": {
          "base_uri": "https://localhost:8080/"
        },
        "outputId": "2ad4e0c6-ac3a-4072-be5d-9ec57dfab576"
      },
      "execution_count": 59,
      "outputs": [
        {
          "output_type": "stream",
          "name": "stdout",
          "text": [
            "[1, 2, 3, 4, 5, 6, 7]\n"
          ]
        }
      ]
    },
    {
      "cell_type": "code",
      "source": [
        "# Way 3\n",
        "l1 = [1,2,3]\n",
        "l2 =[4,5,6]\n",
        "l3 = []\n",
        "for i in l1:\n",
        "  l3.append(i)\n",
        "for i in l2:\n",
        "  l3.append(i)\n",
        "\n",
        "print(l3)"
      ],
      "metadata": {
        "id": "qU4OWzFsUNVO",
        "colab": {
          "base_uri": "https://localhost:8080/"
        },
        "outputId": "6f9aedef-bc8c-40e9-e352-6c8478503c0e"
      },
      "execution_count": 60,
      "outputs": [
        {
          "output_type": "stream",
          "name": "stdout",
          "text": [
            "[1, 2, 3, 4, 5, 6]\n"
          ]
        }
      ]
    },
    {
      "cell_type": "code",
      "source": [
        "# Way 4\n",
        "l1 = [1,2,3]\n",
        "l2 = [4,5,6]\n",
        "\n",
        "for i in l2:\n",
        "  l1.append(i)\n",
        "\n",
        "print(l1)"
      ],
      "metadata": {
        "id": "3fXcjMt3Uecz",
        "colab": {
          "base_uri": "https://localhost:8080/"
        },
        "outputId": "6ebcdbfd-8139-4109-b531-4a7073429cc8"
      },
      "execution_count": 61,
      "outputs": [
        {
          "output_type": "stream",
          "name": "stdout",
          "text": [
            "[1, 2, 3, 4, 5, 6]\n"
          ]
        }
      ]
    },
    {
      "cell_type": "markdown",
      "source": [
        "4. Write a programme to replace item with a different item if found in the list"
      ],
      "metadata": {
        "id": "IpOua3RgLxId"
      }
    },
    {
      "cell_type": "code",
      "source": [
        "# replace 3 with 300\n",
        "l1 = [1,2,3,4,5]\n",
        "\n",
        "for i in range(len(l1)):\n",
        "  if l1[i]==3:\n",
        "    l1[i] = 300\n",
        "\n",
        "print(l1)\n",
        "\n"
      ],
      "metadata": {
        "id": "cXKrzFhcUsa0",
        "colab": {
          "base_uri": "https://localhost:8080/"
        },
        "outputId": "8a17b3be-fb3f-4956-99e7-1cfdf267db99"
      },
      "execution_count": 62,
      "outputs": [
        {
          "output_type": "stream",
          "name": "stdout",
          "text": [
            "[1, 2, 300, 4, 5]\n"
          ]
        }
      ]
    },
    {
      "cell_type": "code",
      "source": [
        "l1 = [1,2,3,4,5]\n",
        "\n",
        "for i in l1:\n",
        "  if i==3:\n",
        "    index = l1.index(i)\n",
        "    l1[index] = 300\n",
        "\n",
        "print(l1)"
      ],
      "metadata": {
        "id": "htsWpr3cVdcW",
        "colab": {
          "base_uri": "https://localhost:8080/"
        },
        "outputId": "b22c1eda-9a59-4bed-eb3d-26b8f7d46f8f"
      },
      "execution_count": 63,
      "outputs": [
        {
          "output_type": "stream",
          "name": "stdout",
          "text": [
            "[1, 2, 300, 4, 5]\n"
          ]
        }
      ]
    },
    {
      "cell_type": "markdown",
      "source": [
        "5. Write a programme to check if a list is in ascending order or not"
      ],
      "metadata": {
        "id": "JE4UVh3DL28m"
      }
    },
    {
      "cell_type": "code",
      "source": [
        "# Way 1\n",
        "l1 = [1,2,2,4,5]\n",
        "\n",
        "for i in range(1,len(l1)):\n",
        "  if l1[i]<l1[i-1]:\n",
        "    print(\"Its not in ascending\")\n",
        "    break\n",
        "else:\n",
        "  print(\"Its in acsending\")\n"
      ],
      "metadata": {
        "id": "sTLuxwNjVs4m",
        "colab": {
          "base_uri": "https://localhost:8080/"
        },
        "outputId": "bf1f57d1-6066-4956-aac0-9391929c7b0b"
      },
      "execution_count": 64,
      "outputs": [
        {
          "output_type": "stream",
          "name": "stdout",
          "text": [
            "Its in acsending\n"
          ]
        }
      ]
    },
    {
      "cell_type": "code",
      "source": [
        "# Way 2\n",
        "l1 = [1,2,2,4,5]\n",
        "if l1 == sorted(l1):\n",
        "  print(\"Its in ascending\")\n",
        "else:\n",
        "  print(\"Not in ascending\")"
      ],
      "metadata": {
        "id": "6kmMl--qW21Y",
        "colab": {
          "base_uri": "https://localhost:8080/"
        },
        "outputId": "789a692b-c38e-46a1-c902-7932146d2669"
      },
      "execution_count": 65,
      "outputs": [
        {
          "output_type": "stream",
          "name": "stdout",
          "text": [
            "Its in ascending\n"
          ]
        }
      ]
    },
    {
      "cell_type": "code",
      "source": [
        "# Way 3\n",
        "l1 = [1,2,2,4,5]\n",
        "if all(l1[i]<=l1[i+1] for i in range(len(l1)-1)):\n",
        "  print(\"Its in ascending order .\")\n",
        "else:\n",
        "  print(\"Not in ascending order\")"
      ],
      "metadata": {
        "id": "5OsxOEH1W0YH",
        "colab": {
          "base_uri": "https://localhost:8080/"
        },
        "outputId": "0e5ecbcd-ab3a-4ccd-cb7d-4c73760d3bbd"
      },
      "execution_count": 66,
      "outputs": [
        {
          "output_type": "stream",
          "name": "stdout",
          "text": [
            "Its in ascending order .\n"
          ]
        }
      ]
    },
    {
      "cell_type": "markdown",
      "source": [
        "6. Write a programme to remove duplicate items from list"
      ],
      "metadata": {
        "id": "S2Fo_SnVL6H-"
      }
    },
    {
      "cell_type": "code",
      "source": [
        "# Way 1\n",
        "l1 = [1,2,2,4,4,5]\n",
        "l2 = []\n",
        "\n",
        "for i in l1:\n",
        "  if i not in l2:\n",
        "    l2.append(i)\n",
        "\n",
        "print(l2)\n",
        "\n",
        "# o(n^2)"
      ],
      "metadata": {
        "id": "yGWfEjE9Xe6f",
        "colab": {
          "base_uri": "https://localhost:8080/"
        },
        "outputId": "a7f5b11d-0220-4440-e1de-6d567ca258d2"
      },
      "execution_count": 67,
      "outputs": [
        {
          "output_type": "stream",
          "name": "stdout",
          "text": [
            "[1, 2, 4, 5]\n"
          ]
        }
      ]
    },
    {
      "cell_type": "code",
      "source": [
        "# Way 2\n",
        "\n",
        "l1 = [1,2,3,4,4,5,5]\n",
        "l1.sort()\n",
        "\n",
        "i = len(l1)-1\n",
        "while i>0:\n",
        "  if l1[i] == l1[i-1]:\n",
        "    l1.pop(i)\n",
        "  i-=1\n",
        "\n",
        "print(l1)\n",
        "\n",
        "# nlog(n)"
      ],
      "metadata": {
        "id": "m10MgRORYYZm",
        "colab": {
          "base_uri": "https://localhost:8080/"
        },
        "outputId": "03f3cc4b-ec09-4f94-9e95-a7fc370d6241"
      },
      "execution_count": 68,
      "outputs": [
        {
          "output_type": "stream",
          "name": "stdout",
          "text": [
            "[1, 2, 3, 4, 5]\n"
          ]
        }
      ]
    },
    {
      "cell_type": "code",
      "source": [
        "# way 3\n",
        "l1 = [1,2,3,4,4,5,5]\n",
        "s = set(l1)\n",
        "print(list(s))\n",
        "\n",
        "# o(n)\n"
      ],
      "metadata": {
        "id": "i86fZeRrcmKB",
        "colab": {
          "base_uri": "https://localhost:8080/"
        },
        "outputId": "0910ed0f-0c6a-43d3-ced7-bdd79180fe15"
      },
      "execution_count": 69,
      "outputs": [
        {
          "output_type": "stream",
          "name": "stdout",
          "text": [
            "[1, 2, 3, 4, 5]\n"
          ]
        }
      ]
    },
    {
      "cell_type": "code",
      "source": [
        "# if preserving order is must\n",
        "l1 = [1, 2, 2, 4, 5, 4]\n",
        "\n",
        "# Use a set to track elements we've seen, while maintaining the order from l1\n",
        "seen = set()\n",
        "l_ordered = [x for x in l1 if x not in seen and not seen.add(x)]\n",
        "print(l_ordered)\n",
        "\n",
        "# Output: [1, 2, 4, 5] - Order preserved!"
      ],
      "metadata": {
        "id": "94wtKe6udIv0",
        "colab": {
          "base_uri": "https://localhost:8080/"
        },
        "outputId": "cd68aba4-7280-42a2-ecf7-d26b01bd0098"
      },
      "execution_count": 70,
      "outputs": [
        {
          "output_type": "stream",
          "name": "stdout",
          "text": [
            "[1, 2, 4, 5]\n"
          ]
        }
      ]
    },
    {
      "cell_type": "markdown",
      "source": [
        "7. Write a programme that can convert a 2D list to 1D list"
      ],
      "metadata": {
        "id": "AHewu1kiMEdq"
      }
    },
    {
      "cell_type": "code",
      "source": [
        "a = [[1,2,3],[4,5,6]]\n",
        "b =[]\n",
        "for i in a:\n",
        "  for j in i:\n",
        "    b.append(j)\n",
        "\n",
        "print(b)"
      ],
      "metadata": {
        "id": "Zfbs-XtzXygW",
        "colab": {
          "base_uri": "https://localhost:8080/"
        },
        "outputId": "b0fa8c65-c514-4e6e-ee0e-1835e1f177bf"
      },
      "execution_count": 71,
      "outputs": [
        {
          "output_type": "stream",
          "name": "stdout",
          "text": [
            "[1, 2, 3, 4, 5, 6]\n"
          ]
        }
      ]
    },
    {
      "cell_type": "markdown",
      "source": [
        "## 5. Tuple\n",
        "\n",
        "Tuple is immutable list.\n",
        "\n",
        "   - Tuples are faster than list\n",
        "   - Immutable datatype is faster than mutable datatypes\n",
        "   - Tuples take less memory than list"
      ],
      "metadata": {
        "id": "09KBNS_van5l"
      }
    },
    {
      "cell_type": "markdown",
      "source": [
        "### 5.1 CRUD operation\n"
      ],
      "metadata": {
        "id": "WCSgMjDla1l2"
      }
    },
    {
      "cell_type": "markdown",
      "source": [
        "Creating and accessing\n"
      ],
      "metadata": {
        "id": "A2n1qhVQbBM1"
      }
    },
    {
      "cell_type": "code",
      "source": [
        "# empty tuple\n",
        "\n",
        "a = ()\n",
        "print(a,type(a))\n",
        "\n",
        "# tuple with single element\n",
        "\n",
        "b =(5,)\n",
        "print(b)\n",
        "\n",
        "# homo tuple\n",
        "c = (1,2,3)\n",
        "print(c)\n",
        "\n",
        "# hetero tuple\n",
        "d = (1,\"heero\",True,(1,2))\n",
        "print(d)\n",
        "\n",
        "# using type conversion\n",
        "e = tuple(\"delhi\")\n",
        "print(e)\n"
      ],
      "metadata": {
        "id": "m6NN3Ph1bQi0",
        "colab": {
          "base_uri": "https://localhost:8080/"
        },
        "outputId": "652daf20-b037-4d01-b4e1-fbff61cc8f97"
      },
      "execution_count": 72,
      "outputs": [
        {
          "output_type": "stream",
          "name": "stdout",
          "text": [
            "() <class 'tuple'>\n",
            "(5,)\n",
            "(1, 2, 3)\n",
            "(1, 'heero', True, (1, 2))\n",
            "('d', 'e', 'l', 'h', 'i')\n"
          ]
        }
      ]
    },
    {
      "cell_type": "code",
      "source": [
        "# Slicing and indexing\n",
        "a =(1,2,3)\n",
        "print(a[0])\n",
        "print(a[0:])\n",
        "print(a[0::2])"
      ],
      "metadata": {
        "id": "RWzycLEdk392",
        "colab": {
          "base_uri": "https://localhost:8080/"
        },
        "outputId": "ec272892-4d3e-4fe6-8a11-c813ca6895ed"
      },
      "execution_count": 73,
      "outputs": [
        {
          "output_type": "stream",
          "name": "stdout",
          "text": [
            "1\n",
            "(1, 2, 3)\n",
            "(1, 3)\n"
          ]
        }
      ]
    },
    {
      "cell_type": "markdown",
      "source": [
        "Editing and adding item"
      ],
      "metadata": {
        "id": "nKrq0iAYlfv0"
      }
    },
    {
      "cell_type": "code",
      "source": [
        "# tuples are immutable"
      ],
      "metadata": {
        "id": "9JSF624ylZ5u"
      },
      "execution_count": 74,
      "outputs": []
    },
    {
      "cell_type": "markdown",
      "source": [
        "Deleting"
      ],
      "metadata": {
        "id": "hF3Ao-Ltllwe"
      }
    },
    {
      "cell_type": "code",
      "source": [
        "a = (1,2,3)\n",
        "del a[0]\n",
        "\n",
        "#not possible immutable"
      ],
      "metadata": {
        "id": "FtCbbILyljp1",
        "colab": {
          "base_uri": "https://localhost:8080/",
          "height": 198
        },
        "outputId": "cb9b5c6d-8e6f-4f59-c474-f9bb6616b9ac"
      },
      "execution_count": 75,
      "outputs": [
        {
          "output_type": "error",
          "ename": "TypeError",
          "evalue": "'tuple' object doesn't support item deletion",
          "traceback": [
            "\u001b[0;31m---------------------------------------------------------------------------\u001b[0m",
            "\u001b[0;31mTypeError\u001b[0m                                 Traceback (most recent call last)",
            "\u001b[0;32m/tmp/ipython-input-977988323.py\u001b[0m in \u001b[0;36m<cell line: 0>\u001b[0;34m()\u001b[0m\n\u001b[1;32m      1\u001b[0m \u001b[0ma\u001b[0m \u001b[0;34m=\u001b[0m \u001b[0;34m(\u001b[0m\u001b[0;36m1\u001b[0m\u001b[0;34m,\u001b[0m\u001b[0;36m2\u001b[0m\u001b[0;34m,\u001b[0m\u001b[0;36m3\u001b[0m\u001b[0;34m)\u001b[0m\u001b[0;34m\u001b[0m\u001b[0;34m\u001b[0m\u001b[0m\n\u001b[0;32m----> 2\u001b[0;31m \u001b[0;32mdel\u001b[0m \u001b[0ma\u001b[0m\u001b[0;34m[\u001b[0m\u001b[0;36m0\u001b[0m\u001b[0;34m]\u001b[0m\u001b[0;34m\u001b[0m\u001b[0;34m\u001b[0m\u001b[0m\n\u001b[0m\u001b[1;32m      3\u001b[0m \u001b[0;34m\u001b[0m\u001b[0m\n\u001b[1;32m      4\u001b[0m \u001b[0;31m#not possible immutable\u001b[0m\u001b[0;34m\u001b[0m\u001b[0;34m\u001b[0m\u001b[0m\n",
            "\u001b[0;31mTypeError\u001b[0m: 'tuple' object doesn't support item deletion"
          ]
        }
      ]
    },
    {
      "cell_type": "code",
      "source": [
        "a = (1,2,3)\n",
        "del a\n",
        "\n",
        "# here its deleting full a"
      ],
      "metadata": {
        "id": "M4CJ5I6PlpV1"
      },
      "execution_count": 76,
      "outputs": []
    },
    {
      "cell_type": "markdown",
      "source": [
        "### 5.2 Operations on tuples"
      ],
      "metadata": {
        "id": "vs6tLwtXlxrO"
      }
    },
    {
      "cell_type": "markdown",
      "source": [
        "Arithmetic"
      ],
      "metadata": {
        "id": "OSFHrMzvl1VE"
      }
    },
    {
      "cell_type": "code",
      "source": [
        "# Addition and multiplication\n",
        "t1 = (1,2,3,4)\n",
        "t2 = (5,6,7,8)\n",
        "print(t1+t2)\n",
        "print(t1*2)"
      ],
      "metadata": {
        "id": "aTqX0tCWltS7",
        "colab": {
          "base_uri": "https://localhost:8080/"
        },
        "outputId": "2875308e-b4d9-4b06-e7d6-b60688cd3901"
      },
      "execution_count": 77,
      "outputs": [
        {
          "output_type": "stream",
          "name": "stdout",
          "text": [
            "(1, 2, 3, 4, 5, 6, 7, 8)\n",
            "(1, 2, 3, 4, 1, 2, 3, 4)\n"
          ]
        }
      ]
    },
    {
      "cell_type": "markdown",
      "source": [
        "Membership"
      ],
      "metadata": {
        "id": "bs9fGH1EmEgK"
      }
    },
    {
      "cell_type": "code",
      "source": [
        "t1 = (1,2,3,4)\n",
        "print(1 in t1)\n",
        "print(8 not in t1)"
      ],
      "metadata": {
        "id": "Hkj0ePRxl_7H",
        "colab": {
          "base_uri": "https://localhost:8080/"
        },
        "outputId": "2436e3bd-d09f-4032-9543-9e7a1c061b3c"
      },
      "execution_count": 78,
      "outputs": [
        {
          "output_type": "stream",
          "name": "stdout",
          "text": [
            "True\n",
            "True\n"
          ]
        }
      ]
    },
    {
      "cell_type": "markdown",
      "source": [
        "Iteration"
      ],
      "metadata": {
        "id": "XRH6njp0mOFb"
      }
    },
    {
      "cell_type": "code",
      "source": [
        "t1 = (1,2,3,4,5)\n",
        "for i in t1:\n",
        "  print(i)"
      ],
      "metadata": {
        "id": "neMcGFFVmI0r",
        "colab": {
          "base_uri": "https://localhost:8080/"
        },
        "outputId": "9224a08f-f91f-45bd-e148-ead59044fa04"
      },
      "execution_count": 79,
      "outputs": [
        {
          "output_type": "stream",
          "name": "stdout",
          "text": [
            "1\n",
            "2\n",
            "3\n",
            "4\n",
            "5\n"
          ]
        }
      ]
    },
    {
      "cell_type": "markdown",
      "source": [
        "### 5.3 Functions of tuples\n",
        "\n",
        "- len/sum/min/max/sorted\n",
        "- count\n",
        "- index"
      ],
      "metadata": {
        "id": "EM8IT4b3mU6q"
      }
    },
    {
      "cell_type": "code",
      "source": [
        "t1 = (1,2,3,3,4)\n",
        "\n",
        "\n",
        "print(len(t1))\n",
        "print(min(t1))\n",
        "print(max(t1))\n",
        "print(sorted(t1))\n",
        "print(t1.index(3))\n",
        "print(t1.count(3))"
      ],
      "metadata": {
        "id": "YmnIusdYmSTJ",
        "colab": {
          "base_uri": "https://localhost:8080/"
        },
        "outputId": "04059f19-28c9-4dfd-d132-e460d1cc03e0"
      },
      "execution_count": 80,
      "outputs": [
        {
          "output_type": "stream",
          "name": "stdout",
          "text": [
            "5\n",
            "1\n",
            "4\n",
            "[1, 2, 3, 3, 4]\n",
            "2\n",
            "2\n"
          ]
        }
      ]
    },
    {
      "cell_type": "markdown",
      "source": [
        "### 5.4 Special syntax"
      ],
      "metadata": {
        "id": "aT1xrTb4nFxs"
      }
    },
    {
      "cell_type": "code",
      "source": [
        "a,b,c = (1,2,3)\n",
        "print(a,b,c)"
      ],
      "metadata": {
        "id": "regim3D6mr7n",
        "colab": {
          "base_uri": "https://localhost:8080/"
        },
        "outputId": "6a543537-2d05-44ba-f1a5-876997de2fe8"
      },
      "execution_count": 81,
      "outputs": [
        {
          "output_type": "stream",
          "name": "stdout",
          "text": [
            "1 2 3\n"
          ]
        }
      ]
    },
    {
      "cell_type": "code",
      "source": [
        "a,b = [1,2]\n",
        "print(a)\n",
        "print(b)"
      ],
      "metadata": {
        "id": "VDwOTSJrnMtR",
        "colab": {
          "base_uri": "https://localhost:8080/"
        },
        "outputId": "e1d42d10-faef-4413-99bc-66fed98a76d9"
      },
      "execution_count": 82,
      "outputs": [
        {
          "output_type": "stream",
          "name": "stdout",
          "text": [
            "1\n",
            "2\n"
          ]
        }
      ]
    },
    {
      "cell_type": "code",
      "source": [
        "a,b = (2,3,4)"
      ],
      "metadata": {
        "id": "2OJuQaShnR4r",
        "colab": {
          "base_uri": "https://localhost:8080/",
          "height": 144
        },
        "outputId": "a3cf7a46-f3c7-4a0b-b55f-5a338f69964f"
      },
      "execution_count": 83,
      "outputs": [
        {
          "output_type": "error",
          "ename": "ValueError",
          "evalue": "too many values to unpack (expected 2)",
          "traceback": [
            "\u001b[0;31m---------------------------------------------------------------------------\u001b[0m",
            "\u001b[0;31mValueError\u001b[0m                                Traceback (most recent call last)",
            "\u001b[0;32m/tmp/ipython-input-4071844003.py\u001b[0m in \u001b[0;36m<cell line: 0>\u001b[0;34m()\u001b[0m\n\u001b[0;32m----> 1\u001b[0;31m \u001b[0ma\u001b[0m\u001b[0;34m,\u001b[0m\u001b[0mb\u001b[0m \u001b[0;34m=\u001b[0m \u001b[0;34m(\u001b[0m\u001b[0;36m2\u001b[0m\u001b[0;34m,\u001b[0m\u001b[0;36m3\u001b[0m\u001b[0;34m,\u001b[0m\u001b[0;36m4\u001b[0m\u001b[0;34m)\u001b[0m\u001b[0;34m\u001b[0m\u001b[0;34m\u001b[0m\u001b[0m\n\u001b[0m",
            "\u001b[0;31mValueError\u001b[0m: too many values to unpack (expected 2)"
          ]
        }
      ]
    },
    {
      "cell_type": "code",
      "source": [
        "# easy swap\n",
        "a = 1\n",
        "b =2\n",
        "a,b = b,a\n",
        "print(a,b)"
      ],
      "metadata": {
        "id": "iw0grdpwnaAu",
        "colab": {
          "base_uri": "https://localhost:8080/"
        },
        "outputId": "e4234998-68c6-4830-b8d7-2b29d4800b70"
      },
      "execution_count": 84,
      "outputs": [
        {
          "output_type": "stream",
          "name": "stdout",
          "text": [
            "2 1\n"
          ]
        }
      ]
    },
    {
      "cell_type": "code",
      "source": [
        "a,b,*other = (2,3,4,5)\n",
        "print(a,b,other)\n",
        "print(a,b,*other)\n"
      ],
      "metadata": {
        "id": "jX42la4rne3y",
        "colab": {
          "base_uri": "https://localhost:8080/"
        },
        "outputId": "4b37f8f1-5af5-4bf5-d7fd-8b1a52db6bea"
      },
      "execution_count": 85,
      "outputs": [
        {
          "output_type": "stream",
          "name": "stdout",
          "text": [
            "2 3 [4, 5]\n",
            "2 3 4 5\n"
          ]
        }
      ]
    },
    {
      "cell_type": "code",
      "source": [
        "# zipping tuples\n",
        "a = (1,2,3)\n",
        "b = (1,2,3)\n",
        "c = zip(a,b)\n",
        "tuple(c)"
      ],
      "metadata": {
        "id": "LmVFm432noY5",
        "colab": {
          "base_uri": "https://localhost:8080/"
        },
        "outputId": "f2029961-c359-4b3f-f1d1-51d957ca129c"
      },
      "execution_count": 86,
      "outputs": [
        {
          "output_type": "execute_result",
          "data": {
            "text/plain": [
              "((1, 1), (2, 2), (3, 3))"
            ]
          },
          "metadata": {},
          "execution_count": 86
        }
      ]
    },
    {
      "cell_type": "markdown",
      "source": [
        "## 6. Sets\n",
        "\n",
        "- Sets is a collection of unordered items .\n",
        "- Every element is unique and immutable .\n",
        "- But sets itself is mutable\n",
        "\n"
      ],
      "metadata": {
        "id": "EBJLfJrToC5m"
      }
    },
    {
      "cell_type": "markdown",
      "source": [
        "### 6.1 CRUD operation"
      ],
      "metadata": {
        "id": "Uj6jdNVuoY1P"
      }
    },
    {
      "cell_type": "markdown",
      "source": [
        "Creating and accesing"
      ],
      "metadata": {
        "id": "k0PV-8SmowMj"
      }
    },
    {
      "cell_type": "code",
      "source": [
        "# empty set\n",
        "a = set()\n",
        "print(a)\n",
        "\n",
        "# set 1D homo\n",
        "b = {1,2,3}\n",
        "print(b)\n",
        "\n",
        "# hetero\n",
        "c = {1,\"str\",True,(1,2)}\n",
        "print(c)\n",
        "\n",
        "# Accesing is not possible as it is unordered\n",
        "d = {1,2,3}\n",
        "e = {3,1,2}\n",
        "print(d == e)"
      ],
      "metadata": {
        "id": "OnPHxpMYn4T-",
        "colab": {
          "base_uri": "https://localhost:8080/"
        },
        "outputId": "7c8edf3c-f5ba-428f-9a7f-a65edc2409d7"
      },
      "execution_count": 87,
      "outputs": [
        {
          "output_type": "stream",
          "name": "stdout",
          "text": [
            "set()\n",
            "{1, 2, 3}\n",
            "{1, (1, 2), 'str'}\n",
            "True\n"
          ]
        }
      ]
    },
    {
      "cell_type": "markdown",
      "source": [
        "Adding new item to set"
      ],
      "metadata": {
        "id": "u8q_6pnUpZYO"
      }
    },
    {
      "cell_type": "code",
      "source": [
        "s = {1,2,3,4}\n",
        "\n",
        "# add single item\n",
        "s.add(5)\n",
        "print(s)\n",
        "\n",
        "# add mutiple item\n",
        "s.update([7,8,9])\n",
        "print(s)"
      ],
      "metadata": {
        "id": "OidZ_-f6o7Lz",
        "colab": {
          "base_uri": "https://localhost:8080/"
        },
        "outputId": "b9101391-287f-408f-ba48-8628430ae4a0"
      },
      "execution_count": 88,
      "outputs": [
        {
          "output_type": "stream",
          "name": "stdout",
          "text": [
            "{1, 2, 3, 4, 5}\n",
            "{1, 2, 3, 4, 5, 7, 8, 9}\n"
          ]
        }
      ]
    },
    {
      "cell_type": "markdown",
      "source": [
        "Delete"
      ],
      "metadata": {
        "id": "q08mPg-Ppt7E"
      }
    },
    {
      "cell_type": "code",
      "source": [
        "# del\n",
        "s = {1,2,3,4}\n",
        "# del s\n",
        "\n",
        "# discard - > doesnot throw error if not found\n",
        "s.discard(3)\n",
        "print(s)\n",
        "\n",
        "# remove - > throw error if not found\n",
        "s.remove(2)\n",
        "print(s)\n",
        "\n",
        "# pop - > random remove an item\n",
        "s.pop()\n",
        "print(s)\n",
        "\n",
        "# clear\n",
        "s.clear()\n",
        "print(s)"
      ],
      "metadata": {
        "id": "kc6UnSYQpgd_",
        "colab": {
          "base_uri": "https://localhost:8080/"
        },
        "outputId": "a1627094-df48-4d69-abe4-18f1fb50cae0"
      },
      "execution_count": 89,
      "outputs": [
        {
          "output_type": "stream",
          "name": "stdout",
          "text": [
            "{1, 2, 4}\n",
            "{1, 4}\n",
            "{4}\n",
            "set()\n"
          ]
        }
      ]
    },
    {
      "cell_type": "markdown",
      "source": [
        "### 6.2 Set Operation"
      ],
      "metadata": {
        "id": "MJC2DVS1qbhX"
      }
    },
    {
      "cell_type": "code",
      "source": [
        "a = {1,2,3,4}\n",
        "b = {3,4,5,6}\n",
        "\n",
        "# Union (|)\n",
        "print(a|b)\n",
        "\n",
        "# Intersection (&)\n",
        "print(a&b)\n",
        "\n",
        "# Difference\n",
        "print(a-b)\n",
        "print(b-a)\n",
        "\n",
        "# Symmetric difference (^) -> common shodke sab\n",
        "print(a^b)\n",
        "\n",
        "# Membership test\n",
        "print(1 in a)\n",
        "\n",
        "# iteration\n",
        "for i in a:\n",
        "  print(a)"
      ],
      "metadata": {
        "id": "Y7emuW3gp1W-",
        "colab": {
          "base_uri": "https://localhost:8080/"
        },
        "outputId": "f7af32ce-ad9a-4395-e81e-c43d0486ad9e"
      },
      "execution_count": 90,
      "outputs": [
        {
          "output_type": "stream",
          "name": "stdout",
          "text": [
            "{1, 2, 3, 4, 5, 6}\n",
            "{3, 4}\n",
            "{1, 2}\n",
            "{5, 6}\n",
            "{1, 2, 5, 6}\n",
            "True\n",
            "{1, 2, 3, 4}\n",
            "{1, 2, 3, 4}\n",
            "{1, 2, 3, 4}\n",
            "{1, 2, 3, 4}\n"
          ]
        }
      ]
    },
    {
      "cell_type": "markdown",
      "source": [
        "### 6.3 Functions in set\n",
        "\n",
        " - len/sum/min/max/sorted\n",
        " - union/update\n",
        " - intersection / intersection_update\n",
        " - difference / difference_update\n",
        " - symmetric_difference / symmetric_difference_update\n",
        " - isdisjoint/issubset/issuperset"
      ],
      "metadata": {
        "id": "4ENrq2yrqr8G"
      }
    },
    {
      "cell_type": "code",
      "source": [
        "s = {1,2,3,4,5,6}\n",
        "\n",
        "# len/sum/min/max/sorted\n",
        "\n",
        "print(len(s))\n",
        "print(sum(s))\n",
        "print(sorted(s))\n",
        "print(max(s))\n",
        "print(min(s))"
      ],
      "metadata": {
        "id": "d7dM_z5zqpch",
        "colab": {
          "base_uri": "https://localhost:8080/"
        },
        "outputId": "4a32c62d-03c7-4d77-e1c5-c7c48e964c63"
      },
      "execution_count": 91,
      "outputs": [
        {
          "output_type": "stream",
          "name": "stdout",
          "text": [
            "6\n",
            "21\n",
            "[1, 2, 3, 4, 5, 6]\n",
            "6\n",
            "1\n"
          ]
        }
      ]
    },
    {
      "cell_type": "code",
      "source": [
        "s1 = {1,2,3}\n",
        "s2 = {4,5,6}\n",
        "\n",
        "# union\n",
        "print(s1.union(s2))\n",
        "\n",
        "# update\n",
        "s1.update(s2)\n",
        "print(s1)"
      ],
      "metadata": {
        "id": "yM_9CdUwrBZe",
        "colab": {
          "base_uri": "https://localhost:8080/"
        },
        "outputId": "0779a064-2d07-4633-9290-043114d29b35"
      },
      "execution_count": 92,
      "outputs": [
        {
          "output_type": "stream",
          "name": "stdout",
          "text": [
            "{1, 2, 3, 4, 5, 6}\n",
            "{1, 2, 3, 4, 5, 6}\n"
          ]
        }
      ]
    },
    {
      "cell_type": "code",
      "source": [
        "a = {1,2,3,4}\n",
        "b = {3,4,5,6}\n",
        "\n",
        "# intersection\n",
        "print(a.intersection(b))\n",
        "\n",
        "# intersection_update\n",
        "a.intersection_update(b)\n",
        "print(a)\n"
      ],
      "metadata": {
        "id": "BCRZcFCrrGjh",
        "colab": {
          "base_uri": "https://localhost:8080/"
        },
        "outputId": "5fb76e05-1abd-4ba9-e78e-f436d48ee7ee"
      },
      "execution_count": 93,
      "outputs": [
        {
          "output_type": "stream",
          "name": "stdout",
          "text": [
            "{3, 4}\n",
            "{3, 4}\n"
          ]
        }
      ]
    },
    {
      "cell_type": "code",
      "source": [
        "# difference / difference_update\n",
        "\n",
        "a = {1,2,3,4}\n",
        "b = {3,4,5,6}\n",
        "\n",
        "# difference\n",
        "print(a.difference(b))\n",
        "\n",
        "# difference_update\n",
        "a.difference_update(b)\n",
        "print(a)"
      ],
      "metadata": {
        "id": "yw39K2uArJ9d",
        "colab": {
          "base_uri": "https://localhost:8080/"
        },
        "outputId": "831a1bb5-1849-4d00-f616-300ea3874614"
      },
      "execution_count": 94,
      "outputs": [
        {
          "output_type": "stream",
          "name": "stdout",
          "text": [
            "{1, 2}\n",
            "{1, 2}\n"
          ]
        }
      ]
    },
    {
      "cell_type": "code",
      "source": [
        "# symmetric_difference / symmetric_difference_update\n",
        "\n",
        "a = {1,2,3,4}\n",
        "b = {3,4,5,6}\n",
        "\n",
        "# symmetric_difference / symmetric_difference_update\n",
        "print(a.symmetric_difference(b))\n",
        "\n",
        "a.symmetric_difference_update(b)\n",
        "print(a)"
      ],
      "metadata": {
        "id": "9xMn-wdQrNyP",
        "colab": {
          "base_uri": "https://localhost:8080/"
        },
        "outputId": "7ccea8a9-019d-4be5-ae5f-e0fb9c2a1582"
      },
      "execution_count": 95,
      "outputs": [
        {
          "output_type": "stream",
          "name": "stdout",
          "text": [
            "{1, 2, 5, 6}\n",
            "{1, 2, 5, 6}\n"
          ]
        }
      ]
    },
    {
      "cell_type": "code",
      "source": [
        "# isdisjoint/issubset/issuperset\n",
        "\n",
        "u = {1,2,3,4,5,6}\n",
        "a = {1,2,3}\n",
        "b = {3,4,5}\n",
        "c = {4,5}\n",
        "\n",
        "print(a.isdisjoint(c))\n",
        "print(a.isdisjoint(b))\n",
        "print(u.issubset(a))\n",
        "print(a.issubset(u))\n",
        "print(u.issuperset(a))"
      ],
      "metadata": {
        "id": "8VNLMZTLrQsp",
        "colab": {
          "base_uri": "https://localhost:8080/"
        },
        "outputId": "4d646f14-fe0f-4852-bb8a-17953cfc714f"
      },
      "execution_count": 96,
      "outputs": [
        {
          "output_type": "stream",
          "name": "stdout",
          "text": [
            "True\n",
            "False\n",
            "False\n",
            "True\n",
            "True\n"
          ]
        }
      ]
    },
    {
      "cell_type": "markdown",
      "source": [
        "### 6.4 Frozenset\n",
        "Immutable version of python set object"
      ],
      "metadata": {
        "id": "f-n8yaKqrV4_"
      }
    },
    {
      "cell_type": "markdown",
      "source": [
        "Creation of frozenset"
      ],
      "metadata": {
        "id": "GhghDbdcrlCE"
      }
    },
    {
      "cell_type": "code",
      "source": [
        "a = frozenset([1,2,3])\n",
        "b = frozenset([3,4,5])\n",
        "print(a)\n",
        "print(a|b)\n",
        "print(a.symmetric_difference(b))\n",
        "\n",
        "# works all read function"
      ],
      "metadata": {
        "id": "8flu4JKyrhri",
        "colab": {
          "base_uri": "https://localhost:8080/"
        },
        "outputId": "ebc4713a-fae2-4500-e979-20f153f9f2d6"
      },
      "execution_count": 97,
      "outputs": [
        {
          "output_type": "stream",
          "name": "stdout",
          "text": [
            "frozenset({1, 2, 3})\n",
            "frozenset({1, 2, 3, 4, 5})\n",
            "frozenset({1, 2, 4, 5})\n"
          ]
        }
      ]
    },
    {
      "cell_type": "code",
      "source": [
        "# 2D\n",
        "a = frozenset([1,2,frozenset([1,2,3])])\n",
        "print(a)"
      ],
      "metadata": {
        "id": "ocqgluryrqL8",
        "colab": {
          "base_uri": "https://localhost:8080/"
        },
        "outputId": "d6bde356-680c-4efa-aa84-acf42388db1e"
      },
      "execution_count": 98,
      "outputs": [
        {
          "output_type": "stream",
          "name": "stdout",
          "text": [
            "frozenset({frozenset({1, 2, 3}), 1, 2})\n"
          ]
        }
      ]
    },
    {
      "cell_type": "markdown",
      "source": [
        "### 6.5 Set comprehension"
      ],
      "metadata": {
        "id": "OCZodbZtsN8H"
      }
    },
    {
      "cell_type": "code",
      "source": [
        "s = {i for i in range(1,11)}\n",
        "print(s)"
      ],
      "metadata": {
        "id": "T-fYR_ERsDVW",
        "colab": {
          "base_uri": "https://localhost:8080/"
        },
        "outputId": "b9a4b6a9-7405-4f2a-d779-4d7aefa5f90d"
      },
      "execution_count": 99,
      "outputs": [
        {
          "output_type": "stream",
          "name": "stdout",
          "text": [
            "{1, 2, 3, 4, 5, 6, 7, 8, 9, 10}\n"
          ]
        }
      ]
    },
    {
      "cell_type": "markdown",
      "source": [
        "## 7. Dictionary\n",
        "\n",
        "- Dictionary is a key value pair of items .\n",
        "- key are unique and immutable\n",
        "- Dictionary is mutable"
      ],
      "metadata": {
        "id": "RmTqzd2SsaHj"
      }
    },
    {
      "cell_type": "markdown",
      "source": [
        "### 7.1 CRUD operation"
      ],
      "metadata": {
        "id": "eHwg4zlGX7SR"
      }
    },
    {
      "cell_type": "markdown",
      "source": [
        "Creating dictionary"
      ],
      "metadata": {
        "id": "xz9qA9dkZhLJ"
      }
    },
    {
      "cell_type": "code",
      "source": [
        "# empty dictionary\n",
        "a = {}\n",
        "print(a)\n",
        "\n",
        "# 1D dictionary\n",
        "b = {\"name\":\"yash\",\"age\":22,\"gender\":\"male\"}\n",
        "print(b)\n",
        "\n",
        "# hetero\n",
        "c = {\"name\":\"yash\",2:\"hi\",(1,2):[1,2]}\n",
        "print(c)\n",
        "\n",
        "d = {\"name\":\"yash\",\n",
        "     \"age\":22,\n",
        "     \"gender\":\"male\",\n",
        "     \"subject\":{\n",
        "         \"dsa\":89,\n",
        "         \"maths\":76,\n",
        "         \"english\":87\n",
        "     }\n",
        "     }\n",
        "\n",
        "print(d)"
      ],
      "metadata": {
        "id": "AQaaJfY7sTaV",
        "colab": {
          "base_uri": "https://localhost:8080/"
        },
        "outputId": "79efad6d-e1c0-4cf4-967f-80baecd770b4"
      },
      "execution_count": 100,
      "outputs": [
        {
          "output_type": "stream",
          "name": "stdout",
          "text": [
            "{}\n",
            "{'name': 'yash', 'age': 22, 'gender': 'male'}\n",
            "{'name': 'yash', 2: 'hi', (1, 2): [1, 2]}\n",
            "{'name': 'yash', 'age': 22, 'gender': 'male', 'subject': {'dsa': 89, 'maths': 76, 'english': 87}}\n"
          ]
        }
      ]
    },
    {
      "cell_type": "code",
      "source": [
        "# using dictionary\n",
        "a = dict([(1,1),(2,2)])\n",
        "print(a)"
      ],
      "metadata": {
        "id": "NgQjrossYSWf",
        "colab": {
          "base_uri": "https://localhost:8080/"
        },
        "outputId": "9fe5713f-0776-44d0-ee98-bf30560a1dff"
      },
      "execution_count": 101,
      "outputs": [
        {
          "output_type": "stream",
          "name": "stdout",
          "text": [
            "{1: 1, 2: 2}\n"
          ]
        }
      ]
    },
    {
      "cell_type": "code",
      "source": [
        "# duplicate keys are not allowed\n",
        "a = {\"name\":\"heero\",\"name\":\"zero\"}\n",
        "print(a)"
      ],
      "metadata": {
        "id": "UXaptTtzZRUu",
        "colab": {
          "base_uri": "https://localhost:8080/"
        },
        "outputId": "42644452-534f-42b1-868d-f89f5acf3dbd"
      },
      "execution_count": 102,
      "outputs": [
        {
          "output_type": "stream",
          "name": "stdout",
          "text": [
            "{'name': 'zero'}\n"
          ]
        }
      ]
    },
    {
      "cell_type": "markdown",
      "source": [
        "Accessing items"
      ],
      "metadata": {
        "id": "kFetZ94YZbzY"
      }
    },
    {
      "cell_type": "code",
      "source": [
        "my_dict = {\"name\":\"yash\",\"age\":22,\"gender\":\"male\"}\n",
        "\n",
        "# using []\n",
        "print(my_dict[\"name\"])\n",
        "print(my_dict[\"age\"])\n",
        "print(my_dict[\"gender\"])\n",
        "\n",
        "# using get\n",
        "print(my_dict.get(\"name\"))\n",
        "print(my_dict.get(\"age\"))\n",
        "print(my_dict.get(\"gender\"))\n",
        "# agar heero ni milta to value ajaegi 1\n",
        "print(my_dict.get(\"heero\",1))"
      ],
      "metadata": {
        "id": "caLn20rjZaA4",
        "colab": {
          "base_uri": "https://localhost:8080/"
        },
        "outputId": "35587b0c-f7c0-40bb-96cf-dfa24bc4d56a"
      },
      "execution_count": 103,
      "outputs": [
        {
          "output_type": "stream",
          "name": "stdout",
          "text": [
            "yash\n",
            "22\n",
            "male\n",
            "yash\n",
            "22\n",
            "male\n",
            "1\n"
          ]
        }
      ]
    },
    {
      "cell_type": "markdown",
      "source": [
        "Adding key value pair and Editing key value pair"
      ],
      "metadata": {
        "id": "bkXuXn2Iaj1m"
      }
    },
    {
      "cell_type": "code",
      "source": [
        "s = {\n",
        "    \"name\":\"yash\",\n",
        "    \"age\":22,\n",
        "    \"gender\":\"male\",\n",
        "    \"sujects\":{\n",
        "        \"dsa\":78,\n",
        "        \"eng\":89,\n",
        "        \"maths\":98\n",
        "    }\n",
        "}\n",
        "\n",
        "print(s)\n",
        "s[\"nationality\"] = \"Indian\"\n",
        "s[\"sujects\"][\"hindi\"]=100\n",
        "s[\"sujects\"][\"dsa\"]=100\n",
        "print(s)"
      ],
      "metadata": {
        "id": "cNaAf05dZuGT",
        "colab": {
          "base_uri": "https://localhost:8080/"
        },
        "outputId": "e1106296-625f-491d-802f-3d61b11694d0"
      },
      "execution_count": 104,
      "outputs": [
        {
          "output_type": "stream",
          "name": "stdout",
          "text": [
            "{'name': 'yash', 'age': 22, 'gender': 'male', 'sujects': {'dsa': 78, 'eng': 89, 'maths': 98}}\n",
            "{'name': 'yash', 'age': 22, 'gender': 'male', 'sujects': {'dsa': 100, 'eng': 89, 'maths': 98, 'hindi': 100}, 'nationality': 'Indian'}\n"
          ]
        }
      ]
    },
    {
      "cell_type": "markdown",
      "source": [
        "Removing key value pair"
      ],
      "metadata": {
        "id": "emUOI0fXbC9Q"
      }
    },
    {
      "cell_type": "code",
      "source": [
        "s = {\n",
        "    \"name\":\"yash\",\n",
        "    \"age\":22,\n",
        "    \"gender\":\"male\",\n",
        "    \"sujects\":{\n",
        "        \"dsa\":78,\n",
        "        \"eng\":89,\n",
        "        \"maths\":98\n",
        "    },\n",
        "    \"sem\":5,\n",
        "\n",
        "\n",
        "}\n",
        "\n",
        "# pop()\n",
        "s.pop('gender')\n",
        "print(s)\n",
        "\n",
        "# popitem() ->dlt last key value pair\n",
        "s.popitem()\n",
        "print(s)\n",
        "\n",
        "# del\n",
        "del s[\"name\"]\n",
        "print(s)\n",
        "\n",
        "# clear\n",
        "s.clear()\n",
        "print(s)\n"
      ],
      "metadata": {
        "id": "eD1G6DdGa2yS",
        "colab": {
          "base_uri": "https://localhost:8080/"
        },
        "outputId": "848c6b2a-0bc6-4dcf-b987-a9b5999745f7"
      },
      "execution_count": 105,
      "outputs": [
        {
          "output_type": "stream",
          "name": "stdout",
          "text": [
            "{'name': 'yash', 'age': 22, 'sujects': {'dsa': 78, 'eng': 89, 'maths': 98}, 'sem': 5}\n",
            "{'name': 'yash', 'age': 22, 'sujects': {'dsa': 78, 'eng': 89, 'maths': 98}}\n",
            "{'age': 22, 'sujects': {'dsa': 78, 'eng': 89, 'maths': 98}}\n",
            "{}\n"
          ]
        }
      ]
    },
    {
      "cell_type": "markdown",
      "source": [
        "### 7.2 Operation on dictionary"
      ],
      "metadata": {
        "id": "AaClQiP5cH7m"
      }
    },
    {
      "cell_type": "markdown",
      "source": [
        "Membership"
      ],
      "metadata": {
        "id": "-HeqcF8ycMyh"
      }
    },
    {
      "cell_type": "code",
      "source": [
        "s = {\n",
        "    \"name\":\"yash\",\n",
        "    \"age\":22,\n",
        "    \"gender\":\"male\",\n",
        "    \"sujects\":{\n",
        "        \"dsa\":78,\n",
        "        \"eng\":89,\n",
        "        \"maths\":98\n",
        "    }\n",
        "}\n",
        "\n",
        "print(\"name\" in s)\n",
        "print(\"sem\" not in s)"
      ],
      "metadata": {
        "id": "tk_I1wDMbZ_V",
        "colab": {
          "base_uri": "https://localhost:8080/"
        },
        "outputId": "3fa0297a-c3bc-411d-b2bb-aa9deb334666"
      },
      "execution_count": 106,
      "outputs": [
        {
          "output_type": "stream",
          "name": "stdout",
          "text": [
            "True\n",
            "True\n"
          ]
        }
      ]
    },
    {
      "cell_type": "markdown",
      "source": [
        "Iteration"
      ],
      "metadata": {
        "id": "LpT8O9wvcWvA"
      }
    },
    {
      "cell_type": "code",
      "source": [
        "s = {\n",
        "    \"name\":\"yash\",\n",
        "    \"age\":22,\n",
        "    \"gender\":\"male\",\n",
        "    \"sujects\":{\n",
        "        \"dsa\":78,\n",
        "        \"eng\":89,\n",
        "        \"maths\":98\n",
        "    }\n",
        "}\n",
        "\n",
        "for i in s:\n",
        "  print(i,s[i])"
      ],
      "metadata": {
        "id": "FPdT8OGdcRma",
        "colab": {
          "base_uri": "https://localhost:8080/"
        },
        "outputId": "2b9d8a10-e00c-41c3-ce24-3b461ab46a64"
      },
      "execution_count": 107,
      "outputs": [
        {
          "output_type": "stream",
          "name": "stdout",
          "text": [
            "name yash\n",
            "age 22\n",
            "gender male\n",
            "sujects {'dsa': 78, 'eng': 89, 'maths': 98}\n"
          ]
        }
      ]
    },
    {
      "cell_type": "markdown",
      "source": [
        "### 7.3 Dictionary Functions\n",
        "\n",
        "- len/sorted/min/max(baisis of ascii)\n",
        "- items/keys/values\n",
        "- update"
      ],
      "metadata": {
        "id": "dbUpmjuqcmwQ"
      }
    },
    {
      "cell_type": "code",
      "source": [
        "# len/sorted/min/max(baisis of ascii)\n",
        "s = {\n",
        "    \"name\":\"yash\",\n",
        "    \"age\":22,\n",
        "    \"gender\":\"male\",\n",
        "    \"sujects\":{\n",
        "        \"dsa\":78,\n",
        "        \"eng\":89,\n",
        "        \"maths\":98\n",
        "    }\n",
        "}\n",
        "\n",
        "print(len(s))\n",
        "print(sorted(s))\n",
        "print(min(s))\n",
        "print(max(s))"
      ],
      "metadata": {
        "id": "MGhA7qogcge1",
        "colab": {
          "base_uri": "https://localhost:8080/"
        },
        "outputId": "030dc761-9f18-41d2-ba33-e723d0d99eac"
      },
      "execution_count": 108,
      "outputs": [
        {
          "output_type": "stream",
          "name": "stdout",
          "text": [
            "4\n",
            "['age', 'gender', 'name', 'sujects']\n",
            "age\n",
            "sujects\n"
          ]
        }
      ]
    },
    {
      "cell_type": "code",
      "source": [
        "# items/keys/values\n",
        "s = {\n",
        "    \"name\":\"yash\",\n",
        "    \"age\":22,\n",
        "    \"gender\":\"male\",\n",
        "    \"sujects\":{\n",
        "        \"dsa\":78,\n",
        "        \"eng\":89,\n",
        "        \"maths\":98\n",
        "    }\n",
        "}\n",
        "\n",
        "print(s.items())\n",
        "print(s.keys())\n",
        "print(s.values())"
      ],
      "metadata": {
        "id": "kzw82deJdUqR",
        "colab": {
          "base_uri": "https://localhost:8080/"
        },
        "outputId": "ed417abf-3bd1-4692-af74-16d52a7b1cf9"
      },
      "execution_count": 109,
      "outputs": [
        {
          "output_type": "stream",
          "name": "stdout",
          "text": [
            "dict_items([('name', 'yash'), ('age', 22), ('gender', 'male'), ('sujects', {'dsa': 78, 'eng': 89, 'maths': 98})])\n",
            "dict_keys(['name', 'age', 'gender', 'sujects'])\n",
            "dict_values(['yash', 22, 'male', {'dsa': 78, 'eng': 89, 'maths': 98}])\n"
          ]
        }
      ]
    },
    {
      "cell_type": "code",
      "source": [
        "# update -> update the values\n",
        "\n",
        "s1={1:1,2:2,3:3}\n",
        "s2 = {2:3,3:4,6:8}\n",
        "\n",
        "# s1 is updated with values of s2\n",
        "s1.update(s2)\n",
        "print(s1)\n",
        "\n"
      ],
      "metadata": {
        "id": "mKt8cWDBdcVx",
        "colab": {
          "base_uri": "https://localhost:8080/"
        },
        "outputId": "a3420dfe-da13-45b7-bdc6-80a6264de745"
      },
      "execution_count": 110,
      "outputs": [
        {
          "output_type": "stream",
          "name": "stdout",
          "text": [
            "{1: 1, 2: 3, 3: 4, 6: 8}\n"
          ]
        }
      ]
    },
    {
      "cell_type": "markdown",
      "source": [
        "### 7.4 Dictionary Comprehension"
      ],
      "metadata": {
        "id": "3avemwTyeJfc"
      }
    },
    {
      "cell_type": "markdown",
      "source": [
        "         {key:value for vars in iterable}"
      ],
      "metadata": {
        "id": "jtu1JAmTeOi5"
      }
    },
    {
      "cell_type": "code",
      "source": [
        "# Print 1st 10 numbers and their squares\n",
        "{i:i**2 for i in range(1,11)}"
      ],
      "metadata": {
        "id": "YoKzYm93d9UK",
        "colab": {
          "base_uri": "https://localhost:8080/"
        },
        "outputId": "c9039e07-c436-455f-de02-43b9306ddf2f"
      },
      "execution_count": 111,
      "outputs": [
        {
          "output_type": "execute_result",
          "data": {
            "text/plain": [
              "{1: 1, 2: 4, 3: 9, 4: 16, 5: 25, 6: 36, 7: 49, 8: 64, 9: 81, 10: 100}"
            ]
          },
          "metadata": {},
          "execution_count": 111
        }
      ]
    },
    {
      "cell_type": "code",
      "source": [
        "# Using existing dict\n",
        "distances = {'delhi':1000,'mumbai':2000,'banglore':3000}\n",
        "\n",
        "{i:j/1000 for (i,j) in distances.items()}"
      ],
      "metadata": {
        "id": "kjmxQ1VseZdD",
        "colab": {
          "base_uri": "https://localhost:8080/"
        },
        "outputId": "395cc7c8-2877-4eaf-a865-d0ec8b5bfaaa"
      },
      "execution_count": 112,
      "outputs": [
        {
          "output_type": "execute_result",
          "data": {
            "text/plain": [
              "{'delhi': 1.0, 'mumbai': 2.0, 'banglore': 3.0}"
            ]
          },
          "metadata": {},
          "execution_count": 112
        }
      ]
    },
    {
      "cell_type": "code",
      "source": [
        "# zip\n",
        "days = ['Sunday','Monday','Tuesday','Wednesday','Thursday','Friday','Saturday']\n",
        "temp_C = [30.5,32.6,31.8,33.4,29.8,30.2,29.9]\n",
        "dict(zip(days,temp_C))"
      ],
      "metadata": {
        "id": "tKsmtZQJeriy",
        "colab": {
          "base_uri": "https://localhost:8080/"
        },
        "outputId": "b381c5c7-8e67-4400-ff48-75c2ff961fce"
      },
      "execution_count": 113,
      "outputs": [
        {
          "output_type": "execute_result",
          "data": {
            "text/plain": [
              "{'Sunday': 30.5,\n",
              " 'Monday': 32.6,\n",
              " 'Tuesday': 31.8,\n",
              " 'Wednesday': 33.4,\n",
              " 'Thursday': 29.8,\n",
              " 'Friday': 30.2,\n",
              " 'Saturday': 29.9}"
            ]
          },
          "metadata": {},
          "execution_count": 113
        }
      ]
    },
    {
      "cell_type": "code",
      "source": [
        "# using if condition\n",
        "products = {'phone':10,'laptop':0,'charger':32,'tablet': 0}\n",
        "{i:j for i,j in products.items() if j>0}"
      ],
      "metadata": {
        "id": "wfr9_x1Ke4GE",
        "colab": {
          "base_uri": "https://localhost:8080/"
        },
        "outputId": "578149ef-8c5a-4b31-de26-d8b7cae7ccdd"
      },
      "execution_count": 114,
      "outputs": [
        {
          "output_type": "execute_result",
          "data": {
            "text/plain": [
              "{'phone': 10, 'charger': 32}"
            ]
          },
          "metadata": {},
          "execution_count": 114
        }
      ]
    },
    {
      "cell_type": "code",
      "source": [
        "# Nested comprehension\n",
        "# print tables of numbers from 2 to 4\n",
        "{i:{j:i*j for j in range(1,11)} for i in range(2,5)}"
      ],
      "metadata": {
        "id": "GU4TJbwmfCCu",
        "colab": {
          "base_uri": "https://localhost:8080/"
        },
        "outputId": "d77f8f16-a07e-41c1-d7a1-80784faff8e3"
      },
      "execution_count": 115,
      "outputs": [
        {
          "output_type": "execute_result",
          "data": {
            "text/plain": [
              "{2: {1: 2, 2: 4, 3: 6, 4: 8, 5: 10, 6: 12, 7: 14, 8: 16, 9: 18, 10: 20},\n",
              " 3: {1: 3, 2: 6, 3: 9, 4: 12, 5: 15, 6: 18, 7: 21, 8: 24, 9: 27, 10: 30},\n",
              " 4: {1: 4, 2: 8, 3: 12, 4: 16, 5: 20, 6: 24, 7: 28, 8: 32, 9: 36, 10: 40}}"
            ]
          },
          "metadata": {},
          "execution_count": 115
        }
      ]
    },
    {
      "cell_type": "markdown",
      "source": [
        "## 8. Functions"
      ],
      "metadata": {
        "id": "WWT0UfM9fgij"
      }
    },
    {
      "cell_type": "markdown",
      "source": [
        "### 8.1 Creating Functions"
      ],
      "metadata": {
        "id": "y-Srni0ieBNy"
      }
    },
    {
      "cell_type": "markdown",
      "source": [
        "Creating function with docstring"
      ],
      "metadata": {
        "id": "hTMtYfrIfmR_"
      }
    },
    {
      "cell_type": "code",
      "source": [
        "# Abstraction and decomposition (chunks)\n",
        "\n",
        "def iseven(a):\n",
        "  \"\"\"\n",
        "  This function return whether the function is even or not\n",
        "  input - any valid integer\n",
        "  output - even or odd\n",
        "  created on 19 sep\n",
        "  \"\"\"\n",
        "  if type(a) == int:\n",
        "    return a%2==0\n",
        "\n",
        "print(iseven(8))\n",
        "print(iseven(7))"
      ],
      "metadata": {
        "id": "5crgApCDfYkM",
        "colab": {
          "base_uri": "https://localhost:8080/"
        },
        "outputId": "3a8a7095-9fbd-41d9-c4ce-53fc729b0247"
      },
      "execution_count": 116,
      "outputs": [
        {
          "output_type": "stream",
          "name": "stdout",
          "text": [
            "True\n",
            "False\n"
          ]
        }
      ]
    },
    {
      "cell_type": "code",
      "source": [
        "for i in range(1,11):\n",
        "  if iseven(i):\n",
        "    print(i)"
      ],
      "metadata": {
        "id": "CnJj-hB7dPwE",
        "colab": {
          "base_uri": "https://localhost:8080/"
        },
        "outputId": "52388cec-8fe9-4733-d5dd-59e570689d3b"
      },
      "execution_count": 117,
      "outputs": [
        {
          "output_type": "stream",
          "name": "stdout",
          "text": [
            "2\n",
            "4\n",
            "6\n",
            "8\n",
            "10\n"
          ]
        }
      ]
    },
    {
      "cell_type": "code",
      "source": [
        "# docstring\n",
        "iseven.__doc__"
      ],
      "metadata": {
        "id": "Om_04VIydYk6",
        "colab": {
          "base_uri": "https://localhost:8080/",
          "height": 53
        },
        "outputId": "474219e4-c86f-43d8-9808-2bcfae9f5a75"
      },
      "execution_count": 118,
      "outputs": [
        {
          "output_type": "execute_result",
          "data": {
            "text/plain": [
              "'\\n  This function return whether the function is even or not\\n  input - any valid integer\\n  output - even or odd\\n  created on 19 sep\\n  '"
            ],
            "application/vnd.google.colaboratory.intrinsic+json": {
              "type": "string"
            }
          },
          "metadata": {},
          "execution_count": 118
        }
      ]
    },
    {
      "cell_type": "markdown",
      "source": [
        "### 8.2 Argument and parameter"
      ],
      "metadata": {
        "id": "yprOhmDrd7H7"
      }
    },
    {
      "cell_type": "markdown",
      "source": [
        "- A parameter is a variable in a function definition,\n",
        "-  while an argument is the actual value passed to that function when it's called."
      ],
      "metadata": {
        "id": "wVV2-nkoeRtw"
      }
    },
    {
      "cell_type": "markdown",
      "source": [
        "    Types of arguments\n",
        "\n",
        "    1. Default argument\n",
        "    2. Positional argument\n",
        "    3. keyword argument"
      ],
      "metadata": {
        "id": "GL56L-61eWul"
      }
    },
    {
      "cell_type": "code",
      "source": [
        "# Default argument\n",
        "def add(a=1,b=2):\n",
        "  return a+b\n",
        "\n",
        "print(add(7,9))\n",
        "print(add(3))"
      ],
      "metadata": {
        "id": "zeqdRcDOdiAE",
        "colab": {
          "base_uri": "https://localhost:8080/"
        },
        "outputId": "fbc752bc-73f2-4a4f-e0a9-c39a0a11a522"
      },
      "execution_count": 119,
      "outputs": [
        {
          "output_type": "stream",
          "name": "stdout",
          "text": [
            "16\n",
            "5\n"
          ]
        }
      ]
    },
    {
      "cell_type": "code",
      "source": [
        "# Positional argument\n",
        "def sub(a,b):\n",
        "  return a-b\n",
        "\n",
        "print(sub(5,6))\n",
        "# take position first will come first last will come last"
      ],
      "metadata": {
        "id": "ThtAxAc0e1ly",
        "colab": {
          "base_uri": "https://localhost:8080/"
        },
        "outputId": "ea8bfde9-29cf-41e8-f1a6-aeef2feddf00"
      },
      "execution_count": 120,
      "outputs": [
        {
          "output_type": "stream",
          "name": "stdout",
          "text": [
            "-1\n"
          ]
        }
      ]
    },
    {
      "cell_type": "code",
      "source": [
        "# Keyword argument\n",
        "def mul(a,b):\n",
        "  return a*b\n",
        "\n",
        "mul(b=4,a=3)"
      ],
      "metadata": {
        "id": "hJmEFaVjfEhg",
        "colab": {
          "base_uri": "https://localhost:8080/"
        },
        "outputId": "a0cb1980-be29-4322-9a37-6b9655873b9b"
      },
      "execution_count": 121,
      "outputs": [
        {
          "output_type": "execute_result",
          "data": {
            "text/plain": [
              "12"
            ]
          },
          "metadata": {},
          "execution_count": 121
        }
      ]
    },
    {
      "cell_type": "markdown",
      "source": [
        "#### ***args** vs ****kwargs** :\n",
        "\n",
        "- are special keywords used to pass the variable length of argument of function.\n"
      ],
      "metadata": {
        "id": "LInPe-oQfZfP"
      }
    },
    {
      "cell_type": "markdown",
      "source": [
        "#### *args\n",
        "- allows us to pass variable length non keyword argument .\n",
        "- eg :- print()\n",
        "- converts to tuples inside"
      ],
      "metadata": {
        "id": "sxAJ8NO1gCNz"
      }
    },
    {
      "cell_type": "code",
      "source": [
        "def multiply(*args):\n",
        "  product = 1\n",
        "  for i in args:\n",
        "    product*=i\n",
        "  return product\n",
        "\n",
        "multiply(7,8,10)"
      ],
      "metadata": {
        "id": "0G80m1VBfTyw",
        "colab": {
          "base_uri": "https://localhost:8080/"
        },
        "outputId": "56ec9025-fc51-40be-c6b0-751ad4d8ef82"
      },
      "execution_count": 122,
      "outputs": [
        {
          "output_type": "execute_result",
          "data": {
            "text/plain": [
              "560"
            ]
          },
          "metadata": {},
          "execution_count": 122
        }
      ]
    },
    {
      "cell_type": "markdown",
      "source": [
        "****kwargs**\n",
        "\n",
        "- allow us to pass variable length of keyword argument\n",
        "- keyword argument - key value pair argument .\n",
        "- convert to dictionaey inside .\n"
      ],
      "metadata": {
        "id": "WslrXrT0aqSO"
      }
    },
    {
      "cell_type": "code",
      "source": [
        "def display(**kwargs):\n",
        "  for (key,value) in kwargs.items():\n",
        "    print(key,\"->\",value)\n",
        "\n",
        "display(india = \"delhi\",srilanka = \"colombo\")\n"
      ],
      "metadata": {
        "id": "0wsOW8uIg4JV",
        "colab": {
          "base_uri": "https://localhost:8080/"
        },
        "outputId": "9f31f0e4-b0c1-4e57-d839-c82e67c6980c"
      },
      "execution_count": 123,
      "outputs": [
        {
          "output_type": "stream",
          "name": "stdout",
          "text": [
            "india -> delhi\n",
            "srilanka -> colombo\n"
          ]
        }
      ]
    },
    {
      "cell_type": "markdown",
      "source": [
        "Points to remember using args and kwargs\n",
        "\n",
        "- order matter (normal -> *args -> **kwargs)\n",
        "- The word 'args' and 'kwargs' are just conventions , you can use any names of your choice"
      ],
      "metadata": {
        "id": "bWmYgYYXbzn4"
      }
    },
    {
      "cell_type": "markdown",
      "source": [
        "#### Without return statement"
      ],
      "metadata": {
        "id": "G72DB6NSb6dH"
      }
    },
    {
      "cell_type": "code",
      "source": [
        "# return ni hoga to default return none return hoga\n",
        "L = [1,2,3,4]\n",
        "\n",
        "print(L.append(4))\n",
        "print(L)"
      ],
      "metadata": {
        "id": "qz-dNMy9bpmR",
        "colab": {
          "base_uri": "https://localhost:8080/"
        },
        "outputId": "f4cb37a8-002c-4b4d-fd54-c932a229f7ae"
      },
      "execution_count": 124,
      "outputs": [
        {
          "output_type": "stream",
          "name": "stdout",
          "text": [
            "None\n",
            "[1, 2, 3, 4, 4]\n"
          ]
        }
      ]
    },
    {
      "cell_type": "markdown",
      "source": [
        "###8.3 Scopes"
      ],
      "metadata": {
        "id": "hin_k4iscOug"
      }
    },
    {
      "cell_type": "markdown",
      "source": [
        "#### Variable Scope"
      ],
      "metadata": {
        "id": "c5Y7C9POcULL"
      }
    },
    {
      "cell_type": "code",
      "source": [
        "def g():\n",
        "  #local Scope\n",
        "  print(x)\n",
        "  print(x+1)\n",
        "\n",
        "#global\n",
        "x = 5\n",
        "g()\n",
        "print(x)"
      ],
      "metadata": {
        "id": "8yye89SicHIu",
        "colab": {
          "base_uri": "https://localhost:8080/"
        },
        "outputId": "de5d05bb-f066-4adf-81af-eee23ae4cd00"
      },
      "execution_count": 125,
      "outputs": [
        {
          "output_type": "stream",
          "name": "stdout",
          "text": [
            "5\n",
            "6\n",
            "5\n"
          ]
        }
      ]
    },
    {
      "cell_type": "code",
      "source": [
        "def g():\n",
        "    x = 1\n",
        "    x+=1\n",
        "    print(x)\n",
        "\n",
        "x = 5\n",
        "g()\n",
        "print(x)"
      ],
      "metadata": {
        "id": "BMXMfNBEcvcC",
        "colab": {
          "base_uri": "https://localhost:8080/"
        },
        "outputId": "24ce1b34-61d6-45e5-a84e-41a49011d589"
      },
      "execution_count": 126,
      "outputs": [
        {
          "output_type": "stream",
          "name": "stdout",
          "text": [
            "2\n",
            "5\n"
          ]
        }
      ]
    },
    {
      "cell_type": "code",
      "source": [
        "def h():\n",
        "  x+=1\n",
        "\n",
        "x = 5\n",
        "print(x)\n",
        "h()"
      ],
      "metadata": {
        "id": "syIZuGqhdXCf",
        "colab": {
          "base_uri": "https://localhost:8080/",
          "height": 323
        },
        "outputId": "bb495eb1-bc3f-4534-aae8-f075f5cc4205"
      },
      "execution_count": 127,
      "outputs": [
        {
          "output_type": "stream",
          "name": "stdout",
          "text": [
            "5\n"
          ]
        },
        {
          "output_type": "error",
          "ename": "UnboundLocalError",
          "evalue": "cannot access local variable 'x' where it is not associated with a value",
          "traceback": [
            "\u001b[0;31m---------------------------------------------------------------------------\u001b[0m",
            "\u001b[0;31mUnboundLocalError\u001b[0m                         Traceback (most recent call last)",
            "\u001b[0;32m/tmp/ipython-input-1774980953.py\u001b[0m in \u001b[0;36m<cell line: 0>\u001b[0;34m()\u001b[0m\n\u001b[1;32m      4\u001b[0m \u001b[0mx\u001b[0m \u001b[0;34m=\u001b[0m \u001b[0;36m5\u001b[0m\u001b[0;34m\u001b[0m\u001b[0;34m\u001b[0m\u001b[0m\n\u001b[1;32m      5\u001b[0m \u001b[0mprint\u001b[0m\u001b[0;34m(\u001b[0m\u001b[0mx\u001b[0m\u001b[0;34m)\u001b[0m\u001b[0;34m\u001b[0m\u001b[0;34m\u001b[0m\u001b[0m\n\u001b[0;32m----> 6\u001b[0;31m \u001b[0mh\u001b[0m\u001b[0;34m(\u001b[0m\u001b[0;34m)\u001b[0m\u001b[0;34m\u001b[0m\u001b[0;34m\u001b[0m\u001b[0m\n\u001b[0m",
            "\u001b[0;32m/tmp/ipython-input-1774980953.py\u001b[0m in \u001b[0;36mh\u001b[0;34m()\u001b[0m\n\u001b[1;32m      1\u001b[0m \u001b[0;32mdef\u001b[0m \u001b[0mh\u001b[0m\u001b[0;34m(\u001b[0m\u001b[0;34m)\u001b[0m\u001b[0;34m:\u001b[0m\u001b[0;34m\u001b[0m\u001b[0;34m\u001b[0m\u001b[0m\n\u001b[0;32m----> 2\u001b[0;31m   \u001b[0mx\u001b[0m\u001b[0;34m+=\u001b[0m\u001b[0;36m1\u001b[0m\u001b[0;34m\u001b[0m\u001b[0;34m\u001b[0m\u001b[0m\n\u001b[0m\u001b[1;32m      3\u001b[0m \u001b[0;34m\u001b[0m\u001b[0m\n\u001b[1;32m      4\u001b[0m \u001b[0mx\u001b[0m \u001b[0;34m=\u001b[0m \u001b[0;36m5\u001b[0m\u001b[0;34m\u001b[0m\u001b[0;34m\u001b[0m\u001b[0m\n\u001b[1;32m      5\u001b[0m \u001b[0mprint\u001b[0m\u001b[0;34m(\u001b[0m\u001b[0mx\u001b[0m\u001b[0;34m)\u001b[0m\u001b[0;34m\u001b[0m\u001b[0;34m\u001b[0m\u001b[0m\n",
            "\u001b[0;31mUnboundLocalError\u001b[0m: cannot access local variable 'x' where it is not associated with a value"
          ]
        }
      ]
    },
    {
      "cell_type": "markdown",
      "source": [
        "Using global variable we can access global x"
      ],
      "metadata": {
        "id": "6eAZRuACdksF"
      }
    },
    {
      "cell_type": "code",
      "source": [
        "def h():\n",
        "  global x\n",
        "  x +=3\n",
        "\n",
        "x = 5\n",
        "h()\n",
        "print(x)"
      ],
      "metadata": {
        "id": "Fnh_Yo7ndgR9",
        "colab": {
          "base_uri": "https://localhost:8080/"
        },
        "outputId": "e46fc433-a3dd-4508-de87-23f658e167b0"
      },
      "execution_count": 128,
      "outputs": [
        {
          "output_type": "stream",
          "name": "stdout",
          "text": [
            "8\n"
          ]
        }
      ]
    },
    {
      "cell_type": "code",
      "source": [
        "def f():\n",
        "  print(\"inside function f \")\n",
        "  def h():\n",
        "    print(\"inside function h\")\n",
        "  h()\n",
        "\n",
        "f()"
      ],
      "metadata": {
        "id": "uWoAq7X6dziM",
        "colab": {
          "base_uri": "https://localhost:8080/"
        },
        "outputId": "d7652620-b716-49a1-93f3-43bb08769f79"
      },
      "execution_count": 129,
      "outputs": [
        {
          "output_type": "stream",
          "name": "stdout",
          "text": [
            "inside function f \n",
            "inside function h\n"
          ]
        }
      ]
    },
    {
      "cell_type": "code",
      "source": [
        "def g(x):\n",
        "  def h():\n",
        "    x = 'abc'\n",
        "  x = x+1\n",
        "  h()\n",
        "  return x\n",
        "\n",
        "x = 3\n",
        "z = g(x)\n",
        "print(x)\n",
        "print(z)"
      ],
      "metadata": {
        "id": "v5675dg6eBD9",
        "colab": {
          "base_uri": "https://localhost:8080/"
        },
        "outputId": "44549348-ce45-4fcb-f170-5caba7384f14"
      },
      "execution_count": 130,
      "outputs": [
        {
          "output_type": "stream",
          "name": "stdout",
          "text": [
            "3\n",
            "4\n"
          ]
        }
      ]
    },
    {
      "cell_type": "markdown",
      "source": [
        "### 8.4 Function ares first class citizen"
      ],
      "metadata": {
        "id": "XNphfhCre8qz"
      }
    },
    {
      "cell_type": "markdown",
      "source": [
        "         Python mai jo jo datatype kar skte hain wo sab functions kar skte hain"
      ],
      "metadata": {
        "id": "N-2u5dBNfCZb"
      }
    },
    {
      "cell_type": "code",
      "source": [
        "def square(x):\n",
        "  return x**2\n",
        "\n",
        "print(square)\n",
        "print(type(square))\n",
        "print(id(square))"
      ],
      "metadata": {
        "id": "NJcxQ-ldewc1",
        "colab": {
          "base_uri": "https://localhost:8080/"
        },
        "outputId": "b95ca2f2-94e7-4a92-ef59-cd62a277a7d7"
      },
      "execution_count": 131,
      "outputs": [
        {
          "output_type": "stream",
          "name": "stdout",
          "text": [
            "<function square at 0x7c2f5dbf6d40>\n",
            "<class 'function'>\n",
            "136542878133568\n"
          ]
        }
      ]
    },
    {
      "cell_type": "code",
      "source": [
        "# reassign\n",
        "x = square\n",
        "x(6)"
      ],
      "metadata": {
        "id": "ZL6ut4dkfNwL",
        "colab": {
          "base_uri": "https://localhost:8080/"
        },
        "outputId": "673c07e4-1979-4aca-b1fd-fd0d6b874d3a"
      },
      "execution_count": 132,
      "outputs": [
        {
          "output_type": "execute_result",
          "data": {
            "text/plain": [
              "36"
            ]
          },
          "metadata": {},
          "execution_count": 132
        }
      ]
    },
    {
      "cell_type": "code",
      "source": [
        "# del a funcrion\n",
        "del square\n",
        "print(square(7))"
      ],
      "metadata": {
        "id": "-p9wCW1KfgCZ",
        "colab": {
          "base_uri": "https://localhost:8080/",
          "height": 180
        },
        "outputId": "40d23281-3b33-461f-f163-642a6f3e11a7"
      },
      "execution_count": 133,
      "outputs": [
        {
          "output_type": "error",
          "ename": "NameError",
          "evalue": "name 'square' is not defined",
          "traceback": [
            "\u001b[0;31m---------------------------------------------------------------------------\u001b[0m",
            "\u001b[0;31mNameError\u001b[0m                                 Traceback (most recent call last)",
            "\u001b[0;32m/tmp/ipython-input-4167397600.py\u001b[0m in \u001b[0;36m<cell line: 0>\u001b[0;34m()\u001b[0m\n\u001b[1;32m      1\u001b[0m \u001b[0;31m# del a funcrion\u001b[0m\u001b[0;34m\u001b[0m\u001b[0;34m\u001b[0m\u001b[0m\n\u001b[1;32m      2\u001b[0m \u001b[0;32mdel\u001b[0m \u001b[0msquare\u001b[0m\u001b[0;34m\u001b[0m\u001b[0;34m\u001b[0m\u001b[0m\n\u001b[0;32m----> 3\u001b[0;31m \u001b[0mprint\u001b[0m\u001b[0;34m(\u001b[0m\u001b[0msquare\u001b[0m\u001b[0;34m(\u001b[0m\u001b[0;36m7\u001b[0m\u001b[0;34m)\u001b[0m\u001b[0;34m)\u001b[0m\u001b[0;34m\u001b[0m\u001b[0;34m\u001b[0m\u001b[0m\n\u001b[0m",
            "\u001b[0;31mNameError\u001b[0m: name 'square' is not defined"
          ]
        }
      ]
    },
    {
      "cell_type": "code",
      "source": [
        "# Storing\n",
        "L = [1,2,3,square]\n",
        "L\n"
      ],
      "metadata": {
        "id": "xXQtF_JKfnwx",
        "colab": {
          "base_uri": "https://localhost:8080/",
          "height": 180
        },
        "outputId": "651341cf-c382-48a8-d247-9047c58ff951"
      },
      "execution_count": 134,
      "outputs": [
        {
          "output_type": "error",
          "ename": "NameError",
          "evalue": "name 'square' is not defined",
          "traceback": [
            "\u001b[0;31m---------------------------------------------------------------------------\u001b[0m",
            "\u001b[0;31mNameError\u001b[0m                                 Traceback (most recent call last)",
            "\u001b[0;32m/tmp/ipython-input-2552879416.py\u001b[0m in \u001b[0;36m<cell line: 0>\u001b[0;34m()\u001b[0m\n\u001b[1;32m      1\u001b[0m \u001b[0;31m# Storing\u001b[0m\u001b[0;34m\u001b[0m\u001b[0;34m\u001b[0m\u001b[0m\n\u001b[0;32m----> 2\u001b[0;31m \u001b[0mL\u001b[0m \u001b[0;34m=\u001b[0m \u001b[0;34m[\u001b[0m\u001b[0;36m1\u001b[0m\u001b[0;34m,\u001b[0m\u001b[0;36m2\u001b[0m\u001b[0;34m,\u001b[0m\u001b[0;36m3\u001b[0m\u001b[0;34m,\u001b[0m\u001b[0msquare\u001b[0m\u001b[0;34m]\u001b[0m\u001b[0;34m\u001b[0m\u001b[0;34m\u001b[0m\u001b[0m\n\u001b[0m\u001b[1;32m      3\u001b[0m \u001b[0mL\u001b[0m\u001b[0;34m\u001b[0m\u001b[0;34m\u001b[0m\u001b[0m\n",
            "\u001b[0;31mNameError\u001b[0m: name 'square' is not defined"
          ]
        }
      ]
    },
    {
      "cell_type": "code",
      "source": [
        "s = {square}\n",
        "print(s)"
      ],
      "metadata": {
        "id": "LmoVgWQhfzP2",
        "colab": {
          "base_uri": "https://localhost:8080/",
          "height": 162
        },
        "outputId": "db45da41-d3db-4f0c-de5e-c0192d50638f"
      },
      "execution_count": 135,
      "outputs": [
        {
          "output_type": "error",
          "ename": "NameError",
          "evalue": "name 'square' is not defined",
          "traceback": [
            "\u001b[0;31m---------------------------------------------------------------------------\u001b[0m",
            "\u001b[0;31mNameError\u001b[0m                                 Traceback (most recent call last)",
            "\u001b[0;32m/tmp/ipython-input-2180223154.py\u001b[0m in \u001b[0;36m<cell line: 0>\u001b[0;34m()\u001b[0m\n\u001b[0;32m----> 1\u001b[0;31m \u001b[0ms\u001b[0m \u001b[0;34m=\u001b[0m \u001b[0;34m{\u001b[0m\u001b[0msquare\u001b[0m\u001b[0;34m}\u001b[0m\u001b[0;34m\u001b[0m\u001b[0;34m\u001b[0m\u001b[0m\n\u001b[0m\u001b[1;32m      2\u001b[0m \u001b[0mprint\u001b[0m\u001b[0;34m(\u001b[0m\u001b[0ms\u001b[0m\u001b[0;34m)\u001b[0m\u001b[0;34m\u001b[0m\u001b[0;34m\u001b[0m\u001b[0m\n",
            "\u001b[0;31mNameError\u001b[0m: name 'square' is not defined"
          ]
        }
      ]
    },
    {
      "cell_type": "code",
      "source": [
        "# returning a function\n",
        "def f():\n",
        "  def x(a,b):\n",
        "    return a+b\n",
        "  return x\n",
        "\n",
        "val = f()(3,4)\n",
        "print(val)"
      ],
      "metadata": {
        "id": "OgTFQGssf3lD",
        "colab": {
          "base_uri": "https://localhost:8080/"
        },
        "outputId": "73fa1474-9d6f-46dc-c9d7-1d81e4b8b832"
      },
      "execution_count": 136,
      "outputs": [
        {
          "output_type": "stream",
          "name": "stdout",
          "text": [
            "7\n"
          ]
        }
      ]
    },
    {
      "cell_type": "code",
      "source": [
        "# function as argument\n",
        "def func_a():\n",
        "  print(\"inside a \")\n",
        "\n",
        "def func_b(z):\n",
        "  print(\"inside function b\")\n",
        "  return z()\n",
        "\n",
        "print(func_b(func_a))\n"
      ],
      "metadata": {
        "id": "PoU1AJBlgUKt",
        "colab": {
          "base_uri": "https://localhost:8080/"
        },
        "outputId": "970d3d87-6671-4d29-f9f7-e0c5bc8745e0"
      },
      "execution_count": 137,
      "outputs": [
        {
          "output_type": "stream",
          "name": "stdout",
          "text": [
            "inside function b\n",
            "inside a \n",
            "None\n"
          ]
        }
      ]
    },
    {
      "cell_type": "markdown",
      "source": [
        "Benefit of Function\n",
        "\n",
        "- Code modularity\n",
        "- Code readability\n",
        "- Code reusability"
      ],
      "metadata": {
        "id": "zHGQkOc2g_eB"
      }
    },
    {
      "cell_type": "markdown",
      "source": [
        "### 8.5 Lambda function\n",
        "\n",
        "- is a small anonymous function .\n",
        "- a lambda function can take any number of argument but can only have one expression"
      ],
      "metadata": {
        "id": "L2ROPqdshGpb"
      }
    },
    {
      "cell_type": "code",
      "source": [
        "# x -> x**2\n",
        "square = lambda x:x**2\n",
        "print(square(5))\n"
      ],
      "metadata": {
        "id": "iNzQ2I-mg2tV",
        "colab": {
          "base_uri": "https://localhost:8080/"
        },
        "outputId": "737bd15f-a486-4942-885e-f3101bd44936"
      },
      "execution_count": 138,
      "outputs": [
        {
          "output_type": "stream",
          "name": "stdout",
          "text": [
            "25\n"
          ]
        }
      ]
    },
    {
      "cell_type": "code",
      "source": [
        "# x,y -> x+y\n",
        "sumof = lambda x,y : x+y\n",
        "print(sumof(7,8))"
      ],
      "metadata": {
        "id": "kOtinh_GhmGt",
        "colab": {
          "base_uri": "https://localhost:8080/"
        },
        "outputId": "4c0f2237-91d2-4def-bc01-7c8363c6be8b"
      },
      "execution_count": 139,
      "outputs": [
        {
          "output_type": "stream",
          "name": "stdout",
          "text": [
            "15\n"
          ]
        }
      ]
    },
    {
      "cell_type": "markdown",
      "source": [
        "Difference between Function and Lambda Function\n",
        "   \n",
        "- No name\n",
        "- lambda has no retrun value (infact returns a function)\n",
        "- lambda is written in 1 line\n",
        "- not reusable"
      ],
      "metadata": {
        "id": "LKdGeACzh_Yv"
      }
    },
    {
      "cell_type": "code",
      "source": [
        "# check if a string has 'a'\n",
        "\n",
        "check = lambda str: 'a' in str\n",
        "check(\"raja\")"
      ],
      "metadata": {
        "id": "hBONyNmqh5nO",
        "colab": {
          "base_uri": "https://localhost:8080/"
        },
        "outputId": "de258212-e6b4-4ed7-b696-9727a0090a35"
      },
      "execution_count": 140,
      "outputs": [
        {
          "output_type": "execute_result",
          "data": {
            "text/plain": [
              "True"
            ]
          },
          "metadata": {},
          "execution_count": 140
        }
      ]
    },
    {
      "cell_type": "code",
      "source": [
        "#  Odd or even\n",
        "is_odd_even = lambda x:\"even\" if x%2==0 else \"odd\"\n",
        "is_odd_even(7)\n",
        "is_odd_even(8)"
      ],
      "metadata": {
        "id": "GatjNs_SiNhZ",
        "colab": {
          "base_uri": "https://localhost:8080/",
          "height": 35
        },
        "outputId": "b4719f8c-1dba-41c4-998d-1961a1f917cc"
      },
      "execution_count": 141,
      "outputs": [
        {
          "output_type": "execute_result",
          "data": {
            "text/plain": [
              "'even'"
            ],
            "application/vnd.google.colaboratory.intrinsic+json": {
              "type": "string"
            }
          },
          "metadata": {},
          "execution_count": 141
        }
      ]
    },
    {
      "cell_type": "markdown",
      "source": [
        "- Lambda functions are used with high order function"
      ],
      "metadata": {
        "id": "jJ-5JNuYif83"
      }
    },
    {
      "cell_type": "markdown",
      "source": [
        "### 8.6 High Order Function\n",
        "\n",
        "-  return a function and takes input as function is called HOF"
      ],
      "metadata": {
        "id": "MZ-QcfAhil7a"
      }
    },
    {
      "cell_type": "code",
      "source": [
        "def square(num):\n",
        " return num**2\n",
        "\n",
        "def transform(L,square):\n",
        "  output = []\n",
        "  for i in L:\n",
        "    output.append(square(i))\n",
        "\n",
        "  return output\n",
        "\n",
        "print(transform([1,2,3,4],square))\n",
        "transform([1,2,3,4],lambda x:\"even\" if x%2==0 else \"odd\")\n"
      ],
      "metadata": {
        "id": "YDql8oyIiYpd",
        "colab": {
          "base_uri": "https://localhost:8080/"
        },
        "outputId": "acab16ad-2e61-4fb3-c358-24b964d32ab8"
      },
      "execution_count": 142,
      "outputs": [
        {
          "output_type": "stream",
          "name": "stdout",
          "text": [
            "[1, 4, 9, 16]\n"
          ]
        },
        {
          "output_type": "execute_result",
          "data": {
            "text/plain": [
              "['odd', 'even', 'odd', 'even']"
            ]
          },
          "metadata": {},
          "execution_count": 142
        }
      ]
    },
    {
      "cell_type": "markdown",
      "source": [
        "#### Map() function"
      ],
      "metadata": {
        "id": "l343WtRnjtTp"
      }
    },
    {
      "cell_type": "code",
      "source": [
        "# square of item of list\n",
        "L = [1,2,3,4]\n",
        "print(list(map(lambda x: x**2,L)))"
      ],
      "metadata": {
        "id": "AmEt2dUwjC10",
        "colab": {
          "base_uri": "https://localhost:8080/"
        },
        "outputId": "23f04622-b870-43b0-d21c-ce920618861e"
      },
      "execution_count": 143,
      "outputs": [
        {
          "output_type": "stream",
          "name": "stdout",
          "text": [
            "[1, 4, 9, 16]\n"
          ]
        }
      ]
    },
    {
      "cell_type": "code",
      "source": [
        "# odd even labelling\n",
        "L = [1,2,3,4,7,5,6]\n",
        "print(list(map(lambda x:\"even\" if x%2==0 else \"odd\",L)))"
      ],
      "metadata": {
        "id": "Uqb5qIInj-k2",
        "colab": {
          "base_uri": "https://localhost:8080/"
        },
        "outputId": "6b03d901-51b7-4e95-baee-e6738678efa5"
      },
      "execution_count": 144,
      "outputs": [
        {
          "output_type": "stream",
          "name": "stdout",
          "text": [
            "['odd', 'even', 'odd', 'even', 'odd', 'odd', 'even']\n"
          ]
        }
      ]
    },
    {
      "cell_type": "code",
      "source": [
        "# fetch name from list\n",
        "d = [{\n",
        "    'name':'Rahul',\n",
        "    'age':45,\n",
        "    'gender':'male'\n",
        "},{\n",
        "    'name':'Reeta',\n",
        "    'age':35,\n",
        "    'gender':\"female\"\n",
        "},{\n",
        "    'name':\"Gajodhar\",\n",
        "    'age':23,\n",
        "    'gender':'male'\n",
        "}]\n",
        "\n",
        "print(list(map(lambda x:x['name'],d)))"
      ],
      "metadata": {
        "id": "tIHQe8ZHkmOp",
        "colab": {
          "base_uri": "https://localhost:8080/"
        },
        "outputId": "9b90b420-18fc-493b-ac27-6d67a69a3ed0"
      },
      "execution_count": 145,
      "outputs": [
        {
          "output_type": "stream",
          "name": "stdout",
          "text": [
            "['Rahul', 'Reeta', 'Gajodhar']\n"
          ]
        }
      ]
    },
    {
      "cell_type": "markdown",
      "source": [
        "#### Filter() function"
      ],
      "metadata": {
        "id": "buBaIK0flgT_"
      }
    },
    {
      "cell_type": "code",
      "source": [
        "# number greater than 5\n",
        "L = [1,2,3,4,5,6,7,8,9]\n",
        "print(tuple(filter(lambda x:x>5,L)))"
      ],
      "metadata": {
        "id": "hM1URG6llTv5",
        "colab": {
          "base_uri": "https://localhost:8080/"
        },
        "outputId": "a03c891a-7f32-4c8d-e71e-a78926bdd1f0"
      },
      "execution_count": 146,
      "outputs": [
        {
          "output_type": "stream",
          "name": "stdout",
          "text": [
            "(6, 7, 8, 9)\n"
          ]
        }
      ]
    },
    {
      "cell_type": "code",
      "source": [
        "# fetch fruits starts with a\n",
        "fruits = ['apple','guava','cherry']\n",
        "\n",
        "tuple(filter(lambda x:x.startswith('a'),fruits))"
      ],
      "metadata": {
        "id": "g-AbAWy_lyqe",
        "colab": {
          "base_uri": "https://localhost:8080/"
        },
        "outputId": "edb67347-0d1e-41ef-eece-4298d17a386c"
      },
      "execution_count": 147,
      "outputs": [
        {
          "output_type": "execute_result",
          "data": {
            "text/plain": [
              "('apple',)"
            ]
          },
          "metadata": {},
          "execution_count": 147
        }
      ]
    },
    {
      "cell_type": "markdown",
      "source": [
        "#### Reduce()"
      ],
      "metadata": {
        "id": "ojMiJimtmDrQ"
      }
    },
    {
      "cell_type": "code",
      "source": [
        "# sum of all items\n",
        "import functools\n",
        "\n",
        "functools.reduce(lambda x,y:x+y,[1,2,3,4])"
      ],
      "metadata": {
        "id": "R8iPyLI5mBr7",
        "colab": {
          "base_uri": "https://localhost:8080/"
        },
        "outputId": "813eb9c7-182b-4409-a46d-ca3dd7680903"
      },
      "execution_count": 148,
      "outputs": [
        {
          "output_type": "execute_result",
          "data": {
            "text/plain": [
              "10"
            ]
          },
          "metadata": {},
          "execution_count": 148
        }
      ]
    },
    {
      "cell_type": "code",
      "source": [
        "# find minimum\n",
        "functools.reduce(lambda x,y:x if x<y else y , [2,1,4,8,6,5])"
      ],
      "metadata": {
        "id": "X9s0pfbCmLUH",
        "colab": {
          "base_uri": "https://localhost:8080/"
        },
        "outputId": "61ea594c-e28e-42b9-b355-2e96f58bbcb8"
      },
      "execution_count": 149,
      "outputs": [
        {
          "output_type": "execute_result",
          "data": {
            "text/plain": [
              "1"
            ]
          },
          "metadata": {},
          "execution_count": 149
        }
      ]
    },
    {
      "cell_type": "markdown",
      "source": [
        "## 9. Object Oriented Programming"
      ],
      "metadata": {
        "id": "XcN30xOkm2TW"
      }
    },
    {
      "cell_type": "code",
      "source": [
        "L = [1,2,3]\n",
        "L.upper()"
      ],
      "metadata": {
        "id": "lIyUaUv3moDF",
        "colab": {
          "base_uri": "https://localhost:8080/",
          "height": 162
        },
        "outputId": "cc710cf8-1c6d-42cf-b049-a679a9b6b344"
      },
      "execution_count": 150,
      "outputs": [
        {
          "output_type": "error",
          "ename": "AttributeError",
          "evalue": "'list' object has no attribute 'upper'",
          "traceback": [
            "\u001b[0;31m---------------------------------------------------------------------------\u001b[0m",
            "\u001b[0;31mAttributeError\u001b[0m                            Traceback (most recent call last)",
            "\u001b[0;32m/tmp/ipython-input-2270488342.py\u001b[0m in \u001b[0;36m<cell line: 0>\u001b[0;34m()\u001b[0m\n\u001b[1;32m      1\u001b[0m \u001b[0mL\u001b[0m \u001b[0;34m=\u001b[0m \u001b[0;34m[\u001b[0m\u001b[0;36m1\u001b[0m\u001b[0;34m,\u001b[0m\u001b[0;36m2\u001b[0m\u001b[0;34m,\u001b[0m\u001b[0;36m3\u001b[0m\u001b[0;34m]\u001b[0m\u001b[0;34m\u001b[0m\u001b[0;34m\u001b[0m\u001b[0m\n\u001b[0;32m----> 2\u001b[0;31m \u001b[0mL\u001b[0m\u001b[0;34m.\u001b[0m\u001b[0mupper\u001b[0m\u001b[0;34m(\u001b[0m\u001b[0;34m)\u001b[0m\u001b[0;34m\u001b[0m\u001b[0;34m\u001b[0m\u001b[0m\n\u001b[0m",
            "\u001b[0;31mAttributeError\u001b[0m: 'list' object has no attribute 'upper'"
          ]
        }
      ]
    },
    {
      "cell_type": "code",
      "source": [
        "s = \"hello\"\n",
        "s.append(7)"
      ],
      "metadata": {
        "id": "7qxsGzRjnBNt",
        "colab": {
          "base_uri": "https://localhost:8080/",
          "height": 162
        },
        "outputId": "4802ec7b-e858-4201-9135-da4e1cfe1025"
      },
      "execution_count": 151,
      "outputs": [
        {
          "output_type": "error",
          "ename": "AttributeError",
          "evalue": "'str' object has no attribute 'append'",
          "traceback": [
            "\u001b[0;31m---------------------------------------------------------------------------\u001b[0m",
            "\u001b[0;31mAttributeError\u001b[0m                            Traceback (most recent call last)",
            "\u001b[0;32m/tmp/ipython-input-3409285386.py\u001b[0m in \u001b[0;36m<cell line: 0>\u001b[0;34m()\u001b[0m\n\u001b[1;32m      1\u001b[0m \u001b[0ms\u001b[0m \u001b[0;34m=\u001b[0m \u001b[0;34m\"hello\"\u001b[0m\u001b[0;34m\u001b[0m\u001b[0;34m\u001b[0m\u001b[0m\n\u001b[0;32m----> 2\u001b[0;31m \u001b[0ms\u001b[0m\u001b[0;34m.\u001b[0m\u001b[0mappend\u001b[0m\u001b[0;34m(\u001b[0m\u001b[0;36m7\u001b[0m\u001b[0;34m)\u001b[0m\u001b[0;34m\u001b[0m\u001b[0;34m\u001b[0m\u001b[0m\n\u001b[0m",
            "\u001b[0;31mAttributeError\u001b[0m: 'str' object has no attribute 'append'"
          ]
        }
      ]
    },
    {
      "cell_type": "markdown",
      "source": [
        "Everything in python is object"
      ],
      "metadata": {
        "id": "JgUZHYc0nHoc"
      }
    },
    {
      "cell_type": "markdown",
      "source": [
        "### 9.1. Class"
      ],
      "metadata": {
        "id": "dmiPHnjgnVz_"
      }
    },
    {
      "cell_type": "markdown",
      "source": [
        "- Classes is a template blueprint of an object .\n",
        "   - Consists of :\n",
        "     - data/attribute/propety\n",
        "     - function/behaviour\n",
        "\n",
        "- There are two types of class\n",
        "  - User-defined classes\n",
        "  - Built in classes\n"
      ],
      "metadata": {
        "id": "9AZvS_8mng0s"
      }
    },
    {
      "cell_type": "code",
      "source": [
        "L = [1,2,3]\n",
        "print(type(L))"
      ],
      "metadata": {
        "id": "YHmy5dHTnFoT",
        "colab": {
          "base_uri": "https://localhost:8080/"
        },
        "outputId": "017579d9-937c-4a65-fa6c-dd0f50a3fbc0"
      },
      "execution_count": 152,
      "outputs": [
        {
          "output_type": "stream",
          "name": "stdout",
          "text": [
            "<class 'list'>\n"
          ]
        }
      ]
    },
    {
      "cell_type": "markdown",
      "source": [
        "### 9.2 Objects"
      ],
      "metadata": {
        "id": "paxDqo0boQ8F"
      }
    },
    {
      "cell_type": "markdown",
      "source": [
        "- Object is a instance of a class\n",
        "- Syntax to create an object.\n",
        "\n",
        "          object_name = Class_name()\n",
        "\n",
        "     "
      ],
      "metadata": {
        "id": "IP25JOAToWuG"
      }
    },
    {
      "cell_type": "code",
      "source": [
        "L = list()\n",
        "print(L)"
      ],
      "metadata": {
        "id": "E8oRYkn2n8yu",
        "colab": {
          "base_uri": "https://localhost:8080/"
        },
        "outputId": "ccec941a-d7eb-45e9-b073-1e802646e352"
      },
      "execution_count": 153,
      "outputs": [
        {
          "output_type": "stream",
          "name": "stdout",
          "text": [
            "[]\n"
          ]
        }
      ]
    },
    {
      "cell_type": "markdown",
      "source": [
        "#### Programme of an Atm Machine"
      ],
      "metadata": {
        "id": "noZxdY-1oz0G"
      }
    },
    {
      "cell_type": "code",
      "source": [
        "# PascalCase\n",
        "class Atm:\n",
        "  def __init__(self):\n",
        "    self.pin = \"\"\n",
        "    self.balance = 0\n",
        "    # print(\"Welcome to constructor\")\n",
        "    self.menu()\n",
        "\n",
        "  def menu(self):\n",
        "    user_input = input(\"\"\"\n",
        "    Hi ! how can i help you ?\n",
        "    1. Press 1 to create pin.\n",
        "    2. Press 2 to create password.\n",
        "    3. Press 3 to check balance\n",
        "    4. Press 4 to withdraw\n",
        "    5. Anything else to exit\n",
        "    \"\"\")\n",
        "    if user_input == \"1\":\n",
        "      self.create_pin()\n",
        "\n",
        "    elif user_input == \"2\":\n",
        "      self.change_pin()\n",
        "\n",
        "    elif user_input == \"3\":\n",
        "      self.check_balance()\n",
        "\n",
        "    elif user_input == \"4\":\n",
        "      self.withdraw_balance()\n",
        "\n",
        "    else:\n",
        "      exit()\n",
        "\n",
        "\n",
        "  def create_pin(self):\n",
        "    user_pin = input(\"Enter your pin dear :) \")\n",
        "    self.pin = user_pin\n",
        "\n",
        "    user_bal = int(input(\"Enter your balance dear :) \"))\n",
        "    self.balance = user_bal\n",
        "    self.menu()\n",
        "\n",
        "  def change_pin(self):\n",
        "    old_pin = input(\"Enter old pin .\")\n",
        "    if old_pin == self.pin:\n",
        "      new_pin = input(\"Enter new pin .\")\n",
        "      self.pin = new_pin\n",
        "      print(\"Old pinn changes sucessfully.....\")\n",
        "      self.menu()\n",
        "    else:\n",
        "      print(\"Wrong Pinn you can't change pin .\")\n",
        "      self.menu()\n",
        "\n",
        "  def check_balance(self):\n",
        "    user_pin = input(\"Enter the pin . \")\n",
        "    if user_pin == self.pin :\n",
        "      print(\"Your balance is :\",self.balance)\n",
        "      self.menu()\n",
        "    else:\n",
        "      print(\"Wrong pin ...\")\n",
        "      self.menu()\n",
        "\n",
        "\n",
        "  def withdraw_balance(self):\n",
        "    user_pin = input(\"Enter your pin .\")\n",
        "    if user_pin == self.pin:\n",
        "      amount = int(input(\"Enter amount ....\"))\n",
        "      if amount<self.balance:\n",
        "        self.balance-=amount\n",
        "        print(\"Withdrawl of amount is \",amount)\n",
        "        print(\"Remaining balance is \",self.balance)\n",
        "        self.menu()\n",
        "      else:\n",
        "        print(\"Insufficient money .\")\n",
        "        self.menu()\n",
        "\n",
        "    else:\n",
        "      print(\"Wrong pin .\")\n",
        "      self.menu()"
      ],
      "metadata": {
        "id": "uT4dDja3oxs8"
      },
      "execution_count": 154,
      "outputs": []
    },
    {
      "cell_type": "code",
      "source": [
        "obj = Atm()\n",
        "obj.pin\n",
        "obj.balance"
      ],
      "metadata": {
        "id": "KDGC5aijpTeq",
        "colab": {
          "base_uri": "https://localhost:8080/"
        },
        "outputId": "079ed57c-846e-4eea-9d02-883153e71f6b"
      },
      "execution_count": 155,
      "outputs": [
        {
          "name": "stdout",
          "output_type": "stream",
          "text": [
            "\n",
            "    Hi ! how can i help you ?\n",
            "    1. Press 1 to create pin.\n",
            "    2. Press 2 to create password.\n",
            "    3. Press 3 to check balance\n",
            "    4. Press 4 to withdraw\n",
            "    5. Anything else to exit\n",
            "    5\n"
          ]
        },
        {
          "output_type": "execute_result",
          "data": {
            "text/plain": [
              "0"
            ]
          },
          "metadata": {},
          "execution_count": 155
        }
      ]
    },
    {
      "cell_type": "markdown",
      "source": [
        "- Functions inside the class are called methods"
      ],
      "metadata": {
        "id": "5Smq83oevOLt"
      }
    },
    {
      "cell_type": "code",
      "source": [
        "l = [1,2,3]\n",
        "len(l) #function\n",
        "l.append(5) #method\n",
        "l"
      ],
      "metadata": {
        "id": "zkN43gRepVaF"
      },
      "execution_count": null,
      "outputs": []
    },
    {
      "cell_type": "markdown",
      "source": [
        "class diagram\n",
        "\n",
        "     + -> public\n",
        "     - -> private"
      ],
      "metadata": {
        "id": "25Goey9RvehO"
      }
    },
    {
      "cell_type": "markdown",
      "source": [
        "#### Magic Functions or aka dunder function\n",
        "\n",
        "- special method with superpower"
      ],
      "metadata": {
        "id": "A05Q_3DSviJi"
      }
    },
    {
      "cell_type": "markdown",
      "source": [
        "**init**"
      ],
      "metadata": {
        "id": "oGtMcL2swpR6"
      }
    },
    {
      "cell_type": "code",
      "source": [
        "# Example __init__\n",
        "class Person:\n",
        "  def __init__(self):\n",
        "    print(\"I will execute automatically\")\n",
        "\n",
        "p1 = Person()"
      ],
      "metadata": {
        "id": "myDIenSmvdVK",
        "colab": {
          "base_uri": "https://localhost:8080/"
        },
        "outputId": "9f865abb-45c8-4ce4-9753-e2ac676bd3d2"
      },
      "execution_count": 2,
      "outputs": [
        {
          "output_type": "stream",
          "name": "stdout",
          "text": [
            "I will execute automatically\n"
          ]
        }
      ]
    },
    {
      "cell_type": "markdown",
      "source": [
        "- **self**"
      ],
      "metadata": {
        "id": "gLTbPtOrwHYo"
      }
    },
    {
      "cell_type": "code",
      "source": [
        "class Person:\n",
        "  def __init__(self):\n",
        "\n",
        "    print(\"Memory location of self \",id(self))\n",
        "\n",
        "p1 = Person()"
      ],
      "metadata": {
        "id": "mU_MX5ZjvUN1",
        "colab": {
          "base_uri": "https://localhost:8080/"
        },
        "outputId": "0e701b2e-9dcf-4cc3-86e3-f7d29da2701c"
      },
      "execution_count": 3,
      "outputs": [
        {
          "output_type": "stream",
          "name": "stdout",
          "text": [
            "Memory location of self  132674165592320\n"
          ]
        }
      ]
    },
    {
      "cell_type": "code",
      "source": [
        "id(p1)"
      ],
      "metadata": {
        "id": "t7EDZlYEwVl-",
        "colab": {
          "base_uri": "https://localhost:8080/"
        },
        "outputId": "c3b60445-e900-420b-d16e-06732f680d93"
      },
      "execution_count": 4,
      "outputs": [
        {
          "output_type": "execute_result",
          "data": {
            "text/plain": [
              "132674165592320"
            ]
          },
          "metadata": {},
          "execution_count": 4
        }
      ]
    },
    {
      "cell_type": "markdown",
      "source": [
        "1. self and object points to same memory\n",
        "\n",
        "2. self -> current object\n",
        "3. Golden rule : Object can only access data and function of class.\n",
        "4. we use self which is current object to access those data and function."
      ],
      "metadata": {
        "id": "fI1_zA9NwZ3L"
      }
    },
    {
      "cell_type": "markdown",
      "source": [
        "### 9.3 Creating custom datatype"
      ],
      "metadata": {
        "id": "5G0yljHnwxK2"
      }
    },
    {
      "cell_type": "markdown",
      "source": [
        "#### 1. Fraction"
      ],
      "metadata": {
        "id": "OvBnQxMzw-Cj"
      }
    },
    {
      "cell_type": "code",
      "source": [
        "class Fraction :\n",
        "  # parameterized constructor\n",
        "  def __init__(self,x,y):\n",
        "    self.num = x\n",
        "    self.den = y\n",
        "\n",
        "  # structure dunder function\n",
        "  def __str__(self):\n",
        "    return '{}/{}'.format(self.num,self.den)\n",
        "\n",
        "  # add dunder function\n",
        "  def __add__(self,other):\n",
        "    new_num = self.num*other.den + other.num*self.num\n",
        "    new_den = self.den*other.den\n",
        "    return '{}/{}'.format(new_num,new_den)\n",
        "\n",
        "  # sub dunder function\n",
        "  def __sub__(self,other):\n",
        "    new_num = self.num*other.den - other.num*self.num\n",
        "    new_den = self.den*other.den\n",
        "    return '{}/{}'.format(new_num,new_den)\n",
        "\n",
        "  # multiply dunder function\n",
        "  def __mul__(self,other):\n",
        "    new_num = self.num*other.num\n",
        "    new_den = self.den*other.den\n",
        "    return '{}/{}'.format(new_num,new_den)\n",
        "\n",
        "  # truediv for division\n",
        "  def __truediv__(self,other):\n",
        "    new_num = self.num*other.den\n",
        "    new_den = self.den*other.num\n",
        "    return '{}/{}'.format(new_num,new_den)\n",
        "\n",
        "  # convert to dec\n",
        "  def to_dec(self):\n",
        "    return self.num/self.den"
      ],
      "metadata": {
        "id": "-vvR4Hx1wYZN"
      },
      "execution_count": 5,
      "outputs": []
    },
    {
      "cell_type": "code",
      "source": [
        "f1 = Fraction(1,2)\n",
        "f2 = Fraction(3,5)\n"
      ],
      "metadata": {
        "id": "NH3qVmHOxMf4"
      },
      "execution_count": 6,
      "outputs": []
    },
    {
      "cell_type": "code",
      "source": [
        "print(f1)\n",
        "print(f2)"
      ],
      "metadata": {
        "id": "Y5yhbJpB0D2W",
        "colab": {
          "base_uri": "https://localhost:8080/"
        },
        "outputId": "bc5ff36f-3e7e-48f2-ce83-8444b339b774"
      },
      "execution_count": 7,
      "outputs": [
        {
          "output_type": "stream",
          "name": "stdout",
          "text": [
            "1/2\n",
            "3/5\n"
          ]
        }
      ]
    },
    {
      "cell_type": "code",
      "source": [
        "print(f1+f2)"
      ],
      "metadata": {
        "id": "CHVTeW2LzzLI",
        "colab": {
          "base_uri": "https://localhost:8080/"
        },
        "outputId": "2e6f48f6-dc21-4ec0-b6b1-1da6f9992d91"
      },
      "execution_count": 8,
      "outputs": [
        {
          "output_type": "stream",
          "name": "stdout",
          "text": [
            "8/10\n"
          ]
        }
      ]
    },
    {
      "cell_type": "code",
      "source": [
        "print(f1-f2)"
      ],
      "metadata": {
        "id": "OzCiM1y70GZC",
        "colab": {
          "base_uri": "https://localhost:8080/"
        },
        "outputId": "2fab76d1-6ef9-4411-89a4-b626030c2470"
      },
      "execution_count": 9,
      "outputs": [
        {
          "output_type": "stream",
          "name": "stdout",
          "text": [
            "2/10\n"
          ]
        }
      ]
    },
    {
      "cell_type": "code",
      "source": [
        "print(f1*f2)"
      ],
      "metadata": {
        "id": "r6N4q1Db0Itx",
        "colab": {
          "base_uri": "https://localhost:8080/"
        },
        "outputId": "532d1ed8-1671-4b50-bb7d-843afa192ef5"
      },
      "execution_count": 10,
      "outputs": [
        {
          "output_type": "stream",
          "name": "stdout",
          "text": [
            "3/10\n"
          ]
        }
      ]
    },
    {
      "cell_type": "code",
      "source": [
        "print(f1/f2)"
      ],
      "metadata": {
        "id": "Y6hFGynR0Lbv",
        "colab": {
          "base_uri": "https://localhost:8080/"
        },
        "outputId": "d8de1be5-28bd-41ec-bd00-c579fd35dfb1"
      },
      "execution_count": 11,
      "outputs": [
        {
          "output_type": "stream",
          "name": "stdout",
          "text": [
            "5/6\n"
          ]
        }
      ]
    },
    {
      "cell_type": "code",
      "source": [
        "f1.to_dec()"
      ],
      "metadata": {
        "id": "UqXibhBW0OsY",
        "colab": {
          "base_uri": "https://localhost:8080/"
        },
        "outputId": "c37b8ddc-8366-40dc-d24a-3f6d493979c8"
      },
      "execution_count": 12,
      "outputs": [
        {
          "output_type": "execute_result",
          "data": {
            "text/plain": [
              "0.5"
            ]
          },
          "metadata": {},
          "execution_count": 12
        }
      ]
    },
    {
      "cell_type": "code",
      "source": [
        "f2.to_dec()"
      ],
      "metadata": {
        "id": "Lu_GS24Y0Qxh",
        "colab": {
          "base_uri": "https://localhost:8080/"
        },
        "outputId": "2da3ad51-f148-42b9-9923-08421fd9e5ec"
      },
      "execution_count": 13,
      "outputs": [
        {
          "output_type": "execute_result",
          "data": {
            "text/plain": [
              "0.6"
            ]
          },
          "metadata": {},
          "execution_count": 13
        }
      ]
    },
    {
      "cell_type": "markdown",
      "source": [
        "Write a OOPs classes to handle the following scenerios .\n",
        "\n",
        "- A user can create and view 2D coordinates .\n",
        "- A user can find out distance between two coordinates .\n",
        "- A user can find the distance of coordinates from origin .\n",
        "- A user can check if a point lies on a given line .\n",
        "- A user can find the distance between a given 2D point and a given line ."
      ],
      "metadata": {
        "id": "dRouMEIa0ZIU"
      }
    },
    {
      "cell_type": "code",
      "source": [
        "class Point:\n",
        "  def __init__(self,x,y):\n",
        "    self.x_cod = x\n",
        "    self.y_cod = y\n",
        "\n",
        "  def __str__(self):\n",
        "    return '({},{})'.format(self.x_cod,self.y_cod)\n",
        "\n",
        "  def euclidean_distance(self,other):\n",
        "    return ((self.x_cod-other.x_cod)**2 + (self.y_cod-other.y_cod)**2)**0.5\n",
        "\n",
        "  def distance_from_origin(self):\n",
        "    return ((self.x_cod)**2 + (self.y_cod)**2)**0.5"
      ],
      "metadata": {
        "id": "RMMKtp_O0S7r"
      },
      "execution_count": 14,
      "outputs": []
    },
    {
      "cell_type": "code",
      "source": [
        "p1 = Point(1,2)\n",
        "p2 = Point(3,4)\n"
      ],
      "metadata": {
        "id": "kqOOTfzk04ds"
      },
      "execution_count": 15,
      "outputs": []
    },
    {
      "cell_type": "code",
      "source": [
        "print(p1)\n",
        "print(p2)"
      ],
      "metadata": {
        "id": "s8gggI1-06t0",
        "colab": {
          "base_uri": "https://localhost:8080/"
        },
        "outputId": "0685a11b-5fc3-469a-80e7-5f159792f725"
      },
      "execution_count": 16,
      "outputs": [
        {
          "output_type": "stream",
          "name": "stdout",
          "text": [
            "(1,2)\n",
            "(3,4)\n"
          ]
        }
      ]
    },
    {
      "cell_type": "code",
      "source": [
        "p1.euclidean_distance(p2)"
      ],
      "metadata": {
        "id": "fNf9BARR1v9L",
        "colab": {
          "base_uri": "https://localhost:8080/"
        },
        "outputId": "52061a3d-b8b9-4e42-af81-3b5fee0ea97b"
      },
      "execution_count": 17,
      "outputs": [
        {
          "output_type": "execute_result",
          "data": {
            "text/plain": [
              "2.8284271247461903"
            ]
          },
          "metadata": {},
          "execution_count": 17
        }
      ]
    },
    {
      "cell_type": "code",
      "source": [
        "p3 = Point(10,10)"
      ],
      "metadata": {
        "id": "PNw3oflo27hT"
      },
      "execution_count": 18,
      "outputs": []
    },
    {
      "cell_type": "code",
      "source": [
        "p3.distance_from_origin()\n"
      ],
      "metadata": {
        "id": "yLSH2vvx15FR",
        "colab": {
          "base_uri": "https://localhost:8080/"
        },
        "outputId": "aeb9041c-d8f8-42d0-84c0-b0bd98e29a36"
      },
      "execution_count": 19,
      "outputs": [
        {
          "output_type": "execute_result",
          "data": {
            "text/plain": [
              "14.142135623730951"
            ]
          },
          "metadata": {},
          "execution_count": 19
        }
      ]
    },
    {
      "cell_type": "code",
      "source": [
        "class Line:\n",
        "  def __init__(self,a,b,c):\n",
        "    self.A = a\n",
        "    self.B = b\n",
        "    self.C = c\n",
        "\n",
        "  def __str__(self):\n",
        "    return '{}x + {}y + {}'.format(self.A,self.B,self.C)\n",
        "\n",
        "  def point_on_line(line,point):\n",
        "    if line.A*point.x_cod + line.B*point.y_cod + line.C == 0:\n",
        "      return 'Lies on line'\n",
        "    else:\n",
        "      return 'Not lies on line'\n",
        "\n",
        "  def distance_between_point_line(line,point):\n",
        "    return abs(line.A*point.x_cod + line.B*point.y_cod + line.C )/(line.A**2+line.B**2)**0.5\n"
      ],
      "metadata": {
        "id": "39B1N1-N3Px6"
      },
      "execution_count": 20,
      "outputs": []
    },
    {
      "cell_type": "code",
      "source": [
        "l1 = Line(1,2,3)\n",
        "print(l1)"
      ],
      "metadata": {
        "id": "ucZWb3Bm22A-",
        "colab": {
          "base_uri": "https://localhost:8080/"
        },
        "outputId": "2471a7de-1b8b-43b7-fa56-8257566e7126"
      },
      "execution_count": 21,
      "outputs": [
        {
          "output_type": "stream",
          "name": "stdout",
          "text": [
            "1x + 2y + 3\n"
          ]
        }
      ]
    },
    {
      "cell_type": "code",
      "source": [
        "l1 = Line(2,1,-3)\n",
        "p1 = Point(1,1)\n",
        "l1.point_on_line(p1)"
      ],
      "metadata": {
        "id": "2aH3Lk8G3swJ",
        "colab": {
          "base_uri": "https://localhost:8080/",
          "height": 35
        },
        "outputId": "b8020ac9-2653-4234-a9cc-8d5fef82b9e7"
      },
      "execution_count": 22,
      "outputs": [
        {
          "output_type": "execute_result",
          "data": {
            "text/plain": [
              "'Lies on line'"
            ],
            "application/vnd.google.colaboratory.intrinsic+json": {
              "type": "string"
            }
          },
          "metadata": {},
          "execution_count": 22
        }
      ]
    },
    {
      "cell_type": "code",
      "source": [
        "l1.distance_between_point_line(p1)\n",
        "# because poit is on line so distance is 0"
      ],
      "metadata": {
        "id": "JbW44V-e5c0V",
        "colab": {
          "base_uri": "https://localhost:8080/"
        },
        "outputId": "bda2a98a-3bda-4f69-b3c4-486cf4c1ff4d"
      },
      "execution_count": 23,
      "outputs": [
        {
          "output_type": "execute_result",
          "data": {
            "text/plain": [
              "0.0"
            ]
          },
          "metadata": {},
          "execution_count": 23
        }
      ]
    },
    {
      "cell_type": "markdown",
      "source": [
        "#### How object access attributes"
      ],
      "metadata": {
        "id": "m2ReA9I45_Mz"
      }
    },
    {
      "cell_type": "code",
      "source": [
        "class Person:\n",
        "  def __init__(self,name,country):\n",
        "    self.name = name\n",
        "    self.country = country\n",
        "\n",
        "  def greet(self):\n",
        "    if self.country == \"India\":\n",
        "      return 'Namaste {}'.format(self.name)\n",
        "    else :\n",
        "      return 'Hey dear {}'.format(self.name)"
      ],
      "metadata": {
        "id": "qQ8QrosW5r1c"
      },
      "execution_count": 24,
      "outputs": []
    },
    {
      "cell_type": "code",
      "source": [
        "p1 = Person('yash','India')\n",
        "print(p1)\n",
        "print(p1.greet())\n",
        "print(p1.name)\n",
        "print(p1.country)"
      ],
      "metadata": {
        "id": "_Q7bicJ_6gl3",
        "colab": {
          "base_uri": "https://localhost:8080/"
        },
        "outputId": "6679c050-0363-415f-e602-53117ae228e6"
      },
      "execution_count": 25,
      "outputs": [
        {
          "output_type": "stream",
          "name": "stdout",
          "text": [
            "<__main__.Person object at 0x78aa9c82f4d0>\n",
            "Namaste yash\n",
            "yash\n",
            "India\n"
          ]
        }
      ]
    },
    {
      "cell_type": "code",
      "source": [
        "p2 = Person('rehns','Austalia')\n",
        "print(p2.greet())\n",
        "print(p2.name)\n",
        "print(p2.country)"
      ],
      "metadata": {
        "id": "dtZ2HI1q6jj7",
        "colab": {
          "base_uri": "https://localhost:8080/"
        },
        "outputId": "15480d9b-d882-49bd-e501-67878262d5df"
      },
      "execution_count": 26,
      "outputs": [
        {
          "output_type": "stream",
          "name": "stdout",
          "text": [
            "Hey dear rehns\n",
            "rehns\n",
            "Austalia\n"
          ]
        }
      ]
    },
    {
      "cell_type": "markdown",
      "source": [
        "#### Attribute creation from outside of a class"
      ],
      "metadata": {
        "id": "Int5V7WT7RiW"
      }
    },
    {
      "cell_type": "code",
      "source": [
        "p1.gender = \"male\"\n",
        "print(p1.gender)"
      ],
      "metadata": {
        "id": "1UB0NmmV6vYc",
        "colab": {
          "base_uri": "https://localhost:8080/"
        },
        "outputId": "7da0dac3-3b31-4b44-d4b4-479acb6b9968"
      },
      "execution_count": 27,
      "outputs": [
        {
          "output_type": "stream",
          "name": "stdout",
          "text": [
            "male\n"
          ]
        }
      ]
    },
    {
      "cell_type": "markdown",
      "source": [
        "#### Reference Variables\n",
        "- holds the object .\n",
        "- we can create object without reference variable as well .\n",
        "- assigning existing reference variable to new object doesnot create new reference variable .\n",
        "- an object can have multiple reference variable\n"
      ],
      "metadata": {
        "id": "zjus12MP7e6n"
      }
    },
    {
      "cell_type": "code",
      "source": [
        "# Object without reference variable\n",
        "class Person:\n",
        "  def __init__(self):\n",
        "    self.name = \"yash\"\n",
        "    self.gender = \"male\"\n",
        "\n",
        "Person()"
      ],
      "metadata": {
        "id": "ETFY43_f7ZN5",
        "colab": {
          "base_uri": "https://localhost:8080/"
        },
        "outputId": "f28250ef-2e07-480b-eb51-efe611e720db"
      },
      "execution_count": 28,
      "outputs": [
        {
          "output_type": "execute_result",
          "data": {
            "text/plain": [
              "<__main__.Person at 0x78aa9c9cda30>"
            ]
          },
          "metadata": {},
          "execution_count": 28
        }
      ]
    },
    {
      "cell_type": "code",
      "source": [
        "p = Person()\n",
        "q = p\n",
        "print(id(p))\n",
        "print(id(q))\n",
        "\n",
        "# Both reference variable pointing to same memory location"
      ],
      "metadata": {
        "id": "uclODI1f8L6e",
        "colab": {
          "base_uri": "https://localhost:8080/"
        },
        "outputId": "587c6c2f-08c1-4157-a20f-9fb2380f03d7"
      },
      "execution_count": 29,
      "outputs": [
        {
          "output_type": "stream",
          "name": "stdout",
          "text": [
            "132674165602928\n",
            "132674165602928\n"
          ]
        }
      ]
    },
    {
      "cell_type": "markdown",
      "source": [
        "#### Pass by reference"
      ],
      "metadata": {
        "id": "TgUbZY5h8lGB"
      }
    },
    {
      "cell_type": "code",
      "source": [
        "class Person:\n",
        "\n",
        "  def __init__(self,name,age):\n",
        "    self.name = name\n",
        "    self.age = age\n",
        "\n",
        "  def intro(self):\n",
        "    return 'Heya my name is {} and my age is {}'.format(self.name,self.age)"
      ],
      "metadata": {
        "id": "EcO_fuHH8VHr"
      },
      "execution_count": 30,
      "outputs": []
    },
    {
      "cell_type": "code",
      "source": [
        "p1 = Person('yash','22')\n",
        "p1.intro()"
      ],
      "metadata": {
        "id": "r6Uv0Vi69KGV",
        "colab": {
          "base_uri": "https://localhost:8080/",
          "height": 35
        },
        "outputId": "ea806c74-1b9e-4c95-80b4-43d085440891"
      },
      "execution_count": 31,
      "outputs": [
        {
          "output_type": "execute_result",
          "data": {
            "text/plain": [
              "'Heya my name is yash and my age is 22'"
            ],
            "application/vnd.google.colaboratory.intrinsic+json": {
              "type": "string"
            }
          },
          "metadata": {},
          "execution_count": 31
        }
      ]
    },
    {
      "cell_type": "code",
      "source": [
        "class Person :\n",
        "\n",
        "  def __init__(self,name,age):\n",
        "    self.name = name\n",
        "    self.age = age\n",
        "\n",
        "  def intro(self):\n",
        "    return Person('birju',23)"
      ],
      "metadata": {
        "id": "KiyZJD4o9LvH"
      },
      "execution_count": 32,
      "outputs": []
    },
    {
      "cell_type": "code",
      "source": [
        "p1 = Person(\"Aryan\",24)\n",
        "x = p1.intro()\n",
        "x.name"
      ],
      "metadata": {
        "id": "Te-ygTJ09dCL",
        "colab": {
          "base_uri": "https://localhost:8080/",
          "height": 35
        },
        "outputId": "87af08ae-ca26-4a4e-d560-a7e555cae163"
      },
      "execution_count": 33,
      "outputs": [
        {
          "output_type": "execute_result",
          "data": {
            "text/plain": [
              "'birju'"
            ],
            "application/vnd.google.colaboratory.intrinsic+json": {
              "type": "string"
            }
          },
          "metadata": {},
          "execution_count": 33
        }
      ]
    },
    {
      "cell_type": "code",
      "source": [
        "class Person:\n",
        "\n",
        "  def __init__(self,name,age):\n",
        "    self.name = name\n",
        "    self.age = age\n",
        "\n",
        "def greet(person):\n",
        "  print(id(person))\n",
        "  print(\"Hey my name is\",person.name,\"and my age is\",person.age)\n",
        "  person.name = \"Ankit\"\n",
        "\n"
      ],
      "metadata": {
        "id": "cZUJsOP6-GTd"
      },
      "execution_count": 34,
      "outputs": []
    },
    {
      "cell_type": "code",
      "source": [
        "p1 = Person('raj',23)\n",
        "greet(p1)\n",
        "print(id(p1))"
      ],
      "metadata": {
        "id": "Nj_mCI2J_Kyv",
        "colab": {
          "base_uri": "https://localhost:8080/"
        },
        "outputId": "f108d323-3f6c-46fc-b1a8-59777326755d"
      },
      "execution_count": 35,
      "outputs": [
        {
          "output_type": "stream",
          "name": "stdout",
          "text": [
            "132674165901984\n",
            "Hey my name is raj and my age is 23\n",
            "132674165901984\n"
          ]
        }
      ]
    },
    {
      "cell_type": "markdown",
      "source": [
        "#### Object mutability\n",
        "- Object are mutable in python .\n",
        "- User defined classes are mutable .\n"
      ],
      "metadata": {
        "id": "UCaGL1OU_gRy"
      }
    },
    {
      "cell_type": "code",
      "source": [
        "class Person:\n",
        "  def __init__(self,husband,wife):\n",
        "    self.hus = husband\n",
        "    self.wife = wife\n",
        "\n",
        "def greet(person):\n",
        "  person.wife = \"Shweta\"\n",
        "  return person\n"
      ],
      "metadata": {
        "id": "oCHbySMN_SGA"
      },
      "execution_count": 36,
      "outputs": []
    },
    {
      "cell_type": "code",
      "source": [
        "p1 = Person(\"Raja\",\"Pragya\")\n",
        "p1.wife"
      ],
      "metadata": {
        "id": "_JdOHy06A_tC",
        "colab": {
          "base_uri": "https://localhost:8080/",
          "height": 35
        },
        "outputId": "bb5e3208-386a-4ea6-c3b3-fd160a6bc121"
      },
      "execution_count": 37,
      "outputs": [
        {
          "output_type": "execute_result",
          "data": {
            "text/plain": [
              "'Pragya'"
            ],
            "application/vnd.google.colaboratory.intrinsic+json": {
              "type": "string"
            }
          },
          "metadata": {},
          "execution_count": 37
        }
      ]
    },
    {
      "cell_type": "code",
      "source": [
        "p2 = greet(p1)\n",
        "p2.wife\n"
      ],
      "metadata": {
        "id": "8xyiYdclBFj-",
        "colab": {
          "base_uri": "https://localhost:8080/",
          "height": 35
        },
        "outputId": "f6db438e-4805-4e5f-9823-3fcae0cfd828"
      },
      "execution_count": 38,
      "outputs": [
        {
          "output_type": "execute_result",
          "data": {
            "text/plain": [
              "'Shweta'"
            ],
            "application/vnd.google.colaboratory.intrinsic+json": {
              "type": "string"
            }
          },
          "metadata": {},
          "execution_count": 38
        }
      ]
    },
    {
      "cell_type": "code",
      "source": [
        "id(p1)\n",
        "id(p2)"
      ],
      "metadata": {
        "id": "W5PpSlJqBIMm",
        "colab": {
          "base_uri": "https://localhost:8080/"
        },
        "outputId": "f8d7c04d-494f-46c7-ab1e-5f74775a1f78"
      },
      "execution_count": 39,
      "outputs": [
        {
          "output_type": "execute_result",
          "data": {
            "text/plain": [
              "132674165903472"
            ]
          },
          "metadata": {},
          "execution_count": 39
        }
      ]
    },
    {
      "cell_type": "code",
      "source": [
        "p1.wife"
      ],
      "metadata": {
        "id": "hAMyHOg2BOya",
        "colab": {
          "base_uri": "https://localhost:8080/",
          "height": 35
        },
        "outputId": "ca6da886-1d52-4d8d-cb6d-27c871a19e6f"
      },
      "execution_count": 40,
      "outputs": [
        {
          "output_type": "execute_result",
          "data": {
            "text/plain": [
              "'Shweta'"
            ],
            "application/vnd.google.colaboratory.intrinsic+json": {
              "type": "string"
            }
          },
          "metadata": {},
          "execution_count": 40
        }
      ]
    },
    {
      "cell_type": "markdown",
      "source": [
        "### 9.4 Encapsulation\n",
        "- Encapsulation is bundling of data and method in single unit hiding the internal state and direct access\n",
        "- Wrapping up of data and method and getting and setting it using getter and setter"
      ],
      "metadata": {
        "id": "Q5V7R--1CV38"
      }
    },
    {
      "cell_type": "markdown",
      "source": [
        "#### Instance variable\n",
        "- Variable that depend on object .\n",
        "- For every object value , instance variable is different"
      ],
      "metadata": {
        "id": "rtq-lWWgC0YT"
      }
    },
    {
      "cell_type": "code",
      "source": [
        "class Person:\n",
        "\n",
        "  # Here name and age are instance variable\n",
        "  def __init__(self,name,age):\n",
        "    self.name = name\n",
        "    self.age = age\n",
        "\n",
        "p1 = Person(\"Yash\",22)\n",
        "p1 = Person(\"Shweta\",23)"
      ],
      "metadata": {
        "id": "zp1vKW7EBXC9"
      },
      "execution_count": 41,
      "outputs": []
    },
    {
      "cell_type": "code",
      "source": [
        "class Atm :\n",
        "\n",
        "  #constructor (special function )-> superpower ->automatic execute on creation of object .\n",
        "  def __init__(self):\n",
        "\n",
        "    self.pin = ''\n",
        "    self.balance = 0\n",
        "    # print(\"Mai to execute hogya\")\n",
        "\n",
        "    # self.menu()\n",
        "\n",
        "  def menu(self):\n",
        "    user_input = input(\n",
        "        \"\"\"\n",
        "        Hi how can i help you?\n",
        "        1. Press 1 to create pin .\n",
        "        2. Press 2 to change pin .\n",
        "        3. Press 3 to check balance.\n",
        "        4. Press 4 to withdraw .\n",
        "        5. Anything else to exit .\n",
        "        \"\"\")\n",
        "    if user_input =='1':\n",
        "        #create pin\n",
        "        self.create_pin()\n",
        "    elif user_input =='2':\n",
        "        #change pin\n",
        "        self.change_pin()\n",
        "    elif user_input == '3':\n",
        "        #check balance\n",
        "\n",
        "        self.check_balance()\n",
        "    elif user_input == '4':\n",
        "        #withdraw\n",
        "        self.withdrawl()\n",
        "    else:\n",
        "        exit()\n",
        "\n",
        "  def create_pin(self):\n",
        "    user_pin = input(\"enter your pin\")\n",
        "    self.pin = user_pin\n",
        "\n",
        "    user_balance = int(input(\"Enter your balance\"))\n",
        "    self.balance = user_balance\n",
        "\n",
        "    print(\"pin created successfully\")\n",
        "    # self.menu()\n",
        "\n",
        "  def change_pin(self):\n",
        "    old_pin = input('enter old pin')\n",
        "    if old_pin == self.pin:\n",
        "      # let him change the pin\n",
        "      new_pin = input('enter new pin')\n",
        "      self.pin = new_pin\n",
        "      print('pin change successfully')\n",
        "      # self.menu()\n",
        "    else:\n",
        "      print('nai karne de skta re baba')\n",
        "      # self.menu()\n",
        "\n",
        "\n",
        "  def check_balance(self):\n",
        "    user_pin = input('enter your pin')\n",
        "    if user_pin == self.pin:\n",
        "      print('Your balance is ',self.balance)\n",
        "      # self.menu()\n",
        "\n",
        "    else :\n",
        "      print(\"chal nikal yhan se\")\n",
        "      # self.menu()\n",
        "\n",
        "  def withdrawl(self):\n",
        "    user_pin = input('enter the pin')\n",
        "    if user_pin == self.pin:\n",
        "      # allow to withdraw\n",
        "      amount = int(input(\"enter the amount\"))\n",
        "      if amount<=self.balance:\n",
        "        self.balance -= amount\n",
        "        print('withdrawl of balance is',self.balance)\n",
        "        # self.menu()\n",
        "      else:\n",
        "        print('garibb hai bhai bhul gya')\n",
        "    else:\n",
        "      print('galt password ')\n",
        "\n",
        "    # self.menu()"
      ],
      "metadata": {
        "id": "W9THrp06DIbu"
      },
      "execution_count": 42,
      "outputs": []
    },
    {
      "cell_type": "code",
      "source": [
        "obj1 = Atm()\n",
        "obj1.create_pin()"
      ],
      "metadata": {
        "id": "gvJ9VWepDt7J",
        "colab": {
          "base_uri": "https://localhost:8080/"
        },
        "outputId": "87563fa7-94ad-49ba-b965-c81724f9c357"
      },
      "execution_count": 43,
      "outputs": [
        {
          "output_type": "stream",
          "name": "stdout",
          "text": [
            "enter your pin123\n",
            "Enter your balance1000\n",
            "pin created successfully\n"
          ]
        }
      ]
    },
    {
      "cell_type": "code",
      "source": [
        "# agar kisine dushmani nikaal di\n",
        "obj1.balance = \"hehehe\"\n",
        "obj1.withdrawl()"
      ],
      "metadata": {
        "id": "aPvE-ES0DxHl",
        "colab": {
          "base_uri": "https://localhost:8080/",
          "height": 341
        },
        "outputId": "5b06cee1-6562-4af6-d0b0-142f252d1ba7"
      },
      "execution_count": 44,
      "outputs": [
        {
          "name": "stdout",
          "output_type": "stream",
          "text": [
            "enter the pin123\n",
            "enter the amount100\n"
          ]
        },
        {
          "output_type": "error",
          "ename": "TypeError",
          "evalue": "'<=' not supported between instances of 'int' and 'str'",
          "traceback": [
            "\u001b[0;31m---------------------------------------------------------------------------\u001b[0m",
            "\u001b[0;31mTypeError\u001b[0m                                 Traceback (most recent call last)",
            "\u001b[0;32m/tmp/ipython-input-881108890.py\u001b[0m in \u001b[0;36m<cell line: 0>\u001b[0;34m()\u001b[0m\n\u001b[1;32m      1\u001b[0m \u001b[0;31m# agar kisine dushmani nikaal di\u001b[0m\u001b[0;34m\u001b[0m\u001b[0;34m\u001b[0m\u001b[0m\n\u001b[1;32m      2\u001b[0m \u001b[0mobj1\u001b[0m\u001b[0;34m.\u001b[0m\u001b[0mbalance\u001b[0m \u001b[0;34m=\u001b[0m \u001b[0;34m\"hehehe\"\u001b[0m\u001b[0;34m\u001b[0m\u001b[0;34m\u001b[0m\u001b[0m\n\u001b[0;32m----> 3\u001b[0;31m \u001b[0mobj1\u001b[0m\u001b[0;34m.\u001b[0m\u001b[0mwithdrawl\u001b[0m\u001b[0;34m(\u001b[0m\u001b[0;34m)\u001b[0m\u001b[0;34m\u001b[0m\u001b[0;34m\u001b[0m\u001b[0m\n\u001b[0m",
            "\u001b[0;32m/tmp/ipython-input-2131615536.py\u001b[0m in \u001b[0;36mwithdrawl\u001b[0;34m(self)\u001b[0m\n\u001b[1;32m     74\u001b[0m       \u001b[0;31m# allow to withdraw\u001b[0m\u001b[0;34m\u001b[0m\u001b[0;34m\u001b[0m\u001b[0m\n\u001b[1;32m     75\u001b[0m       \u001b[0mamount\u001b[0m \u001b[0;34m=\u001b[0m \u001b[0mint\u001b[0m\u001b[0;34m(\u001b[0m\u001b[0minput\u001b[0m\u001b[0;34m(\u001b[0m\u001b[0;34m\"enter the amount\"\u001b[0m\u001b[0;34m)\u001b[0m\u001b[0;34m)\u001b[0m\u001b[0;34m\u001b[0m\u001b[0;34m\u001b[0m\u001b[0m\n\u001b[0;32m---> 76\u001b[0;31m       \u001b[0;32mif\u001b[0m \u001b[0mamount\u001b[0m\u001b[0;34m<=\u001b[0m\u001b[0mself\u001b[0m\u001b[0;34m.\u001b[0m\u001b[0mbalance\u001b[0m\u001b[0;34m:\u001b[0m\u001b[0;34m\u001b[0m\u001b[0;34m\u001b[0m\u001b[0m\n\u001b[0m\u001b[1;32m     77\u001b[0m         \u001b[0mself\u001b[0m\u001b[0;34m.\u001b[0m\u001b[0mbalance\u001b[0m \u001b[0;34m-=\u001b[0m \u001b[0mamount\u001b[0m\u001b[0;34m\u001b[0m\u001b[0;34m\u001b[0m\u001b[0m\n\u001b[1;32m     78\u001b[0m         \u001b[0mprint\u001b[0m\u001b[0;34m(\u001b[0m\u001b[0;34m'withdrawl of balance is'\u001b[0m\u001b[0;34m,\u001b[0m\u001b[0mself\u001b[0m\u001b[0;34m.\u001b[0m\u001b[0mbalance\u001b[0m\u001b[0;34m)\u001b[0m\u001b[0;34m\u001b[0m\u001b[0;34m\u001b[0m\u001b[0m\n",
            "\u001b[0;31mTypeError\u001b[0m: '<=' not supported between instances of 'int' and 'str'"
          ]
        }
      ]
    },
    {
      "cell_type": "markdown",
      "source": [
        " To make our variable methods private we use **double underscore __**"
      ],
      "metadata": {
        "id": "wH3ZGWvuEMz9"
      }
    },
    {
      "cell_type": "code",
      "source": [
        "class Atm :\n",
        "\n",
        "  #constructor (special function )-> superpower ->automatic execute on creation of object .\n",
        "  def __init__(self):\n",
        "\n",
        "    self.pin = ''\n",
        "    self.__balance = 0\n",
        "    # print(\"Mai to execute hogya\")\n",
        "\n",
        "    # self.menu()\n",
        "\n",
        "  def menu(self):\n",
        "    user_input = input(\n",
        "        \"\"\"\n",
        "        Hi how can i help you?\n",
        "        1. Press 1 to create pin .\n",
        "        2. Press 2 to change pin .\n",
        "        3. Press 3 to check balance.\n",
        "        4. Press 4 to withdraw .\n",
        "        5. Anything else to exit .\n",
        "        \"\"\")\n",
        "    if user_input =='1':\n",
        "        #create pin\n",
        "        self.create_pin()\n",
        "    elif user_input =='2':\n",
        "        #change pin\n",
        "        self.change_pin()\n",
        "    elif user_input == '3':\n",
        "        #check balance\n",
        "\n",
        "        self.check_balance()\n",
        "    elif user_input == '4':\n",
        "        #withdraw\n",
        "        self.withdrawl()\n",
        "    else:\n",
        "        exit()\n",
        "\n",
        "  def create_pin(self):\n",
        "    user_pin = input(\"enter your pin\")\n",
        "    self.pin = user_pin\n",
        "\n",
        "    user_balance = int(input(\"Enter your balance\"))\n",
        "    self.__balance = user_balance\n",
        "\n",
        "    print(\"pin created successfully\")\n",
        "    # self.menu()\n",
        "\n",
        "  def change_pin(self):\n",
        "    old_pin = input('enter old pin')\n",
        "    if old_pin == self.pin:\n",
        "      # let him change the pin\n",
        "      new_pin = input('enter new pin')\n",
        "      self.pin = new_pin\n",
        "      print('pin change successfully')\n",
        "      # self.menu()\n",
        "    else:\n",
        "      print('nai karne de skta re baba')\n",
        "      # self.menu()\n",
        "\n",
        "\n",
        "  def check_balance(self):\n",
        "    user_pin = input('enter your pin')\n",
        "    if user_pin == self.pin:\n",
        "      print('Your balance is ',self.__balance)\n",
        "      # self.menu()\n",
        "\n",
        "    else :\n",
        "      print(\"chal nikal yhan se\")\n",
        "      # self.menu()\n",
        "\n",
        "  def withdrawl(self):\n",
        "    user_pin = input('enter the pin')\n",
        "    if user_pin == self.pin:\n",
        "      # allow to withdraw\n",
        "      amount = int(input(\"enter the amount\"))\n",
        "      if amount<=self.__balance:\n",
        "        self.__balance -= amount\n",
        "        print('withdrawl of balance is',self.__balance)\n",
        "        # self.menu()\n",
        "      else:\n",
        "        print('garibb hai bhai bhul gya')\n",
        "    else:\n",
        "      print('galt password ')\n",
        "\n",
        "    # self.menu()"
      ],
      "metadata": {
        "id": "tvmaD0GQD-QC"
      },
      "execution_count": 45,
      "outputs": []
    },
    {
      "cell_type": "code",
      "source": [
        "obj = Atm()"
      ],
      "metadata": {
        "id": "wUBaxwnAEoku"
      },
      "execution_count": 46,
      "outputs": []
    },
    {
      "cell_type": "code",
      "source": [
        "obj.balance =\"heheh\"\n",
        "obj.create_pin()"
      ],
      "metadata": {
        "id": "gImDPXO9ErkT",
        "colab": {
          "base_uri": "https://localhost:8080/"
        },
        "outputId": "b091c384-bb7a-4a4b-c12f-0f9e11a91f35"
      },
      "execution_count": 47,
      "outputs": [
        {
          "output_type": "stream",
          "name": "stdout",
          "text": [
            "enter your pin\n",
            "Enter your balance100\n",
            "pin created successfully\n"
          ]
        }
      ]
    },
    {
      "cell_type": "code",
      "source": [
        "obj.withdrawl()"
      ],
      "metadata": {
        "id": "xcJIiZDeEwbk",
        "colab": {
          "base_uri": "https://localhost:8080/",
          "height": 305
        },
        "outputId": "510d8cdf-b069-411e-b73a-cfcc9fbb7b70"
      },
      "execution_count": 51,
      "outputs": [
        {
          "name": "stdout",
          "output_type": "stream",
          "text": [
            "enter the pin\n",
            "enter the amount\n"
          ]
        },
        {
          "output_type": "error",
          "ename": "ValueError",
          "evalue": "invalid literal for int() with base 10: ''",
          "traceback": [
            "\u001b[0;31m---------------------------------------------------------------------------\u001b[0m",
            "\u001b[0;31mValueError\u001b[0m                                Traceback (most recent call last)",
            "\u001b[0;32m/tmp/ipython-input-729532082.py\u001b[0m in \u001b[0;36m<cell line: 0>\u001b[0;34m()\u001b[0m\n\u001b[0;32m----> 1\u001b[0;31m \u001b[0mobj\u001b[0m\u001b[0;34m.\u001b[0m\u001b[0mwithdrawl\u001b[0m\u001b[0;34m(\u001b[0m\u001b[0;34m)\u001b[0m\u001b[0;34m\u001b[0m\u001b[0;34m\u001b[0m\u001b[0m\n\u001b[0m",
            "\u001b[0;32m/tmp/ipython-input-1942395959.py\u001b[0m in \u001b[0;36mwithdrawl\u001b[0;34m(self)\u001b[0m\n\u001b[1;32m     73\u001b[0m     \u001b[0;32mif\u001b[0m \u001b[0muser_pin\u001b[0m \u001b[0;34m==\u001b[0m \u001b[0mself\u001b[0m\u001b[0;34m.\u001b[0m\u001b[0mpin\u001b[0m\u001b[0;34m:\u001b[0m\u001b[0;34m\u001b[0m\u001b[0;34m\u001b[0m\u001b[0m\n\u001b[1;32m     74\u001b[0m       \u001b[0;31m# allow to withdraw\u001b[0m\u001b[0;34m\u001b[0m\u001b[0;34m\u001b[0m\u001b[0m\n\u001b[0;32m---> 75\u001b[0;31m       \u001b[0mamount\u001b[0m \u001b[0;34m=\u001b[0m \u001b[0mint\u001b[0m\u001b[0;34m(\u001b[0m\u001b[0minput\u001b[0m\u001b[0;34m(\u001b[0m\u001b[0;34m\"enter the amount\"\u001b[0m\u001b[0;34m)\u001b[0m\u001b[0;34m)\u001b[0m\u001b[0;34m\u001b[0m\u001b[0;34m\u001b[0m\u001b[0m\n\u001b[0m\u001b[1;32m     76\u001b[0m       \u001b[0;32mif\u001b[0m \u001b[0mamount\u001b[0m\u001b[0;34m<=\u001b[0m\u001b[0mself\u001b[0m\u001b[0;34m.\u001b[0m\u001b[0m__balance\u001b[0m\u001b[0;34m:\u001b[0m\u001b[0;34m\u001b[0m\u001b[0;34m\u001b[0m\u001b[0m\n\u001b[1;32m     77\u001b[0m         \u001b[0mself\u001b[0m\u001b[0;34m.\u001b[0m\u001b[0m__balance\u001b[0m \u001b[0;34m-=\u001b[0m \u001b[0mamount\u001b[0m\u001b[0;34m\u001b[0m\u001b[0;34m\u001b[0m\u001b[0m\n",
            "\u001b[0;31mValueError\u001b[0m: invalid literal for int() with base 10: ''"
          ]
        }
      ]
    },
    {
      "cell_type": "code",
      "source": [
        "# ab error ni aaya kyunki upar obj.balance ne new attribute bna dia naaki balance ko change kia"
      ],
      "metadata": {
        "id": "eHs9HplZE2af"
      },
      "execution_count": null,
      "outputs": []
    },
    {
      "cell_type": "markdown",
      "source": [
        "- Jab hum kisi variable ko private bnate to memory me new name hojata\n",
        "               \n",
        "          _class__attribute\n",
        "          _Atm__balance"
      ],
      "metadata": {
        "id": "XW5qAsQlFJC5"
      }
    },
    {
      "cell_type": "code",
      "source": [
        "obj._Atm__balance = \"hehe\"\n",
        "obj.withdrawl()"
      ],
      "metadata": {
        "id": "nSZmr0lXE_oO",
        "colab": {
          "base_uri": "https://localhost:8080/",
          "height": 323
        },
        "outputId": "98ecc1d9-12ea-4d83-8260-75a59325699c"
      },
      "execution_count": 52,
      "outputs": [
        {
          "name": "stdout",
          "output_type": "stream",
          "text": [
            "enter the pin\n",
            "enter the amount\n"
          ]
        },
        {
          "output_type": "error",
          "ename": "ValueError",
          "evalue": "invalid literal for int() with base 10: ''",
          "traceback": [
            "\u001b[0;31m---------------------------------------------------------------------------\u001b[0m",
            "\u001b[0;31mValueError\u001b[0m                                Traceback (most recent call last)",
            "\u001b[0;32m/tmp/ipython-input-802382691.py\u001b[0m in \u001b[0;36m<cell line: 0>\u001b[0;34m()\u001b[0m\n\u001b[1;32m      1\u001b[0m \u001b[0mobj\u001b[0m\u001b[0;34m.\u001b[0m\u001b[0m_Atm__balance\u001b[0m \u001b[0;34m=\u001b[0m \u001b[0;34m\"hehe\"\u001b[0m\u001b[0;34m\u001b[0m\u001b[0;34m\u001b[0m\u001b[0m\n\u001b[0;32m----> 2\u001b[0;31m \u001b[0mobj\u001b[0m\u001b[0;34m.\u001b[0m\u001b[0mwithdrawl\u001b[0m\u001b[0;34m(\u001b[0m\u001b[0;34m)\u001b[0m\u001b[0;34m\u001b[0m\u001b[0;34m\u001b[0m\u001b[0m\n\u001b[0m",
            "\u001b[0;32m/tmp/ipython-input-1942395959.py\u001b[0m in \u001b[0;36mwithdrawl\u001b[0;34m(self)\u001b[0m\n\u001b[1;32m     73\u001b[0m     \u001b[0;32mif\u001b[0m \u001b[0muser_pin\u001b[0m \u001b[0;34m==\u001b[0m \u001b[0mself\u001b[0m\u001b[0;34m.\u001b[0m\u001b[0mpin\u001b[0m\u001b[0;34m:\u001b[0m\u001b[0;34m\u001b[0m\u001b[0;34m\u001b[0m\u001b[0m\n\u001b[1;32m     74\u001b[0m       \u001b[0;31m# allow to withdraw\u001b[0m\u001b[0;34m\u001b[0m\u001b[0;34m\u001b[0m\u001b[0m\n\u001b[0;32m---> 75\u001b[0;31m       \u001b[0mamount\u001b[0m \u001b[0;34m=\u001b[0m \u001b[0mint\u001b[0m\u001b[0;34m(\u001b[0m\u001b[0minput\u001b[0m\u001b[0;34m(\u001b[0m\u001b[0;34m\"enter the amount\"\u001b[0m\u001b[0;34m)\u001b[0m\u001b[0;34m)\u001b[0m\u001b[0;34m\u001b[0m\u001b[0;34m\u001b[0m\u001b[0m\n\u001b[0m\u001b[1;32m     76\u001b[0m       \u001b[0;32mif\u001b[0m \u001b[0mamount\u001b[0m\u001b[0;34m<=\u001b[0m\u001b[0mself\u001b[0m\u001b[0;34m.\u001b[0m\u001b[0m__balance\u001b[0m\u001b[0;34m:\u001b[0m\u001b[0;34m\u001b[0m\u001b[0;34m\u001b[0m\u001b[0m\n\u001b[1;32m     77\u001b[0m         \u001b[0mself\u001b[0m\u001b[0;34m.\u001b[0m\u001b[0m__balance\u001b[0m \u001b[0;34m-=\u001b[0m \u001b[0mamount\u001b[0m\u001b[0;34m\u001b[0m\u001b[0;34m\u001b[0m\u001b[0m\n",
            "\u001b[0;31mValueError\u001b[0m: invalid literal for int() with base 10: ''"
          ]
        }
      ]
    },
    {
      "cell_type": "markdown",
      "source": [
        "**In python nothing is truely private**"
      ],
      "metadata": {
        "id": "6k1AHJmOFpCC"
      }
    },
    {
      "cell_type": "code",
      "source": [
        "class Atm :\n",
        "\n",
        "  #constructor (special function )-> superpower ->automatic execute on creation of object .\n",
        "  def __init__(self):\n",
        "\n",
        "    self.pin = ''\n",
        "    self.__balance = 0\n",
        "    # print(\"Mai to execute hogya\")\n",
        "\n",
        "    # self.menu()\n",
        "\n",
        "  def get_balance(self):\n",
        "    return self.__balance\n",
        "\n",
        "  def set_balance(self,bal):\n",
        "    if type(bal) == int:\n",
        "      self.__balance = bal\n",
        "    else:\n",
        "      return 'Use only int datatype'\n",
        "\n",
        "  def menu(self):\n",
        "    user_input = input(\n",
        "        \"\"\"\n",
        "        Hi how can i help you?\n",
        "        1. Press 1 to create pin .\n",
        "        2. Press 2 to change pin .\n",
        "        3. Press 3 to check balance.\n",
        "        4. Press 4 to withdraw .\n",
        "        5. Anything else to exit .\n",
        "        \"\"\")\n",
        "    if user_input =='1':\n",
        "        #create pin\n",
        "        self.create_pin()\n",
        "    elif user_input =='2':\n",
        "        #change pin\n",
        "        self.change_pin()\n",
        "    elif user_input == '3':\n",
        "        #check balance\n",
        "\n",
        "        self.check_balance()\n",
        "    elif user_input == '4':\n",
        "        #withdraw\n",
        "        self.withdrawl()\n",
        "    else:\n",
        "        exit()\n",
        "\n",
        "\n",
        "\n",
        "  def create_pin(self):\n",
        "    user_pin = input(\"enter your pin\")\n",
        "    self.pin = user_pin\n",
        "\n",
        "    user_balance = int(input(\"Enter your balance\"))\n",
        "    self.__balance = user_balance\n",
        "\n",
        "    print(\"pin created successfully\")\n",
        "    # self.menu()\n",
        "\n",
        "  def change_pin(self):\n",
        "    old_pin = input('enter old pin')\n",
        "    if old_pin == self.pin:\n",
        "      # let him change the pin\n",
        "      new_pin = input('enter new pin')\n",
        "      self.pin = new_pin\n",
        "      print('pin change successfully')\n",
        "      # self.menu()\n",
        "    else:\n",
        "      print('nai karne de skta re baba')\n",
        "      # self.menu()\n",
        "\n",
        "\n",
        "  def check_balance(self):\n",
        "    user_pin = input('enter your pin')\n",
        "    if user_pin == self.pin:\n",
        "      print('Your balance is ',self.__balance)\n",
        "      # self.menu()\n",
        "\n",
        "    else :\n",
        "      print(\"chal nikal yhan se\")\n",
        "      # self.menu()\n",
        "\n",
        "  def withdrawl(self):\n",
        "    user_pin = input('enter the pin')\n",
        "    if user_pin == self.pin:\n",
        "      # allow to withdraw\n",
        "      amount = int(input(\"enter the amount\"))\n",
        "      if amount<=self.__balance:\n",
        "        self.balance -= amount\n",
        "        print('withdrawl of balance is',self.__balance)\n",
        "        # self.menu()\n",
        "      else:\n",
        "        print('garibb hai bhai bhul gya')\n",
        "    else:\n",
        "      print('galt password ')\n",
        "\n",
        "    # self.menu()"
      ],
      "metadata": {
        "id": "65Daglr8FgIr"
      },
      "execution_count": null,
      "outputs": []
    },
    {
      "cell_type": "code",
      "source": [
        "obj = Atm()"
      ],
      "metadata": {
        "id": "a_2wQ8KmGMJG"
      },
      "execution_count": null,
      "outputs": []
    },
    {
      "cell_type": "code",
      "source": [
        "obj.create_pin()"
      ],
      "metadata": {
        "id": "DAW5e_SsGw64"
      },
      "execution_count": null,
      "outputs": []
    },
    {
      "cell_type": "code",
      "source": [
        "obj.get_balance()"
      ],
      "metadata": {
        "id": "_FdFDwJkGzQ2"
      },
      "execution_count": null,
      "outputs": []
    },
    {
      "cell_type": "code",
      "source": [
        "obj.set_balance(500)\n"
      ],
      "metadata": {
        "id": "aNh925zUG7Jw"
      },
      "execution_count": null,
      "outputs": []
    },
    {
      "cell_type": "code",
      "source": [
        "obj.get_balance()"
      ],
      "metadata": {
        "id": "xlN33odhHnGC"
      },
      "execution_count": null,
      "outputs": []
    },
    {
      "cell_type": "markdown",
      "source": [
        "#### Collection of object"
      ],
      "metadata": {
        "id": "KTu3vEFQHrpc"
      }
    },
    {
      "cell_type": "code",
      "source": [
        "# List of object\n",
        "class People:\n",
        "  def __init__(self,name,age):\n",
        "    self.name = name\n",
        "    self.age = age\n",
        "\n",
        "p1 = People(\"Yash\",22)\n",
        "p2 = People(\"Mansi\",17)\n",
        "p3 = People(\"Aranya\",21)\n",
        "\n",
        "L = [p1,p2,p3]\n",
        "L"
      ],
      "metadata": {
        "id": "-x9duge2Hom9",
        "colab": {
          "base_uri": "https://localhost:8080/"
        },
        "outputId": "bff43754-41fe-47c1-b4bc-2f0d51a5f34a"
      },
      "execution_count": 53,
      "outputs": [
        {
          "output_type": "execute_result",
          "data": {
            "text/plain": [
              "[<__main__.People at 0x78aa87f2e720>,\n",
              " <__main__.People at 0x78aa9cb63d70>,\n",
              " <__main__.People at 0x78aa87f2cbf0>]"
            ]
          },
          "metadata": {},
          "execution_count": 53
        }
      ]
    },
    {
      "cell_type": "code",
      "source": [
        "for i in L:\n",
        "  print(i.name,i.age)"
      ],
      "metadata": {
        "id": "AUTv_ystIJmj",
        "colab": {
          "base_uri": "https://localhost:8080/"
        },
        "outputId": "68ffcc69-569e-4ad1-eaff-0e823047e51f"
      },
      "execution_count": 54,
      "outputs": [
        {
          "output_type": "stream",
          "name": "stdout",
          "text": [
            "Yash 22\n",
            "Mansi 17\n",
            "Aranya 21\n"
          ]
        }
      ]
    },
    {
      "cell_type": "code",
      "source": [
        "# Dictionary of object\n",
        "d = {'p1':p1,'p2':p2,'p3':p3}\n",
        "for i in d:\n",
        "  print(d[i].name,d[i].age)"
      ],
      "metadata": {
        "id": "xNeifR7uIQh_",
        "colab": {
          "base_uri": "https://localhost:8080/"
        },
        "outputId": "0484075f-592f-4ed8-f98b-2d959c1db796"
      },
      "execution_count": 55,
      "outputs": [
        {
          "output_type": "stream",
          "name": "stdout",
          "text": [
            "Yash 22\n",
            "Mansi 17\n",
            "Aranya 21\n"
          ]
        }
      ]
    },
    {
      "cell_type": "markdown",
      "source": [
        "#### Static vs Instance variable"
      ],
      "metadata": {
        "id": "ZEnzxANKIw_o"
      }
    },
    {
      "cell_type": "code",
      "source": [
        "class Atm :\n",
        "\n",
        "  #constructor (special function )-> superpower ->automatic execute on creation of object .\n",
        "  def __init__(self):\n",
        "\n",
        "    self.pin = ''\n",
        "    self.__balance = 0\n",
        "    # print(\"Mai to execute hogya\")\n",
        "    self.count = 0\n",
        "    self.count+=1\n",
        "\n",
        "    # self.menu()\n",
        "\n",
        "  def get_balance(self):\n",
        "    return self.__balance\n",
        "\n",
        "  def set_balance(self,bal):\n",
        "    if type(bal) == int:\n",
        "      self.__balance = bal\n",
        "    else:\n",
        "      return 'Use only int datatype'\n",
        "\n",
        "  def menu(self):\n",
        "    user_input = input(\n",
        "        \"\"\"\n",
        "        Hi how can i help you?\n",
        "        1. Press 1 to create pin .\n",
        "        2. Press 2 to change pin .\n",
        "        3. Press 3 to check balance.\n",
        "        4. Press 4 to withdraw .\n",
        "        5. Anything else to exit .\n",
        "        \"\"\")\n",
        "    if user_input =='1':\n",
        "        #create pin\n",
        "        self.create_pin()\n",
        "    elif user_input =='2':\n",
        "        #change pin\n",
        "        self.change_pin()\n",
        "    elif user_input == '3':\n",
        "        #check balance\n",
        "\n",
        "        self.check_balance()\n",
        "    elif user_input == '4':\n",
        "        #withdraw\n",
        "        self.withdrawl()\n",
        "    else:\n",
        "        exit()\n",
        "\n",
        "\n",
        "\n",
        "  def create_pin(self):\n",
        "    user_pin = input(\"enter your pin\")\n",
        "    self.pin = user_pin\n",
        "\n",
        "    user_balance = int(input(\"Enter your balance\"))\n",
        "    self.__balance = user_balance\n",
        "\n",
        "    print(\"pin created successfully\")\n",
        "    # self.menu()\n",
        "\n",
        "  def change_pin(self):\n",
        "    old_pin = input('enter old pin')\n",
        "    if old_pin == self.pin:\n",
        "      # let him change the pin\n",
        "      new_pin = input('enter new pin')\n",
        "      self.pin = new_pin\n",
        "      print('pin change successfully')\n",
        "      # self.menu()\n",
        "    else:\n",
        "      print('nai karne de skta re baba')\n",
        "      # self.menu()\n",
        "\n",
        "\n",
        "  def check_balance(self):\n",
        "    user_pin = input('enter your pin')\n",
        "    if user_pin == self.pin:\n",
        "      print('Your balance is ',self.__balance)\n",
        "      # self.menu()\n",
        "\n",
        "    else :\n",
        "      print(\"chal nikal yhan se\")\n",
        "      # self.menu()\n",
        "\n",
        "  def withdrawl(self):\n",
        "    user_pin = input('enter the pin')\n",
        "    if user_pin == self.pin:\n",
        "      # allow to withdraw\n",
        "      amount = int(input(\"enter the amount\"))\n",
        "      if amount<=self.__balance:\n",
        "        self.balance -= amount\n",
        "        print('withdrawl of balance is',self.__balance)\n",
        "        # self.menu()\n",
        "      else:\n",
        "        print('garibb hai bhai bhul gya')\n",
        "    else:\n",
        "      print('galt password ')\n",
        "\n",
        "    # self.menu()"
      ],
      "metadata": {
        "id": "Z6rgfVhvIo9T"
      },
      "execution_count": 56,
      "outputs": []
    },
    {
      "cell_type": "code",
      "source": [
        "obj1 = Atm()\n",
        "obj2 = Atm()\n",
        "obj3 = Atm()"
      ],
      "metadata": {
        "id": "y8UwyOm3JNRz"
      },
      "execution_count": 57,
      "outputs": []
    },
    {
      "cell_type": "code",
      "source": [
        "obj1.count\n"
      ],
      "metadata": {
        "id": "vN3jU3QaJOnr",
        "colab": {
          "base_uri": "https://localhost:8080/"
        },
        "outputId": "bdd4e575-c40e-47b3-9023-8400b3cef4bb"
      },
      "execution_count": 58,
      "outputs": [
        {
          "output_type": "execute_result",
          "data": {
            "text/plain": [
              "1"
            ]
          },
          "metadata": {},
          "execution_count": 58
        }
      ]
    },
    {
      "cell_type": "code",
      "source": [
        "obj2.count"
      ],
      "metadata": {
        "id": "uX-HEaTYJUVm",
        "colab": {
          "base_uri": "https://localhost:8080/"
        },
        "outputId": "528149ab-85b9-48ea-d0ae-3d2a42bca063"
      },
      "execution_count": 59,
      "outputs": [
        {
          "output_type": "execute_result",
          "data": {
            "text/plain": [
              "1"
            ]
          },
          "metadata": {},
          "execution_count": 59
        }
      ]
    },
    {
      "cell_type": "code",
      "source": [
        "obj3.count"
      ],
      "metadata": {
        "id": "tAnekswbJevq",
        "colab": {
          "base_uri": "https://localhost:8080/"
        },
        "outputId": "3ddf0245-c0b4-47f1-da39-2cd28f73820b"
      },
      "execution_count": 60,
      "outputs": [
        {
          "output_type": "execute_result",
          "data": {
            "text/plain": [
              "1"
            ]
          },
          "metadata": {},
          "execution_count": 60
        }
      ]
    },
    {
      "cell_type": "code",
      "source": [
        "class Atm :\n",
        "\n",
        "  __counter = 1\n",
        "  #constructor (special function )-> superpower ->automatic execute on creation of object .\n",
        "  def __init__(self):\n",
        "\n",
        "    self.pin = ''\n",
        "    self.__balance = 0\n",
        "    # print(\"Mai to execute hogya\")\n",
        "    self.cid = Atm.__counter\n",
        "    Atm.__counter+=1\n",
        "\n",
        "    # self.menu()\n",
        "\n",
        "  def get_balance(self):\n",
        "    return self.__balance\n",
        "\n",
        "  def set_balance(self,bal):\n",
        "    if type(bal) == int:\n",
        "      self.__balance = bal\n",
        "    else:\n",
        "      return 'Use only int datatype'\n",
        "\n",
        "   #object bnane ki need ni . Its a utility method\n",
        "  @staticmethod\n",
        "  def get_counter():\n",
        "    return Atm.__counter\n",
        "\n",
        "\n",
        "  def menu(self):\n",
        "    user_input = input(\n",
        "        \"\"\"\n",
        "        Hi how can i help you?\n",
        "        1. Press 1 to create pin .\n",
        "        2. Press 2 to change pin .\n",
        "        3. Press 3 to check balance.\n",
        "        4. Press 4 to withdraw .\n",
        "        5. Anything else to exit .\n",
        "        \"\"\")\n",
        "    if user_input =='1':\n",
        "        #create pin\n",
        "        self.create_pin()\n",
        "    elif user_input =='2':\n",
        "        #change pin\n",
        "        self.change_pin()\n",
        "    elif user_input == '3':\n",
        "        #check balance\n",
        "\n",
        "        self.check_balance()\n",
        "    elif user_input == '4':\n",
        "        #withdraw\n",
        "        self.withdrawl()\n",
        "    else:\n",
        "        exit()\n",
        "\n",
        "\n",
        "\n",
        "  def create_pin(self):\n",
        "    user_pin = input(\"enter your pin\")\n",
        "    self.pin = user_pin\n",
        "\n",
        "    user_balance = int(input(\"Enter your balance\"))\n",
        "    self.__balance = user_balance\n",
        "\n",
        "    print(\"pin created successfully\")\n",
        "    # self.menu()\n",
        "\n",
        "  def change_pin(self):\n",
        "    old_pin = input('enter old pin')\n",
        "    if old_pin == self.pin:\n",
        "      # let him change the pin\n",
        "      new_pin = input('enter new pin')\n",
        "      self.pin = new_pin\n",
        "      print('pin change successfully')\n",
        "      # self.menu()\n",
        "    else:\n",
        "      print('nai karne de skta re baba')\n",
        "      # self.menu()\n",
        "\n",
        "\n",
        "  def check_balance(self):\n",
        "    user_pin = input('enter your pin')\n",
        "    if user_pin == self.pin:\n",
        "      print('Your balance is ',self.__balance)\n",
        "      # self.menu()\n",
        "\n",
        "    else :\n",
        "      print(\"chal nikal yhan se\")\n",
        "      # self.menu()\n",
        "\n",
        "  def withdrawl(self):\n",
        "    user_pin = input('enter the pin')\n",
        "    if user_pin == self.pin:\n",
        "      # allow to withdraw\n",
        "      amount = int(input(\"enter the amount\"))\n",
        "      if amount<=self.__balance:\n",
        "        self.balance -= amount\n",
        "        print('withdrawl of balance is',self.__balance)\n",
        "        # self.menu()\n",
        "      else:\n",
        "        print('garibb hai bhai bhul gya')\n",
        "    else:\n",
        "      print('galt password ')\n",
        "\n",
        "    # self.menu()"
      ],
      "metadata": {
        "id": "eU3WjqC7JgXJ"
      },
      "execution_count": 61,
      "outputs": []
    },
    {
      "cell_type": "code",
      "source": [
        "obj1 = Atm()\n",
        "obj2 = Atm()\n",
        "obj3 = Atm()"
      ],
      "metadata": {
        "id": "g7ZL3mGXKFvT"
      },
      "execution_count": 62,
      "outputs": []
    },
    {
      "cell_type": "code",
      "source": [
        "obj1.cid"
      ],
      "metadata": {
        "id": "vrWdvA4AKJTV",
        "colab": {
          "base_uri": "https://localhost:8080/"
        },
        "outputId": "60aca61a-795f-4969-a7cf-2b27478e4391"
      },
      "execution_count": 63,
      "outputs": [
        {
          "output_type": "execute_result",
          "data": {
            "text/plain": [
              "1"
            ]
          },
          "metadata": {},
          "execution_count": 63
        }
      ]
    },
    {
      "cell_type": "code",
      "source": [
        "obj2.cid\n"
      ],
      "metadata": {
        "id": "fLauUyS5KK0U",
        "colab": {
          "base_uri": "https://localhost:8080/"
        },
        "outputId": "c3dbf97f-f006-44f2-ae3c-3ecb80403a67"
      },
      "execution_count": 64,
      "outputs": [
        {
          "output_type": "execute_result",
          "data": {
            "text/plain": [
              "2"
            ]
          },
          "metadata": {},
          "execution_count": 64
        }
      ]
    },
    {
      "cell_type": "code",
      "source": [
        "obj3.cid"
      ],
      "metadata": {
        "id": "6kOmPP31KMJW",
        "colab": {
          "base_uri": "https://localhost:8080/"
        },
        "outputId": "5e2f4ce6-5835-424b-b44d-93cb7f0a9c5b"
      },
      "execution_count": 65,
      "outputs": [
        {
          "output_type": "execute_result",
          "data": {
            "text/plain": [
              "3"
            ]
          },
          "metadata": {},
          "execution_count": 65
        }
      ]
    },
    {
      "cell_type": "code",
      "source": [
        "Atm.get_counter()"
      ],
      "metadata": {
        "id": "n5fz0LddKUOW",
        "colab": {
          "base_uri": "https://localhost:8080/"
        },
        "outputId": "e1b67310-233c-4420-bf30-31a53c0d3dac"
      },
      "execution_count": 66,
      "outputs": [
        {
          "output_type": "execute_result",
          "data": {
            "text/plain": [
              "4"
            ]
          },
          "metadata": {},
          "execution_count": 66
        }
      ]
    },
    {
      "cell_type": "markdown",
      "source": [
        "### 9.5 Class relationship\n",
        "- Aggregation\n",
        "- Inheritance"
      ],
      "metadata": {
        "id": "SZQMmRZieuwH"
      }
    },
    {
      "cell_type": "markdown",
      "source": [
        "#### Aggregation (has relationship)\n",
        "- one class owns the other class"
      ],
      "metadata": {
        "id": "-LM9Jp-SfXue"
      }
    },
    {
      "cell_type": "code",
      "source": [
        "# Customer class has a class address\n",
        "class Customer:\n",
        "\n",
        "  def __init__(self,name,gender,address):\n",
        "    self.name = name\n",
        "    self.gender = gender\n",
        "    self.address = address\n",
        "\n",
        "  def print_address(self):\n",
        "    print(self.address.get_city(),self.address.pin,self.address.state)\n",
        "\n",
        "  def edit_profile(self,new_name,new_city,new_pin,new_state):\n",
        "    self.name = new_name\n",
        "    self.address.edit_address(new_city,new_pin,new_state)\n",
        "\n",
        "class Address:\n",
        "\n",
        "   def __init__(self,city,pin,state):\n",
        "    self.__city = city\n",
        "    self.pin = pin\n",
        "    self.state = state\n",
        "\n",
        "   def get_city(self):\n",
        "    return self.__city\n",
        "\n",
        "   def edit_address(self,new_city,new_pin,new_state):\n",
        "    self.__city = new_city\n",
        "    self.pin = new_pin\n",
        "    self.state = new_state\n"
      ],
      "metadata": {
        "id": "L9LLAtNqKoby"
      },
      "execution_count": 67,
      "outputs": []
    },
    {
      "cell_type": "code",
      "source": [
        "add1 = Address(\"new delhi\",10096,\"delhi\")\n",
        "cust1 = Customer(\"yash\",\"male\",add1)\n",
        "cust1.print_address()"
      ],
      "metadata": {
        "id": "qzy6bhfmhnc3",
        "colab": {
          "base_uri": "https://localhost:8080/"
        },
        "outputId": "34184410-414f-410f-af29-b79f852f6b1f"
      },
      "execution_count": 68,
      "outputs": [
        {
          "output_type": "stream",
          "name": "stdout",
          "text": [
            "new delhi 10096 delhi\n"
          ]
        }
      ]
    },
    {
      "cell_type": "code",
      "source": [
        "cust1.edit_profile(\"radhansh\",\"Vrindavan\",1234,\"Uttar Pradesh\")"
      ],
      "metadata": {
        "id": "5CWcThJXh5sj"
      },
      "execution_count": 69,
      "outputs": []
    },
    {
      "cell_type": "code",
      "source": [
        "cust1.name"
      ],
      "metadata": {
        "id": "6Lcs8l-ziguR",
        "colab": {
          "base_uri": "https://localhost:8080/",
          "height": 35
        },
        "outputId": "76cb23f2-2c4c-47f9-c738-28dc32b8bb1b"
      },
      "execution_count": 70,
      "outputs": [
        {
          "output_type": "execute_result",
          "data": {
            "text/plain": [
              "'radhansh'"
            ],
            "application/vnd.google.colaboratory.intrinsic+json": {
              "type": "string"
            }
          },
          "metadata": {},
          "execution_count": 70
        }
      ]
    },
    {
      "cell_type": "code",
      "source": [
        "cust1.address.state"
      ],
      "metadata": {
        "id": "Le9FSibGiu5b",
        "colab": {
          "base_uri": "https://localhost:8080/",
          "height": 35
        },
        "outputId": "b5d146a6-bbd0-4a50-8eec-77f6198aaecc"
      },
      "execution_count": 71,
      "outputs": [
        {
          "output_type": "execute_result",
          "data": {
            "text/plain": [
              "'Uttar Pradesh'"
            ],
            "application/vnd.google.colaboratory.intrinsic+json": {
              "type": "string"
            }
          },
          "metadata": {},
          "execution_count": 71
        }
      ]
    },
    {
      "cell_type": "markdown",
      "source": [
        "#### Inheritance\n",
        "- Child class inherit from parent class"
      ],
      "metadata": {
        "id": "Q3TGF-vyi_e8"
      }
    },
    {
      "cell_type": "code",
      "source": [
        "# parent class\n",
        "class User:\n",
        "\n",
        "  def __init__(self):\n",
        "    self.name = \"yash\"\n",
        "\n",
        "  def login(self):\n",
        "    print(\"Login successfully.....\")\n",
        "\n",
        "\n",
        "# child class\n",
        "class Student(User):\n",
        "\n",
        "  def enroll(self):\n",
        "    print(\"enroll into course .....\")\n",
        "\n",
        "\n",
        "stud1 = Student()\n",
        "stud1.login()\n",
        "stud1.enroll()\n",
        "stud1.name"
      ],
      "metadata": {
        "id": "XckRHFwdi046",
        "colab": {
          "base_uri": "https://localhost:8080/",
          "height": 71
        },
        "outputId": "258f82a9-b0f9-4419-9b72-eae0b55ee7d4"
      },
      "execution_count": 72,
      "outputs": [
        {
          "output_type": "stream",
          "name": "stdout",
          "text": [
            "Login successfully.....\n",
            "enroll into course .....\n"
          ]
        },
        {
          "output_type": "execute_result",
          "data": {
            "text/plain": [
              "'yash'"
            ],
            "application/vnd.google.colaboratory.intrinsic+json": {
              "type": "string"
            }
          },
          "metadata": {},
          "execution_count": 72
        }
      ]
    },
    {
      "cell_type": "markdown",
      "source": [
        "#### What gets inherited\n",
        "- Constructor\n",
        "- Non private methods and non private attributes ."
      ],
      "metadata": {
        "id": "goGJyRgRj5yt"
      }
    },
    {
      "cell_type": "code",
      "source": [
        "# Constructor example\n",
        "class Phone:\n",
        "\n",
        "  def __init__(self,price,brand,camera):\n",
        "    print(\"Inside phone constructor\")\n",
        "    self.price = price\n",
        "    self.brand = brand\n",
        "    self.camera = camera\n",
        "\n",
        "  def buy(self):\n",
        "    print(\"Buying a phone ....\")\n",
        "\n",
        "\n",
        "class Mobile(Phone):\n",
        "  pass\n",
        "\n",
        "\n",
        "mob1 = Mobile(1000,\"apple\",\"20mpx\")\n",
        "mob1.buy()\n"
      ],
      "metadata": {
        "id": "U991ECkmjv8-",
        "colab": {
          "base_uri": "https://localhost:8080/"
        },
        "outputId": "5b3d5254-6ff7-4d13-c6af-4408c88e088c"
      },
      "execution_count": 73,
      "outputs": [
        {
          "output_type": "stream",
          "name": "stdout",
          "text": [
            "Inside phone constructor\n",
            "Buying a phone ....\n"
          ]
        }
      ]
    },
    {
      "cell_type": "code",
      "source": [
        "# Constructor example\n",
        "\n",
        "class Phone:\n",
        "\n",
        "  def __init__(self,price,brand,camera):\n",
        "    print(\"Inside phone constructor\")\n",
        "    self.price = price\n",
        "    self.brand = brand\n",
        "    self.camera = camera\n",
        "\n",
        "  def buy(self):\n",
        "    print(\"Buying a phone ....\")\n",
        "\n",
        "\n",
        "class Mobile(Phone):\n",
        "  def __init__(self,os,ram):\n",
        "    self.os = os\n",
        "    self.ram = ram\n",
        "    print(\"Inside Mobile constructor\")\n",
        "\n",
        "\n",
        "mob1 = Mobile(\"android\",\"4gb\")\n",
        "mob1.os"
      ],
      "metadata": {
        "id": "YZVhil9Dk4rx",
        "colab": {
          "base_uri": "https://localhost:8080/",
          "height": 53
        },
        "outputId": "22b014cc-10b1-4193-d473-1e6afde3a4d1"
      },
      "execution_count": 74,
      "outputs": [
        {
          "output_type": "stream",
          "name": "stdout",
          "text": [
            "Inside Mobile constructor\n"
          ]
        },
        {
          "output_type": "execute_result",
          "data": {
            "text/plain": [
              "'android'"
            ],
            "application/vnd.google.colaboratory.intrinsic+json": {
              "type": "string"
            }
          },
          "metadata": {},
          "execution_count": 74
        }
      ]
    },
    {
      "cell_type": "code",
      "source": [
        "# Child cannot access private member of class\n",
        "class Phone:\n",
        "\n",
        "  def __init__(self,price,brand,camera):\n",
        "    self.__price = price\n",
        "    self.brand = brand\n",
        "    self.camera = camera\n",
        "\n",
        "  def showprice(self):\n",
        "    print(\"Price is :\",self.__price)\n",
        "\n",
        "class Smartphone(Phone):\n",
        "   def check_self(self) :\n",
        "    print(self.__price)\n",
        "\n",
        "\n",
        "s1 = Smartphone(1000,\"apple\",\"24px\")\n",
        "s1.check_self()\n",
        "\n"
      ],
      "metadata": {
        "id": "AkBKWBJbl1EV",
        "colab": {
          "base_uri": "https://localhost:8080/",
          "height": 323
        },
        "outputId": "95c47928-eff9-432d-84af-030c4601bd01"
      },
      "execution_count": 75,
      "outputs": [
        {
          "output_type": "error",
          "ename": "AttributeError",
          "evalue": "'Smartphone' object has no attribute '_Smartphone__price'",
          "traceback": [
            "\u001b[0;31m---------------------------------------------------------------------------\u001b[0m",
            "\u001b[0;31mAttributeError\u001b[0m                            Traceback (most recent call last)",
            "\u001b[0;32m/tmp/ipython-input-2060466688.py\u001b[0m in \u001b[0;36m<cell line: 0>\u001b[0;34m()\u001b[0m\n\u001b[1;32m     16\u001b[0m \u001b[0;34m\u001b[0m\u001b[0m\n\u001b[1;32m     17\u001b[0m \u001b[0ms1\u001b[0m \u001b[0;34m=\u001b[0m \u001b[0mSmartphone\u001b[0m\u001b[0;34m(\u001b[0m\u001b[0;36m1000\u001b[0m\u001b[0;34m,\u001b[0m\u001b[0;34m\"apple\"\u001b[0m\u001b[0;34m,\u001b[0m\u001b[0;34m\"24px\"\u001b[0m\u001b[0;34m)\u001b[0m\u001b[0;34m\u001b[0m\u001b[0;34m\u001b[0m\u001b[0m\n\u001b[0;32m---> 18\u001b[0;31m \u001b[0ms1\u001b[0m\u001b[0;34m.\u001b[0m\u001b[0mcheck_self\u001b[0m\u001b[0;34m(\u001b[0m\u001b[0;34m)\u001b[0m\u001b[0;34m\u001b[0m\u001b[0;34m\u001b[0m\u001b[0m\n\u001b[0m\u001b[1;32m     19\u001b[0m \u001b[0;34m\u001b[0m\u001b[0m\n",
            "\u001b[0;32m/tmp/ipython-input-2060466688.py\u001b[0m in \u001b[0;36mcheck_self\u001b[0;34m(self)\u001b[0m\n\u001b[1;32m     12\u001b[0m \u001b[0;32mclass\u001b[0m \u001b[0mSmartphone\u001b[0m\u001b[0;34m(\u001b[0m\u001b[0mPhone\u001b[0m\u001b[0;34m)\u001b[0m\u001b[0;34m:\u001b[0m\u001b[0;34m\u001b[0m\u001b[0;34m\u001b[0m\u001b[0m\n\u001b[1;32m     13\u001b[0m    \u001b[0;32mdef\u001b[0m \u001b[0mcheck_self\u001b[0m\u001b[0;34m(\u001b[0m\u001b[0mself\u001b[0m\u001b[0;34m)\u001b[0m \u001b[0;34m:\u001b[0m\u001b[0;34m\u001b[0m\u001b[0;34m\u001b[0m\u001b[0m\n\u001b[0;32m---> 14\u001b[0;31m     \u001b[0mprint\u001b[0m\u001b[0;34m(\u001b[0m\u001b[0mself\u001b[0m\u001b[0;34m.\u001b[0m\u001b[0m__price\u001b[0m\u001b[0;34m)\u001b[0m\u001b[0;34m\u001b[0m\u001b[0;34m\u001b[0m\u001b[0m\n\u001b[0m\u001b[1;32m     15\u001b[0m \u001b[0;34m\u001b[0m\u001b[0m\n\u001b[1;32m     16\u001b[0m \u001b[0;34m\u001b[0m\u001b[0m\n",
            "\u001b[0;31mAttributeError\u001b[0m: 'Smartphone' object has no attribute '_Smartphone__price'"
          ]
        }
      ]
    },
    {
      "cell_type": "code",
      "source": [
        "# s1._Phone__price"
      ],
      "metadata": {
        "id": "7FwYmZ9XoPoP"
      },
      "execution_count": 76,
      "outputs": []
    },
    {
      "cell_type": "code",
      "source": [
        "class Parent:\n",
        "\n",
        "  def __init__(self,num):\n",
        "    self.__num = num\n",
        "\n",
        "  def get_num(self):\n",
        "    return self.__num\n",
        "\n",
        "\n",
        "class Child(Parent):\n",
        "\n",
        "  def show(self):\n",
        "    print(\"This is the child class\")\n",
        "\n",
        "son1 = Child(100)\n",
        "son1.get_num()\n",
        "son1.show()"
      ],
      "metadata": {
        "id": "SLxi4KEOom1g",
        "colab": {
          "base_uri": "https://localhost:8080/"
        },
        "outputId": "8039c68b-23d9-4c21-b783-76a869f60032"
      },
      "execution_count": 77,
      "outputs": [
        {
          "output_type": "stream",
          "name": "stdout",
          "text": [
            "This is the child class\n"
          ]
        }
      ]
    },
    {
      "cell_type": "code",
      "source": [
        "class Parent:\n",
        "  def __init__(self,num):\n",
        "    self.__num=num;\n",
        "  def get_num(self):\n",
        "    return self.__num;\n",
        "\n",
        "class Child(Parent):\n",
        "  def __init__(self,val,num):\n",
        "    self.__val = val;\n",
        "    self.num = num;\n",
        "\n",
        "  def get_val(self):\n",
        "    return self.__val\n",
        "\n",
        "son = Child(100,10)\n",
        "print(\"Child:val\",son.get_val())\n"
      ],
      "metadata": {
        "id": "bmK0eoXfu1Tl",
        "colab": {
          "base_uri": "https://localhost:8080/"
        },
        "outputId": "ae7dca81-89c0-4eae-a66c-1c94b6d34377"
      },
      "execution_count": 78,
      "outputs": [
        {
          "output_type": "stream",
          "name": "stdout",
          "text": [
            "Child:val 100\n"
          ]
        }
      ]
    },
    {
      "cell_type": "markdown",
      "source": [
        "Method Overriridng"
      ],
      "metadata": {
        "id": "jD8oOya7l2Er"
      }
    },
    {
      "cell_type": "code",
      "source": [
        "class Phone:\n",
        "  def __init__(self,price,brand,camera):\n",
        "    self.price = price\n",
        "    self.brand = brand\n",
        "    self.camera = camera\n",
        "\n",
        "  def buy(self):\n",
        "    print(\"Buying a phone\")\n",
        "\n",
        "class Smartphone(Phone):\n",
        "  def buy(self):\n",
        "    print(\"Buying a smartphone\")\n",
        "\n",
        "s1 = Smartphone(1000,\"appi\",\"24px\")\n",
        "s1.buy()"
      ],
      "metadata": {
        "id": "Hwy47yn5lpKX",
        "colab": {
          "base_uri": "https://localhost:8080/"
        },
        "outputId": "b0ab327f-969b-4b3e-c106-f55343b12d6a"
      },
      "execution_count": 79,
      "outputs": [
        {
          "output_type": "stream",
          "name": "stdout",
          "text": [
            "Buying a smartphone\n"
          ]
        }
      ]
    },
    {
      "cell_type": "markdown",
      "source": [
        "Super keyword is used to acess parents methods"
      ],
      "metadata": {
        "id": "jxW516c1mdir"
      }
    },
    {
      "cell_type": "code",
      "source": [
        "class Phone:\n",
        "  def __init__(self,price,brand,camera):\n",
        "    self.price = price\n",
        "    self.brand = brand\n",
        "    self.camera = camera\n",
        "\n",
        "  def buy(self):\n",
        "    print(\"Buying a phone\")\n",
        "\n",
        "class Smartphone(Phone):\n",
        "  def buy(self):\n",
        "    # super is used to access parent method\n",
        "    super().buy()\n",
        "    print(\"Buying a smartphone\")\n",
        "\n",
        "s1 = Smartphone(1000,\"appi\",\"24px\")\n",
        "s1.buy()\n",
        "\n"
      ],
      "metadata": {
        "id": "z6PJ7sCkmadK",
        "colab": {
          "base_uri": "https://localhost:8080/"
        },
        "outputId": "73343e37-fedd-4af0-d7b8-a7148876d1f5"
      },
      "execution_count": 80,
      "outputs": [
        {
          "output_type": "stream",
          "name": "stdout",
          "text": [
            "Buying a phone\n",
            "Buying a smartphone\n"
          ]
        }
      ]
    },
    {
      "cell_type": "code",
      "source": [
        "# super -> constructor\n",
        "\n",
        "class Phone:\n",
        "  def __init__(self,price,brand,camera):\n",
        "    self.price = price\n",
        "    self.brand = brand\n",
        "    self.camera = camera\n",
        "    print(\"inside phone constructor\")\n",
        "\n",
        "class Smartphone(Phone):\n",
        "  def __init__(self,price,brand,camera,os,ram):\n",
        "    super().__init__(price,brand,camera)\n",
        "    self.os = os\n",
        "    self.ram = ram\n",
        "\n",
        "    print(\"Inside smartphone constructor \")\n",
        "\n",
        "s1 = Smartphone(200000,\"appi\",\"24px\",\"mac\",4)"
      ],
      "metadata": {
        "id": "JOIxbofimxwW",
        "colab": {
          "base_uri": "https://localhost:8080/"
        },
        "outputId": "872e5f84-c12d-40c7-d80d-810bd15500c0"
      },
      "execution_count": 81,
      "outputs": [
        {
          "output_type": "stream",
          "name": "stdout",
          "text": [
            "inside phone constructor\n",
            "Inside smartphone constructor \n"
          ]
        }
      ]
    },
    {
      "cell_type": "markdown",
      "source": [
        "- we can't use super keyword outside the class . Use inside child class .\n",
        "- we cannot access attribute with super() only method can be accessed .\n",
        "- super() is an inbuilt function which is used to invoke the parent class methods and constructor"
      ],
      "metadata": {
        "id": "6jfuTMmfoEVf"
      }
    },
    {
      "cell_type": "code",
      "source": [
        "class Parent :\n",
        "  def __init__(self,num):\n",
        "    self.__num = num\n",
        "\n",
        "  def get_num(self):\n",
        "    return self.__num\n",
        "\n",
        "class Child(Parent):\n",
        "\n",
        "  def __init__(self,num,val):\n",
        "    super().__init__(num)\n",
        "    self.__val=val\n",
        "\n",
        "  def get_val(self):\n",
        "    return self.__val\n",
        "\n",
        "son = Child(100,200)\n",
        "print(son.get_num())\n",
        "print(son.get_val())"
      ],
      "metadata": {
        "id": "NngSMXnQn0At",
        "colab": {
          "base_uri": "https://localhost:8080/"
        },
        "outputId": "64b3af60-5b7f-4a27-8acc-3ce6ddf9751c"
      },
      "execution_count": 82,
      "outputs": [
        {
          "output_type": "stream",
          "name": "stdout",
          "text": [
            "100\n",
            "200\n"
          ]
        }
      ]
    },
    {
      "cell_type": "code",
      "source": [
        "class Parent:\n",
        "  def __init__(self):\n",
        "    self.num = 100\n",
        "\n",
        "class Child(Parent):\n",
        "\n",
        "  def __init__(self):\n",
        "    super().__init__()\n",
        "    self.var = 200\n",
        "\n",
        "  def show(self):\n",
        "    print(self.num)\n",
        "    print(self.var)\n",
        "\n",
        "son = Child()\n",
        "son.show()"
      ],
      "metadata": {
        "id": "CS_pPvupoZuq",
        "colab": {
          "base_uri": "https://localhost:8080/"
        },
        "outputId": "78699efa-2d23-4d0c-9fe4-7e2b6a6da58b"
      },
      "execution_count": 83,
      "outputs": [
        {
          "output_type": "stream",
          "name": "stdout",
          "text": [
            "100\n",
            "200\n"
          ]
        }
      ]
    },
    {
      "cell_type": "code",
      "source": [
        "class Parent:\n",
        "  def __init__(self):\n",
        "    self.__num = 100\n",
        "\n",
        "  def show(self):\n",
        "    print(\"Parent: \",self.__num)\n",
        "\n",
        "class Child(Parent):\n",
        "\n",
        "  def __init__(self):\n",
        "    super().__init__()\n",
        "    self.__var = 200\n",
        "\n",
        "  def show(self):\n",
        "    print(\"Child:\",self.__var)\n",
        "\n",
        "\n",
        "son = Child()\n",
        "son.show()"
      ],
      "metadata": {
        "id": "3x230o9jojwB",
        "colab": {
          "base_uri": "https://localhost:8080/"
        },
        "outputId": "3b77264d-822f-47c1-8955-08099a676a0c"
      },
      "execution_count": 84,
      "outputs": [
        {
          "output_type": "stream",
          "name": "stdout",
          "text": [
            "Child: 200\n"
          ]
        }
      ]
    },
    {
      "cell_type": "markdown",
      "source": [
        "#### Types of inheritance\n",
        "1. Single\n",
        "2. Multilevel\n",
        "3. Hierarchial\n",
        "4. Multiple\n",
        "5. Hybrid"
      ],
      "metadata": {
        "id": "ItMgterwoxbt"
      }
    },
    {
      "cell_type": "code",
      "source": [
        "# Single Inheritance\n",
        "class Phone:\n",
        "  def __init__(self,price,brand,camera):\n",
        "    print(\"Inside phone contructor \")\n",
        "    self.__price = price\n",
        "    self.brand = brand\n",
        "    self.camera = camera\n",
        "\n",
        "  def buy(self):\n",
        "    print(\"Buying a phone\")\n",
        "\n",
        "\n",
        "\n",
        "class Smartphone(Phone):\n",
        "   pass\n",
        "\n",
        "\n",
        "Smartphone(20000,\"Samsung\",'13px').buy()"
      ],
      "metadata": {
        "id": "40QwaaI5ouDU",
        "colab": {
          "base_uri": "https://localhost:8080/"
        },
        "outputId": "778b507b-6d71-4089-f0ff-9bcdb011223f"
      },
      "execution_count": 85,
      "outputs": [
        {
          "output_type": "stream",
          "name": "stdout",
          "text": [
            "Inside phone contructor \n",
            "Buying a phone\n"
          ]
        }
      ]
    },
    {
      "cell_type": "code",
      "source": [
        "# Multilevel Inheritance\n",
        "class Product :\n",
        "  def review(self):\n",
        "    print(\"Product customer review\")\n",
        "\n",
        "class Phone(Product):\n",
        "  def __init__(self,price,brand,camera):\n",
        "    print(\"Inside phone constructor\")\n",
        "    self.__price = price\n",
        "    self.brand = brand\n",
        "    self.camera = camera\n",
        "\n",
        "  def buy(self):\n",
        "    print(\"Buying a phone\")\n",
        "\n",
        "class Smartphone(Phone):\n",
        "  pass\n",
        "\n",
        "s=Smartphone(2000,\"apple\",12)\n",
        "s.buy()\n",
        "s.review()"
      ],
      "metadata": {
        "id": "SPrHQ-4npNaf",
        "colab": {
          "base_uri": "https://localhost:8080/"
        },
        "outputId": "f41a8b66-bf27-46d3-adad-7b6f7b7a9f85"
      },
      "execution_count": 86,
      "outputs": [
        {
          "output_type": "stream",
          "name": "stdout",
          "text": [
            "Inside phone constructor\n",
            "Buying a phone\n",
            "Product customer review\n"
          ]
        }
      ]
    },
    {
      "cell_type": "code",
      "source": [
        "# Multilevel Inheritance\n",
        "class Product :\n",
        "  def review(self):\n",
        "    print(\"Product customer review\")\n",
        "\n",
        "class Phone(Product):\n",
        "  def __init__(self,price,brand,camera):\n",
        "    print(\"Inside phone constructor\")\n",
        "    self.__price = price\n",
        "    self.brand = brand\n",
        "    self.camera = camera\n",
        "\n",
        "  def buy(self):\n",
        "    print(\"Buying a phone\")\n",
        "\n",
        "class Smartphone(Phone):\n",
        "  pass\n",
        "\n",
        "s=Smartphone(2000,\"apple\",12)\n",
        "s.buy()\n",
        "s.review()"
      ],
      "metadata": {
        "id": "sEgiQRutpWq3",
        "colab": {
          "base_uri": "https://localhost:8080/"
        },
        "outputId": "4e574c56-6f04-44bb-8870-0e004de640d8"
      },
      "execution_count": 87,
      "outputs": [
        {
          "output_type": "stream",
          "name": "stdout",
          "text": [
            "Inside phone constructor\n",
            "Buying a phone\n",
            "Product customer review\n"
          ]
        }
      ]
    },
    {
      "cell_type": "code",
      "source": [
        "# multiple inheritance\n",
        "\n",
        "class Phone:\n",
        "  def __init__(self,price,brand,camera):\n",
        "    print(\"Inside phone constructor\")\n",
        "    self.__price = price\n",
        "    self.brand = brand\n",
        "    self.camera = camera\n",
        "\n",
        "  def buy(self):\n",
        "    print(\"Buying a phone\")\n",
        "\n",
        "class Product:\n",
        "  def review(self):\n",
        "    print(\"Customer review\")\n",
        "\n",
        "class Smartphone(Phone,Product):\n",
        "  pass\n",
        "\n",
        "s= Smartphone(20000,\"Apple\",12)\n",
        "s.buy()\n",
        "s.review()"
      ],
      "metadata": {
        "id": "NqFO9z4SpgXh",
        "colab": {
          "base_uri": "https://localhost:8080/"
        },
        "outputId": "2a824e28-906b-40fc-c4bb-09ddd9e2d879"
      },
      "execution_count": 88,
      "outputs": [
        {
          "output_type": "stream",
          "name": "stdout",
          "text": [
            "Inside phone constructor\n",
            "Buying a phone\n",
            "Customer review\n"
          ]
        }
      ]
    },
    {
      "cell_type": "code",
      "source": [
        "# The Diamond Problem in python\n",
        "class Phone:\n",
        "  def __init__(self,price,brand,camera):\n",
        "    print(\"Inside phone constructor\")\n",
        "    self.__price = price\n",
        "    self.brand = brand\n",
        "    self.camera = camera\n",
        "\n",
        "  def buy(self):\n",
        "    print(\"Buying a phone\")\n",
        "\n",
        "class Product:\n",
        "  def buy(self):\n",
        "    print(\"Product buy method\")\n",
        "\n",
        "class Smartphone(Phone,Product):\n",
        "  #jiska naam pehela uska buy kaam krega --> Method resolution order--> MRO\n",
        "  pass\n",
        "\n",
        "s = Smartphone(20000,\"Apple\",12)\n",
        "s.buy()"
      ],
      "metadata": {
        "id": "0Hy2OlEDphYY",
        "colab": {
          "base_uri": "https://localhost:8080/"
        },
        "outputId": "6cdc46de-15cd-4acc-f6cc-96d2898668eb"
      },
      "execution_count": 89,
      "outputs": [
        {
          "output_type": "stream",
          "name": "stdout",
          "text": [
            "Inside phone constructor\n",
            "Buying a phone\n"
          ]
        }
      ]
    },
    {
      "cell_type": "code",
      "source": [
        "class A:\n",
        "  def m1(self):\n",
        "    return 20\n",
        "\n",
        "class B(A):\n",
        "  def m1(self):\n",
        "    return 30\n",
        "  def m2(self):\n",
        "    return 40\n",
        "\n",
        "class C(B):\n",
        "  def m2(self):\n",
        "    return 20\n",
        "\n",
        "obj1 = A()\n",
        "obj2 = B()\n",
        "obj3 = C()\n",
        "\n",
        "print(obj1.m1()+obj3.m1()+obj3.m2())"
      ],
      "metadata": {
        "id": "KsYyoOLAprUj",
        "colab": {
          "base_uri": "https://localhost:8080/"
        },
        "outputId": "52416a42-b437-4895-e0a8-f3efe689cda6"
      },
      "execution_count": 90,
      "outputs": [
        {
          "output_type": "stream",
          "name": "stdout",
          "text": [
            "70\n"
          ]
        }
      ]
    },
    {
      "cell_type": "code",
      "source": [
        "class A:\n",
        "  def m1(self):\n",
        "    return 20\n",
        "\n",
        "class B(A):\n",
        "  def m1(self):\n",
        "    val = super().m1()+30\n",
        "    return val\n",
        "\n",
        "class C(B):\n",
        "  def m1(self):\n",
        "    val = self.m1()+20\n",
        "    return val\n",
        "\n",
        "obj = C()\n",
        "print(obj.m1())\n",
        "\n",
        "#infinite loop"
      ],
      "metadata": {
        "id": "tBLM_rxpp14Z",
        "colab": {
          "base_uri": "https://localhost:8080/",
          "height": 400
        },
        "outputId": "8d46db8d-6e70-465c-e34f-85ff755f7ee7"
      },
      "execution_count": 91,
      "outputs": [
        {
          "output_type": "error",
          "ename": "RecursionError",
          "evalue": "maximum recursion depth exceeded",
          "traceback": [
            "\u001b[0;31m---------------------------------------------------------------------------\u001b[0m",
            "\u001b[0;31mRecursionError\u001b[0m                            Traceback (most recent call last)",
            "\u001b[0;32m/tmp/ipython-input-2967703094.py\u001b[0m in \u001b[0;36m<cell line: 0>\u001b[0;34m()\u001b[0m\n\u001b[1;32m     14\u001b[0m \u001b[0;34m\u001b[0m\u001b[0m\n\u001b[1;32m     15\u001b[0m \u001b[0mobj\u001b[0m \u001b[0;34m=\u001b[0m \u001b[0mC\u001b[0m\u001b[0;34m(\u001b[0m\u001b[0;34m)\u001b[0m\u001b[0;34m\u001b[0m\u001b[0;34m\u001b[0m\u001b[0m\n\u001b[0;32m---> 16\u001b[0;31m \u001b[0mprint\u001b[0m\u001b[0;34m(\u001b[0m\u001b[0mobj\u001b[0m\u001b[0;34m.\u001b[0m\u001b[0mm1\u001b[0m\u001b[0;34m(\u001b[0m\u001b[0;34m)\u001b[0m\u001b[0;34m)\u001b[0m\u001b[0;34m\u001b[0m\u001b[0;34m\u001b[0m\u001b[0m\n\u001b[0m\u001b[1;32m     17\u001b[0m \u001b[0;34m\u001b[0m\u001b[0m\n\u001b[1;32m     18\u001b[0m \u001b[0;31m#infinite loop\u001b[0m\u001b[0;34m\u001b[0m\u001b[0;34m\u001b[0m\u001b[0m\n",
            "\u001b[0;32m/tmp/ipython-input-2967703094.py\u001b[0m in \u001b[0;36mm1\u001b[0;34m(self)\u001b[0m\n\u001b[1;32m     10\u001b[0m \u001b[0;32mclass\u001b[0m \u001b[0mC\u001b[0m\u001b[0;34m(\u001b[0m\u001b[0mB\u001b[0m\u001b[0;34m)\u001b[0m\u001b[0;34m:\u001b[0m\u001b[0;34m\u001b[0m\u001b[0;34m\u001b[0m\u001b[0m\n\u001b[1;32m     11\u001b[0m   \u001b[0;32mdef\u001b[0m \u001b[0mm1\u001b[0m\u001b[0;34m(\u001b[0m\u001b[0mself\u001b[0m\u001b[0;34m)\u001b[0m\u001b[0;34m:\u001b[0m\u001b[0;34m\u001b[0m\u001b[0;34m\u001b[0m\u001b[0m\n\u001b[0;32m---> 12\u001b[0;31m     \u001b[0mval\u001b[0m \u001b[0;34m=\u001b[0m \u001b[0mself\u001b[0m\u001b[0;34m.\u001b[0m\u001b[0mm1\u001b[0m\u001b[0;34m(\u001b[0m\u001b[0;34m)\u001b[0m\u001b[0;34m+\u001b[0m\u001b[0;36m20\u001b[0m\u001b[0;34m\u001b[0m\u001b[0;34m\u001b[0m\u001b[0m\n\u001b[0m\u001b[1;32m     13\u001b[0m     \u001b[0;32mreturn\u001b[0m \u001b[0mval\u001b[0m\u001b[0;34m\u001b[0m\u001b[0;34m\u001b[0m\u001b[0m\n\u001b[1;32m     14\u001b[0m \u001b[0;34m\u001b[0m\u001b[0m\n",
            "... last 1 frames repeated, from the frame below ...\n",
            "\u001b[0;32m/tmp/ipython-input-2967703094.py\u001b[0m in \u001b[0;36mm1\u001b[0;34m(self)\u001b[0m\n\u001b[1;32m     10\u001b[0m \u001b[0;32mclass\u001b[0m \u001b[0mC\u001b[0m\u001b[0;34m(\u001b[0m\u001b[0mB\u001b[0m\u001b[0;34m)\u001b[0m\u001b[0;34m:\u001b[0m\u001b[0;34m\u001b[0m\u001b[0;34m\u001b[0m\u001b[0m\n\u001b[1;32m     11\u001b[0m   \u001b[0;32mdef\u001b[0m \u001b[0mm1\u001b[0m\u001b[0;34m(\u001b[0m\u001b[0mself\u001b[0m\u001b[0;34m)\u001b[0m\u001b[0;34m:\u001b[0m\u001b[0;34m\u001b[0m\u001b[0;34m\u001b[0m\u001b[0m\n\u001b[0;32m---> 12\u001b[0;31m     \u001b[0mval\u001b[0m \u001b[0;34m=\u001b[0m \u001b[0mself\u001b[0m\u001b[0;34m.\u001b[0m\u001b[0mm1\u001b[0m\u001b[0;34m(\u001b[0m\u001b[0;34m)\u001b[0m\u001b[0;34m+\u001b[0m\u001b[0;36m20\u001b[0m\u001b[0;34m\u001b[0m\u001b[0;34m\u001b[0m\u001b[0m\n\u001b[0m\u001b[1;32m     13\u001b[0m     \u001b[0;32mreturn\u001b[0m \u001b[0mval\u001b[0m\u001b[0;34m\u001b[0m\u001b[0;34m\u001b[0m\u001b[0m\n\u001b[1;32m     14\u001b[0m \u001b[0;34m\u001b[0m\u001b[0m\n",
            "\u001b[0;31mRecursionError\u001b[0m: maximum recursion depth exceeded"
          ]
        }
      ]
    },
    {
      "cell_type": "markdown",
      "source": [
        "### 9.6 Polymorphism\n",
        "\n",
        "Multiple forms\n",
        "\n",
        "- Method overloading\n",
        "- Method overriding\n",
        "- Operator overloading"
      ],
      "metadata": {
        "id": "V9NWYRk2qFfl"
      }
    },
    {
      "cell_type": "code",
      "source": [
        "class Shape:\n",
        "\n",
        "  # Method overloading - readability increases\n",
        "  def area(self,radius):\n",
        "    return 3.14*radius**2\n",
        "\n",
        "  def area(self,l,b):\n",
        "    return l*b\n",
        "\n",
        "s = Shape()\n",
        "# s.area(12)\n",
        "s.area(12,13)\n",
        "\n",
        "#Python dont allow method overloading"
      ],
      "metadata": {
        "id": "j3UyWgFbqRNX",
        "colab": {
          "base_uri": "https://localhost:8080/"
        },
        "outputId": "e5640586-a235-4f07-cc13-bf0ca9cd2500"
      },
      "execution_count": 92,
      "outputs": [
        {
          "output_type": "execute_result",
          "data": {
            "text/plain": [
              "156"
            ]
          },
          "metadata": {},
          "execution_count": 92
        }
      ]
    },
    {
      "cell_type": "code",
      "source": [
        "# Way to do alternatively\n",
        "class Shape:\n",
        "  def area(self,l,b=0):\n",
        "    if b ==0 :\n",
        "      return 3.14*l*l\n",
        "\n",
        "    return l*b\n",
        "\n",
        "s = Shape()\n",
        "s.area(7)\n",
        "s.area(6,7)"
      ],
      "metadata": {
        "id": "RbGSOhE2qahW",
        "colab": {
          "base_uri": "https://localhost:8080/"
        },
        "outputId": "d26b4bd6-68fe-424d-d305-1704cb16394f"
      },
      "execution_count": 93,
      "outputs": [
        {
          "output_type": "execute_result",
          "data": {
            "text/plain": [
              "42"
            ]
          },
          "metadata": {},
          "execution_count": 93
        }
      ]
    },
    {
      "cell_type": "code",
      "source": [
        "# Operator overloading\n",
        "\n",
        "print('Hello'+\" World\" ) #concat\n",
        "print(5+7) #add\n",
        "print([1,2]+[3,4])\n",
        "# add dunder fucntion"
      ],
      "metadata": {
        "id": "N0Aunu4yq1lQ",
        "colab": {
          "base_uri": "https://localhost:8080/"
        },
        "outputId": "00fbe540-ce58-48dc-d5a4-0890199491a2"
      },
      "execution_count": 94,
      "outputs": [
        {
          "output_type": "stream",
          "name": "stdout",
          "text": [
            "Hello World\n",
            "12\n",
            "[1, 2, 3, 4]\n"
          ]
        }
      ]
    },
    {
      "cell_type": "markdown",
      "source": [
        "### 9.7 Abstraction\n",
        "\n",
        "- Hidden\n",
        "- applying constraints on lower\n",
        "- abstract class - jisme atleast one abstract method\n",
        "- abstract method jiske andar koi code ni hota\n",
        "- concrete method jo abhi tak bnae\n",
        "- ABC class ko inherit krna pdta"
      ],
      "metadata": {
        "id": "I009TVjRrd-u"
      }
    },
    {
      "cell_type": "code",
      "source": [
        "from abc import ABC,abstractmethod\n",
        "\n",
        "class Bankapp(ABC):\n",
        "  def database(self):\n",
        "    print(\"Connected to database\")\n",
        "\n",
        "  @abstractmethod\n",
        "  def security(self):\n",
        "    pass\n",
        "\n",
        "\n",
        "class Phone(Bankapp):\n",
        "  def mobile_login(self):\n",
        "    print(\"login into mobile\")"
      ],
      "metadata": {
        "id": "BlGulRXArQ63"
      },
      "execution_count": 95,
      "outputs": []
    },
    {
      "cell_type": "code",
      "source": [
        "p1 = Phone()\n",
        "# erro jab tak abstract class ka function ni bnega ni krega work"
      ],
      "metadata": {
        "id": "sXQ_nA08sJnN",
        "colab": {
          "base_uri": "https://localhost:8080/",
          "height": 162
        },
        "outputId": "c62de9b1-52f1-495d-dd41-eb94b4d0f6ec"
      },
      "execution_count": 96,
      "outputs": [
        {
          "output_type": "error",
          "ename": "TypeError",
          "evalue": "Can't instantiate abstract class Phone without an implementation for abstract method 'security'",
          "traceback": [
            "\u001b[0;31m---------------------------------------------------------------------------\u001b[0m",
            "\u001b[0;31mTypeError\u001b[0m                                 Traceback (most recent call last)",
            "\u001b[0;32m/tmp/ipython-input-567835362.py\u001b[0m in \u001b[0;36m<cell line: 0>\u001b[0;34m()\u001b[0m\n\u001b[0;32m----> 1\u001b[0;31m \u001b[0mp1\u001b[0m \u001b[0;34m=\u001b[0m \u001b[0mPhone\u001b[0m\u001b[0;34m(\u001b[0m\u001b[0;34m)\u001b[0m\u001b[0;34m\u001b[0m\u001b[0;34m\u001b[0m\u001b[0m\n\u001b[0m\u001b[1;32m      2\u001b[0m \u001b[0;31m# erro jab tak abstract class ka function ni bnega ni krega work\u001b[0m\u001b[0;34m\u001b[0m\u001b[0;34m\u001b[0m\u001b[0m\n",
            "\u001b[0;31mTypeError\u001b[0m: Can't instantiate abstract class Phone without an implementation for abstract method 'security'"
          ]
        }
      ]
    },
    {
      "cell_type": "code",
      "source": [
        "class Bankapp(ABC):\n",
        "  def database(self):\n",
        "    print(\"Database connected successfully ....\")\n",
        "\n",
        "  @abstractmethod\n",
        "  def security(self):\n",
        "    pass\n",
        "\n",
        "class Mobile(Bankapp):\n",
        "  def login(self):\n",
        "    print(\"Login successfully ....\")\n",
        "  def security(self):\n",
        "    print(\"Mobile is secure\")"
      ],
      "metadata": {
        "id": "kfiMrA-WsL6c"
      },
      "execution_count": 97,
      "outputs": []
    },
    {
      "cell_type": "code",
      "source": [
        "m1 = Mobile()\n",
        "m1.login()\n",
        "m1.security()\n",
        "m1.database()\n"
      ],
      "metadata": {
        "id": "mtnhhvuSs6w3",
        "colab": {
          "base_uri": "https://localhost:8080/"
        },
        "outputId": "51fa1875-aefa-4cec-d69f-90bc3a9b9f4e"
      },
      "execution_count": 98,
      "outputs": [
        {
          "output_type": "stream",
          "name": "stdout",
          "text": [
            "Login successfully ....\n",
            "Mobile is secure\n",
            "Database connected successfully ....\n"
          ]
        }
      ]
    },
    {
      "cell_type": "markdown",
      "source": [
        "- abstraction use krke hum aur lower classes ko majboor kr skte isko use kr skte hain har classes ke liye\n",
        "- Actual usage -> child follow certain rule\n",
        "- can implement more than one abstract class\n",
        "- can't create object of abstract class"
      ],
      "metadata": {
        "id": "D51D-DyVtNtO"
      }
    },
    {
      "cell_type": "markdown",
      "source": [
        "## 10. File Handling\n",
        "\n",
        "\n",
        "#### Some Theory\n",
        "\n",
        "Types of data used for I/O:\n",
        "\n",
        "- Text : '12345' as a sequence of unicode chars\n",
        "\n",
        "- Binary : 12345 as a sequence of bytes of its binary equivalent\n",
        "\n",
        "Hence there are two types of file type to deal with\n",
        "\n",
        "- Text files : All programme are text files\n",
        "\n",
        "- Binary Files : Images.music,videos,exe files"
      ],
      "metadata": {
        "id": "vGLLmpdItciO"
      }
    },
    {
      "cell_type": "markdown",
      "source": [
        "### 10.1 File I/O\n",
        "How file I/O is done in most of programming languages.\n",
        "\n",
        "- Open a file\n",
        "- Read/Write data\n",
        "- Close the file"
      ],
      "metadata": {
        "id": "zcfJ3MI3t3ac"
      }
    },
    {
      "cell_type": "markdown",
      "source": [
        "#### Writing a file"
      ],
      "metadata": {
        "id": "VA8FHaPduFS_"
      }
    },
    {
      "cell_type": "code",
      "source": [
        "f = open(\"sample.txt\",'w')\n",
        "f.write(\"hello world\")\n",
        "f.close()\n",
        "\n",
        "# f.write(\"hiii\")\n",
        "# file is closed so you cannot write"
      ],
      "metadata": {
        "id": "ZSMuIXYqs9Yd"
      },
      "execution_count": 99,
      "outputs": []
    },
    {
      "cell_type": "markdown",
      "source": [
        "#### Writing multiple line"
      ],
      "metadata": {
        "id": "ETm9TZjsujsA"
      }
    },
    {
      "cell_type": "code",
      "source": [
        "f = open(\"sample.txt\",'w')\n",
        "f.write(\"hello world\")\n",
        "f.write(\"\\nHow are u\\n\")\n",
        "f.close()"
      ],
      "metadata": {
        "id": "rwpcuMzGuTWx"
      },
      "execution_count": 100,
      "outputs": []
    },
    {
      "cell_type": "code",
      "source": [
        "# for file which is already present\n",
        "f = open(\"sample.txt\",\"w\")\n",
        "f.write(\"sallu bhai op\")\n",
        "f.close()\n",
        "\n",
        "#old content hatt jaega override ho jaega"
      ],
      "metadata": {
        "id": "RDH_Lxo3u1_v"
      },
      "execution_count": 101,
      "outputs": []
    },
    {
      "cell_type": "markdown",
      "source": [
        "- how exactly open() works?\n",
        "- sample.txt/file is in rom and after open()\n",
        "- now python take it to ram in buffer memory as file close it will\n",
        "- back to hard drive ."
      ],
      "metadata": {
        "id": "6ttM3amUvXxB"
      }
    },
    {
      "cell_type": "code",
      "source": [
        "# to solve problem of w method we use append\n",
        "f = open(\"sample.txt\",'a')\n",
        "f.write(\" I am phineee\")\n",
        "f.close()"
      ],
      "metadata": {
        "id": "a7iLLuJ8vG4L"
      },
      "execution_count": 102,
      "outputs": []
    },
    {
      "cell_type": "markdown",
      "source": [
        "#### Writelines"
      ],
      "metadata": {
        "id": "bIAUG28fv5J2"
      }
    },
    {
      "cell_type": "code",
      "source": [
        "# create list of lines\n",
        "L = ['hello\\n','hi\\n','thankyou\\n','phirmilenge\\n']\n",
        "f = open(\"sample1.txt\",'w')\n",
        "f.writelines(L)\n",
        "f.close()"
      ],
      "metadata": {
        "id": "5x2IX_6Uvtu_"
      },
      "execution_count": 103,
      "outputs": []
    },
    {
      "cell_type": "markdown",
      "source": [
        "Reading upto n characters"
      ],
      "metadata": {
        "id": "cCiwt4CrwaOv"
      }
    },
    {
      "cell_type": "code",
      "source": [
        "f = open(\"sample1.txt\",'r')\n",
        "s = f.read(10)\n",
        "print(s)\n",
        "f.close()"
      ],
      "metadata": {
        "id": "-FQLb8hmwVsp",
        "colab": {
          "base_uri": "https://localhost:8080/"
        },
        "outputId": "f25b34be-2da8-405c-9b42-22c2cde03cfe"
      },
      "execution_count": 104,
      "outputs": [
        {
          "output_type": "stream",
          "name": "stdout",
          "text": [
            "hello\n",
            "hi\n",
            "t\n"
          ]
        }
      ]
    },
    {
      "cell_type": "markdown",
      "source": [
        "#### readline() to read line by line"
      ],
      "metadata": {
        "id": "BVfWUrlBwxWX"
      }
    },
    {
      "cell_type": "code",
      "source": [
        "f = open(\"sample1.txt\",'r')\n",
        "print(f.readline(),end=\"\")\n",
        "print(f.readline(),end=\"\")\n",
        "print(f.readline(),end=\"\")\n",
        "f.close()"
      ],
      "metadata": {
        "id": "1iNWJAVswngK",
        "colab": {
          "base_uri": "https://localhost:8080/"
        },
        "outputId": "23161c07-152f-46c0-a70e-eb876e36b891"
      },
      "execution_count": 105,
      "outputs": [
        {
          "output_type": "stream",
          "name": "stdout",
          "text": [
            "hello\n",
            "hi\n",
            "thankyou\n"
          ]
        }
      ]
    },
    {
      "cell_type": "markdown",
      "source": [
        "- readline - use when file has too much content and\n",
        "       we dont want to load it in memory it helps in big file"
      ],
      "metadata": {
        "id": "-covhkckxQdg"
      }
    },
    {
      "cell_type": "markdown",
      "source": [
        "#### reading entire using readline()"
      ],
      "metadata": {
        "id": "q75B9Y5txX5k"
      }
    },
    {
      "cell_type": "code",
      "source": [
        "f = open('sample1.txt','r')\n",
        "\n",
        "while True:\n",
        "  data = f.readline()\n",
        "  if data == \"\":\n",
        "    break\n",
        "  else :\n",
        "    print(data,end=\"\")\n",
        "\n",
        "f.close()"
      ],
      "metadata": {
        "id": "4cD8Y46NxCCo",
        "colab": {
          "base_uri": "https://localhost:8080/"
        },
        "outputId": "61bf6bab-1e70-4614-8796-437d78c82539"
      },
      "execution_count": 106,
      "outputs": [
        {
          "output_type": "stream",
          "name": "stdout",
          "text": [
            "hello\n",
            "hi\n",
            "thankyou\n",
            "phirmilenge\n"
          ]
        }
      ]
    },
    {
      "cell_type": "markdown",
      "source": [
        "#### Using Context Manager(with)\n",
        "\n",
        "- Its good idea to close a file after usage as it will free up the resources\n",
        "\n",
        "- If we dont close it garbage collector will close it.\n",
        "\n",
        "- with keyword closes the file as soon as usage is over"
      ],
      "metadata": {
        "id": "GUeBR_vqyHta"
      }
    },
    {
      "cell_type": "code",
      "source": [
        "# with\n",
        "with open('sample2.txt','w') as f:\n",
        "  f.write(\"sallu bhai hai kya...\")\n",
        "\n",
        "# automatic close"
      ],
      "metadata": {
        "id": "r0MLC80rx03U"
      },
      "execution_count": 107,
      "outputs": []
    },
    {
      "cell_type": "code",
      "source": [
        "# try read\n",
        "with open('sample2.txt','r') as f:\n",
        "  print(f.read())"
      ],
      "metadata": {
        "id": "0-lrslWRygcl",
        "colab": {
          "base_uri": "https://localhost:8080/"
        },
        "outputId": "792d9044-540d-44b9-d98d-45945d3ffb99"
      },
      "execution_count": 108,
      "outputs": [
        {
          "output_type": "stream",
          "name": "stdout",
          "text": [
            "sallu bhai hai kya...\n"
          ]
        }
      ]
    },
    {
      "cell_type": "code",
      "source": [
        "# moving within a file\n",
        "with open('sample2.txt','r') as f:\n",
        "  print(f.read(10))\n",
        "\n",
        "#buffer memory track"
      ],
      "metadata": {
        "id": "z4v3Y36dy1Kx",
        "colab": {
          "base_uri": "https://localhost:8080/"
        },
        "outputId": "a6415ab1-5df0-42d7-8857-1ff14bf80cd8"
      },
      "execution_count": 109,
      "outputs": [
        {
          "output_type": "stream",
          "name": "stdout",
          "text": [
            "sallu bhai\n"
          ]
        }
      ]
    },
    {
      "cell_type": "code",
      "source": [
        "# benefit\n",
        "# for large files\n",
        "l = [\"hello\" for i in range(100000)]\n",
        "with open(\"bigfile.txt\",'w') as f:\n",
        "  f.writelines(l)\n"
      ],
      "metadata": {
        "id": "BrB1plrQy_9X"
      },
      "execution_count": 110,
      "outputs": []
    },
    {
      "cell_type": "code",
      "source": [
        "with open(\"bigfile.txt\",'r') as f:\n",
        "  chunk_size = 10\n",
        "  while len(f.read(chunk_size))> 0:\n",
        "    print(f.read(chunk_size),end=\"****\")"
      ],
      "metadata": {
        "id": "hjqdH-B5zu9d",
        "colab": {
          "base_uri": "https://localhost:8080/"
        },
        "outputId": "ba487627-1a62-4d1d-f69b-0956ab45f1f2"
      },
      "execution_count": 111,
      "outputs": [
        {
          "output_type": "stream",
          "name": "stdout",
          "text": [
            "hellohello****hellohello****hellohello****hellohello****hellohello****hellohello****hellohello****hellohello****hellohello****hellohello****hellohello****hellohello****hellohello****hellohello****hellohello****hellohello****hellohello****hellohello****hellohello****hellohello****hellohello****hellohello****hellohello****hellohello****hellohello****hellohello****hellohello****hellohello****hellohello****hellohello****hellohello****hellohello****hellohello****hellohello****hellohello****hellohello****hellohello****hellohello****hellohello****hellohello****hellohello****hellohello****hellohello****hellohello****hellohello****hellohello****hellohello****hellohello****hellohello****hellohello****hellohello****hellohello****hellohello****hellohello****hellohello****hellohello****hellohello****hellohello****hellohello****hellohello****hellohello****hellohello****hellohello****hellohello****hellohello****hellohello****hellohello****hellohello****hellohello****hellohello****hellohello****hellohello****hellohello****hellohello****hellohello****hellohello****hellohello****hellohello****hellohello****hellohello****hellohello****hellohello****hellohello****hellohello****hellohello****hellohello****hellohello****hellohello****hellohello****hellohello****hellohello****hellohello****hellohello****hellohello****hellohello****hellohello****hellohello****hellohello****hellohello****hellohello****hellohello****hellohello****hellohello****hellohello****hellohello****hellohello****hellohello****hellohello****hellohello****hellohello****hellohello****hellohello****hellohello****hellohello****hellohello****hellohello****hellohello****hellohello****hellohello****hellohello****hellohello****hellohello****hellohello****hellohello****hellohello****hellohello****hellohello****hellohello****hellohello****hellohello****hellohello****hellohello****hellohello****hellohello****hellohello****hellohello****hellohello****hellohello****hellohello****hellohello****hellohello****hellohello****hellohello****hellohello****hellohello****hellohello****hellohello****hellohello****hellohello****hellohello****hellohello****hellohello****hellohello****hellohello****hellohello****hellohello****hellohello****hellohello****hellohello****hellohello****hellohello****hellohello****hellohello****hellohello****hellohello****hellohello****hellohello****hellohello****hellohello****hellohello****hellohello****hellohello****hellohello****hellohello****hellohello****hellohello****hellohello****hellohello****hellohello****hellohello****hellohello****hellohello****hellohello****hellohello****hellohello****hellohello****hellohello****hellohello****hellohello****hellohello****hellohello****hellohello****hellohello****hellohello****hellohello****hellohello****hellohello****hellohello****hellohello****hellohello****hellohello****hellohello****hellohello****hellohello****hellohello****hellohello****hellohello****hellohello****hellohello****hellohello****hellohello****hellohello****hellohello****hellohello****hellohello****hellohello****hellohello****hellohello****hellohello****hellohello****hellohello****hellohello****hellohello****hellohello****hellohello****hellohello****hellohello****hellohello****hellohello****hellohello****hellohello****hellohello****hellohello****hellohello****hellohello****hellohello****hellohello****hellohello****hellohello****hellohello****hellohello****hellohello****hellohello****hellohello****hellohello****hellohello****hellohello****hellohello****hellohello****hellohello****hellohello****hellohello****hellohello****hellohello****hellohello****hellohello****hellohello****hellohello****hellohello****hellohello****hellohello****hellohello****hellohello****hellohello****hellohello****hellohello****hellohello****hellohello****hellohello****hellohello****hellohello****hellohello****hellohello****hellohello****hellohello****hellohello****hellohello****hellohello****hellohello****hellohello****hellohello****hellohello****hellohello****hellohello****hellohello****hellohello****hellohello****hellohello****hellohello****hellohello****hellohello****hellohello****hellohello****hellohello****hellohello****hellohello****hellohello****hellohello****hellohello****hellohello****hellohello****hellohello****hellohello****hellohello****hellohello****hellohello****hellohello****hellohello****hellohello****hellohello****hellohello****hellohello****hellohello****hellohello****hellohello****hellohello****hellohello****hellohello****hellohello****hellohello****hellohello****hellohello****hellohello****hellohello****hellohello****hellohello****hellohello****hellohello****hellohello****hellohello****hellohello****hellohello****hellohello****hellohello****hellohello****hellohello****hellohello****hellohello****hellohello****hellohello****hellohello****hellohello****hellohello****hellohello****hellohello****hellohello****hellohello****hellohello****hellohello****hellohello****hellohello****hellohello****hellohello****hellohello****hellohello****hellohello****hellohello****hellohello****hellohello****hellohello****hellohello****hellohello****hellohello****hellohello****hellohello****hellohello****hellohello****hellohello****hellohello****hellohello****hellohello****hellohello****hellohello****hellohello****hellohello****hellohello****hellohello****hellohello****hellohello****hellohello****hellohello****hellohello****hellohello****hellohello****hellohello****hellohello****hellohello****hellohello****hellohello****hellohello****hellohello****hellohello****hellohello****hellohello****hellohello****hellohello****hellohello****hellohello****hellohello****hellohello****hellohello****hellohello****hellohello****hellohello****hellohello****hellohello****hellohello****hellohello****hellohello****hellohello****hellohello****hellohello****hellohello****hellohello****hellohello****hellohello****hellohello****hellohello****hellohello****hellohello****hellohello****hellohello****hellohello****hellohello****hellohello****hellohello****hellohello****hellohello****hellohello****hellohello****hellohello****hellohello****hellohello****hellohello****hellohello****hellohello****hellohello****hellohello****hellohello****hellohello****hellohello****hellohello****hellohello****hellohello****hellohello****hellohello****hellohello****hellohello****hellohello****hellohello****hellohello****hellohello****hellohello****hellohello****hellohello****hellohello****hellohello****hellohello****hellohello****hellohello****hellohello****hellohello****hellohello****hellohello****hellohello****hellohello****hellohello****hellohello****hellohello****hellohello****hellohello****hellohello****hellohello****hellohello****hellohello****hellohello****hellohello****hellohello****hellohello****hellohello****hellohello****hellohello****hellohello****hellohello****hellohello****hellohello****hellohello****hellohello****hellohello****hellohello****hellohello****hellohello****hellohello****hellohello****hellohello****hellohello****hellohello****hellohello****hellohello****hellohello****hellohello****hellohello****hellohello****hellohello****hellohello****hellohello****hellohello****hellohello****hellohello****hellohello****hellohello****hellohello****hellohello****hellohello****hellohello****hellohello****hellohello****hellohello****hellohello****hellohello****hellohello****hellohello****hellohello****hellohello****hellohello****hellohello****hellohello****hellohello****hellohello****hellohello****hellohello****hellohello****hellohello****hellohello****hellohello****hellohello****hellohello****hellohello****hellohello****hellohello****hellohello****hellohello****hellohello****hellohello****hellohello****hellohello****hellohello****hellohello****hellohello****hellohello****hellohello****hellohello****hellohello****hellohello****hellohello****hellohello****hellohello****hellohello****hellohello****hellohello****hellohello****hellohello****hellohello****hellohello****hellohello****hellohello****hellohello****hellohello****hellohello****hellohello****hellohello****hellohello****hellohello****hellohello****hellohello****hellohello****hellohello****hellohello****hellohello****hellohello****hellohello****hellohello****hellohello****hellohello****hellohello****hellohello****hellohello****hellohello****hellohello****hellohello****hellohello****hellohello****hellohello****hellohello****hellohello****hellohello****hellohello****hellohello****hellohello****hellohello****hellohello****hellohello****hellohello****hellohello****hellohello****hellohello****hellohello****hellohello****hellohello****hellohello****hellohello****hellohello****hellohello****hellohello****hellohello****hellohello****hellohello****hellohello****hellohello****hellohello****hellohello****hellohello****hellohello****hellohello****hellohello****hellohello****hellohello****hellohello****hellohello****hellohello****hellohello****hellohello****hellohello****hellohello****hellohello****hellohello****hellohello****hellohello****hellohello****hellohello****hellohello****hellohello****hellohello****hellohello****hellohello****hellohello****hellohello****hellohello****hellohello****hellohello****hellohello****hellohello****hellohello****hellohello****hellohello****hellohello****hellohello****hellohello****hellohello****hellohello****hellohello****hellohello****hellohello****hellohello****hellohello****hellohello****hellohello****hellohello****hellohello****hellohello****hellohello****hellohello****hellohello****hellohello****hellohello****hellohello****hellohello****hellohello****hellohello****hellohello****hellohello****hellohello****hellohello****hellohello****hellohello****hellohello****hellohello****hellohello****hellohello****hellohello****hellohello****hellohello****hellohello****hellohello****hellohello****hellohello****hellohello****hellohello****hellohello****hellohello****hellohello****hellohello****hellohello****hellohello****hellohello****hellohello****hellohello****hellohello****hellohello****hellohello****hellohello****hellohello****hellohello****hellohello****hellohello****hellohello****hellohello****hellohello****hellohello****hellohello****hellohello****hellohello****hellohello****hellohello****hellohello****hellohello****hellohello****hellohello****hellohello****hellohello****hellohello****hellohello****hellohello****hellohello****hellohello****hellohello****hellohello****hellohello****hellohello****hellohello****hellohello****hellohello****hellohello****hellohello****hellohello****hellohello****hellohello****hellohello****hellohello****hellohello****hellohello****hellohello****hellohello****hellohello****hellohello****hellohello****hellohello****hellohello****hellohello****hellohello****hellohello****hellohello****hellohello****hellohello****hellohello****hellohello****hellohello****hellohello****hellohello****hellohello****hellohello****hellohello****hellohello****hellohello****hellohello****hellohello****hellohello****hellohello****hellohello****hellohello****hellohello****hellohello****hellohello****hellohello****hellohello****hellohello****hellohello****hellohello****hellohello****hellohello****hellohello****hellohello****hellohello****hellohello****hellohello****hellohello****hellohello****hellohello****hellohello****hellohello****hellohello****hellohello****hellohello****hellohello****hellohello****hellohello****hellohello****hellohello****hellohello****hellohello****hellohello****hellohello****hellohello****hellohello****hellohello****hellohello****hellohello****hellohello****hellohello****hellohello****hellohello****hellohello****hellohello****hellohello****hellohello****hellohello****hellohello****hellohello****hellohello****hellohello****hellohello****hellohello****hellohello****hellohello****hellohello****hellohello****hellohello****hellohello****hellohello****hellohello****hellohello****hellohello****hellohello****hellohello****hellohello****hellohello****hellohello****hellohello****hellohello****hellohello****hellohello****hellohello****hellohello****hellohello****hellohello****hellohello****hellohello****hellohello****hellohello****hellohello****hellohello****hellohello****hellohello****hellohello****hellohello****hellohello****hellohello****hellohello****hellohello****hellohello****hellohello****hellohello****hellohello****hellohello****hellohello****hellohello****hellohello****hellohello****hellohello****hellohello****hellohello****hellohello****hellohello****hellohello****hellohello****hellohello****hellohello****hellohello****hellohello****hellohello****hellohello****hellohello****hellohello****hellohello****hellohello****hellohello****hellohello****hellohello****hellohello****hellohello****hellohello****hellohello****hellohello****hellohello****hellohello****hellohello****hellohello****hellohello****hellohello****hellohello****hellohello****hellohello****hellohello****hellohello****hellohello****hellohello****hellohello****hellohello****hellohello****hellohello****hellohello****hellohello****hellohello****hellohello****hellohello****hellohello****hellohello****hellohello****hellohello****hellohello****hellohello****hellohello****hellohello****hellohello****hellohello****hellohello****hellohello****hellohello****hellohello****hellohello****hellohello****hellohello****hellohello****hellohello****hellohello****hellohello****hellohello****hellohello****hellohello****hellohello****hellohello****hellohello****hellohello****hellohello****hellohello****hellohello****hellohello****hellohello****hellohello****hellohello****hellohello****hellohello****hellohello****hellohello****hellohello****hellohello****hellohello****hellohello****hellohello****hellohello****hellohello****hellohello****hellohello****hellohello****hellohello****hellohello****hellohello****hellohello****hellohello****hellohello****hellohello****hellohello****hellohello****hellohello****hellohello****hellohello****hellohello****hellohello****hellohello****hellohello****hellohello****hellohello****hellohello****hellohello****hellohello****hellohello****hellohello****hellohello****hellohello****hellohello****hellohello****hellohello****hellohello****hellohello****hellohello****hellohello****hellohello****hellohello****hellohello****hellohello****hellohello****hellohello****hellohello****hellohello****hellohello****hellohello****hellohello****hellohello****hellohello****hellohello****hellohello****hellohello****hellohello****hellohello****hellohello****hellohello****hellohello****hellohello****hellohello****hellohello****hellohello****hellohello****hellohello****hellohello****hellohello****hellohello****hellohello****hellohello****hellohello****hellohello****hellohello****hellohello****hellohello****hellohello****hellohello****hellohello****hellohello****hellohello****hellohello****hellohello****hellohello****hellohello****hellohello****hellohello****hellohello****hellohello****hellohello****hellohello****hellohello****hellohello****hellohello****hellohello****hellohello****hellohello****hellohello****hellohello****hellohello****hellohello****hellohello****hellohello****hellohello****hellohello****hellohello****hellohello****hellohello****hellohello****hellohello****hellohello****hellohello****hellohello****hellohello****hellohello****hellohello****hellohello****hellohello****hellohello****hellohello****hellohello****hellohello****hellohello****hellohello****hellohello****hellohello****hellohello****hellohello****hellohello****hellohello****hellohello****hellohello****hellohello****hellohello****hellohello****hellohello****hellohello****hellohello****hellohello****hellohello****hellohello****hellohello****hellohello****hellohello****hellohello****hellohello****hellohello****hellohello****hellohello****hellohello****hellohello****hellohello****hellohello****hellohello****hellohello****hellohello****hellohello****hellohello****hellohello****hellohello****hellohello****hellohello****hellohello****hellohello****hellohello****hellohello****hellohello****hellohello****hellohello****hellohello****hellohello****hellohello****hellohello****hellohello****hellohello****hellohello****hellohello****hellohello****hellohello****hellohello****hellohello****hellohello****hellohello****hellohello****hellohello****hellohello****hellohello****hellohello****hellohello****hellohello****hellohello****hellohello****hellohello****hellohello****hellohello****hellohello****hellohello****hellohello****hellohello****hellohello****hellohello****hellohello****hellohello****hellohello****hellohello****hellohello****hellohello****hellohello****hellohello****hellohello****hellohello****hellohello****hellohello****hellohello****hellohello****hellohello****hellohello****hellohello****hellohello****hellohello****hellohello****hellohello****hellohello****hellohello****hellohello****hellohello****hellohello****hellohello****hellohello****hellohello****hellohello****hellohello****hellohello****hellohello****hellohello****hellohello****hellohello****hellohello****hellohello****hellohello****hellohello****hellohello****hellohello****hellohello****hellohello****hellohello****hellohello****hellohello****hellohello****hellohello****hellohello****hellohello****hellohello****hellohello****hellohello****hellohello****hellohello****hellohello****hellohello****hellohello****hellohello****hellohello****hellohello****hellohello****hellohello****hellohello****hellohello****hellohello****hellohello****hellohello****hellohello****hellohello****hellohello****hellohello****hellohello****hellohello****hellohello****hellohello****hellohello****hellohello****hellohello****hellohello****hellohello****hellohello****hellohello****hellohello****hellohello****hellohello****hellohello****hellohello****hellohello****hellohello****hellohello****hellohello****hellohello****hellohello****hellohello****hellohello****hellohello****hellohello****hellohello****hellohello****hellohello****hellohello****hellohello****hellohello****hellohello****hellohello****hellohello****hellohello****hellohello****hellohello****hellohello****hellohello****hellohello****hellohello****hellohello****hellohello****hellohello****hellohello****hellohello****hellohello****hellohello****hellohello****hellohello****hellohello****hellohello****hellohello****hellohello****hellohello****hellohello****hellohello****hellohello****hellohello****hellohello****hellohello****hellohello****hellohello****hellohello****hellohello****hellohello****hellohello****hellohello****hellohello****hellohello****hellohello****hellohello****hellohello****hellohello****hellohello****hellohello****hellohello****hellohello****hellohello****hellohello****hellohello****hellohello****hellohello****hellohello****hellohello****hellohello****hellohello****hellohello****hellohello****hellohello****hellohello****hellohello****hellohello****hellohello****hellohello****hellohello****hellohello****hellohello****hellohello****hellohello****hellohello****hellohello****hellohello****hellohello****hellohello****hellohello****hellohello****hellohello****hellohello****hellohello****hellohello****hellohello****hellohello****hellohello****hellohello****hellohello****hellohello****hellohello****hellohello****hellohello****hellohello****hellohello****hellohello****hellohello****hellohello****hellohello****hellohello****hellohello****hellohello****hellohello****hellohello****hellohello****hellohello****hellohello****hellohello****hellohello****hellohello****hellohello****hellohello****hellohello****hellohello****hellohello****hellohello****hellohello****hellohello****hellohello****hellohello****hellohello****hellohello****hellohello****hellohello****hellohello****hellohello****hellohello****hellohello****hellohello****hellohello****hellohello****hellohello****hellohello****hellohello****hellohello****hellohello****hellohello****hellohello****hellohello****hellohello****hellohello****hellohello****hellohello****hellohello****hellohello****hellohello****hellohello****hellohello****hellohello****hellohello****hellohello****hellohello****hellohello****hellohello****hellohello****hellohello****hellohello****hellohello****hellohello****hellohello****hellohello****hellohello****hellohello****hellohello****hellohello****hellohello****hellohello****hellohello****hellohello****hellohello****hellohello****hellohello****hellohello****hellohello****hellohello****hellohello****hellohello****hellohello****hellohello****hellohello****hellohello****hellohello****hellohello****hellohello****hellohello****hellohello****hellohello****hellohello****hellohello****hellohello****hellohello****hellohello****hellohello****hellohello****hellohello****hellohello****hellohello****hellohello****hellohello****hellohello****hellohello****hellohello****hellohello****hellohello****hellohello****hellohello****hellohello****hellohello****hellohello****hellohello****hellohello****hellohello****hellohello****hellohello****hellohello****hellohello****hellohello****hellohello****hellohello****hellohello****hellohello****hellohello****hellohello****hellohello****hellohello****hellohello****hellohello****hellohello****hellohello****hellohello****hellohello****hellohello****hellohello****hellohello****hellohello****hellohello****hellohello****hellohello****hellohello****hellohello****hellohello****hellohello****hellohello****hellohello****hellohello****hellohello****hellohello****hellohello****hellohello****hellohello****hellohello****hellohello****hellohello****hellohello****hellohello****hellohello****hellohello****hellohello****hellohello****hellohello****hellohello****hellohello****hellohello****hellohello****hellohello****hellohello****hellohello****hellohello****hellohello****hellohello****hellohello****hellohello****hellohello****hellohello****hellohello****hellohello****hellohello****hellohello****hellohello****hellohello****hellohello****hellohello****hellohello****hellohello****hellohello****hellohello****hellohello****hellohello****hellohello****hellohello****hellohello****hellohello****hellohello****hellohello****hellohello****hellohello****hellohello****hellohello****hellohello****hellohello****hellohello****hellohello****hellohello****hellohello****hellohello****hellohello****hellohello****hellohello****hellohello****hellohello****hellohello****hellohello****hellohello****hellohello****hellohello****hellohello****hellohello****hellohello****hellohello****hellohello****hellohello****hellohello****hellohello****hellohello****hellohello****hellohello****hellohello****hellohello****hellohello****hellohello****hellohello****hellohello****hellohello****hellohello****hellohello****hellohello****hellohello****hellohello****hellohello****hellohello****hellohello****hellohello****hellohello****hellohello****hellohello****hellohello****hellohello****hellohello****hellohello****hellohello****hellohello****hellohello****hellohello****hellohello****hellohello****hellohello****hellohello****hellohello****hellohello****hellohello****hellohello****hellohello****hellohello****hellohello****hellohello****hellohello****hellohello****hellohello****hellohello****hellohello****hellohello****hellohello****hellohello****hellohello****hellohello****hellohello****hellohello****hellohello****hellohello****hellohello****hellohello****hellohello****hellohello****hellohello****hellohello****hellohello****hellohello****hellohello****hellohello****hellohello****hellohello****hellohello****hellohello****hellohello****hellohello****hellohello****hellohello****hellohello****hellohello****hellohello****hellohello****hellohello****hellohello****hellohello****hellohello****hellohello****hellohello****hellohello****hellohello****hellohello****hellohello****hellohello****hellohello****hellohello****hellohello****hellohello****hellohello****hellohello****hellohello****hellohello****hellohello****hellohello****hellohello****hellohello****hellohello****hellohello****hellohello****hellohello****hellohello****hellohello****hellohello****hellohello****hellohello****hellohello****hellohello****hellohello****hellohello****hellohello****hellohello****hellohello****hellohello****hellohello****hellohello****hellohello****hellohello****hellohello****hellohello****hellohello****hellohello****hellohello****hellohello****hellohello****hellohello****hellohello****hellohello****hellohello****hellohello****hellohello****hellohello****hellohello****hellohello****hellohello****hellohello****hellohello****hellohello****hellohello****hellohello****hellohello****hellohello****hellohello****hellohello****hellohello****hellohello****hellohello****hellohello****hellohello****hellohello****hellohello****hellohello****hellohello****hellohello****hellohello****hellohello****hellohello****hellohello****hellohello****hellohello****hellohello****hellohello****hellohello****hellohello****hellohello****hellohello****hellohello****hellohello****hellohello****hellohello****hellohello****hellohello****hellohello****hellohello****hellohello****hellohello****hellohello****hellohello****hellohello****hellohello****hellohello****hellohello****hellohello****hellohello****hellohello****hellohello****hellohello****hellohello****hellohello****hellohello****hellohello****hellohello****hellohello****hellohello****hellohello****hellohello****hellohello****hellohello****hellohello****hellohello****hellohello****hellohello****hellohello****hellohello****hellohello****hellohello****hellohello****hellohello****hellohello****hellohello****hellohello****hellohello****hellohello****hellohello****hellohello****hellohello****hellohello****hellohello****hellohello****hellohello****hellohello****hellohello****hellohello****hellohello****hellohello****hellohello****hellohello****hellohello****hellohello****hellohello****hellohello****hellohello****hellohello****hellohello****hellohello****hellohello****hellohello****hellohello****hellohello****hellohello****hellohello****hellohello****hellohello****hellohello****hellohello****hellohello****hellohello****hellohello****hellohello****hellohello****hellohello****hellohello****hellohello****hellohello****hellohello****hellohello****hellohello****hellohello****hellohello****hellohello****hellohello****hellohello****hellohello****hellohello****hellohello****hellohello****hellohello****hellohello****hellohello****hellohello****hellohello****hellohello****hellohello****hellohello****hellohello****hellohello****hellohello****hellohello****hellohello****hellohello****hellohello****hellohello****hellohello****hellohello****hellohello****hellohello****hellohello****hellohello****hellohello****hellohello****hellohello****hellohello****hellohello****hellohello****hellohello****hellohello****hellohello****hellohello****hellohello****hellohello****hellohello****hellohello****hellohello****hellohello****hellohello****hellohello****hellohello****hellohello****hellohello****hellohello****hellohello****hellohello****hellohello****hellohello****hellohello****hellohello****hellohello****hellohello****hellohello****hellohello****hellohello****hellohello****hellohello****hellohello****hellohello****hellohello****hellohello****hellohello****hellohello****hellohello****hellohello****hellohello****hellohello****hellohello****hellohello****hellohello****hellohello****hellohello****hellohello****hellohello****hellohello****hellohello****hellohello****hellohello****hellohello****hellohello****hellohello****hellohello****hellohello****hellohello****hellohello****hellohello****hellohello****hellohello****hellohello****hellohello****hellohello****hellohello****hellohello****hellohello****hellohello****hellohello****hellohello****hellohello****hellohello****hellohello****hellohello****hellohello****hellohello****hellohello****hellohello****hellohello****hellohello****hellohello****hellohello****hellohello****hellohello****hellohello****hellohello****hellohello****hellohello****hellohello****hellohello****hellohello****hellohello****hellohello****hellohello****hellohello****hellohello****hellohello****hellohello****hellohello****hellohello****hellohello****hellohello****hellohello****hellohello****hellohello****hellohello****hellohello****hellohello****hellohello****hellohello****hellohello****hellohello****hellohello****hellohello****hellohello****hellohello****hellohello****hellohello****hellohello****hellohello****hellohello****hellohello****hellohello****hellohello****hellohello****hellohello****hellohello****hellohello****hellohello****hellohello****hellohello****hellohello****hellohello****hellohello****hellohello****hellohello****hellohello****hellohello****hellohello****hellohello****hellohello****hellohello****hellohello****hellohello****hellohello****hellohello****hellohello****hellohello****hellohello****hellohello****hellohello****hellohello****hellohello****hellohello****hellohello****hellohello****hellohello****hellohello****hellohello****hellohello****hellohello****hellohello****hellohello****hellohello****hellohello****hellohello****hellohello****hellohello****hellohello****hellohello****hellohello****hellohello****hellohello****hellohello****hellohello****hellohello****hellohello****hellohello****hellohello****hellohello****hellohello****hellohello****hellohello****hellohello****hellohello****hellohello****hellohello****hellohello****hellohello****hellohello****hellohello****hellohello****hellohello****hellohello****hellohello****hellohello****hellohello****hellohello****hellohello****hellohello****hellohello****hellohello****hellohello****hellohello****hellohello****hellohello****hellohello****hellohello****hellohello****hellohello****hellohello****hellohello****hellohello****hellohello****hellohello****hellohello****hellohello****hellohello****hellohello****hellohello****hellohello****hellohello****hellohello****hellohello****hellohello****hellohello****hellohello****hellohello****hellohello****hellohello****hellohello****hellohello****hellohello****hellohello****hellohello****hellohello****hellohello****hellohello****hellohello****hellohello****hellohello****hellohello****hellohello****hellohello****hellohello****hellohello****hellohello****hellohello****hellohello****hellohello****hellohello****hellohello****hellohello****hellohello****hellohello****hellohello****hellohello****hellohello****hellohello****hellohello****hellohello****hellohello****hellohello****hellohello****hellohello****hellohello****hellohello****hellohello****hellohello****hellohello****hellohello****hellohello****hellohello****hellohello****hellohello****hellohello****hellohello****hellohello****hellohello****hellohello****hellohello****hellohello****hellohello****hellohello****hellohello****hellohello****hellohello****hellohello****hellohello****hellohello****hellohello****hellohello****hellohello****hellohello****hellohello****hellohello****hellohello****hellohello****hellohello****hellohello****hellohello****hellohello****hellohello****hellohello****hellohello****hellohello****hellohello****hellohello****hellohello****hellohello****hellohello****hellohello****hellohello****hellohello****hellohello****hellohello****hellohello****hellohello****hellohello****hellohello****hellohello****hellohello****hellohello****hellohello****hellohello****hellohello****hellohello****hellohello****hellohello****hellohello****hellohello****hellohello****hellohello****hellohello****hellohello****hellohello****hellohello****hellohello****hellohello****hellohello****hellohello****hellohello****hellohello****hellohello****hellohello****hellohello****hellohello****hellohello****hellohello****hellohello****hellohello****hellohello****hellohello****hellohello****hellohello****hellohello****hellohello****hellohello****hellohello****hellohello****hellohello****hellohello****hellohello****hellohello****hellohello****hellohello****hellohello****hellohello****hellohello****hellohello****hellohello****hellohello****hellohello****hellohello****hellohello****hellohello****hellohello****hellohello****hellohello****hellohello****hellohello****hellohello****hellohello****hellohello****hellohello****hellohello****hellohello****hellohello****hellohello****hellohello****hellohello****hellohello****hellohello****hellohello****hellohello****hellohello****hellohello****hellohello****hellohello****hellohello****hellohello****hellohello****hellohello****hellohello****hellohello****hellohello****hellohello****hellohello****hellohello****hellohello****hellohello****hellohello****hellohello****hellohello****hellohello****hellohello****hellohello****hellohello****hellohello****hellohello****hellohello****hellohello****hellohello****hellohello****hellohello****hellohello****hellohello****hellohello****hellohello****hellohello****hellohello****hellohello****hellohello****hellohello****hellohello****hellohello****hellohello****hellohello****hellohello****hellohello****hellohello****hellohello****hellohello****hellohello****hellohello****hellohello****hellohello****hellohello****hellohello****hellohello****hellohello****hellohello****hellohello****hellohello****hellohello****hellohello****hellohello****hellohello****hellohello****hellohello****hellohello****hellohello****hellohello****hellohello****hellohello****hellohello****hellohello****hellohello****hellohello****hellohello****hellohello****hellohello****hellohello****hellohello****hellohello****hellohello****hellohello****hellohello****hellohello****hellohello****hellohello****hellohello****hellohello****hellohello****hellohello****hellohello****hellohello****hellohello****hellohello****hellohello****hellohello****hellohello****hellohello****hellohello****hellohello****hellohello****hellohello****hellohello****hellohello****hellohello****hellohello****hellohello****hellohello****hellohello****hellohello****hellohello****hellohello****hellohello****hellohello****hellohello****hellohello****hellohello****hellohello****hellohello****hellohello****hellohello****hellohello****hellohello****hellohello****hellohello****hellohello****hellohello****hellohello****hellohello****hellohello****hellohello****hellohello****hellohello****hellohello****hellohello****hellohello****hellohello****hellohello****hellohello****hellohello****hellohello****hellohello****hellohello****hellohello****hellohello****hellohello****hellohello****hellohello****hellohello****hellohello****hellohello****hellohello****hellohello****hellohello****hellohello****hellohello****hellohello****hellohello****hellohello****hellohello****hellohello****hellohello****hellohello****hellohello****hellohello****hellohello****hellohello****hellohello****hellohello****hellohello****hellohello****hellohello****hellohello****hellohello****hellohello****hellohello****hellohello****hellohello****hellohello****hellohello****hellohello****hellohello****hellohello****hellohello****hellohello****hellohello****hellohello****hellohello****hellohello****hellohello****hellohello****hellohello****hellohello****hellohello****hellohello****hellohello****hellohello****hellohello****hellohello****hellohello****hellohello****hellohello****hellohello****hellohello****hellohello****hellohello****hellohello****hellohello****hellohello****hellohello****hellohello****hellohello****hellohello****hellohello****hellohello****hellohello****hellohello****hellohello****hellohello****hellohello****hellohello****hellohello****hellohello****hellohello****hellohello****hellohello****hellohello****hellohello****hellohello****hellohello****hellohello****hellohello****hellohello****hellohello****hellohello****hellohello****hellohello****hellohello****hellohello****hellohello****hellohello****hellohello****hellohello****hellohello****hellohello****hellohello****hellohello****hellohello****hellohello****hellohello****hellohello****hellohello****hellohello****hellohello****hellohello****hellohello****hellohello****hellohello****hellohello****hellohello****hellohello****hellohello****hellohello****hellohello****hellohello****hellohello****hellohello****hellohello****hellohello****hellohello****hellohello****hellohello****hellohello****hellohello****hellohello****hellohello****hellohello****hellohello****hellohello****hellohello****hellohello****hellohello****hellohello****hellohello****hellohello****hellohello****hellohello****hellohello****hellohello****hellohello****hellohello****hellohello****hellohello****hellohello****hellohello****hellohello****hellohello****hellohello****hellohello****hellohello****hellohello****hellohello****hellohello****hellohello****hellohello****hellohello****hellohello****hellohello****hellohello****hellohello****hellohello****hellohello****hellohello****hellohello****hellohello****hellohello****hellohello****hellohello****hellohello****hellohello****hellohello****hellohello****hellohello****hellohello****hellohello****hellohello****hellohello****hellohello****hellohello****hellohello****hellohello****hellohello****hellohello****hellohello****hellohello****hellohello****hellohello****hellohello****hellohello****hellohello****hellohello****hellohello****hellohello****hellohello****hellohello****hellohello****hellohello****hellohello****hellohello****hellohello****hellohello****hellohello****hellohello****hellohello****hellohello****hellohello****hellohello****hellohello****hellohello****hellohello****hellohello****hellohello****hellohello****hellohello****hellohello****hellohello****hellohello****hellohello****hellohello****hellohello****hellohello****hellohello****hellohello****hellohello****hellohello****hellohello****hellohello****hellohello****hellohello****hellohello****hellohello****hellohello****hellohello****hellohello****hellohello****hellohello****hellohello****hellohello****hellohello****hellohello****hellohello****hellohello****hellohello****hellohello****hellohello****hellohello****hellohello****hellohello****hellohello****hellohello****hellohello****hellohello****hellohello****hellohello****hellohello****hellohello****hellohello****hellohello****hellohello****hellohello****hellohello****hellohello****hellohello****hellohello****hellohello****hellohello****hellohello****hellohello****hellohello****hellohello****hellohello****hellohello****hellohello****hellohello****hellohello****hellohello****hellohello****hellohello****hellohello****hellohello****hellohello****hellohello****hellohello****hellohello****hellohello****hellohello****hellohello****hellohello****hellohello****hellohello****hellohello****hellohello****hellohello****hellohello****hellohello****hellohello****hellohello****hellohello****hellohello****hellohello****hellohello****hellohello****hellohello****hellohello****hellohello****hellohello****hellohello****hellohello****hellohello****hellohello****hellohello****hellohello****hellohello****hellohello****hellohello****hellohello****hellohello****hellohello****hellohello****hellohello****hellohello****hellohello****hellohello****hellohello****hellohello****hellohello****hellohello****hellohello****hellohello****hellohello****hellohello****hellohello****hellohello****hellohello****hellohello****hellohello****hellohello****hellohello****hellohello****hellohello****hellohello****hellohello****hellohello****hellohello****hellohello****hellohello****hellohello****hellohello****hellohello****hellohello****hellohello****hellohello****hellohello****hellohello****hellohello****hellohello****hellohello****hellohello****hellohello****hellohello****hellohello****hellohello****hellohello****hellohello****hellohello****hellohello****hellohello****hellohello****hellohello****hellohello****hellohello****hellohello****hellohello****hellohello****hellohello****hellohello****hellohello****hellohello****hellohello****hellohello****hellohello****hellohello****hellohello****hellohello****hellohello****hellohello****hellohello****hellohello****hellohello****hellohello****hellohello****hellohello****hellohello****hellohello****hellohello****hellohello****hellohello****hellohello****hellohello****hellohello****hellohello****hellohello****hellohello****hellohello****hellohello****hellohello****hellohello****hellohello****hellohello****hellohello****hellohello****hellohello****hellohello****hellohello****hellohello****hellohello****hellohello****hellohello****hellohello****hellohello****hellohello****hellohello****hellohello****hellohello****hellohello****hellohello****hellohello****hellohello****hellohello****hellohello****hellohello****hellohello****hellohello****hellohello****hellohello****hellohello****hellohello****hellohello****hellohello****hellohello****hellohello****hellohello****hellohello****hellohello****hellohello****hellohello****hellohello****hellohello****hellohello****hellohello****hellohello****hellohello****hellohello****hellohello****hellohello****hellohello****hellohello****hellohello****hellohello****hellohello****hellohello****hellohello****hellohello****hellohello****hellohello****hellohello****hellohello****hellohello****hellohello****hellohello****hellohello****hellohello****hellohello****hellohello****hellohello****hellohello****hellohello****hellohello****hellohello****hellohello****hellohello****hellohello****hellohello****hellohello****hellohello****hellohello****hellohello****hellohello****hellohello****hellohello****hellohello****hellohello****hellohello****hellohello****hellohello****hellohello****hellohello****hellohello****hellohello****hellohello****hellohello****hellohello****hellohello****hellohello****hellohello****hellohello****hellohello****hellohello****hellohello****hellohello****hellohello****hellohello****hellohello****hellohello****hellohello****hellohello****hellohello****hellohello****hellohello****hellohello****hellohello****hellohello****hellohello****hellohello****hellohello****hellohello****hellohello****hellohello****hellohello****hellohello****hellohello****hellohello****hellohello****hellohello****hellohello****hellohello****hellohello****hellohello****hellohello****hellohello****hellohello****hellohello****hellohello****hellohello****hellohello****hellohello****hellohello****hellohello****hellohello****hellohello****hellohello****hellohello****hellohello****hellohello****hellohello****hellohello****hellohello****hellohello****hellohello****hellohello****hellohello****hellohello****hellohello****hellohello****hellohello****hellohello****hellohello****hellohello****hellohello****hellohello****hellohello****hellohello****hellohello****hellohello****hellohello****hellohello****hellohello****hellohello****hellohello****hellohello****hellohello****hellohello****hellohello****hellohello****hellohello****hellohello****hellohello****hellohello****hellohello****hellohello****hellohello****hellohello****hellohello****hellohello****hellohello****hellohello****hellohello****hellohello****hellohello****hellohello****hellohello****hellohello****hellohello****hellohello****hellohello****hellohello****hellohello****hellohello****hellohello****hellohello****hellohello****hellohello****hellohello****hellohello****hellohello****hellohello****hellohello****hellohello****hellohello****hellohello****hellohello****hellohello****hellohello****hellohello****hellohello****hellohello****hellohello****hellohello****hellohello****hellohello****hellohello****hellohello****hellohello****hellohello****hellohello****hellohello****hellohello****hellohello****hellohello****hellohello****hellohello****hellohello****hellohello****hellohello****hellohello****hellohello****hellohello****hellohello****hellohello****hellohello****hellohello****hellohello****hellohello****hellohello****hellohello****hellohello****hellohello****hellohello****hellohello****hellohello****hellohello****hellohello****hellohello****hellohello****hellohello****hellohello****hellohello****hellohello****hellohello****hellohello****hellohello****hellohello****hellohello****hellohello****hellohello****hellohello****hellohello****hellohello****hellohello****hellohello****hellohello****hellohello****hellohello****hellohello****hellohello****hellohello****hellohello****hellohello****hellohello****hellohello****hellohello****hellohello****hellohello****hellohello****hellohello****hellohello****hellohello****hellohello****hellohello****hellohello****hellohello****hellohello****hellohello****hellohello****hellohello****hellohello****hellohello****hellohello****hellohello****hellohello****hellohello****hellohello****hellohello****hellohello****hellohello****hellohello****hellohello****hellohello****hellohello****hellohello****hellohello****hellohello****hellohello****hellohello****hellohello****hellohello****hellohello****hellohello****hellohello****hellohello****hellohello****hellohello****hellohello****hellohello****hellohello****hellohello****hellohello****hellohello****hellohello****hellohello****hellohello****hellohello****hellohello****hellohello****hellohello****hellohello****hellohello****hellohello****hellohello****hellohello****hellohello****hellohello****hellohello****hellohello****hellohello****hellohello****hellohello****hellohello****hellohello****hellohello****hellohello****hellohello****hellohello****hellohello****hellohello****hellohello****hellohello****hellohello****hellohello****hellohello****hellohello****hellohello****hellohello****hellohello****hellohello****hellohello****hellohello****hellohello****hellohello****hellohello****hellohello****hellohello****hellohello****hellohello****hellohello****hellohello****hellohello****hellohello****hellohello****hellohello****hellohello****hellohello****hellohello****hellohello****hellohello****hellohello****hellohello****hellohello****hellohello****hellohello****hellohello****hellohello****hellohello****hellohello****hellohello****hellohello****hellohello****hellohello****hellohello****hellohello****hellohello****hellohello****hellohello****hellohello****hellohello****hellohello****hellohello****hellohello****hellohello****hellohello****hellohello****hellohello****hellohello****hellohello****hellohello****hellohello****hellohello****hellohello****hellohello****hellohello****hellohello****hellohello****hellohello****hellohello****hellohello****hellohello****hellohello****hellohello****hellohello****hellohello****hellohello****hellohello****hellohello****hellohello****hellohello****hellohello****hellohello****hellohello****hellohello****hellohello****hellohello****hellohello****hellohello****hellohello****hellohello****hellohello****hellohello****hellohello****hellohello****hellohello****hellohello****hellohello****hellohello****hellohello****hellohello****hellohello****hellohello****hellohello****hellohello****hellohello****hellohello****hellohello****hellohello****hellohello****hellohello****hellohello****hellohello****hellohello****hellohello****hellohello****hellohello****hellohello****hellohello****hellohello****hellohello****hellohello****hellohello****hellohello****hellohello****hellohello****hellohello****hellohello****hellohello****hellohello****hellohello****hellohello****hellohello****hellohello****hellohello****hellohello****hellohello****hellohello****hellohello****hellohello****hellohello****hellohello****hellohello****hellohello****hellohello****hellohello****hellohello****hellohello****hellohello****hellohello****hellohello****hellohello****hellohello****hellohello****hellohello****hellohello****hellohello****hellohello****hellohello****hellohello****hellohello****hellohello****hellohello****hellohello****hellohello****hellohello****hellohello****hellohello****hellohello****hellohello****hellohello****hellohello****hellohello****hellohello****hellohello****hellohello****hellohello****hellohello****hellohello****hellohello****hellohello****hellohello****hellohello****hellohello****hellohello****hellohello****hellohello****hellohello****hellohello****hellohello****hellohello****hellohello****hellohello****hellohello****hellohello****hellohello****hellohello****hellohello****hellohello****hellohello****hellohello****hellohello****hellohello****hellohello****hellohello****hellohello****hellohello****hellohello****hellohello****hellohello****hellohello****hellohello****hellohello****hellohello****hellohello****hellohello****hellohello****hellohello****hellohello****hellohello****hellohello****hellohello****hellohello****hellohello****hellohello****hellohello****hellohello****hellohello****hellohello****hellohello****hellohello****hellohello****hellohello****hellohello****hellohello****hellohello****hellohello****hellohello****hellohello****hellohello****hellohello****hellohello****hellohello****hellohello****hellohello****hellohello****hellohello****hellohello****hellohello****hellohello****hellohello****hellohello****hellohello****hellohello****hellohello****hellohello****hellohello****hellohello****hellohello****hellohello****hellohello****hellohello****hellohello****hellohello****hellohello****hellohello****hellohello****hellohello****hellohello****hellohello****hellohello****hellohello****hellohello****hellohello****hellohello****hellohello****hellohello****hellohello****hellohello****hellohello****hellohello****hellohello****hellohello****hellohello****hellohello****hellohello****hellohello****hellohello****hellohello****hellohello****hellohello****hellohello****hellohello****hellohello****hellohello****hellohello****hellohello****hellohello****hellohello****hellohello****hellohello****hellohello****hellohello****hellohello****hellohello****hellohello****hellohello****hellohello****hellohello****hellohello****hellohello****hellohello****hellohello****hellohello****hellohello****hellohello****hellohello****hellohello****hellohello****hellohello****hellohello****hellohello****hellohello****hellohello****hellohello****hellohello****hellohello****hellohello****hellohello****hellohello****hellohello****hellohello****hellohello****hellohello****hellohello****hellohello****hellohello****hellohello****hellohello****hellohello****hellohello****hellohello****hellohello****hellohello****hellohello****hellohello****hellohello****hellohello****hellohello****hellohello****hellohello****hellohello****hellohello****hellohello****hellohello****hellohello****hellohello****hellohello****hellohello****hellohello****hellohello****hellohello****hellohello****hellohello****hellohello****hellohello****hellohello****hellohello****hellohello****hellohello****hellohello****hellohello****hellohello****hellohello****hellohello****hellohello****hellohello****hellohello****hellohello****hellohello****hellohello****hellohello****hellohello****hellohello****hellohello****hellohello****hellohello****hellohello****hellohello****hellohello****hellohello****hellohello****hellohello****hellohello****hellohello****hellohello****hellohello****hellohello****hellohello****hellohello****hellohello****hellohello****hellohello****hellohello****hellohello****hellohello****hellohello****hellohello****hellohello****hellohello****hellohello****hellohello****hellohello****hellohello****hellohello****hellohello****hellohello****hellohello****hellohello****hellohello****hellohello****hellohello****hellohello****hellohello****hellohello****hellohello****hellohello****hellohello****hellohello****hellohello****hellohello****hellohello****hellohello****hellohello****hellohello****hellohello****hellohello****hellohello****hellohello****hellohello****hellohello****hellohello****hellohello****hellohello****hellohello****hellohello****hellohello****hellohello****hellohello****hellohello****hellohello****hellohello****hellohello****hellohello****hellohello****hellohello****hellohello****hellohello****hellohello****hellohello****hellohello****hellohello****hellohello****hellohello****hellohello****hellohello****hellohello****hellohello****hellohello****hellohello****hellohello****hellohello****hellohello****hellohello****hellohello****hellohello****hellohello****hellohello****hellohello****hellohello****hellohello****hellohello****hellohello****hellohello****hellohello****hellohello****hellohello****hellohello****hellohello****hellohello****hellohello****hellohello****hellohello****hellohello****hellohello****hellohello****hellohello****hellohello****hellohello****hellohello****hellohello****hellohello****hellohello****hellohello****hellohello****hellohello****hellohello****hellohello****hellohello****hellohello****hellohello****hellohello****hellohello****hellohello****hellohello****hellohello****hellohello****hellohello****hellohello****hellohello****hellohello****hellohello****hellohello****hellohello****hellohello****hellohello****hellohello****hellohello****hellohello****hellohello****hellohello****hellohello****hellohello****hellohello****hellohello****hellohello****hellohello****hellohello****hellohello****hellohello****hellohello****hellohello****hellohello****hellohello****hellohello****hellohello****hellohello****hellohello****hellohello****hellohello****hellohello****hellohello****hellohello****hellohello****hellohello****hellohello****hellohello****hellohello****hellohello****hellohello****hellohello****hellohello****hellohello****hellohello****hellohello****hellohello****hellohello****hellohello****hellohello****hellohello****hellohello****hellohello****hellohello****hellohello****hellohello****hellohello****hellohello****hellohello****hellohello****hellohello****hellohello****hellohello****hellohello****hellohello****hellohello****hellohello****hellohello****hellohello****hellohello****hellohello****hellohello****hellohello****hellohello****hellohello****hellohello****hellohello****hellohello****hellohello****hellohello****hellohello****hellohello****hellohello****hellohello****hellohello****hellohello****hellohello****hellohello****hellohello****hellohello****hellohello****hellohello****hellohello****hellohello****hellohello****hellohello****hellohello****hellohello****hellohello****hellohello****hellohello****hellohello****hellohello****hellohello****hellohello****hellohello****hellohello****hellohello****hellohello****hellohello****hellohello****hellohello****hellohello****hellohello****hellohello****hellohello****hellohello****hellohello****hellohello****hellohello****hellohello****hellohello****hellohello****hellohello****hellohello****hellohello****hellohello****hellohello****hellohello****hellohello****hellohello****hellohello****hellohello****hellohello****hellohello****hellohello****hellohello****hellohello****hellohello****hellohello****hellohello****hellohello****hellohello****hellohello****hellohello****hellohello****hellohello****hellohello****hellohello****hellohello****hellohello****hellohello****hellohello****hellohello****hellohello****hellohello****hellohello****hellohello****hellohello****hellohello****hellohello****hellohello****hellohello****hellohello****hellohello****hellohello****hellohello****hellohello****hellohello****hellohello****hellohello****hellohello****hellohello****hellohello****hellohello****hellohello****hellohello****hellohello****hellohello****hellohello****hellohello****hellohello****hellohello****hellohello****hellohello****hellohello****hellohello****hellohello****hellohello****hellohello****hellohello****hellohello****hellohello****hellohello****hellohello****hellohello****hellohello****hellohello****hellohello****hellohello****hellohello****hellohello****hellohello****hellohello****hellohello****hellohello****hellohello****hellohello****hellohello****hellohello****hellohello****hellohello****hellohello****hellohello****hellohello****hellohello****hellohello****hellohello****hellohello****hellohello****hellohello****hellohello****hellohello****hellohello****hellohello****hellohello****hellohello****hellohello****hellohello****hellohello****hellohello****hellohello****hellohello****hellohello****hellohello****hellohello****hellohello****hellohello****hellohello****hellohello****hellohello****hellohello****hellohello****hellohello****hellohello****hellohello****hellohello****hellohello****hellohello****hellohello****hellohello****hellohello****hellohello****hellohello****hellohello****hellohello****hellohello****hellohello****hellohello****hellohello****hellohello****hellohello****hellohello****hellohello****hellohello****hellohello****hellohello****hellohello****hellohello****hellohello****hellohello****hellohello****hellohello****hellohello****hellohello****hellohello****hellohello****hellohello****hellohello****hellohello****hellohello****hellohello****hellohello****hellohello****hellohello****hellohello****hellohello****hellohello****hellohello****hellohello****hellohello****hellohello****hellohello****hellohello****hellohello****hellohello****hellohello****hellohello****hellohello****hellohello****hellohello****hellohello****hellohello****hellohello****hellohello****hellohello****hellohello****hellohello****hellohello****hellohello****hellohello****hellohello****hellohello****hellohello****hellohello****hellohello****hellohello****hellohello****hellohello****hellohello****hellohello****hellohello****hellohello****hellohello****hellohello****hellohello****hellohello****hellohello****hellohello****hellohello****hellohello****hellohello****hellohello****hellohello****hellohello****hellohello****hellohello****hellohello****hellohello****hellohello****hellohello****hellohello****hellohello****hellohello****hellohello****hellohello****hellohello****hellohello****hellohello****hellohello****hellohello****hellohello****hellohello****hellohello****hellohello****hellohello****hellohello****hellohello****hellohello****hellohello****hellohello****hellohello****hellohello****hellohello****hellohello****hellohello****hellohello****hellohello****hellohello****hellohello****hellohello****hellohello****hellohello****hellohello****hellohello****hellohello****hellohello****hellohello****hellohello****hellohello****hellohello****hellohello****hellohello****hellohello****hellohello****hellohello****hellohello****hellohello****hellohello****hellohello****hellohello****hellohello****hellohello****hellohello****hellohello****hellohello****hellohello****hellohello****hellohello****hellohello****hellohello****hellohello****hellohello****hellohello****hellohello****hellohello****hellohello****hellohello****hellohello****hellohello****hellohello****hellohello****hellohello****hellohello****hellohello****hellohello****hellohello****hellohello****hellohello****hellohello****hellohello****hellohello****hellohello****hellohello****hellohello****hellohello****hellohello****hellohello****hellohello****hellohello****hellohello****hellohello****hellohello****hellohello****hellohello****hellohello****hellohello****hellohello****hellohello****hellohello****hellohello****hellohello****hellohello****hellohello****hellohello****hellohello****hellohello****hellohello****hellohello****hellohello****hellohello****hellohello****hellohello****hellohello****hellohello****hellohello****hellohello****hellohello****hellohello****hellohello****hellohello****hellohello****hellohello****hellohello****hellohello****hellohello****hellohello****hellohello****hellohello****hellohello****hellohello****hellohello****hellohello****hellohello****hellohello****hellohello****hellohello****hellohello****hellohello****hellohello****hellohello****hellohello****hellohello****hellohello****hellohello****hellohello****hellohello****hellohello****hellohello****hellohello****hellohello****hellohello****hellohello****hellohello****hellohello****hellohello****hellohello****hellohello****hellohello****hellohello****hellohello****hellohello****hellohello****hellohello****hellohello****hellohello****hellohello****hellohello****hellohello****hellohello****hellohello****hellohello****hellohello****hellohello****hellohello****hellohello****hellohello****hellohello****hellohello****hellohello****hellohello****hellohello****hellohello****hellohello****hellohello****hellohello****hellohello****hellohello****hellohello****hellohello****hellohello****hellohello****hellohello****hellohello****hellohello****hellohello****hellohello****hellohello****hellohello****hellohello****hellohello****hellohello****hellohello****hellohello****hellohello****hellohello****hellohello****hellohello****hellohello****hellohello****hellohello****hellohello****hellohello****hellohello****hellohello****hellohello****hellohello****hellohello****hellohello****hellohello****hellohello****hellohello****hellohello****hellohello****hellohello****hellohello****hellohello****hellohello****hellohello****hellohello****hellohello****hellohello****hellohello****hellohello****hellohello****hellohello****hellohello****hellohello****hellohello****hellohello****hellohello****hellohello****hellohello****hellohello****hellohello****hellohello****hellohello****hellohello****hellohello****hellohello****hellohello****hellohello****hellohello****hellohello****hellohello****hellohello****hellohello****hellohello****hellohello****hellohello****hellohello****hellohello****hellohello****hellohello****hellohello****hellohello****hellohello****hellohello****hellohello****hellohello****hellohello****hellohello****hellohello****hellohello****hellohello****hellohello****hellohello****hellohello****hellohello****hellohello****hellohello****hellohello****hellohello****hellohello****hellohello****hellohello****hellohello****hellohello****hellohello****hellohello****hellohello****hellohello****hellohello****hellohello****hellohello****hellohello****hellohello****hellohello****hellohello****hellohello****hellohello****hellohello****hellohello****hellohello****hellohello****hellohello****hellohello****hellohello****hellohello****hellohello****hellohello****hellohello****hellohello****hellohello****hellohello****hellohello****hellohello****hellohello****hellohello****hellohello****hellohello****hellohello****hellohello****hellohello****hellohello****hellohello****hellohello****hellohello****hellohello****hellohello****hellohello****hellohello****hellohello****hellohello****hellohello****hellohello****hellohello****hellohello****hellohello****hellohello****hellohello****hellohello****hellohello****hellohello****hellohello****hellohello****hellohello****hellohello****hellohello****hellohello****hellohello****hellohello****hellohello****hellohello****hellohello****hellohello****hellohello****hellohello****hellohello****hellohello****hellohello****hellohello****hellohello****hellohello****hellohello****hellohello****hellohello****hellohello****hellohello****hellohello****hellohello****hellohello****hellohello****hellohello****hellohello****hellohello****hellohello****hellohello****hellohello****hellohello****hellohello****hellohello****hellohello****hellohello****hellohello****hellohello****hellohello****hellohello****hellohello****hellohello****hellohello****hellohello****hellohello****hellohello****hellohello****hellohello****hellohello****hellohello****hellohello****hellohello****hellohello****hellohello****hellohello****hellohello****hellohello****hellohello****hellohello****hellohello****hellohello****hellohello****hellohello****hellohello****hellohello****hellohello****hellohello****hellohello****hellohello****hellohello****hellohello****hellohello****hellohello****hellohello****hellohello****hellohello****hellohello****hellohello****hellohello****hellohello****hellohello****hellohello****hellohello****hellohello****hellohello****hellohello****hellohello****hellohello****hellohello****hellohello****hellohello****hellohello****hellohello****hellohello****hellohello****hellohello****hellohello****hellohello****hellohello****hellohello****hellohello****hellohello****hellohello****hellohello****hellohello****hellohello****hellohello****hellohello****hellohello****hellohello****hellohello****hellohello****hellohello****hellohello****hellohello****hellohello****hellohello****hellohello****hellohello****hellohello****hellohello****hellohello****hellohello****hellohello****hellohello****hellohello****hellohello****hellohello****hellohello****hellohello****hellohello****hellohello****hellohello****hellohello****hellohello****hellohello****hellohello****hellohello****hellohello****hellohello****hellohello****hellohello****hellohello****hellohello****hellohello****hellohello****hellohello****hellohello****hellohello****hellohello****hellohello****hellohello****hellohello****hellohello****hellohello****hellohello****hellohello****hellohello****hellohello****hellohello****hellohello****hellohello****hellohello****hellohello****hellohello****hellohello****hellohello****hellohello****hellohello****hellohello****hellohello****hellohello****hellohello****hellohello****hellohello****hellohello****hellohello****hellohello****hellohello****hellohello****hellohello****hellohello****hellohello****hellohello****hellohello****hellohello****hellohello****hellohello****hellohello****hellohello****hellohello****hellohello****hellohello****hellohello****hellohello****hellohello****hellohello****hellohello****hellohello****hellohello****hellohello****hellohello****hellohello****hellohello****hellohello****hellohello****hellohello****hellohello****hellohello****hellohello****hellohello****hellohello****hellohello****hellohello****hellohello****hellohello****hellohello****hellohello****hellohello****hellohello****hellohello****hellohello****hellohello****hellohello****hellohello****hellohello****hellohello****hellohello****hellohello****hellohello****hellohello****hellohello****hellohello****hellohello****hellohello****hellohello****hellohello****hellohello****hellohello****hellohello****hellohello****hellohello****hellohello****hellohello****hellohello****hellohello****hellohello****hellohello****hellohello****hellohello****hellohello****hellohello****hellohello****hellohello****hellohello****hellohello****hellohello****hellohello****hellohello****hellohello****hellohello****hellohello****hellohello****hellohello****hellohello****hellohello****hellohello****hellohello****hellohello****hellohello****hellohello****hellohello****hellohello****hellohello****hellohello****hellohello****hellohello****hellohello****hellohello****hellohello****hellohello****hellohello****hellohello****hellohello****hellohello****hellohello****hellohello****hellohello****hellohello****hellohello****hellohello****hellohello****hellohello****hellohello****hellohello****hellohello****hellohello****hellohello****hellohello****hellohello****hellohello****hellohello****hellohello****hellohello****hellohello****hellohello****hellohello****hellohello****hellohello****hellohello****hellohello****hellohello****hellohello****hellohello****hellohello****hellohello****hellohello****hellohello****hellohello****hellohello****hellohello****hellohello****hellohello****hellohello****hellohello****hellohello****hellohello****hellohello****hellohello****hellohello****hellohello****hellohello****hellohello****hellohello****hellohello****hellohello****hellohello****hellohello****hellohello****hellohello****hellohello****hellohello****hellohello****hellohello****hellohello****hellohello****hellohello****hellohello****hellohello****hellohello****hellohello****hellohello****hellohello****hellohello****hellohello****hellohello****hellohello****hellohello****hellohello****hellohello****hellohello****hellohello****hellohello****hellohello****hellohello****hellohello****hellohello****hellohello****hellohello****hellohello****hellohello****hellohello****hellohello****hellohello****hellohello****hellohello****hellohello****hellohello****hellohello****hellohello****hellohello****hellohello****hellohello****hellohello****hellohello****hellohello****hellohello****hellohello****hellohello****hellohello****hellohello****hellohello****hellohello****hellohello****hellohello****hellohello****hellohello****hellohello****hellohello****hellohello****hellohello****hellohello****hellohello****hellohello****hellohello****hellohello****hellohello****hellohello****hellohello****hellohello****hellohello****hellohello****hellohello****hellohello****hellohello****hellohello****hellohello****hellohello****hellohello****hellohello****hellohello****hellohello****hellohello****hellohello****hellohello****hellohello****hellohello****hellohello****hellohello****hellohello****hellohello****hellohello****hellohello****hellohello****hellohello****hellohello****hellohello****hellohello****hellohello****hellohello****hellohello****hellohello****hellohello****hellohello****hellohello****hellohello****hellohello****hellohello****hellohello****hellohello****hellohello****hellohello****hellohello****hellohello****hellohello****hellohello****hellohello****hellohello****hellohello****hellohello****hellohello****hellohello****hellohello****hellohello****hellohello****hellohello****hellohello****hellohello****hellohello****hellohello****hellohello****hellohello****hellohello****hellohello****hellohello****hellohello****hellohello****hellohello****hellohello****hellohello****hellohello****hellohello****hellohello****hellohello****hellohello****hellohello****hellohello****hellohello****hellohello****hellohello****hellohello****hellohello****hellohello****hellohello****hellohello****hellohello****hellohello****hellohello****hellohello****hellohello****hellohello****hellohello****hellohello****hellohello****hellohello****hellohello****hellohello****hellohello****hellohello****hellohello****hellohello****hellohello****hellohello****hellohello****hellohello****hellohello****hellohello****hellohello****hellohello****hellohello****hellohello****hellohello****hellohello****hellohello****hellohello****hellohello****hellohello****hellohello****hellohello****hellohello****hellohello****hellohello****hellohello****hellohello****hellohello****hellohello****hellohello****hellohello****hellohello****hellohello****hellohello****hellohello****hellohello****hellohello****hellohello****hellohello****hellohello****hellohello****hellohello****hellohello****hellohello****hellohello****hellohello****hellohello****hellohello****hellohello****hellohello****hellohello****hellohello****hellohello****hellohello****hellohello****hellohello****hellohello****hellohello****hellohello****hellohello****hellohello****hellohello****hellohello****hellohello****hellohello****hellohello****hellohello****hellohello****hellohello****hellohello****hellohello****hellohello****hellohello****hellohello****hellohello****hellohello****hellohello****hellohello****hellohello****hellohello****hellohello****hellohello****hellohello****hellohello****hellohello****hellohello****hellohello****hellohello****hellohello****hellohello****hellohello****hellohello****hellohello****hellohello****hellohello****hellohello****hellohello****hellohello****hellohello****hellohello****hellohello****hellohello****hellohello****hellohello****hellohello****hellohello****hellohello****hellohello****hellohello****hellohello****hellohello****hellohello****hellohello****hellohello****hellohello****hellohello****hellohello****hellohello****hellohello****hellohello****hellohello****hellohello****hellohello****hellohello****hellohello****hellohello****hellohello****hellohello****hellohello****hellohello****hellohello****hellohello****hellohello****hellohello****hellohello****hellohello****hellohello****hellohello****hellohello****hellohello****hellohello****hellohello****hellohello****hellohello****hellohello****hellohello****hellohello****hellohello****hellohello****hellohello****hellohello****hellohello****hellohello****hellohello****hellohello****hellohello****hellohello****hellohello****hellohello****hellohello****hellohello****hellohello****hellohello****hellohello****hellohello****hellohello****hellohello****hellohello****hellohello****hellohello****hellohello****hellohello****hellohello****hellohello****hellohello****hellohello****hellohello****hellohello****hellohello****hellohello****hellohello****hellohello****hellohello****hellohello****hellohello****hellohello****hellohello****hellohello****hellohello****hellohello****hellohello****hellohello****hellohello****hellohello****hellohello****hellohello****hellohello****hellohello****hellohello****hellohello****hellohello****hellohello****hellohello****hellohello****hellohello****hellohello****hellohello****hellohello****hellohello****hellohello****hellohello****hellohello****hellohello****hellohello****hellohello****hellohello****hellohello****hellohello****hellohello****hellohello****hellohello****hellohello****hellohello****hellohello****hellohello****hellohello****hellohello****hellohello****hellohello****hellohello****hellohello****hellohello****hellohello****hellohello****hellohello****hellohello****hellohello****hellohello****hellohello****hellohello****hellohello****hellohello****hellohello****hellohello****hellohello****hellohello****hellohello****hellohello****hellohello****hellohello****hellohello****hellohello****hellohello****hellohello****hellohello****hellohello****hellohello****hellohello****hellohello****hellohello****hellohello****hellohello****hellohello****hellohello****hellohello****hellohello****hellohello****hellohello****hellohello****hellohello****hellohello****hellohello****hellohello****hellohello****hellohello****hellohello****hellohello****hellohello****hellohello****hellohello****hellohello****hellohello****hellohello****hellohello****hellohello****hellohello****hellohello****hellohello****hellohello****hellohello****hellohello****hellohello****hellohello****hellohello****hellohello****hellohello****hellohello****hellohello****hellohello****hellohello****hellohello****hellohello****hellohello****hellohello****hellohello****hellohello****hellohello****hellohello****hellohello****hellohello****hellohello****hellohello****hellohello****hellohello****hellohello****hellohello****hellohello****hellohello****hellohello****hellohello****hellohello****hellohello****hellohello****hellohello****hellohello****hellohello****hellohello****hellohello****hellohello****hellohello****hellohello****hellohello****hellohello****hellohello****hellohello****hellohello****hellohello****hellohello****hellohello****hellohello****hellohello****hellohello****hellohello****hellohello****hellohello****hellohello****hellohello****hellohello****hellohello****hellohello****hellohello****hellohello****hellohello****hellohello****hellohello****hellohello****hellohello****hellohello****hellohello****hellohello****hellohello****hellohello****hellohello****hellohello****hellohello****hellohello****hellohello****hellohello****hellohello****hellohello****hellohello****hellohello****hellohello****hellohello****hellohello****hellohello****hellohello****hellohello****hellohello****hellohello****hellohello****hellohello****hellohello****hellohello****hellohello****hellohello****hellohello****hellohello****hellohello****hellohello****hellohello****hellohello****hellohello****hellohello****hellohello****hellohello****hellohello****hellohello****hellohello****hellohello****hellohello****hellohello****hellohello****hellohello****hellohello****hellohello****hellohello****hellohello****hellohello****hellohello****hellohello****hellohello****hellohello****hellohello****hellohello****hellohello****hellohello****hellohello****hellohello****hellohello****hellohello****hellohello****hellohello****hellohello****hellohello****hellohello****hellohello****hellohello****hellohello****hellohello****hellohello****hellohello****hellohello****hellohello****hellohello****hellohello****hellohello****hellohello****hellohello****hellohello****hellohello****hellohello****hellohello****hellohello****hellohello****hellohello****hellohello****hellohello****hellohello****hellohello****hellohello****hellohello****hellohello****hellohello****hellohello****hellohello****hellohello****hellohello****hellohello****hellohello****hellohello****hellohello****hellohello****hellohello****hellohello****hellohello****hellohello****hellohello****hellohello****hellohello****hellohello****hellohello****hellohello****hellohello****hellohello****hellohello****hellohello****hellohello****hellohello****hellohello****hellohello****hellohello****hellohello****hellohello****hellohello****hellohello****hellohello****hellohello****hellohello****hellohello****hellohello****hellohello****hellohello****hellohello****hellohello****hellohello****hellohello****hellohello****hellohello****hellohello****hellohello****hellohello****hellohello****hellohello****hellohello****hellohello****hellohello****hellohello****hellohello****hellohello****hellohello****hellohello****hellohello****hellohello****hellohello****hellohello****hellohello****hellohello****hellohello****hellohello****hellohello****hellohello****hellohello****hellohello****hellohello****hellohello****hellohello****hellohello****hellohello****hellohello****hellohello****hellohello****hellohello****hellohello****hellohello****hellohello****hellohello****hellohello****hellohello****hellohello****hellohello****hellohello****hellohello****hellohello****hellohello****hellohello****hellohello****hellohello****hellohello****hellohello****hellohello****hellohello****hellohello****hellohello****hellohello****hellohello****hellohello****hellohello****hellohello****hellohello****hellohello****hellohello****hellohello****hellohello****hellohello****hellohello****hellohello****hellohello****hellohello****hellohello****hellohello****hellohello****hellohello****hellohello****hellohello****hellohello****hellohello****hellohello****hellohello****hellohello****hellohello****hellohello****hellohello****hellohello****hellohello****hellohello****hellohello****hellohello****hellohello****hellohello****hellohello****hellohello****hellohello****hellohello****hellohello****hellohello****hellohello****hellohello****hellohello****hellohello****hellohello****hellohello****hellohello****hellohello****hellohello****hellohello****hellohello****hellohello****hellohello****hellohello****hellohello****hellohello****hellohello****hellohello****hellohello****hellohello****hellohello****hellohello****hellohello****hellohello****hellohello****hellohello****hellohello****hellohello****hellohello****hellohello****hellohello****hellohello****hellohello****hellohello****hellohello****hellohello****hellohello****hellohello****hellohello****hellohello****hellohello****hellohello****hellohello****hellohello****hellohello****hellohello****hellohello****hellohello****hellohello****hellohello****hellohello****hellohello****hellohello****hellohello****hellohello****hellohello****hellohello****hellohello****hellohello****hellohello****hellohello****hellohello****hellohello****hellohello****hellohello****hellohello****hellohello****hellohello****hellohello****hellohello****hellohello****hellohello****hellohello****hellohello****hellohello****hellohello****hellohello****hellohello****hellohello****hellohello****hellohello****hellohello****hellohello****hellohello****hellohello****hellohello****hellohello****hellohello****hellohello****hellohello****hellohello****hellohello****hellohello****hellohello****hellohello****hellohello****hellohello****hellohello****hellohello****hellohello****hellohello****hellohello****hellohello****hellohello****hellohello****hellohello****hellohello****hellohello****hellohello****hellohello****hellohello****hellohello****hellohello****hellohello****hellohello****hellohello****hellohello****hellohello****hellohello****hellohello****hellohello****hellohello****hellohello****hellohello****hellohello****hellohello****hellohello****hellohello****hellohello****hellohello****hellohello****hellohello****hellohello****hellohello****hellohello****hellohello****hellohello****hellohello****hellohello****hellohello****hellohello****hellohello****hellohello****hellohello****hellohello****hellohello****hellohello****hellohello****hellohello****hellohello****hellohello****hellohello****hellohello****hellohello****hellohello****hellohello****hellohello****hellohello****hellohello****hellohello****hellohello****hellohello****hellohello****hellohello****hellohello****hellohello****hellohello****hellohello****hellohello****hellohello****hellohello****hellohello****hellohello****hellohello****hellohello****hellohello****hellohello****hellohello****hellohello****hellohello****hellohello****hellohello****hellohello****hellohello****hellohello****hellohello****hellohello****hellohello****hellohello****hellohello****hellohello****hellohello****hellohello****hellohello****hellohello****hellohello****hellohello****hellohello****hellohello****hellohello****hellohello****hellohello****hellohello****hellohello****hellohello****hellohello****hellohello****hellohello****hellohello****hellohello****hellohello****hellohello****hellohello****hellohello****hellohello****hellohello****hellohello****hellohello****hellohello****hellohello****hellohello****hellohello****hellohello****hellohello****hellohello****hellohello****hellohello****hellohello****hellohello****hellohello****hellohello****hellohello****hellohello****hellohello****hellohello****hellohello****hellohello****hellohello****hellohello****hellohello****hellohello****hellohello****hellohello****hellohello****hellohello****hellohello****hellohello****hellohello****hellohello****hellohello****hellohello****hellohello****hellohello****hellohello****hellohello****hellohello****hellohello****hellohello****hellohello****hellohello****hellohello****hellohello****hellohello****hellohello****hellohello****hellohello****hellohello****hellohello****hellohello****hellohello****hellohello****hellohello****hellohello****hellohello****hellohello****hellohello****hellohello****hellohello****hellohello****hellohello****hellohello****hellohello****hellohello****hellohello****hellohello****hellohello****hellohello****hellohello****hellohello****hellohello****hellohello****hellohello****hellohello****hellohello****hellohello****hellohello****hellohello****hellohello****hellohello****hellohello****hellohello****hellohello****hellohello****hellohello****hellohello****hellohello****hellohello****hellohello****hellohello****hellohello****hellohello****hellohello****hellohello****hellohello****hellohello****hellohello****hellohello****hellohello****hellohello****hellohello****hellohello****hellohello****hellohello****hellohello****hellohello****hellohello****hellohello****hellohello****hellohello****hellohello****hellohello****hellohello****hellohello****hellohello****hellohello****hellohello****hellohello****hellohello****hellohello****hellohello****hellohello****hellohello****hellohello****hellohello****hellohello****hellohello****hellohello****hellohello****hellohello****hellohello****hellohello****hellohello****hellohello****hellohello****hellohello****hellohello****hellohello****hellohello****hellohello****hellohello****hellohello****hellohello****hellohello****hellohello****hellohello****hellohello****hellohello****hellohello****hellohello****hellohello****hellohello****hellohello****hellohello****hellohello****hellohello****hellohello****hellohello****hellohello****hellohello****hellohello****hellohello****hellohello****hellohello****hellohello****hellohello****hellohello****hellohello****hellohello****hellohello****hellohello****hellohello****hellohello****hellohello****hellohello****hellohello****hellohello****hellohello****hellohello****hellohello****hellohello****hellohello****hellohello****hellohello****hellohello****hellohello****hellohello****hellohello****hellohello****hellohello****hellohello****hellohello****hellohello****hellohello****hellohello****hellohello****hellohello****hellohello****hellohello****hellohello****hellohello****hellohello****hellohello****hellohello****hellohello****hellohello****hellohello****hellohello****hellohello****hellohello****hellohello****hellohello****hellohello****hellohello****hellohello****hellohello****hellohello****hellohello****hellohello****hellohello****hellohello****hellohello****hellohello****hellohello****hellohello****hellohello****hellohello****hellohello****hellohello****hellohello****hellohello****hellohello****hellohello****hellohello****hellohello****hellohello****hellohello****hellohello****hellohello****hellohello****hellohello****hellohello****hellohello****hellohello****hellohello****hellohello****hellohello****hellohello****hellohello****hellohello****hellohello****hellohello****hellohello****hellohello****hellohello****hellohello****hellohello****hellohello****hellohello****hellohello****hellohello****hellohello****hellohello****hellohello****hellohello****hellohello****hellohello****hellohello****hellohello****hellohello****hellohello****hellohello****hellohello****hellohello****hellohello****hellohello****hellohello****hellohello****hellohello****hellohello****hellohello****hellohello****hellohello****hellohello****hellohello****hellohello****hellohello****hellohello****hellohello****hellohello****hellohello****hellohello****hellohello****hellohello****hellohello****hellohello****hellohello****hellohello****hellohello****hellohello****hellohello****hellohello****hellohello****hellohello****hellohello****hellohello****hellohello****hellohello****hellohello****hellohello****hellohello****hellohello****hellohello****hellohello****hellohello****hellohello****hellohello****hellohello****hellohello****hellohello****hellohello****hellohello****hellohello****hellohello****hellohello****hellohello****hellohello****hellohello****hellohello****hellohello****hellohello****hellohello****hellohello****hellohello****hellohello****hellohello****hellohello****hellohello****hellohello****hellohello****hellohello****hellohello****hellohello****hellohello****hellohello****hellohello****hellohello****hellohello****hellohello****hellohello****hellohello****hellohello****hellohello****hellohello****hellohello****hellohello****hellohello****hellohello****hellohello****hellohello****hellohello****hellohello****hellohello****hellohello****hellohello****hellohello****hellohello****hellohello****hellohello****hellohello****hellohello****hellohello****hellohello****hellohello****hellohello****hellohello****hellohello****hellohello****hellohello****hellohello****hellohello****hellohello****hellohello****hellohello****hellohello****hellohello****hellohello****hellohello****hellohello****hellohello****hellohello****hellohello****hellohello****hellohello****hellohello****hellohello****hellohello****hellohello****hellohello****hellohello****hellohello****hellohello****hellohello****hellohello****hellohello****hellohello****hellohello****hellohello****hellohello****hellohello****hellohello****hellohello****hellohello****hellohello****hellohello****hellohello****hellohello****hellohello****hellohello****hellohello****hellohello****hellohello****hellohello****hellohello****hellohello****hellohello****hellohello****hellohello****hellohello****hellohello****hellohello****hellohello****hellohello****hellohello****hellohello****hellohello****hellohello****hellohello****hellohello****hellohello****hellohello****hellohello****hellohello****hellohello****hellohello****hellohello****hellohello****hellohello****hellohello****hellohello****hellohello****hellohello****hellohello****hellohello****hellohello****hellohello****hellohello****hellohello****hellohello****hellohello****hellohello****hellohello****hellohello****hellohello****hellohello****hellohello****hellohello****hellohello****hellohello****hellohello****hellohello****hellohello****hellohello****hellohello****hellohello****hellohello****hellohello****hellohello****hellohello****hellohello****hellohello****hellohello****hellohello****hellohello****hellohello****hellohello****hellohello****hellohello****hellohello****hellohello****hellohello****hellohello****hellohello****hellohello****hellohello****hellohello****hellohello****hellohello****hellohello****hellohello****hellohello****hellohello****hellohello****hellohello****hellohello****hellohello****hellohello****hellohello****hellohello****hellohello****hellohello****hellohello****hellohello****hellohello****hellohello****hellohello****hellohello****hellohello****hellohello****hellohello****hellohello****hellohello****hellohello****hellohello****hellohello****hellohello****hellohello****hellohello****hellohello****hellohello****hellohello****hellohello****hellohello****hellohello****hellohello****hellohello****hellohello****hellohello****hellohello****hellohello****hellohello****hellohello****hellohello****hellohello****hellohello****hellohello****hellohello****hellohello****hellohello****hellohello****hellohello****hellohello****hellohello****hellohello****hellohello****hellohello****hellohello****hellohello****hellohello****hellohello****hellohello****hellohello****hellohello****hellohello****hellohello****hellohello****hellohello****hellohello****hellohello****hellohello****hellohello****hellohello****hellohello****hellohello****hellohello****hellohello****hellohello****hellohello****hellohello****hellohello****hellohello****hellohello****hellohello****hellohello****hellohello****hellohello****hellohello****hellohello****hellohello****hellohello****hellohello****hellohello****hellohello****hellohello****hellohello****hellohello****hellohello****hellohello****hellohello****hellohello****hellohello****hellohello****hellohello****hellohello****hellohello****hellohello****hellohello****hellohello****hellohello****hellohello****hellohello****hellohello****hellohello****hellohello****hellohello****hellohello****hellohello****hellohello****hellohello****hellohello****hellohello****hellohello****hellohello****hellohello****hellohello****hellohello****hellohello****hellohello****hellohello****hellohello****hellohello****hellohello****hellohello****hellohello****hellohello****hellohello****hellohello****hellohello****hellohello****hellohello****hellohello****hellohello****hellohello****hellohello****hellohello****hellohello****hellohello****hellohello****hellohello****hellohello****hellohello****hellohello****hellohello****hellohello****hellohello****hellohello****hellohello****hellohello****hellohello****hellohello****hellohello****hellohello****hellohello****hellohello****hellohello****hellohello****hellohello****hellohello****hellohello****hellohello****hellohello****hellohello****hellohello****hellohello****hellohello****hellohello****hellohello****hellohello****hellohello****hellohello****hellohello****hellohello****hellohello****hellohello****hellohello****hellohello****hellohello****hellohello****hellohello****hellohello****hellohello****hellohello****hellohello****hellohello****hellohello****hellohello****hellohello****hellohello****hellohello****hellohello****hellohello****hellohello****hellohello****hellohello****hellohello****hellohello****hellohello****hellohello****hellohello****hellohello****hellohello****hellohello****hellohello****hellohello****hellohello****hellohello****hellohello****hellohello****hellohello****hellohello****hellohello****hellohello****hellohello****hellohello****hellohello****hellohello****hellohello****hellohello****hellohello****hellohello****hellohello****hellohello****hellohello****hellohello****hellohello****hellohello****hellohello****hellohello****hellohello****hellohello****hellohello****hellohello****hellohello****hellohello****hellohello****hellohello****hellohello****hellohello****hellohello****hellohello****hellohello****hellohello****hellohello****hellohello****hellohello****hellohello****hellohello****hellohello****hellohello****hellohello****hellohello****hellohello****hellohello****hellohello****hellohello****hellohello****hellohello****hellohello****hellohello****hellohello****hellohello****hellohello****hellohello****hellohello****hellohello****hellohello****hellohello****hellohello****hellohello****hellohello****hellohello****hellohello****hellohello****hellohello****hellohello****hellohello****hellohello****hellohello****hellohello****hellohello****hellohello****hellohello****hellohello****hellohello****hellohello****hellohello****hellohello****hellohello****hellohello****hellohello****hellohello****hellohello****hellohello****hellohello****hellohello****hellohello****hellohello****hellohello****hellohello****hellohello****hellohello****hellohello****hellohello****hellohello****hellohello****hellohello****hellohello****hellohello****hellohello****hellohello****hellohello****hellohello****hellohello****hellohello****hellohello****hellohello****hellohello****hellohello****hellohello****hellohello****hellohello****hellohello****hellohello****hellohello****hellohello****hellohello****hellohello****hellohello****hellohello****hellohello****hellohello****hellohello****hellohello****hellohello****hellohello****hellohello****hellohello****hellohello****hellohello****hellohello****hellohello****hellohello****hellohello****hellohello****hellohello****hellohello****hellohello****hellohello****hellohello****hellohello****hellohello****hellohello****hellohello****hellohello****hellohello****hellohello****hellohello****hellohello****hellohello****hellohello****hellohello****hellohello****hellohello****hellohello****hellohello****hellohello****hellohello****hellohello****hellohello****hellohello****hellohello****hellohello****hellohello****hellohello****hellohello****hellohello****hellohello****hellohello****hellohello****hellohello****hellohello****hellohello****hellohello****hellohello****hellohello****hellohello****hellohello****hellohello****hellohello****hellohello****hellohello****hellohello****hellohello****hellohello****hellohello****hellohello****hellohello****hellohello****hellohello****hellohello****hellohello****hellohello****hellohello****hellohello****hellohello****hellohello****hellohello****hellohello****hellohello****hellohello****hellohello****hellohello****hellohello****hellohello****hellohello****hellohello****hellohello****hellohello****hellohello****hellohello****hellohello****hellohello****hellohello****hellohello****hellohello****hellohello****hellohello****hellohello****hellohello****hellohello****hellohello****hellohello****hellohello****hellohello****hellohello****hellohello****hellohello****hellohello****hellohello****hellohello****hellohello****hellohello****hellohello****hellohello****hellohello****hellohello****hellohello****hellohello****hellohello****hellohello****hellohello****hellohello****hellohello****hellohello****hellohello****hellohello****hellohello****hellohello****hellohello****hellohello****hellohello****hellohello****hellohello****hellohello****hellohello****hellohello****hellohello****hellohello****hellohello****hellohello****hellohello****hellohello****hellohello****hellohello****hellohello****hellohello****hellohello****hellohello****hellohello****hellohello****hellohello****hellohello****hellohello****hellohello****hellohello****hellohello****hellohello****hellohello****hellohello****hellohello****hellohello****hellohello****hellohello****hellohello****hellohello****hellohello****hellohello****hellohello****hellohello****hellohello****hellohello****hellohello****hellohello****hellohello****hellohello****hellohello****hellohello****hellohello****hellohello****hellohello****hellohello****hellohello****hellohello****hellohello****hellohello****hellohello****hellohello****hellohello****hellohello****hellohello****hellohello****hellohello****hellohello****hellohello****hellohello****hellohello****hellohello****hellohello****hellohello****hellohello****hellohello****hellohello****hellohello****hellohello****hellohello****hellohello****hellohello****hellohello****hellohello****hellohello****hellohello****hellohello****hellohello****hellohello****hellohello****hellohello****hellohello****hellohello****hellohello****hellohello****hellohello****hellohello****hellohello****hellohello****hellohello****hellohello****hellohello****hellohello****hellohello****hellohello****hellohello****hellohello****hellohello****hellohello****hellohello****hellohello****hellohello****hellohello****hellohello****hellohello****hellohello****hellohello****hellohello****hellohello****hellohello****hellohello****hellohello****hellohello****hellohello****hellohello****hellohello****hellohello****hellohello****hellohello****hellohello****hellohello****hellohello****hellohello****hellohello****hellohello****hellohello****hellohello****hellohello****hellohello****hellohello****hellohello****hellohello****hellohello****hellohello****hellohello****hellohello****hellohello****hellohello****hellohello****hellohello****hellohello****hellohello****hellohello****hellohello****hellohello****hellohello****hellohello****hellohello****hellohello****hellohello****hellohello****hellohello****hellohello****hellohello****hellohello****hellohello****hellohello****hellohello****hellohello****hellohello****hellohello****hellohello****hellohello****hellohello****hellohello****hellohello****hellohello****hellohello****hellohello****hellohello****hellohello****hellohello****hellohello****hellohello****hellohello****hellohello****hellohello****hellohello****hellohello****hellohello****hellohello****hellohello****hellohello****hellohello****hellohello****hellohello****hellohello****hellohello****hellohello****hellohello****hellohello****hellohello****hellohello****hellohello****hellohello****hellohello****hellohello****hellohello****hellohello****hellohello****hellohello****hellohello****hellohello****hellohello****hellohello****hellohello****hellohello****hellohello****hellohello****hellohello****hellohello****hellohello****hellohello****hellohello****hellohello****hellohello****hellohello****hellohello****hellohello****hellohello****hellohello****hellohello****hellohello****hellohello****hellohello****hellohello****hellohello****hellohello****hellohello****hellohello****hellohello****hellohello****hellohello****hellohello****hellohello****hellohello****hellohello****hellohello****hellohello****hellohello****hellohello****hellohello****hellohello****hellohello****hellohello****hellohello****hellohello****hellohello****hellohello****hellohello****hellohello****hellohello****hellohello****hellohello****hellohello****hellohello****hellohello****hellohello****hellohello****hellohello****hellohello****hellohello****hellohello****hellohello****hellohello****hellohello****hellohello****hellohello****hellohello****hellohello****hellohello****hellohello****hellohello****hellohello****hellohello****hellohello****hellohello****hellohello****hellohello****hellohello****hellohello****hellohello****hellohello****hellohello****hellohello****hellohello****hellohello****hellohello****hellohello****hellohello****hellohello****hellohello****hellohello****hellohello****hellohello****hellohello****hellohello****hellohello****hellohello****hellohello****hellohello****hellohello****hellohello****hellohello****hellohello****hellohello****hellohello****hellohello****hellohello****hellohello****hellohello****hellohello****hellohello****hellohello****hellohello****hellohello****hellohello****hellohello****hellohello****hellohello****hellohello****hellohello****hellohello****hellohello****hellohello****hellohello****hellohello****hellohello****hellohello****hellohello****hellohello****hellohello****hellohello****hellohello****hellohello****hellohello****hellohello****hellohello****hellohello****hellohello****hellohello****hellohello****hellohello****hellohello****hellohello****hellohello****hellohello****hellohello****hellohello****hellohello****hellohello****hellohello****hellohello****hellohello****hellohello****hellohello****hellohello****hellohello****hellohello****hellohello****hellohello****hellohello****hellohello****hellohello****hellohello****hellohello****hellohello****hellohello****hellohello****hellohello****hellohello****hellohello****hellohello****hellohello****hellohello****hellohello****hellohello****hellohello****hellohello****hellohello****hellohello****hellohello****hellohello****hellohello****hellohello****hellohello****hellohello****hellohello****hellohello****hellohello****hellohello****hellohello****hellohello****hellohello****hellohello****hellohello****hellohello****hellohello****hellohello****hellohello****hellohello****hellohello****hellohello****hellohello****hellohello****hellohello****hellohello****hellohello****hellohello****hellohello****hellohello****hellohello****hellohello****hellohello****hellohello****hellohello****hellohello****hellohello****hellohello****hellohello****hellohello****hellohello****hellohello****hellohello****hellohello****hellohello****hellohello****hellohello****hellohello****hellohello****hellohello****hellohello****hellohello****hellohello****hellohello****hellohello****hellohello****hellohello****hellohello****hellohello****hellohello****hellohello****hellohello****hellohello****hellohello****hellohello****hellohello****hellohello****hellohello****hellohello****hellohello****hellohello****hellohello****hellohello****hellohello****hellohello****hellohello****hellohello****hellohello****hellohello****hellohello****hellohello****hellohello****hellohello****hellohello****hellohello****hellohello****hellohello****hellohello****hellohello****hellohello****hellohello****hellohello****hellohello****hellohello****hellohello****hellohello****hellohello****hellohello****hellohello****hellohello****hellohello****hellohello****hellohello****hellohello****hellohello****hellohello****hellohello****hellohello****hellohello****hellohello****hellohello****hellohello****hellohello****hellohello****hellohello****hellohello****hellohello****hellohello****hellohello****hellohello****hellohello****hellohello****hellohello****hellohello****hellohello****hellohello****hellohello****hellohello****hellohello****hellohello****hellohello****hellohello****hellohello****hellohello****hellohello****hellohello****hellohello****hellohello****hellohello****hellohello****hellohello****hellohello****hellohello****hellohello****hellohello****hellohello****hellohello****hellohello****hellohello****hellohello****hellohello****hellohello****hellohello****hellohello****hellohello****hellohello****hellohello****hellohello****hellohello****hellohello****hellohello****hellohello****hellohello****hellohello****hellohello****hellohello****hellohello****hellohello****hellohello****hellohello****hellohello****hellohello****hellohello****hellohello****hellohello****hellohello****hellohello****hellohello****hellohello****hellohello****hellohello****hellohello****hellohello****hellohello****hellohello****hellohello****hellohello****hellohello****hellohello****hellohello****hellohello****hellohello****hellohello****hellohello****hellohello****hellohello****hellohello****hellohello****hellohello****hellohello****hellohello****hellohello****hellohello****hellohello****hellohello****hellohello****hellohello****hellohello****hellohello****hellohello****hellohello****hellohello****hellohello****hellohello****hellohello****hellohello****hellohello****hellohello****hellohello****hellohello****hellohello****hellohello****hellohello****hellohello****hellohello****hellohello****hellohello****hellohello****hellohello****hellohello****hellohello****hellohello****hellohello****hellohello****hellohello****hellohello****hellohello****hellohello****hellohello****hellohello****hellohello****hellohello****hellohello****hellohello****hellohello****hellohello****hellohello****hellohello****hellohello****hellohello****hellohello****hellohello****hellohello****hellohello****hellohello****hellohello****hellohello****hellohello****hellohello****hellohello****hellohello****hellohello****hellohello****hellohello****hellohello****hellohello****hellohello****hellohello****hellohello****hellohello****hellohello****hellohello****hellohello****hellohello****hellohello****hellohello****hellohello****hellohello****hellohello****hellohello****hellohello****hellohello****hellohello****hellohello****hellohello****hellohello****hellohello****hellohello****hellohello****hellohello****hellohello****hellohello****hellohello****hellohello****hellohello****hellohello****hellohello****hellohello****hellohello****hellohello****hellohello****hellohello****hellohello****hellohello****hellohello****hellohello****hellohello****hellohello****hellohello****hellohello****hellohello****hellohello****hellohello****hellohello****hellohello****hellohello****hellohello****hellohello****hellohello****hellohello****hellohello****hellohello****hellohello****hellohello****hellohello****hellohello****hellohello****hellohello****hellohello****hellohello****hellohello****hellohello****hellohello****hellohello****hellohello****hellohello****hellohello****hellohello****hellohello****hellohello****hellohello****hellohello****hellohello****hellohello****hellohello****hellohello****hellohello****hellohello****hellohello****hellohello****hellohello****hellohello****hellohello****hellohello****hellohello****hellohello****hellohello****hellohello****hellohello****hellohello****hellohello****hellohello****hellohello****hellohello****hellohello****hellohello****hellohello****hellohello****hellohello****hellohello****hellohello****hellohello****hellohello****hellohello****hellohello****hellohello****hellohello****hellohello****hellohello****hellohello****hellohello****hellohello****hellohello****hellohello****hellohello****hellohello****hellohello****hellohello****hellohello****hellohello****hellohello****hellohello****hellohello****hellohello****hellohello****hellohello****hellohello****hellohello****hellohello****hellohello****hellohello****hellohello****hellohello****hellohello****hellohello****hellohello****hellohello****hellohello****hellohello****hellohello****hellohello****hellohello****hellohello****hellohello****hellohello****hellohello****hellohello****hellohello****hellohello****hellohello****hellohello****hellohello****hellohello****hellohello****hellohello****hellohello****hellohello****hellohello****hellohello****hellohello****hellohello****hellohello****hellohello****hellohello****hellohello****hellohello****hellohello****hellohello****hellohello****hellohello****hellohello****hellohello****hellohello****hellohello****hellohello****hellohello****hellohello****hellohello****hellohello****hellohello****hellohello****hellohello****hellohello****hellohello****hellohello****hellohello****hellohello****hellohello****hellohello****hellohello****hellohello****hellohello****hellohello****hellohello****hellohello****hellohello****hellohello****hellohello****hellohello****hellohello****hellohello****hellohello****hellohello****hellohello****hellohello****hellohello****hellohello****hellohello****hellohello****hellohello****hellohello****hellohello****hellohello****hellohello****hellohello****hellohello****hellohello****hellohello****hellohello****hellohello****hellohello****hellohello****hellohello****hellohello****hellohello****hellohello****hellohello****hellohello****hellohello****hellohello****hellohello****hellohello****hellohello****hellohello****hellohello****hellohello****hellohello****hellohello****hellohello****hellohello****hellohello****hellohello****hellohello****hellohello****hellohello****hellohello****hellohello****hellohello****hellohello****hellohello****hellohello****hellohello****hellohello****hellohello****hellohello****hellohello****hellohello****hellohello****hellohello****hellohello****hellohello****hellohello****hellohello****hellohello****hellohello****hellohello****hellohello****hellohello****hellohello****hellohello****hellohello****hellohello****hellohello****hellohello****hellohello****hellohello****hellohello****hellohello****hellohello****hellohello****hellohello****hellohello****hellohello****hellohello****hellohello****hellohello****hellohello****hellohello****hellohello****hellohello****hellohello****hellohello****hellohello****hellohello****hellohello****hellohello****hellohello****hellohello****hellohello****hellohello****hellohello****hellohello****hellohello****hellohello****hellohello****hellohello****hellohello****hellohello****hellohello****hellohello****hellohello****hellohello****hellohello****hellohello****hellohello****hellohello****hellohello****hellohello****hellohello****hellohello****hellohello****hellohello****hellohello****hellohello****hellohello****hellohello****hellohello****hellohello****hellohello****hellohello****hellohello****hellohello****hellohello****hellohello****hellohello****hellohello****hellohello****hellohello****hellohello****hellohello****hellohello****hellohello****hellohello****hellohello****hellohello****hellohello****hellohello****hellohello****hellohello****hellohello****hellohello****hellohello****hellohello****hellohello****hellohello****hellohello****hellohello****hellohello****hellohello****hellohello****hellohello****hellohello****hellohello****hellohello****hellohello****hellohello****hellohello****hellohello****hellohello****hellohello****hellohello****hellohello****hellohello****hellohello****hellohello****hellohello****hellohello****hellohello****hellohello****hellohello****hellohello****hellohello****hellohello****hellohello****hellohello****hellohello****hellohello****hellohello****hellohello****hellohello****hellohello****hellohello****hellohello****hellohello****hellohello****hellohello****hellohello****hellohello****hellohello****hellohello****hellohello****hellohello****hellohello****hellohello****hellohello****hellohello****hellohello****hellohello****hellohello****hellohello****hellohello****hellohello****hellohello****hellohello****hellohello****hellohello****hellohello****hellohello****hellohello****hellohello****hellohello****hellohello****hellohello****hellohello****hellohello****hellohello****hellohello****hellohello****hellohello****hellohello****hellohello****hellohello****hellohello****hellohello****hellohello****hellohello****hellohello****hellohello****hellohello****hellohello****hellohello****hellohello****hellohello****hellohello****hellohello****hellohello****hellohello****hellohello****hellohello****hellohello****hellohello****hellohello****hellohello****hellohello****hellohello****hellohello****hellohello****hellohello****hellohello****hellohello****hellohello****hellohello****hellohello****hellohello****hellohello****hellohello****hellohello****hellohello****hellohello****hellohello****hellohello****hellohello****hellohello****hellohello****hellohello****hellohello****hellohello****hellohello****hellohello****hellohello****hellohello****hellohello****hellohello****hellohello****hellohello****hellohello****hellohello****hellohello****hellohello****hellohello****hellohello****hellohello****hellohello****hellohello****hellohello****hellohello****hellohello****hellohello****hellohello****hellohello****hellohello****hellohello****hellohello****hellohello****hellohello****hellohello****hellohello****hellohello****hellohello****hellohello****hellohello****hellohello****hellohello****hellohello****hellohello****hellohello****hellohello****hellohello****hellohello****hellohello****hellohello****hellohello****hellohello****hellohello****hellohello****hellohello****hellohello****hellohello****hellohello****hellohello****hellohello****hellohello****hellohello****hellohello****hellohello****hellohello****hellohello****hellohello****hellohello****hellohello****hellohello****hellohello****hellohello****hellohello****hellohello****hellohello****hellohello****hellohello****hellohello****hellohello****hellohello****hellohello****hellohello****hellohello****hellohello****hellohello****hellohello****hellohello****hellohello****hellohello****hellohello****hellohello****hellohello****hellohello****hellohello****hellohello****hellohello****hellohello****hellohello****hellohello****hellohello****hellohello****hellohello****hellohello****hellohello****hellohello****hellohello****hellohello****hellohello****hellohello****hellohello****hellohello****hellohello****hellohello****hellohello****hellohello****hellohello****hellohello****hellohello****hellohello****hellohello****hellohello****hellohello****hellohello****hellohello****hellohello****hellohello****hellohello****hellohello****hellohello****hellohello****hellohello****hellohello****hellohello****hellohello****hellohello****hellohello****hellohello****hellohello****hellohello****hellohello****hellohello****hellohello****hellohello****hellohello****hellohello****hellohello****hellohello****hellohello****hellohello****hellohello****hellohello****hellohello****hellohello****hellohello****hellohello****hellohello****hellohello****hellohello****hellohello****hellohello****hellohello****hellohello****hellohello****hellohello****hellohello****hellohello****hellohello****hellohello****hellohello****hellohello****hellohello****hellohello****hellohello****hellohello****hellohello****hellohello****hellohello****hellohello****hellohello****hellohello****hellohello****hellohello****hellohello****hellohello****hellohello****hellohello****hellohello****hellohello****hellohello****hellohello****hellohello****hellohello****hellohello****hellohello****hellohello****hellohello****hellohello****hellohello****hellohello****hellohello****hellohello****hellohello****hellohello****hellohello****hellohello****hellohello****hellohello****hellohello****hellohello****hellohello****hellohello****hellohello****hellohello****hellohello****hellohello****hellohello****hellohello****hellohello****hellohello****hellohello****hellohello****hellohello****hellohello****hellohello****hellohello****hellohello****hellohello****hellohello****hellohello****hellohello****hellohello****hellohello****hellohello****hellohello****hellohello****hellohello****hellohello****hellohello****hellohello****hellohello****hellohello****hellohello****hellohello****hellohello****hellohello****hellohello****hellohello****hellohello****hellohello****hellohello****hellohello****hellohello****hellohello****hellohello****hellohello****hellohello****hellohello****hellohello****hellohello****hellohello****hellohello****hellohello****hellohello****hellohello****hellohello****hellohello****hellohello****hellohello****hellohello****hellohello****hellohello****hellohello****hellohello****hellohello****hellohello****hellohello****hellohello****hellohello****hellohello****hellohello****hellohello****hellohello****hellohello****hellohello****hellohello****hellohello****hellohello****hellohello****hellohello****hellohello****hellohello****hellohello****hellohello****hellohello****hellohello****hellohello****hellohello****hellohello****hellohello****hellohello****hellohello****hellohello****hellohello****hellohello****hellohello****hellohello****hellohello****hellohello****hellohello****hellohello****hellohello****hellohello****hellohello****hellohello****hellohello****hellohello****hellohello****hellohello****hellohello****hellohello****hellohello****hellohello****hellohello****hellohello****hellohello****hellohello****hellohello****hellohello****hellohello****hellohello****hellohello****hellohello****hellohello****hellohello****hellohello****hellohello****hellohello****hellohello****hellohello****hellohello****hellohello****hellohello****hellohello****hellohello****hellohello****hellohello****hellohello****hellohello****hellohello****hellohello****hellohello****hellohello****hellohello****hellohello****hellohello****hellohello****hellohello****hellohello****hellohello****hellohello****hellohello****hellohello****hellohello****hellohello****hellohello****hellohello****hellohello****hellohello****hellohello****hellohello****hellohello****hellohello****hellohello****hellohello****hellohello****hellohello****hellohello****hellohello****hellohello****hellohello****hellohello****hellohello****hellohello****hellohello****hellohello****hellohello****hellohello****hellohello****hellohello****hellohello****hellohello****hellohello****hellohello****hellohello****hellohello****hellohello****hellohello****hellohello****hellohello****hellohello****hellohello****hellohello****hellohello****hellohello****hellohello****hellohello****hellohello****hellohello****hellohello****hellohello****hellohello****hellohello****hellohello****hellohello****hellohello****hellohello****hellohello****hellohello****hellohello****hellohello****hellohello****hellohello****hellohello****hellohello****hellohello****hellohello****hellohello****hellohello****hellohello****hellohello****hellohello****hellohello****hellohello****hellohello****hellohello****hellohello****hellohello****hellohello****hellohello****hellohello****hellohello****hellohello****hellohello****hellohello****hellohello****hellohello****hellohello****hellohello****hellohello****hellohello****hellohello****hellohello****hellohello****hellohello****hellohello****hellohello****hellohello****hellohello****hellohello****hellohello****hellohello****hellohello****hellohello****hellohello****hellohello****hellohello****hellohello****hellohello****hellohello****hellohello****hellohello****hellohello****hellohello****hellohello****hellohello****hellohello****hellohello****hellohello****hellohello****hellohello****hellohello****hellohello****hellohello****hellohello****hellohello****hellohello****hellohello****hellohello****hellohello****hellohello****hellohello****hellohello****hellohello****hellohello****hellohello****hellohello****hellohello****hellohello****hellohello****hellohello****hellohello****hellohello****hellohello****hellohello****hellohello****hellohello****hellohello****hellohello****hellohello****hellohello****hellohello****hellohello****hellohello****hellohello****hellohello****hellohello****hellohello****hellohello****hellohello****hellohello****hellohello****hellohello****hellohello****hellohello****hellohello****hellohello****hellohello****hellohello****hellohello****hellohello****hellohello****hellohello****hellohello****hellohello****hellohello****hellohello****hellohello****hellohello****hellohello****hellohello****hellohello****hellohello****hellohello****hellohello****hellohello****hellohello****hellohello****hellohello****hellohello****hellohello****hellohello****hellohello****hellohello****hellohello****hellohello****hellohello****hellohello****hellohello****hellohello****hellohello****hellohello****hellohello****hellohello****hellohello****hellohello****hellohello****hellohello****hellohello****hellohello****hellohello****hellohello****hellohello****hellohello****hellohello****hellohello****hellohello****hellohello****hellohello****hellohello****hellohello****hellohello****hellohello****hellohello****hellohello****hellohello****hellohello****hellohello****hellohello****hellohello****hellohello****hellohello****hellohello****hellohello****hellohello****hellohello****hellohello****hellohello****hellohello****hellohello****hellohello****hellohello****hellohello****hellohello****hellohello****hellohello****hellohello****hellohello****hellohello****hellohello****hellohello****hellohello****hellohello****hellohello****hellohello****hellohello****hellohello****hellohello****hellohello****hellohello****hellohello****hellohello****hellohello****hellohello****hellohello****hellohello****hellohello****hellohello****hellohello****hellohello****hellohello****hellohello****hellohello****hellohello****hellohello****hellohello****hellohello****hellohello****hellohello****hellohello****hellohello****hellohello****hellohello****hellohello****hellohello****hellohello****hellohello****hellohello****hellohello****hellohello****hellohello****hellohello****hellohello****hellohello****hellohello****hellohello****hellohello****hellohello****hellohello****hellohello****hellohello****hellohello****hellohello****hellohello****hellohello****hellohello****hellohello****hellohello****hellohello****hellohello****hellohello****hellohello****hellohello****hellohello****hellohello****hellohello****hellohello****hellohello****hellohello****hellohello****hellohello****hellohello****hellohello****hellohello****hellohello****hellohello****hellohello****hellohello****hellohello****hellohello****hellohello****hellohello****hellohello****hellohello****hellohello****hellohello****hellohello****hellohello****hellohello****hellohello****hellohello****hellohello****hellohello****hellohello****hellohello****hellohello****hellohello****hellohello****hellohello****hellohello****hellohello****hellohello****hellohello****hellohello****hellohello****hellohello****hellohello****hellohello****hellohello****hellohello****hellohello****hellohello****hellohello****hellohello****hellohello****hellohello****hellohello****hellohello****hellohello****hellohello****hellohello****hellohello****hellohello****hellohello****hellohello****hellohello****hellohello****hellohello****hellohello****hellohello****hellohello****hellohello****hellohello****hellohello****hellohello****hellohello****hellohello****hellohello****hellohello****hellohello****hellohello****hellohello****hellohello****hellohello****hellohello****hellohello****hellohello****hellohello****hellohello****hellohello****hellohello****hellohello****hellohello****hellohello****hellohello****hellohello****hellohello****hellohello****hellohello****hellohello****hellohello****hellohello****hellohello****hellohello****hellohello****hellohello****hellohello****hellohello****hellohello****hellohello****hellohello****hellohello****hellohello****hellohello****hellohello****hellohello****hellohello****hellohello****hellohello****hellohello****hellohello****hellohello****hellohello****hellohello****hellohello****hellohello****hellohello****hellohello****hellohello****hellohello****hellohello****hellohello****hellohello****hellohello****hellohello****hellohello****hellohello****hellohello****hellohello****hellohello****hellohello****hellohello****hellohello****hellohello****hellohello****hellohello****hellohello****hellohello****hellohello****hellohello****hellohello****hellohello****hellohello****hellohello****hellohello****hellohello****hellohello****hellohello****hellohello****hellohello****hellohello****hellohello****hellohello****hellohello****hellohello****hellohello****hellohello****hellohello****hellohello****hellohello****hellohello****hellohello****hellohello****hellohello****hellohello****hellohello****hellohello****hellohello****hellohello****hellohello****hellohello****hellohello****hellohello****hellohello****hellohello****hellohello****hellohello****hellohello****hellohello****hellohello****hellohello****hellohello****hellohello****hellohello****hellohello****hellohello****hellohello****hellohello****hellohello****hellohello****hellohello****hellohello****hellohello****hellohello****hellohello****hellohello****hellohello****hellohello****hellohello****hellohello****hellohello****hellohello****hellohello****hellohello****hellohello****hellohello****hellohello****hellohello****hellohello****hellohello****hellohello****hellohello****hellohello****hellohello****hellohello****hellohello****hellohello****hellohello****hellohello****hellohello****hellohello****hellohello****hellohello****hellohello****hellohello****hellohello****hellohello****hellohello****hellohello****hellohello****hellohello****hellohello****hellohello****hellohello****hellohello****hellohello****hellohello****hellohello****hellohello****hellohello****hellohello****hellohello****hellohello****hellohello****hellohello****hellohello****hellohello****hellohello****hellohello****hellohello****hellohello****hellohello****hellohello****hellohello****hellohello****hellohello****hellohello****hellohello****hellohello****hellohello****hellohello****hellohello****hellohello****hellohello****hellohello****hellohello****hellohello****hellohello****hellohello****hellohello****hellohello****hellohello****hellohello****hellohello****hellohello****hellohello****hellohello****hellohello****hellohello****hellohello****hellohello****hellohello****hellohello****hellohello****hellohello****hellohello****hellohello****hellohello****hellohello****hellohello****hellohello****hellohello****hellohello****hellohello****hellohello****hellohello****hellohello****hellohello****hellohello****hellohello****hellohello****hellohello****hellohello****hellohello****hellohello****hellohello****hellohello****hellohello****hellohello****hellohello****hellohello****hellohello****hellohello****hellohello****hellohello****hellohello****hellohello****hellohello****hellohello****hellohello****hellohello****hellohello****hellohello****hellohello****hellohello****hellohello****hellohello****hellohello****hellohello****hellohello****hellohello****hellohello****hellohello****hellohello****hellohello****hellohello****hellohello****hellohello****hellohello****hellohello****hellohello****hellohello****hellohello****hellohello****hellohello****hellohello****hellohello****hellohello****hellohello****hellohello****hellohello****hellohello****hellohello****hellohello****hellohello****hellohello****hellohello****hellohello****hellohello****hellohello****hellohello****hellohello****hellohello****hellohello****hellohello****hellohello****hellohello****hellohello****hellohello****hellohello****hellohello****hellohello****hellohello****hellohello****hellohello****hellohello****hellohello****hellohello****hellohello****hellohello****hellohello****hellohello****hellohello****hellohello****hellohello****hellohello****hellohello****hellohello****hellohello****hellohello****hellohello****hellohello****hellohello****hellohello****hellohello****hellohello****hellohello****hellohello****hellohello****hellohello****hellohello****hellohello****hellohello****hellohello****hellohello****hellohello****hellohello****hellohello****hellohello****hellohello****hellohello****hellohello****hellohello****hellohello****hellohello****hellohello****hellohello****hellohello****hellohello****hellohello****hellohello****hellohello****hellohello****hellohello****hellohello****hellohello****hellohello****hellohello****hellohello****hellohello****hellohello****hellohello****hellohello****hellohello****hellohello****hellohello****hellohello****hellohello****hellohello****hellohello****hellohello****hellohello****hellohello****hellohello****hellohello****hellohello****hellohello****hellohello****hellohello****hellohello****hellohello****hellohello****hellohello****hellohello****hellohello****hellohello****hellohello****hellohello****hellohello****hellohello****hellohello****hellohello****hellohello****hellohello****hellohello****hellohello****hellohello****hellohello****hellohello****hellohello****hellohello****hellohello****hellohello****hellohello****hellohello****hellohello****hellohello****hellohello****hellohello****hellohello****hellohello****hellohello****hellohello****hellohello****hellohello****hellohello****hellohello****hellohello****hellohello****hellohello****hellohello****hellohello****hellohello****hellohello****hellohello****hellohello****hellohello****hellohello****hellohello****hellohello****hellohello****hellohello****hellohello****hellohello****hellohello****hellohello****hellohello****hellohello****hellohello****hellohello****hellohello****hellohello****hellohello****hellohello****hellohello****hellohello****hellohello****hellohello****hellohello****hellohello****hellohello****hellohello****hellohello****hellohello****hellohello****hellohello****hellohello****hellohello****hellohello****hellohello****hellohello****hellohello****hellohello****hellohello****hellohello****hellohello****hellohello****hellohello****hellohello****hellohello****hellohello****hellohello****hellohello****hellohello****hellohello****hellohello****hellohello****hellohello****hellohello****hellohello****hellohello****hellohello****hellohello****hellohello****hellohello****hellohello****hellohello****hellohello****hellohello****hellohello****hellohello****hellohello****hellohello****hellohello****hellohello****hellohello****hellohello****hellohello****hellohello****hellohello****hellohello****hellohello****hellohello****hellohello****hellohello****hellohello****hellohello****hellohello****hellohello****hellohello****hellohello****hellohello****hellohello****hellohello****hellohello****hellohello****hellohello****hellohello****hellohello****hellohello****hellohello****hellohello****hellohello****hellohello****hellohello****hellohello****hellohello****hellohello****hellohello****hellohello****hellohello****hellohello****hellohello****hellohello****hellohello****hellohello****hellohello****hellohello****hellohello****hellohello****hellohello****hellohello****hellohello****hellohello****hellohello****hellohello****hellohello****hellohello****hellohello****hellohello****hellohello****hellohello****hellohello****hellohello****hellohello****hellohello****hellohello****hellohello****hellohello****hellohello****hellohello****hellohello****hellohello****hellohello****hellohello****hellohello****hellohello****hellohello****hellohello****hellohello****hellohello****hellohello****hellohello****hellohello****hellohello****hellohello****hellohello****hellohello****hellohello****hellohello****hellohello****hellohello****hellohello****hellohello****hellohello****hellohello****hellohello****hellohello****hellohello****hellohello****hellohello****hellohello****hellohello****hellohello****hellohello****hellohello****hellohello****hellohello****hellohello****hellohello****hellohello****hellohello****hellohello****hellohello****hellohello****hellohello****hellohello****hellohello****hellohello****hellohello****hellohello****hellohello****hellohello****hellohello****hellohello****hellohello****hellohello****hellohello****hellohello****hellohello****hellohello****hellohello****hellohello****hellohello****hellohello****hellohello****hellohello****hellohello****hellohello****hellohello****hellohello****hellohello****hellohello****hellohello****hellohello****hellohello****hellohello****hellohello****hellohello****hellohello****hellohello****hellohello****hellohello****hellohello****hellohello****hellohello****hellohello****hellohello****hellohello****hellohello****hellohello****hellohello****hellohello****hellohello****hellohello****hellohello****hellohello****hellohello****hellohello****hellohello****hellohello****hellohello****hellohello****hellohello****hellohello****hellohello****hellohello****hellohello****hellohello****hellohello****hellohello****hellohello****hellohello****hellohello****hellohello****hellohello****hellohello****hellohello****hellohello****hellohello****hellohello****hellohello****hellohello****hellohello****hellohello****hellohello****hellohello****hellohello****hellohello****hellohello****hellohello****hellohello****hellohello****hellohello****hellohello****hellohello****hellohello****hellohello****hellohello****hellohello****hellohello****hellohello****hellohello****hellohello****hellohello****hellohello****hellohello****hellohello****hellohello****hellohello****hellohello****hellohello****hellohello****hellohello****hellohello****hellohello****hellohello****hellohello****hellohello****hellohello****hellohello****hellohello****hellohello****hellohello****hellohello****hellohello****hellohello****hellohello****hellohello****hellohello****hellohello****hellohello****hellohello****hellohello****hellohello****hellohello****hellohello****hellohello****hellohello****hellohello****hellohello****hellohello****hellohello****hellohello****hellohello****hellohello****hellohello****hellohello****hellohello****hellohello****hellohello****hellohello****hellohello****hellohello****hellohello****hellohello****hellohello****hellohello****hellohello****hellohello****hellohello****hellohello****hellohello****hellohello****hellohello****hellohello****hellohello****hellohello****hellohello****hellohello****hellohello****hellohello****hellohello****hellohello****hellohello****hellohello****hellohello****hellohello****hellohello****hellohello****hellohello****hellohello****hellohello****hellohello****hellohello****hellohello****hellohello****hellohello****hellohello****hellohello****hellohello****hellohello****hellohello****hellohello****hellohello****hellohello****hellohello****hellohello****hellohello****hellohello****hellohello****hellohello****hellohello****hellohello****hellohello****hellohello****hellohello****hellohello****hellohello****hellohello****hellohello****hellohello****hellohello****hellohello****hellohello****hellohello****hellohello****hellohello****hellohello****hellohello****hellohello****hellohello****hellohello****hellohello****hellohello****hellohello****hellohello****hellohello****hellohello****hellohello****hellohello****hellohello****hellohello****hellohello****hellohello****hellohello****hellohello****hellohello****hellohello****hellohello****hellohello****hellohello****hellohello****hellohello****hellohello****hellohello****hellohello****hellohello****hellohello****hellohello****hellohello****hellohello****hellohello****hellohello****hellohello****hellohello****hellohello****hellohello****hellohello****hellohello****hellohello****hellohello****hellohello****hellohello****hellohello****hellohello****hellohello****hellohello****hellohello****hellohello****hellohello****hellohello****hellohello****hellohello****hellohello****hellohello****hellohello****hellohello****hellohello****hellohello****hellohello****hellohello****hellohello****hellohello****hellohello****hellohello****hellohello****hellohello****hellohello****hellohello****hellohello****hellohello****hellohello****hellohello****hellohello****hellohello****hellohello****hellohello****hellohello****hellohello****hellohello****hellohello****hellohello****hellohello****hellohello****hellohello****hellohello****hellohello****hellohello****hellohello****hellohello****hellohello****hellohello****hellohello****hellohello****hellohello****hellohello****hellohello****hellohello****hellohello****hellohello****hellohello****hellohello****hellohello****hellohello****hellohello****hellohello****hellohello****hellohello****hellohello****hellohello****hellohello****hellohello****hellohello****hellohello****hellohello****hellohello****hellohello****hellohello****hellohello****hellohello****hellohello****hellohello****hellohello****hellohello****hellohello****hellohello****hellohello****hellohello****hellohello****hellohello****hellohello****hellohello****hellohello****hellohello****hellohello****hellohello****hellohello****hellohello****hellohello****hellohello****hellohello****hellohello****hellohello****hellohello****hellohello****hellohello****hellohello****hellohello****hellohello****hellohello****hellohello****hellohello****hellohello****hellohello****hellohello****hellohello****hellohello****hellohello****hellohello****hellohello****hellohello****hellohello****hellohello****hellohello****hellohello****hellohello****hellohello****hellohello****hellohello****hellohello****hellohello****hellohello****hellohello****hellohello****hellohello****hellohello****hellohello****hellohello****hellohello****hellohello****hellohello****hellohello****hellohello****hellohello****hellohello****hellohello****hellohello****hellohello****hellohello****hellohello****hellohello****hellohello****hellohello****hellohello****hellohello****hellohello****hellohello****hellohello****hellohello****hellohello****hellohello****hellohello****hellohello****hellohello****hellohello****hellohello****hellohello****hellohello****hellohello****hellohello****hellohello****hellohello****hellohello****hellohello****hellohello****hellohello****hellohello****hellohello****hellohello****hellohello****hellohello****hellohello****hellohello****hellohello****hellohello****hellohello****hellohello****hellohello****hellohello****hellohello****hellohello****hellohello****hellohello****hellohello****hellohello****hellohello****hellohello****hellohello****hellohello****hellohello****hellohello****hellohello****hellohello****hellohello****hellohello****hellohello****hellohello****hellohello****hellohello****hellohello****hellohello****hellohello****hellohello****hellohello****hellohello****hellohello****hellohello****hellohello****hellohello****hellohello****hellohello****hellohello****hellohello****hellohello****hellohello****hellohello****hellohello****hellohello****hellohello****hellohello****hellohello****hellohello****hellohello****hellohello****hellohello****hellohello****hellohello****hellohello****hellohello****hellohello****hellohello****hellohello****hellohello****hellohello****hellohello****hellohello****hellohello****hellohello****hellohello****hellohello****hellohello****hellohello****hellohello****hellohello****hellohello****hellohello****hellohello****hellohello****hellohello****hellohello****hellohello****hellohello****hellohello****hellohello****hellohello****hellohello****hellohello****hellohello****hellohello****hellohello****hellohello****hellohello****hellohello****hellohello****hellohello****hellohello****hellohello****hellohello****hellohello****hellohello****hellohello****hellohello****hellohello****hellohello****hellohello****hellohello****hellohello****hellohello****hellohello****hellohello****hellohello****hellohello****hellohello****hellohello****hellohello****hellohello****hellohello****hellohello****hellohello****hellohello****hellohello****hellohello****hellohello****hellohello****hellohello****hellohello****hellohello****hellohello****hellohello****hellohello****hellohello****hellohello****hellohello****hellohello****hellohello****hellohello****hellohello****hellohello****hellohello****hellohello****hellohello****hellohello****hellohello****hellohello****hellohello****hellohello****hellohello****hellohello****hellohello****hellohello****hellohello****hellohello****hellohello****hellohello****hellohello****hellohello****hellohello****hellohello****hellohello****hellohello****hellohello****hellohello****hellohello****hellohello****hellohello****hellohello****hellohello****hellohello****hellohello****hellohello****hellohello****hellohello****hellohello****hellohello****hellohello****hellohello****hellohello****hellohello****hellohello****hellohello****hellohello****hellohello****hellohello****hellohello****hellohello****hellohello****hellohello****hellohello****hellohello****hellohello****hellohello****hellohello****hellohello****hellohello****hellohello****hellohello****hellohello****hellohello****hellohello****hellohello****hellohello****hellohello****hellohello****hellohello****hellohello****hellohello****hellohello****hellohello****hellohello****hellohello****hellohello****hellohello****hellohello****hellohello****hellohello****hellohello****hellohello****hellohello****hellohello****hellohello****hellohello****hellohello****hellohello****hellohello****hellohello****hellohello****hellohello****hellohello****hellohello****hellohello****hellohello****hellohello****hellohello****hellohello****hellohello****hellohello****hellohello****hellohello****hellohello****hellohello****hellohello****hellohello****hellohello****hellohello****hellohello****hellohello****hellohello****hellohello****hellohello****hellohello****hellohello****hellohello****hellohello****hellohello****hellohello****hellohello****hellohello****hellohello****hellohello****hellohello****hellohello****hellohello****hellohello****hellohello****hellohello****hellohello****hellohello****hellohello****hellohello****hellohello****hellohello****hellohello****hellohello****hellohello****hellohello****hellohello****hellohello****hellohello****hellohello****hellohello****hellohello****hellohello****hellohello****hellohello****hellohello****hellohello****hellohello****hellohello****hellohello****hellohello****hellohello****hellohello****hellohello****hellohello****hellohello****hellohello****hellohello****hellohello****hellohello****hellohello****hellohello****hellohello****hellohello****hellohello****hellohello****hellohello****hellohello****hellohello****hellohello****hellohello****hellohello****hellohello****hellohello****hellohello****hellohello****hellohello****hellohello****hellohello****hellohello****hellohello****hellohello****hellohello****hellohello****hellohello****hellohello****hellohello****hellohello****hellohello****hellohello****hellohello****hellohello****hellohello****hellohello****hellohello****hellohello****hellohello****hellohello****hellohello****hellohello****hellohello****hellohello****hellohello****hellohello****hellohello****hellohello****hellohello****hellohello****hellohello****hellohello****hellohello****hellohello****hellohello****hellohello****hellohello****hellohello****hellohello****hellohello****hellohello****hellohello****hellohello****hellohello****hellohello****hellohello****hellohello****hellohello****hellohello****hellohello****hellohello****hellohello****hellohello****hellohello****hellohello****hellohello****hellohello****hellohello****hellohello****hellohello****hellohello****hellohello****hellohello****hellohello****hellohello****hellohello****hellohello****hellohello****hellohello****hellohello****hellohello****hellohello****hellohello****hellohello****hellohello****hellohello****hellohello****hellohello****hellohello****hellohello****hellohello****hellohello****hellohello****hellohello****hellohello****hellohello****hellohello****hellohello****hellohello****hellohello****hellohello****hellohello****hellohello****hellohello****hellohello****hellohello****hellohello****hellohello****hellohello****hellohello****hellohello****hellohello****hellohello****hellohello****hellohello****hellohello****hellohello****hellohello****hellohello****hellohello****hellohello****hellohello****hellohello****hellohello****hellohello****hellohello****hellohello****hellohello****hellohello****hellohello****hellohello****hellohello****hellohello****hellohello****hellohello****hellohello****hellohello****hellohello****hellohello****hellohello****hellohello****hellohello****hellohello****hellohello****hellohello****hellohello****hellohello****hellohello****hellohello****hellohello****hellohello****hellohello****hellohello****hellohello****hellohello****hellohello****hellohello****hellohello****hellohello****hellohello****hellohello****hellohello****hellohello****hellohello****hellohello****hellohello****hellohello****hellohello****hellohello****hellohello****hellohello****hellohello****hellohello****hellohello****hellohello****hellohello****hellohello****hellohello****hellohello****hellohello****hellohello****hellohello****hellohello****hellohello****hellohello****hellohello****hellohello****hellohello****hellohello****hellohello****hellohello****hellohello****hellohello****hellohello****hellohello****hellohello****hellohello****hellohello****hellohello****hellohello****hellohello****hellohello****hellohello****hellohello****hellohello****hellohello****hellohello****hellohello****hellohello****hellohello****hellohello****hellohello****hellohello****hellohello****hellohello****hellohello****hellohello****hellohello****hellohello****hellohello****hellohello****hellohello****hellohello****hellohello****hellohello****hellohello****hellohello****hellohello****hellohello****hellohello****hellohello****hellohello****hellohello****hellohello****hellohello****hellohello****hellohello****hellohello****hellohello****hellohello****hellohello****hellohello****hellohello****hellohello****hellohello****hellohello****hellohello****hellohello****hellohello****hellohello****hellohello****hellohello****hellohello****hellohello****hellohello****hellohello****hellohello****hellohello****hellohello****hellohello****hellohello****hellohello****hellohello****hellohello****hellohello****hellohello****hellohello****hellohello****hellohello****hellohello****hellohello****hellohello****hellohello****hellohello****hellohello****hellohello****hellohello****hellohello****hellohello****hellohello****hellohello****hellohello****hellohello****hellohello****hellohello****hellohello****hellohello****hellohello****hellohello****hellohello****hellohello****hellohello****hellohello****hellohello****hellohello****hellohello****hellohello****hellohello****hellohello****hellohello****hellohello****hellohello****hellohello****hellohello****hellohello****hellohello****hellohello****hellohello****hellohello****hellohello****hellohello****hellohello****hellohello****hellohello****hellohello****hellohello****hellohello****hellohello****hellohello****hellohello****hellohello****hellohello****hellohello****hellohello****hellohello****hellohello****hellohello****hellohello****hellohello****hellohello****hellohello****hellohello****hellohello****hellohello****hellohello****hellohello****hellohello****hellohello****hellohello****hellohello****hellohello****hellohello****hellohello****hellohello****hellohello****hellohello****hellohello****hellohello****hellohello****hellohello****hellohello****hellohello****hellohello****hellohello****hellohello****hellohello****hellohello****hellohello****hellohello****hellohello****hellohello****hellohello****hellohello****hellohello****hellohello****hellohello****hellohello****hellohello****hellohello****hellohello****hellohello****hellohello****hellohello****hellohello****hellohello****hellohello****hellohello****hellohello****hellohello****hellohello****hellohello****hellohello****hellohello****hellohello****hellohello****hellohello****hellohello****hellohello****hellohello****hellohello****hellohello****hellohello****hellohello****hellohello****hellohello****hellohello****hellohello****hellohello****hellohello****hellohello****hellohello****hellohello****hellohello****hellohello****hellohello****hellohello****hellohello****hellohello****hellohello****hellohello****hellohello****hellohello****hellohello****hellohello****hellohello****hellohello****hellohello****hellohello****hellohello****hellohello****hellohello****hellohello****hellohello****hellohello****hellohello****hellohello****hellohello****hellohello****hellohello****hellohello****hellohello****hellohello****hellohello****hellohello****hellohello****hellohello****hellohello****hellohello****hellohello****hellohello****hellohello****hellohello****hellohello****hellohello****hellohello****hellohello****hellohello****hellohello****hellohello****hellohello****hellohello****hellohello****hellohello****hellohello****hellohello****hellohello****hellohello****hellohello****hellohello****hellohello****hellohello****hellohello****hellohello****hellohello****hellohello****hellohello****hellohello****hellohello****hellohello****hellohello****hellohello****hellohello****hellohello****hellohello****hellohello****hellohello****hellohello****hellohello****hellohello****hellohello****hellohello****hellohello****hellohello****hellohello****hellohello****hellohello****hellohello****hellohello****hellohello****hellohello****hellohello****hellohello****hellohello****hellohello****hellohello****hellohello****hellohello****hellohello****hellohello****hellohello****hellohello****hellohello****hellohello****hellohello****hellohello****hellohello****hellohello****hellohello****hellohello****hellohello****hellohello****hellohello****hellohello****hellohello****hellohello****hellohello****hellohello****hellohello****hellohello****hellohello****hellohello****hellohello****hellohello****hellohello****hellohello****hellohello****hellohello****hellohello****hellohello****hellohello****hellohello****hellohello****hellohello****hellohello****hellohello****hellohello****hellohello****hellohello****hellohello****hellohello****hellohello****hellohello****hellohello****hellohello****hellohello****hellohello****hellohello****hellohello****hellohello****hellohello****hellohello****hellohello****hellohello****hellohello****hellohello****hellohello****hellohello****hellohello****hellohello****hellohello****hellohello****hellohello****hellohello****hellohello****hellohello****hellohello****hellohello****hellohello****hellohello****hellohello****hellohello****hellohello****hellohello****hellohello****hellohello****hellohello****hellohello****hellohello****hellohello****hellohello****hellohello****hellohello****hellohello****hellohello****hellohello****hellohello****hellohello****hellohello****hellohello****hellohello****hellohello****hellohello****hellohello****hellohello****hellohello****hellohello****hellohello****hellohello****hellohello****hellohello****hellohello****hellohello****hellohello****hellohello****hellohello****hellohello****hellohello****hellohello****hellohello****hellohello****hellohello****hellohello****hellohello****hellohello****hellohello****hellohello****hellohello****hellohello****hellohello****hellohello****hellohello****hellohello****hellohello****hellohello****hellohello****hellohello****hellohello****hellohello****hellohello****hellohello****hellohello****hellohello****hellohello****hellohello****hellohello****hellohello****hellohello****hellohello****hellohello****hellohello****hellohello****hellohello****hellohello****hellohello****hellohello****hellohello****hellohello****hellohello****hellohello****hellohello****hellohello****hellohello****hellohello****hellohello****hellohello****hellohello****hellohello****hellohello****hellohello****hellohello****hellohello****hellohello****hellohello****hellohello****hellohello****hellohello****hellohello****hellohello****hellohello****hellohello****hellohello****hellohello****hellohello****hellohello****hellohello****hellohello****hellohello****hellohello****hellohello****hellohello****hellohello****hellohello****hellohello****hellohello****hellohello****hellohello****hellohello****hellohello****hellohello****hellohello****hellohello****hellohello****hellohello****hellohello****hellohello****hellohello****hellohello****hellohello****hellohello****hellohello****hellohello****hellohello****hellohello****hellohello****hellohello****hellohello****hellohello****hellohello****hellohello****hellohello****hellohello****hellohello****hellohello****hellohello****hellohello****hellohello****hellohello****hellohello****hellohello****hellohello****hellohello****hellohello****hellohello****hellohello****hellohello****hellohello****hellohello****hellohello****hellohello****hellohello****hellohello****hellohello****hellohello****hellohello****hellohello****hellohello****hellohello****hellohello****hellohello****hellohello****hellohello****hellohello****hellohello****hellohello****hellohello****hellohello****hellohello****hellohello****hellohello****hellohello****hellohello****hellohello****hellohello****hellohello****hellohello****hellohello****hellohello****hellohello****hellohello****hellohello****hellohello****hellohello****hellohello****hellohello****hellohello****hellohello****hellohello****hellohello****hellohello****hellohello****hellohello****hellohello****hellohello****hellohello****hellohello****hellohello****hellohello****hellohello****hellohello****hellohello****hellohello****hellohello****hellohello****hellohello****hellohello****hellohello****hellohello****hellohello****hellohello****hellohello****hellohello****hellohello****hellohello****hellohello****hellohello****hellohello****hellohello****hellohello****hellohello****hellohello****hellohello****hellohello****hellohello****hellohello****hellohello****hellohello****hellohello****hellohello****hellohello****hellohello****hellohello****hellohello****hellohello****hellohello****hellohello****hellohello****hellohello****hellohello****hellohello****hellohello****hellohello****hellohello****hellohello****hellohello****hellohello****hellohello****hellohello****hellohello****hellohello****hellohello****hellohello****hellohello****hellohello****hellohello****hellohello****hellohello****hellohello****hellohello****hellohello****hellohello****hellohello****hellohello****hellohello****hellohello****hellohello****hellohello****hellohello****hellohello****hellohello****hellohello****hellohello****hellohello****hellohello****hellohello****hellohello****hellohello****hellohello****hellohello****hellohello****hellohello****hellohello****hellohello****hellohello****hellohello****hellohello****hellohello****hellohello****hellohello****hellohello****hellohello****hellohello****hellohello****hellohello****hellohello****hellohello****hellohello****hellohello****hellohello****hellohello****hellohello****hellohello****hellohello****hellohello****hellohello****hellohello****hellohello****hellohello****hellohello****hellohello****hellohello****hellohello****hellohello****hellohello****hellohello****hellohello****hellohello****hellohello****hellohello****hellohello****hellohello****hellohello****hellohello****hellohello****hellohello****hellohello****hellohello****hellohello****hellohello****hellohello****hellohello****hellohello****hellohello****hellohello****hellohello****hellohello****hellohello****hellohello****hellohello****hellohello****hellohello****hellohello****hellohello****hellohello****hellohello****hellohello****hellohello****hellohello****hellohello****hellohello****hellohello****hellohello****hellohello****hellohello****hellohello****hellohello****hellohello****hellohello****hellohello****hellohello****hellohello****hellohello****hellohello****hellohello****hellohello****hellohello****hellohello****hellohello****hellohello****hellohello****hellohello****hellohello****hellohello****hellohello****hellohello****hellohello****hellohello****hellohello****hellohello****hellohello****hellohello****hellohello****hellohello****hellohello****hellohello****hellohello****hellohello****hellohello****hellohello****hellohello****hellohello****hellohello****hellohello****hellohello****hellohello****hellohello****hellohello****hellohello****hellohello****hellohello****hellohello****hellohello****hellohello****hellohello****hellohello****hellohello****hellohello****hellohello****hellohello****hellohello****hellohello****hellohello****hellohello****hellohello****hellohello****hellohello****hellohello****hellohello****hellohello****hellohello****hellohello****hellohello****hellohello****hellohello****hellohello****hellohello****hellohello****hellohello****hellohello****hellohello****hellohello****hellohello****hellohello****hellohello****hellohello****hellohello****hellohello****hellohello****hellohello****hellohello****hellohello****hellohello****hellohello****hellohello****hellohello****hellohello****hellohello****hellohello****hellohello****hellohello****hellohello****hellohello****hellohello****hellohello****hellohello****hellohello****hellohello****hellohello****hellohello****hellohello****hellohello****hellohello****hellohello****hellohello****hellohello****hellohello****hellohello****hellohello****hellohello****hellohello****hellohello****hellohello****hellohello****hellohello****hellohello****hellohello****hellohello****hellohello****hellohello****hellohello****hellohello****hellohello****hellohello****hellohello****hellohello****hellohello****hellohello****hellohello****hellohello****hellohello****hellohello****hellohello****hellohello****hellohello****hellohello****hellohello****hellohello****hellohello****hellohello****hellohello****hellohello****hellohello****hellohello****hellohello****hellohello****hellohello****hellohello****hellohello****hellohello****hellohello****hellohello****hellohello****hellohello****hellohello****hellohello****hellohello****hellohello****hellohello****hellohello****hellohello****hellohello****hellohello****hellohello****hellohello****hellohello****hellohello****hellohello****hellohello****hellohello****hellohello****hellohello****hellohello****hellohello****hellohello****hellohello****hellohello****hellohello****hellohello****hellohello****hellohello****hellohello****hellohello****hellohello****hellohello****hellohello****hellohello****hellohello****hellohello****hellohello****hellohello****hellohello****hellohello****hellohello****hellohello****hellohello****hellohello****hellohello****hellohello****hellohello****hellohello****hellohello****hellohello****hellohello****hellohello****hellohello****hellohello****hellohello****hellohello****hellohello****hellohello****hellohello****hellohello****hellohello****hellohello****hellohello****hellohello****hellohello****hellohello****hellohello****hellohello****hellohello****hellohello****hellohello****hellohello****hellohello****hellohello****hellohello****hellohello****hellohello****hellohello****hellohello****hellohello****hellohello****hellohello****hellohello****hellohello****hellohello****hellohello****hellohello****hellohello****hellohello****hellohello****hellohello****hellohello****hellohello****hellohello****hellohello****hellohello****hellohello****hellohello****hellohello****hellohello****hellohello****hellohello****hellohello****hellohello****hellohello****hellohello****hellohello****hellohello****hellohello****hellohello****hellohello****hellohello****hellohello****hellohello****hellohello****hellohello****hellohello****hellohello****hellohello****hellohello****hellohello****hellohello****hellohello****hellohello****hellohello****hellohello****hellohello****hellohello****hellohello****hellohello****hellohello****hellohello****hellohello****hellohello****hellohello****hellohello****hellohello****hellohello****hellohello****hellohello****hellohello****hellohello****hellohello****hellohello****hellohello****hellohello****hellohello****hellohello****hellohello****hellohello****hellohello****hellohello****hellohello****hellohello****hellohello****hellohello****hellohello****hellohello****hellohello****hellohello****hellohello****hellohello****hellohello****hellohello****hellohello****hellohello****hellohello****hellohello****hellohello****hellohello****hellohello****hellohello****hellohello****hellohello****hellohello****hellohello****hellohello****hellohello****hellohello****hellohello****hellohello****hellohello****hellohello****hellohello****hellohello****hellohello****hellohello****hellohello****hellohello****hellohello****hellohello****hellohello****hellohello****hellohello****hellohello****hellohello****hellohello****hellohello****hellohello****hellohello****hellohello****hellohello****hellohello****hellohello****hellohello****hellohello****hellohello****hellohello****hellohello****hellohello****hellohello****hellohello****hellohello****hellohello****hellohello****hellohello****hellohello****hellohello****hellohello****hellohello****hellohello****hellohello****hellohello****hellohello****hellohello****hellohello****hellohello****hellohello****hellohello****hellohello****hellohello****hellohello****hellohello****hellohello****hellohello****hellohello****hellohello****hellohello****hellohello****hellohello****hellohello****hellohello****hellohello****hellohello****hellohello****hellohello****hellohello****hellohello****hellohello****hellohello****hellohello****hellohello****hellohello****hellohello****hellohello****hellohello****hellohello****hellohello****hellohello****hellohello****hellohello****hellohello****hellohello****hellohello****hellohello****hellohello****hellohello****hellohello****hellohello****hellohello****hellohello****hellohello****hellohello****hellohello****hellohello****hellohello****hellohello****hellohello****hellohello****hellohello****hellohello****hellohello****hellohello****hellohello****hellohello****hellohello****hellohello****hellohello****hellohello****hellohello****hellohello****hellohello****hellohello****hellohello****hellohello****hellohello****hellohello****hellohello****hellohello****hellohello****hellohello****hellohello****hellohello****hellohello****hellohello****hellohello****hellohello****hellohello****hellohello****hellohello****hellohello****hellohello****hellohello****hellohello****hellohello****hellohello****hellohello****hellohello****hellohello****hellohello****hellohello****hellohello****hellohello****hellohello****hellohello****hellohello****hellohello****hellohello****hellohello****hellohello****hellohello****hellohello****hellohello****hellohello****hellohello****hellohello****hellohello****hellohello****hellohello****hellohello****hellohello****hellohello****hellohello****hellohello****hellohello****hellohello****hellohello****hellohello****hellohello****hellohello****hellohello****hellohello****hellohello****hellohello****hellohello****hellohello****hellohello****hellohello****hellohello****hellohello****hellohello****hellohello****hellohello****hellohello****hellohello****hellohello****hellohello****hellohello****hellohello****hellohello****hellohello****hellohello****hellohello****hellohello****hellohello****hellohello****hellohello****hellohello****hellohello****hellohello****hellohello****hellohello****hellohello****hellohello****hellohello****hellohello****hellohello****hellohello****hellohello****hellohello****hellohello****hellohello****hellohello****hellohello****hellohello****hellohello****hellohello****hellohello****hellohello****hellohello****hellohello****hellohello****hellohello****hellohello****hellohello****hellohello****hellohello****hellohello****hellohello****hellohello****hellohello****hellohello****hellohello****hellohello****hellohello****hellohello****hellohello****hellohello****hellohello****hellohello****hellohello****hellohello****hellohello****hellohello****hellohello****hellohello****hellohello****hellohello****hellohello****hellohello****hellohello****hellohello****hellohello****hellohello****hellohello****hellohello****hellohello****hellohello****hellohello****hellohello****hellohello****hellohello****hellohello****hellohello****hellohello****hellohello****hellohello****hellohello****hellohello****hellohello****hellohello****hellohello****hellohello****hellohello****hellohello****hellohello****hellohello****hellohello****hellohello****hellohello****hellohello****hellohello****hellohello****hellohello****hellohello****hellohello****hellohello****hellohello****hellohello****hellohello****hellohello****hellohello****hellohello****hellohello****hellohello****hellohello****hellohello****hellohello****hellohello****hellohello****hellohello****hellohello****hellohello****hellohello****hellohello****hellohello****hellohello****hellohello****hellohello****hellohello****hellohello****hellohello****hellohello****hellohello****hellohello****hellohello****hellohello****hellohello****hellohello****hellohello****hellohello****hellohello****hellohello****hellohello****hellohello****hellohello****hellohello****hellohello****hellohello****hellohello****hellohello****hellohello****hellohello****hellohello****hellohello****hellohello****hellohello****hellohello****hellohello****hellohello****hellohello****hellohello****hellohello****hellohello****hellohello****hellohello****hellohello****hellohello****hellohello****hellohello****hellohello****hellohello****hellohello****hellohello****hellohello****hellohello****hellohello****hellohello****hellohello****hellohello****hellohello****hellohello****hellohello****hellohello****hellohello****hellohello****hellohello****hellohello****hellohello****hellohello****hellohello****hellohello****hellohello****hellohello****hellohello****hellohello****hellohello****hellohello****hellohello****hellohello****hellohello****hellohello****hellohello****hellohello****hellohello****hellohello****hellohello****hellohello****hellohello****hellohello****hellohello****hellohello****hellohello****hellohello****hellohello****hellohello****hellohello****hellohello****hellohello****hellohello****hellohello****hellohello****hellohello****hellohello****hellohello****hellohello****hellohello****hellohello****hellohello****hellohello****hellohello****hellohello****hellohello****hellohello****hellohello****hellohello****hellohello****hellohello****hellohello****hellohello****hellohello****hellohello****hellohello****hellohello****hellohello****hellohello****hellohello****hellohello****hellohello****hellohello****hellohello****hellohello****hellohello****hellohello****hellohello****hellohello****hellohello****hellohello****hellohello****hellohello****hellohello****hellohello****hellohello****hellohello****hellohello****hellohello****hellohello****hellohello****hellohello****hellohello****hellohello****hellohello****hellohello****hellohello****hellohello****hellohello****hellohello****hellohello****hellohello****hellohello****hellohello****hellohello****hellohello****hellohello****hellohello****hellohello****hellohello****hellohello****hellohello****hellohello****hellohello****hellohello****hellohello****hellohello****hellohello****hellohello****hellohello****hellohello****hellohello****hellohello****hellohello****hellohello****hellohello****hellohello****hellohello****hellohello****hellohello****hellohello****hellohello****hellohello****hellohello****hellohello****hellohello****hellohello****hellohello****hellohello****hellohello****hellohello****hellohello****hellohello****hellohello****hellohello****hellohello****hellohello****hellohello****hellohello****hellohello****hellohello****hellohello****hellohello****hellohello****hellohello****hellohello****hellohello****hellohello****hellohello****hellohello****hellohello****hellohello****hellohello****hellohello****hellohello****hellohello****hellohello****hellohello****hellohello****hellohello****hellohello****hellohello****hellohello****hellohello****hellohello****hellohello****hellohello****hellohello****hellohello****hellohello****hellohello****hellohello****hellohello****hellohello****hellohello****hellohello****hellohello****hellohello****hellohello****hellohello****hellohello****hellohello****hellohello****hellohello****hellohello****hellohello****hellohello****hellohello****hellohello****hellohello****hellohello****hellohello****hellohello****hellohello****hellohello****hellohello****hellohello****hellohello****hellohello****hellohello****hellohello****hellohello****hellohello****hellohello****hellohello****hellohello****hellohello****hellohello****hellohello****hellohello****hellohello****hellohello****hellohello****hellohello****hellohello****hellohello****hellohello****hellohello****hellohello****hellohello****hellohello****hellohello****hellohello****hellohello****hellohello****hellohello****hellohello****hellohello****hellohello****hellohello****hellohello****hellohello****hellohello****hellohello****hellohello****hellohello****hellohello****hellohello****hellohello****hellohello****hellohello****hellohello****hellohello****hellohello****hellohello****hellohello****hellohello****hellohello****hellohello****hellohello****hellohello****hellohello****hellohello****hellohello****hellohello****hellohello****hellohello****hellohello****hellohello****hellohello****hellohello****hellohello****hellohello****hellohello****hellohello****hellohello****hellohello****hellohello****hellohello****hellohello****hellohello****hellohello****hellohello****hellohello****hellohello****hellohello****hellohello****hellohello****hellohello****hellohello****hellohello****hellohello****hellohello****hellohello****hellohello****hellohello****hellohello****hellohello****hellohello****hellohello****hellohello****hellohello****hellohello****hellohello****hellohello****hellohello****hellohello****hellohello****hellohello****hellohello****hellohello****hellohello****hellohello****hellohello****hellohello****hellohello****hellohello****hellohello****hellohello****hellohello****hellohello****hellohello****hellohello****hellohello****hellohello****hellohello****hellohello****hellohello****hellohello****hellohello****hellohello****hellohello****hellohello****hellohello****hellohello****hellohello****hellohello****hellohello****hellohello****hellohello****hellohello****hellohello****hellohello****hellohello****hellohello****hellohello****hellohello****hellohello****hellohello****hellohello****hellohello****hellohello****hellohello****hellohello****hellohello****hellohello****hellohello****hellohello****hellohello****hellohello****hellohello****hellohello****hellohello****hellohello****hellohello****hellohello****hellohello****hellohello****hellohello****hellohello****hellohello****hellohello****hellohello****hellohello****hellohello****hellohello****hellohello****hellohello****hellohello****hellohello****hellohello****hellohello****hellohello****hellohello****hellohello****hellohello****hellohello****hellohello****hellohello****hellohello****hellohello****hellohello****hellohello****hellohello****hellohello****hellohello****hellohello****hellohello****hellohello****hellohello****hellohello****hellohello****hellohello****hellohello****hellohello****hellohello****hellohello****hellohello****hellohello****hellohello****hellohello****hellohello****hellohello****hellohello****hellohello****hellohello****hellohello****hellohello****hellohello****hellohello****hellohello****hellohello****hellohello****hellohello****hellohello****hellohello****hellohello****hellohello****hellohello****hellohello****hellohello****hellohello****hellohello****hellohello****hellohello****hellohello****hellohello****hellohello****hellohello****hellohello****hellohello****hellohello****hellohello****hellohello****hellohello****hellohello****hellohello****hellohello****hellohello****hellohello****hellohello****hellohello****hellohello****hellohello****hellohello****hellohello****hellohello****hellohello****hellohello****hellohello****hellohello****hellohello****hellohello****hellohello****hellohello****hellohello****hellohello****hellohello****hellohello****hellohello****hellohello****hellohello****hellohello****hellohello****hellohello****hellohello****hellohello****hellohello****hellohello****hellohello****hellohello****hellohello****hellohello****hellohello****hellohello****hellohello****hellohello****hellohello****hellohello****hellohello****hellohello****hellohello****hellohello****hellohello****hellohello****hellohello****hellohello****hellohello****hellohello****hellohello****hellohello****hellohello****hellohello****hellohello****hellohello****hellohello****hellohello****hellohello****hellohello****hellohello****hellohello****hellohello****hellohello****hellohello****hellohello****hellohello****hellohello****hellohello****hellohello****hellohello****hellohello****hellohello****hellohello****hellohello****hellohello****hellohello****hellohello****hellohello****hellohello****hellohello****hellohello****hellohello****hellohello****hellohello****hellohello****hellohello****hellohello****hellohello****hellohello****hellohello****hellohello****hellohello****hellohello****hellohello****hellohello****hellohello****hellohello****hellohello****hellohello****hellohello****hellohello****hellohello****hellohello****hellohello****hellohello****hellohello****hellohello****hellohello****hellohello****hellohello****hellohello****hellohello****hellohello****hellohello****hellohello****hellohello****hellohello****hellohello****hellohello****hellohello****hellohello****hellohello****hellohello****hellohello****hellohello****hellohello****hellohello****hellohello****hellohello****hellohello****hellohello****hellohello****hellohello****hellohello****hellohello****hellohello****hellohello****hellohello****hellohello****hellohello****hellohello****hellohello****hellohello****hellohello****hellohello****hellohello****hellohello****hellohello****hellohello****hellohello****hellohello****hellohello****hellohello****hellohello****hellohello****hellohello****hellohello****hellohello****hellohello****hellohello****hellohello****hellohello****hellohello****hellohello****hellohello****hellohello****hellohello****hellohello****hellohello****hellohello****hellohello****hellohello****hellohello****hellohello****hellohello****hellohello****hellohello****hellohello****hellohello****hellohello****hellohello****hellohello****hellohello****hellohello****hellohello****hellohello****hellohello****hellohello****hellohello****hellohello****hellohello****hellohello****hellohello****hellohello****hellohello****hellohello****hellohello****hellohello****hellohello****hellohello****hellohello****hellohello****hellohello****hellohello****hellohello****hellohello****hellohello****hellohello****hellohello****hellohello****hellohello****hellohello****hellohello****hellohello****hellohello****hellohello****hellohello****hellohello****hellohello****hellohello****hellohello****hellohello****hellohello****hellohello****hellohello****hellohello****hellohello****hellohello****hellohello****hellohello****hellohello****hellohello****hellohello****hellohello****hellohello****hellohello****hellohello****hellohello****hellohello****hellohello****hellohello****hellohello****hellohello****hellohello****hellohello****hellohello****hellohello****hellohello****hellohello****hellohello****hellohello****hellohello****hellohello****hellohello****hellohello****hellohello****hellohello****hellohello****hellohello****hellohello****hellohello****hellohello****hellohello****hellohello****hellohello****hellohello****hellohello****hellohello****hellohello****hellohello****hellohello****hellohello****hellohello****hellohello****hellohello****hellohello****hellohello****hellohello****hellohello****hellohello****hellohello****hellohello****hellohello****hellohello****hellohello****hellohello****hellohello****hellohello****hellohello****hellohello****hellohello****hellohello****hellohello****hellohello****hellohello****hellohello****hellohello****hellohello****hellohello****hellohello****hellohello****hellohello****hellohello****hellohello****hellohello****hellohello****hellohello****hellohello****hellohello****hellohello****hellohello****hellohello****hellohello****hellohello****hellohello****hellohello****hellohello****hellohello****hellohello****hellohello****hellohello****hellohello****hellohello****hellohello****hellohello****hellohello****hellohello****hellohello****hellohello****hellohello****hellohello****hellohello****hellohello****hellohello****hellohello****hellohello****hellohello****hellohello****hellohello****hellohello****hellohello****hellohello****hellohello****hellohello****hellohello****hellohello****hellohello****hellohello****hellohello****hellohello****hellohello****hellohello****hellohello****hellohello****hellohello****hellohello****hellohello****hellohello****hellohello****hellohello****hellohello****hellohello****hellohello****hellohello****hellohello****hellohello****hellohello****hellohello****hellohello****hellohello****hellohello****hellohello****hellohello****hellohello****hellohello****hellohello****hellohello****hellohello****hellohello****hellohello****hellohello****hellohello****hellohello****hellohello****hellohello****hellohello****hellohello****hellohello****hellohello****hellohello****hellohello****hellohello****hellohello****hellohello****hellohello****hellohello****hellohello****hellohello****hellohello****hellohello****hellohello****hellohello****hellohello****hellohello****hellohello****hellohello****hellohello****hellohello****hellohello****hellohello****hellohello****hellohello****hellohello****hellohello****hellohello****hellohello****hellohello****hellohello****hellohello****hellohello****hellohello****hellohello****hellohello****hellohello****hellohello****hellohello****hellohello****hellohello****hellohello****hellohello****hellohello****hellohello****hellohello****hellohello****hellohello****hellohello****hellohello****hellohello****hellohello****hellohello****hellohello****hellohello****hellohello****hellohello****hellohello****hellohello****hellohello****hellohello****hellohello****hellohello****hellohello****hellohello****hellohello****hellohello****hellohello****hellohello****hellohello****hellohello****hellohello****hellohello****hellohello****hellohello****hellohello****hellohello****hellohello****hellohello****hellohello****hellohello****hellohello****hellohello****hellohello****hellohello****hellohello****hellohello****hellohello****hellohello****hellohello****hellohello****hellohello****hellohello****hellohello****hellohello****hellohello****hellohello****hellohello****hellohello****hellohello****hellohello****hellohello****hellohello****hellohello****hellohello****hellohello****hellohello****hellohello****hellohello****hellohello****hellohello****hellohello****hellohello****hellohello****hellohello****hellohello****hellohello****hellohello****hellohello****hellohello****hellohello****hellohello****hellohello****hellohello****hellohello****hellohello****hellohello****hellohello****hellohello****hellohello****hellohello****hellohello****hellohello****hellohello****hellohello****hellohello****hellohello****hellohello****hellohello****hellohello****hellohello****hellohello****hellohello****hellohello****hellohello****hellohello****hellohello****hellohello****hellohello****hellohello****hellohello****hellohello****hellohello****hellohello****hellohello****hellohello****hellohello****hellohello****hellohello****hellohello****hellohello****hellohello****hellohello****hellohello****hellohello****hellohello****hellohello****hellohello****hellohello****hellohello****hellohello****hellohello****hellohello****hellohello****hellohello****hellohello****hellohello****hellohello****hellohello****hellohello****hellohello****hellohello****hellohello****hellohello****hellohello****hellohello****hellohello****hellohello****hellohello****hellohello****hellohello****hellohello****hellohello****hellohello****hellohello****hellohello****hellohello****hellohello****hellohello****hellohello****hellohello****hellohello****hellohello****hellohello****hellohello****hellohello****hellohello****hellohello****hellohello****hellohello****hellohello****hellohello****hellohello****hellohello****hellohello****hellohello****hellohello****hellohello****hellohello****hellohello****hellohello****hellohello****hellohello****hellohello****hellohello****hellohello****hellohello****hellohello****hellohello****hellohello****hellohello****hellohello****hellohello****hellohello****hellohello****hellohello****hellohello****hellohello****hellohello****hellohello****hellohello****hellohello****hellohello****hellohello****hellohello****hellohello****hellohello****hellohello****hellohello****hellohello****hellohello****hellohello****hellohello****hellohello****hellohello****hellohello****hellohello****hellohello****hellohello****hellohello****hellohello****hellohello****hellohello****hellohello****hellohello****hellohello****hellohello****hellohello****hellohello****hellohello****hellohello****hellohello****hellohello****hellohello****hellohello****hellohello****hellohello****hellohello****hellohello****hellohello****hellohello****hellohello****hellohello****hellohello****hellohello****hellohello****hellohello****hellohello****hellohello****hellohello****hellohello****hellohello****hellohello****hellohello****hellohello****hellohello****hellohello****hellohello****hellohello****hellohello****hellohello****hellohello****hellohello****hellohello****hellohello****hellohello****hellohello****hellohello****hellohello****hellohello****hellohello****hellohello****hellohello****hellohello****hellohello****hellohello****hellohello****hellohello****hellohello****hellohello****hellohello****hellohello****hellohello****hellohello****hellohello****hellohello****hellohello****hellohello****hellohello****hellohello****hellohello****hellohello****hellohello****hellohello****hellohello****hellohello****hellohello****hellohello****hellohello****hellohello****hellohello****hellohello****hellohello****hellohello****hellohello****hellohello****hellohello****hellohello****hellohello****hellohello****hellohello****hellohello****hellohello****hellohello****hellohello****hellohello****hellohello****hellohello****hellohello****hellohello****hellohello****hellohello****hellohello****hellohello****hellohello****hellohello****hellohello****hellohello****hellohello****hellohello****hellohello****hellohello****hellohello****hellohello****hellohello****hellohello****hellohello****hellohello****hellohello****hellohello****hellohello****hellohello****hellohello****hellohello****hellohello****hellohello****hellohello****hellohello****hellohello****hellohello****hellohello****hellohello****hellohello****hellohello****hellohello****hellohello****hellohello****hellohello****hellohello****hellohello****hellohello****hellohello****hellohello****hellohello****hellohello****hellohello****hellohello****hellohello****hellohello****hellohello****hellohello****hellohello****hellohello****hellohello****hellohello****hellohello****hellohello****hellohello****hellohello****hellohello****hellohello****hellohello****hellohello****hellohello****hellohello****hellohello****hellohello****hellohello****hellohello****hellohello****hellohello****hellohello****hellohello****hellohello****hellohello****hellohello****hellohello****hellohello****hellohello****hellohello****hellohello****hellohello****hellohello****hellohello****hellohello****hellohello****hellohello****hellohello****hellohello****hellohello****hellohello****hellohello****hellohello****hellohello****hellohello****hellohello****hellohello****hellohello****hellohello****hellohello****hellohello****hellohello****hellohello****hellohello****hellohello****hellohello****hellohello****hellohello****hellohello****hellohello****hellohello****hellohello****hellohello****hellohello****hellohello****hellohello****hellohello****hellohello****hellohello****hellohello****hellohello****hellohello****hellohello****hellohello****hellohello****hellohello****hellohello****hellohello****hellohello****hellohello****hellohello****hellohello****hellohello****hellohello****hellohello****hellohello****hellohello****hellohello****hellohello****hellohello****hellohello****hellohello****hellohello****hellohello****hellohello****hellohello****hellohello****hellohello****hellohello****hellohello****hellohello****hellohello****hellohello****hellohello****hellohello****hellohello****hellohello****hellohello****hellohello****hellohello****hellohello****hellohello****hellohello****hellohello****hellohello****hellohello****hellohello****hellohello****hellohello****hellohello****hellohello****hellohello****hellohello****hellohello****hellohello****hellohello****hellohello****hellohello****hellohello****hellohello****hellohello****hellohello****hellohello****hellohello****hellohello****hellohello****hellohello****hellohello****hellohello****hellohello****hellohello****hellohello****hellohello****hellohello****hellohello****hellohello****hellohello****hellohello****hellohello****hellohello****hellohello****hellohello****hellohello****hellohello****hellohello****hellohello****hellohello****hellohello****hellohello****hellohello****hellohello****hellohello****hellohello****hellohello****hellohello****hellohello****hellohello****hellohello****hellohello****hellohello****hellohello****hellohello****hellohello****hellohello****hellohello****hellohello****hellohello****hellohello****hellohello****hellohello****hellohello****hellohello****hellohello****hellohello****hellohello****hellohello****hellohello****hellohello****hellohello****hellohello****hellohello****hellohello****hellohello****hellohello****hellohello****hellohello****hellohello****hellohello****hellohello****hellohello****hellohello****hellohello****hellohello****hellohello****hellohello****hellohello****hellohello****hellohello****hellohello****hellohello****hellohello****hellohello****hellohello****hellohello****hellohello****hellohello****hellohello****hellohello****hellohello****hellohello****hellohello****hellohello****hellohello****hellohello****hellohello****hellohello****hellohello****hellohello****hellohello****hellohello****hellohello****hellohello****hellohello****hellohello****hellohello****hellohello****hellohello****hellohello****hellohello****hellohello****hellohello****hellohello****hellohello****hellohello****hellohello****hellohello****hellohello****hellohello****hellohello****hellohello****hellohello****hellohello****hellohello****hellohello****hellohello****hellohello****hellohello****hellohello****hellohello****hellohello****hellohello****hellohello****hellohello****hellohello****hellohello****hellohello****hellohello****hellohello****hellohello****hellohello****hellohello****hellohello****hellohello****hellohello****hellohello****hellohello****hellohello****hellohello****hellohello****hellohello****hellohello****hellohello****hellohello****hellohello****hellohello****hellohello****hellohello****hellohello****hellohello****hellohello****hellohello****hellohello****hellohello****hellohello****hellohello****hellohello****hellohello****hellohello****hellohello****hellohello****hellohello****hellohello****hellohello****hellohello****hellohello****hellohello****hellohello****hellohello****hellohello****hellohello****hellohello****hellohello****hellohello****hellohello****hellohello****hellohello****hellohello****hellohello****hellohello****hellohello****hellohello****hellohello****hellohello****hellohello****hellohello****hellohello****hellohello****hellohello****hellohello****hellohello****hellohello****hellohello****hellohello****hellohello****hellohello****hellohello****hellohello****hellohello****hellohello****hellohello****hellohello****hellohello****hellohello****hellohello****hellohello****hellohello****hellohello****hellohello****hellohello****hellohello****hellohello****hellohello****hellohello****hellohello****hellohello****hellohello****hellohello****hellohello****hellohello****hellohello****hellohello****hellohello****hellohello****hellohello****hellohello****hellohello****hellohello****hellohello****hellohello****hellohello****hellohello****hellohello****hellohello****hellohello****hellohello****hellohello****hellohello****hellohello****hellohello****hellohello****hellohello****hellohello****hellohello****hellohello****hellohello****hellohello****hellohello****hellohello****hellohello****hellohello****hellohello****hellohello****hellohello****hellohello****hellohello****hellohello****hellohello****hellohello****hellohello****hellohello****hellohello****hellohello****hellohello****hellohello****hellohello****hellohello****hellohello****hellohello****hellohello****hellohello****hellohello****hellohello****hellohello****hellohello****hellohello****hellohello****hellohello****hellohello****hellohello****hellohello****hellohello****hellohello****hellohello****hellohello****hellohello****hellohello****hellohello****hellohello****hellohello****hellohello****hellohello****hellohello****hellohello****hellohello****hellohello****hellohello****hellohello****hellohello****hellohello****hellohello****hellohello****hellohello****hellohello****hellohello****hellohello****hellohello****hellohello****hellohello****hellohello****hellohello****hellohello****hellohello****hellohello****hellohello****hellohello****hellohello****hellohello****hellohello****hellohello****hellohello****hellohello****hellohello****hellohello****hellohello****hellohello****hellohello****hellohello****hellohello****hellohello****hellohello****hellohello****hellohello****hellohello****hellohello****hellohello****hellohello****hellohello****hellohello****hellohello****hellohello****hellohello****hellohello****hellohello****hellohello****hellohello****hellohello****hellohello****hellohello****hellohello****hellohello****hellohello****hellohello****hellohello****hellohello****hellohello****hellohello****hellohello****hellohello****hellohello****hellohello****hellohello****hellohello****hellohello****hellohello****hellohello****hellohello****hellohello****hellohello****hellohello****hellohello****hellohello****hellohello****hellohello****hellohello****hellohello****hellohello****hellohello****hellohello****hellohello****hellohello****hellohello****hellohello****hellohello****hellohello****hellohello****hellohello****hellohello****hellohello****hellohello****hellohello****hellohello****hellohello****hellohello****hellohello****hellohello****hellohello****hellohello****hellohello****hellohello****hellohello****hellohello****hellohello****hellohello****hellohello****hellohello****hellohello****hellohello****hellohello****hellohello****hellohello****hellohello****hellohello****hellohello****hellohello****hellohello****hellohello****hellohello****hellohello****hellohello****hellohello****hellohello****hellohello****hellohello****hellohello****hellohello****hellohello****hellohello****hellohello****hellohello****hellohello****hellohello****hellohello****hellohello****hellohello****hellohello****hellohello****hellohello****hellohello****hellohello****hellohello****hellohello****hellohello****hellohello****hellohello****hellohello****hellohello****hellohello****hellohello****hellohello****hellohello****hellohello****hellohello****hellohello****hellohello****hellohello****hellohello****hellohello****hellohello****hellohello****hellohello****hellohello****hellohello****hellohello****hellohello****hellohello****hellohello****hellohello****hellohello****hellohello****hellohello****hellohello****hellohello****hellohello****hellohello****hellohello****hellohello****hellohello****hellohello****hellohello****hellohello****hellohello****hellohello****hellohello****hellohello****hellohello****hellohello****hellohello****hellohello****hellohello****hellohello****hellohello****hellohello****hellohello****hellohello****hellohello****hellohello****hellohello****hellohello****hellohello****hellohello****hellohello****hellohello****hellohello****hellohello****hellohello****hellohello****hellohello****hellohello****hellohello****hellohello****hellohello****hellohello****hellohello****hellohello****hellohello****hellohello****hellohello****hellohello****hellohello****hellohello****hellohello****hellohello****hellohello****hellohello****hellohello****hellohello****hellohello****hellohello****hellohello****hellohello****hellohello****hellohello****hellohello****hellohello****hellohello****hellohello****hellohello****hellohello****hellohello****hellohello****hellohello****hellohello****hellohello****hellohello****hellohello****hellohello****hellohello****hellohello****hellohello****hellohello****hellohello****hellohello****hellohello****hellohello****hellohello****hellohello****hellohello****hellohello****hellohello****hellohello****hellohello****hellohello****hellohello****hellohello****hellohello****hellohello****hellohello****hellohello****hellohello****hellohello****hellohello****hellohello****hellohello****hellohello****hellohello****hellohello****hellohello****hellohello****hellohello****hellohello****hellohello****hellohello****hellohello****hellohello****hellohello****hellohello****hellohello****hellohello****hellohello****hellohello****hellohello****hellohello****hellohello****hellohello****hellohello****hellohello****hellohello****hellohello****hellohello****hellohello****hellohello****hellohello****hellohello****hellohello****hellohello****hellohello****hellohello****hellohello****hellohello****hellohello****hellohello****hellohello****hellohello****hellohello****hellohello****hellohello****hellohello****hellohello****hellohello****hellohello****hellohello****hellohello****hellohello****hellohello****hellohello****hellohello****hellohello****hellohello****hellohello****hellohello****hellohello****hellohello****hellohello****hellohello****hellohello****hellohello****hellohello****hellohello****hellohello****hellohello****hellohello****hellohello****hellohello****hellohello****hellohello****hellohello****hellohello****hellohello****hellohello****hellohello****hellohello****hellohello****hellohello****hellohello****hellohello****hellohello****hellohello****hellohello****hellohello****hellohello****hellohello****hellohello****hellohello****hellohello****hellohello****hellohello****hellohello****hellohello****hellohello****hellohello****hellohello****hellohello****hellohello****hellohello****hellohello****hellohello****hellohello****hellohello****hellohello****hellohello****hellohello****hellohello****hellohello****hellohello****hellohello****hellohello****hellohello****hellohello****hellohello****hellohello****hellohello****hellohello****hellohello****hellohello****hellohello****hellohello****hellohello****hellohello****hellohello****hellohello****hellohello****hellohello****hellohello****hellohello****hellohello****hellohello****hellohello****hellohello****hellohello****hellohello****hellohello****hellohello****hellohello****hellohello****hellohello****hellohello****hellohello****hellohello****hellohello****hellohello****hellohello****hellohello****hellohello****hellohello****hellohello****hellohello****hellohello****hellohello****hellohello****hellohello****hellohello****hellohello****hellohello****hellohello****hellohello****hellohello****hellohello****hellohello****hellohello****hellohello****hellohello****hellohello****hellohello****hellohello****hellohello****hellohello****hellohello****hellohello****hellohello****hellohello****hellohello****hellohello****hellohello****hellohello****hellohello****hellohello****hellohello****hellohello****hellohello****hellohello****hellohello****hellohello****hellohello****hellohello****hellohello****hellohello****hellohello****hellohello****hellohello****hellohello****hellohello****hellohello****hellohello****hellohello****hellohello****hellohello****hellohello****hellohello****hellohello****hellohello****hellohello****hellohello****hellohello****hellohello****hellohello****hellohello****hellohello****hellohello****hellohello****hellohello****hellohello****hellohello****hellohello****hellohello****hellohello****hellohello****hellohello****hellohello****hellohello****hellohello****hellohello****hellohello****hellohello****hellohello****hellohello****hellohello****hellohello****hellohello****hellohello****hellohello****hellohello****hellohello****hellohello****hellohello****hellohello****hellohello****hellohello****hellohello****hellohello****hellohello****hellohello****hellohello****hellohello****hellohello****hellohello****hellohello****hellohello****hellohello****hellohello****hellohello****hellohello****hellohello****hellohello****hellohello****hellohello****hellohello****hellohello****hellohello****hellohello****hellohello****hellohello****hellohello****hellohello****hellohello****hellohello****hellohello****hellohello****hellohello****hellohello****hellohello****hellohello****hellohello****hellohello****hellohello****hellohello****hellohello****hellohello****hellohello****hellohello****hellohello****hellohello****hellohello****hellohello****hellohello****hellohello****hellohello****hellohello****hellohello****hellohello****hellohello****hellohello****hellohello****hellohello****hellohello****hellohello****hellohello****hellohello****hellohello****hellohello****hellohello****hellohello****hellohello****hellohello****hellohello****hellohello****hellohello****hellohello****hellohello****hellohello****hellohello****hellohello****hellohello****hellohello****hellohello****hellohello****hellohello****hellohello****hellohello****hellohello****hellohello****hellohello****hellohello****hellohello****hellohello****hellohello****hellohello****hellohello****hellohello****hellohello****hellohello****hellohello****hellohello****hellohello****hellohello****hellohello****hellohello****hellohello****hellohello****hellohello****hellohello****hellohello****hellohello****hellohello****hellohello****hellohello****hellohello****hellohello****hellohello****hellohello****hellohello****hellohello****hellohello****hellohello****hellohello****hellohello****hellohello****hellohello****hellohello****hellohello****hellohello****hellohello****hellohello****hellohello****hellohello****hellohello****hellohello****hellohello****hellohello****hellohello****hellohello****hellohello****hellohello****hellohello****hellohello****hellohello****hellohello****hellohello****hellohello****hellohello****hellohello****hellohello****hellohello****hellohello****hellohello****hellohello****hellohello****hellohello****hellohello****hellohello****hellohello****hellohello****hellohello****hellohello****hellohello****hellohello****hellohello****hellohello****hellohello****hellohello****hellohello****hellohello****hellohello****hellohello****hellohello****hellohello****hellohello****hellohello****hellohello****hellohello****hellohello****hellohello****hellohello****hellohello****hellohello****hellohello****hellohello****hellohello****hellohello****hellohello****hellohello****hellohello****hellohello****hellohello****hellohello****hellohello****hellohello****hellohello****hellohello****hellohello****hellohello****hellohello****hellohello****hellohello****hellohello****hellohello****hellohello****hellohello****hellohello****hellohello****hellohello****hellohello****hellohello****hellohello****hellohello****hellohello****hellohello****hellohello****hellohello****hellohello****hellohello****hellohello****hellohello****hellohello****hellohello****hellohello****hellohello****hellohello****hellohello****hellohello****hellohello****hellohello****hellohello****hellohello****hellohello****hellohello****hellohello****hellohello****hellohello****hellohello****hellohello****hellohello****hellohello****hellohello****hellohello****hellohello****hellohello****hellohello****hellohello****hellohello****hellohello****hellohello****hellohello****hellohello****hellohello****hellohello****hellohello****hellohello****hellohello****hellohello****hellohello****hellohello****hellohello****hellohello****hellohello****hellohello****hellohello****hellohello****hellohello****hellohello****hellohello****hellohello****hellohello****hellohello****hellohello****hellohello****hellohello****hellohello****hellohello****hellohello****hellohello****hellohello****hellohello****hellohello****hellohello****hellohello****hellohello****hellohello****hellohello****hellohello****hellohello****hellohello****hellohello****hellohello****hellohello****hellohello****hellohello****hellohello****hellohello****hellohello****hellohello****hellohello****hellohello****hellohello****hellohello****hellohello****hellohello****hellohello****hellohello****hellohello****hellohello****hellohello****hellohello****hellohello****hellohello****hellohello****hellohello****hellohello****hellohello****hellohello****hellohello****hellohello****hellohello****hellohello****hellohello****hellohello****hellohello****hellohello****hellohello****hellohello****hellohello****hellohello****hellohello****hellohello****hellohello****hellohello****hellohello****hellohello****hellohello****hellohello****hellohello****hellohello****hellohello****hellohello****hellohello****hellohello****hellohello****hellohello****hellohello****hellohello****hellohello****hellohello****hellohello****hellohello****hellohello****hellohello****hellohello****hellohello****hellohello****hellohello****hellohello****hellohello****hellohello****hellohello****hellohello****hellohello****hellohello****hellohello****hellohello****hellohello****hellohello****hellohello****hellohello****hellohello****hellohello****hellohello****hellohello****hellohello****hellohello****hellohello****hellohello****hellohello****hellohello****hellohello****hellohello****hellohello****hellohello****hellohello****hellohello****hellohello****hellohello****hellohello****hellohello****hellohello****hellohello****hellohello****hellohello****hellohello****hellohello****hellohello****hellohello****hellohello****hellohello****hellohello****hellohello****hellohello****hellohello****hellohello****hellohello****hellohello****hellohello****hellohello****hellohello****hellohello****hellohello****hellohello****hellohello****hellohello****hellohello****hellohello****hellohello****hellohello****hellohello****hellohello****hellohello****hellohello****hellohello****hellohello****hellohello****hellohello****hellohello****hellohello****hellohello****hellohello****hellohello****hellohello****hellohello****hellohello****hellohello****hellohello****hellohello****hellohello****hellohello****hellohello****hellohello****hellohello****hellohello****hellohello****hellohello****hellohello****hellohello****hellohello****hellohello****hellohello****hellohello****hellohello****hellohello****hellohello****hellohello****hellohello****hellohello****hellohello****hellohello****hellohello****hellohello****hellohello****hellohello****hellohello****hellohello****hellohello****hellohello****hellohello****hellohello****hellohello****hellohello****hellohello****hellohello****hellohello****hellohello****hellohello****hellohello****hellohello****hellohello****hellohello****hellohello****hellohello****hellohello****hellohello****hellohello****hellohello****hellohello****hellohello****hellohello****hellohello****hellohello****hellohello****hellohello****hellohello****hellohello****hellohello****hellohello****hellohello****hellohello****hellohello****hellohello****hellohello****hellohello****hellohello****hellohello****hellohello****hellohello****hellohello****hellohello****hellohello****hellohello****hellohello****hellohello****hellohello****hellohello****hellohello****hellohello****hellohello****hellohello****hellohello****hellohello****hellohello****hellohello****hellohello****hellohello****hellohello****hellohello****hellohello****hellohello****hellohello****hellohello****hellohello****hellohello****hellohello****hellohello****hellohello****hellohello****hellohello****hellohello****hellohello****hellohello****hellohello****hellohello****hellohello****hellohello****hellohello****hellohello****hellohello****hellohello****hellohello****hellohello****hellohello****hellohello****hellohello****hellohello****hellohello****hellohello****hellohello****hellohello****hellohello****hellohello****hellohello****hellohello****hellohello****hellohello****hellohello****hellohello****hellohello****hellohello****hellohello****hellohello****hellohello****hellohello****hellohello****hellohello****hellohello****hellohello****hellohello****hellohello****hellohello****hellohello****hellohello****hellohello****hellohello****hellohello****hellohello****hellohello****hellohello****hellohello****hellohello****hellohello****hellohello****hellohello****hellohello****hellohello****hellohello****hellohello****hellohello****hellohello****hellohello****hellohello****hellohello****hellohello****hellohello****hellohello****hellohello****hellohello****hellohello****hellohello****hellohello****hellohello****hellohello****hellohello****hellohello****hellohello****hellohello****hellohello****hellohello****hellohello****hellohello****hellohello****hellohello****hellohello****hellohello****hellohello****hellohello****hellohello****hellohello****hellohello****hellohello****hellohello****hellohello****hellohello****hellohello****hellohello****hellohello****hellohello****hellohello****hellohello****hellohello****hellohello****hellohello****hellohello****hellohello****hellohello****hellohello****hellohello****hellohello****hellohello****hellohello****hellohello****hellohello****hellohello****hellohello****hellohello****hellohello****hellohello****hellohello****hellohello****hellohello****hellohello****hellohello****hellohello****hellohello****hellohello****hellohello****hellohello****hellohello****hellohello****hellohello****hellohello****hellohello****hellohello****hellohello****hellohello****hellohello****hellohello****hellohello****hellohello****hellohello****hellohello****hellohello****hellohello****hellohello****hellohello****hellohello****hellohello****hellohello****hellohello****hellohello****hellohello****hellohello****hellohello****hellohello****hellohello****hellohello****hellohello****hellohello****hellohello****hellohello****hellohello****hellohello****hellohello****hellohello****hellohello****hellohello****hellohello****hellohello****hellohello****hellohello****hellohello****hellohello****hellohello****hellohello****hellohello****hellohello****hellohello****hellohello****hellohello****hellohello****hellohello****hellohello****hellohello****hellohello****hellohello****hellohello****hellohello****hellohello****hellohello****hellohello****hellohello****hellohello****hellohello****hellohello****hellohello****hellohello****hellohello****hellohello****hellohello****hellohello****hellohello****hellohello****hellohello****hellohello****hellohello****hellohello****hellohello****hellohello****hellohello****hellohello****hellohello****hellohello****hellohello****hellohello****hellohello****hellohello****hellohello****hellohello****hellohello****hellohello****hellohello****hellohello****hellohello****hellohello****hellohello****hellohello****hellohello****hellohello****hellohello****hellohello****hellohello****hellohello****hellohello****hellohello****hellohello****hellohello****hellohello****hellohello****hellohello****hellohello****hellohello****hellohello****hellohello****hellohello****hellohello****hellohello****hellohello****hellohello****hellohello****hellohello****hellohello****hellohello****hellohello****hellohello****hellohello****hellohello****hellohello****hellohello****hellohello****hellohello****hellohello****hellohello****hellohello****hellohello****hellohello****hellohello****hellohello****hellohello****hellohello****hellohello****hellohello****hellohello****hellohello****hellohello****hellohello****hellohello****hellohello****hellohello****hellohello****hellohello****hellohello****hellohello****hellohello****hellohello****hellohello****hellohello****hellohello****hellohello****hellohello****hellohello****hellohello****hellohello****hellohello****hellohello****hellohello****hellohello****hellohello****hellohello****hellohello****hellohello****hellohello****hellohello****hellohello****hellohello****hellohello****hellohello****hellohello****hellohello****hellohello****hellohello****hellohello****hellohello****hellohello****hellohello****hellohello****hellohello****hellohello****hellohello****hellohello****hellohello****hellohello****hellohello****hellohello****hellohello****hellohello****hellohello****hellohello****hellohello****hellohello****hellohello****hellohello****hellohello****hellohello****hellohello****hellohello****hellohello****hellohello****hellohello****hellohello****hellohello****hellohello****hellohello****hellohello****hellohello****hellohello****hellohello****hellohello****hellohello****hellohello****hellohello****hellohello****hellohello****hellohello****hellohello****hellohello****hellohello****hellohello****hellohello****hellohello****hellohello****hellohello****hellohello****hellohello****hellohello****hellohello****hellohello****hellohello****hellohello****hellohello****hellohello****hellohello****hellohello****hellohello****hellohello****hellohello****hellohello****hellohello****hellohello****hellohello****hellohello****hellohello****hellohello****hellohello****hellohello****hellohello****hellohello****hellohello****hellohello****hellohello****hellohello****hellohello****hellohello****hellohello****hellohello****hellohello****hellohello****hellohello****hellohello****hellohello****hellohello****hellohello****hellohello****hellohello****hellohello****hellohello****hellohello****hellohello****hellohello****hellohello****hellohello****hellohello****hellohello****hellohello****hellohello****hellohello****hellohello****hellohello****hellohello****hellohello****hellohello****hellohello****hellohello****hellohello****hellohello****hellohello****hellohello****hellohello****hellohello****hellohello****hellohello****hellohello****hellohello****hellohello****hellohello****hellohello****hellohello****hellohello****hellohello****hellohello****hellohello****hellohello****hellohello****hellohello****hellohello****hellohello****hellohello****hellohello****hellohello****hellohello****hellohello****hellohello****hellohello****hellohello****hellohello****hellohello****hellohello****hellohello****hellohello****hellohello****hellohello****hellohello****hellohello****hellohello****hellohello****hellohello****hellohello****hellohello****hellohello****hellohello****hellohello****hellohello****hellohello****hellohello****hellohello****hellohello****hellohello****hellohello****hellohello****hellohello****hellohello****hellohello****hellohello****hellohello****hellohello****hellohello****hellohello****hellohello****hellohello****hellohello****hellohello****hellohello****hellohello****hellohello****hellohello****hellohello****hellohello****hellohello****hellohello****hellohello****hellohello****hellohello****hellohello****hellohello****hellohello****hellohello****hellohello****hellohello****hellohello****hellohello****hellohello****hellohello****hellohello****hellohello****hellohello****hellohello****hellohello****hellohello****hellohello****hellohello****hellohello****hellohello****hellohello****hellohello****hellohello****hellohello****hellohello****hellohello****hellohello****hellohello****hellohello****hellohello****hellohello****hellohello****hellohello****hellohello****hellohello****hellohello****hellohello****hellohello****hellohello****hellohello****hellohello****hellohello****hellohello****hellohello****hellohello****hellohello****hellohello****hellohello****hellohello****hellohello****hellohello****hellohello****hellohello****hellohello****hellohello****hellohello****hellohello****hellohello****hellohello****hellohello****hellohello****hellohello****hellohello****hellohello****hellohello****hellohello****hellohello****hellohello****hellohello****hellohello****hellohello****hellohello****hellohello****hellohello****hellohello****hellohello****hellohello****hellohello****hellohello****hellohello****hellohello****hellohello****hellohello****hellohello****hellohello****hellohello****hellohello****hellohello****hellohello****hellohello****hellohello****hellohello****hellohello****hellohello****hellohello****hellohello****hellohello****hellohello****hellohello****hellohello****hellohello****hellohello****hellohello****hellohello****hellohello****hellohello****hellohello****hellohello****hellohello****hellohello****hellohello****hellohello****hellohello****hellohello****hellohello****hellohello****hellohello****hellohello****hellohello****hellohello****hellohello****hellohello****hellohello****hellohello****hellohello****hellohello****hellohello****hellohello****hellohello****hellohello****hellohello****hellohello****hellohello****hellohello****hellohello****hellohello****hellohello****hellohello****hellohello****hellohello****hellohello****hellohello****hellohello****hellohello****hellohello****hellohello****hellohello****hellohello****hellohello****hellohello****hellohello****hellohello****hellohello****hellohello****hellohello****hellohello****hellohello****hellohello****hellohello****hellohello****hellohello****hellohello****hellohello****hellohello****hellohello****hellohello****hellohello****hellohello****hellohello****hellohello****hellohello****hellohello****hellohello****hellohello****hellohello****hellohello****hellohello****hellohello****hellohello****hellohello****hellohello****hellohello****hellohello****hellohello****hellohello****hellohello****hellohello****hellohello****hellohello****hellohello****hellohello****hellohello****hellohello****hellohello****hellohello****hellohello****hellohello****hellohello****hellohello****hellohello****hellohello****hellohello****hellohello****hellohello****hellohello****hellohello****hellohello****hellohello****hellohello****hellohello****hellohello****hellohello****hellohello****hellohello****hellohello****hellohello****hellohello****hellohello****hellohello****hellohello****hellohello****hellohello****hellohello****hellohello****hellohello****hellohello****hellohello****hellohello****hellohello****hellohello****hellohello****hellohello****hellohello****hellohello****hellohello****hellohello****hellohello****hellohello****hellohello****hellohello****hellohello****hellohello****hellohello****hellohello****hellohello****hellohello****hellohello****hellohello****hellohello****hellohello****hellohello****hellohello****hellohello****hellohello****hellohello****hellohello****hellohello****hellohello****hellohello****hellohello****hellohello****hellohello****hellohello****hellohello****hellohello****hellohello****hellohello****hellohello****hellohello****hellohello****hellohello****hellohello****hellohello****hellohello****hellohello****hellohello****hellohello****hellohello****hellohello****hellohello****hellohello****hellohello****hellohello****hellohello****hellohello****hellohello****hellohello****hellohello****hellohello****hellohello****hellohello****hellohello****hellohello****hellohello****hellohello****hellohello****hellohello****hellohello****hellohello****hellohello****hellohello****hellohello****hellohello****hellohello****hellohello****hellohello****hellohello****hellohello****hellohello****hellohello****hellohello****hellohello****hellohello****hellohello****hellohello****hellohello****hellohello****hellohello****hellohello****hellohello****hellohello****hellohello****hellohello****hellohello****hellohello****hellohello****hellohello****hellohello****hellohello****hellohello****hellohello****hellohello****hellohello****hellohello****hellohello****hellohello****hellohello****hellohello****hellohello****hellohello****hellohello****hellohello****hellohello****hellohello****hellohello****hellohello****hellohello****hellohello****hellohello****hellohello****hellohello****hellohello****hellohello****hellohello****hellohello****hellohello****hellohello****hellohello****hellohello****hellohello****hellohello****hellohello****hellohello****hellohello****hellohello****hellohello****hellohello****hellohello****hellohello****hellohello****hellohello****hellohello****hellohello****hellohello****hellohello****hellohello****hellohello****hellohello****hellohello****hellohello****hellohello****hellohello****hellohello****hellohello****hellohello****hellohello****hellohello****hellohello****hellohello****hellohello****hellohello****hellohello****hellohello****hellohello****hellohello****hellohello****hellohello****hellohello****hellohello****hellohello****hellohello****hellohello****hellohello****hellohello****hellohello****hellohello****hellohello****hellohello****hellohello****hellohello****hellohello****hellohello****hellohello****hellohello****hellohello****hellohello****hellohello****hellohello****hellohello****hellohello****hellohello****hellohello****hellohello****hellohello****hellohello****hellohello****hellohello****hellohello****hellohello****hellohello****hellohello****hellohello****hellohello****hellohello****hellohello****hellohello****hellohello****hellohello****hellohello****hellohello****hellohello****hellohello****hellohello****hellohello****hellohello****hellohello****hellohello****hellohello****hellohello****hellohello****hellohello****hellohello****hellohello****hellohello****hellohello****hellohello****hellohello****hellohello****hellohello****hellohello****hellohello****hellohello****hellohello****hellohello****hellohello****hellohello****hellohello****hellohello****hellohello****hellohello****hellohello****hellohello****hellohello****hellohello****hellohello****hellohello****hellohello****hellohello****hellohello****hellohello****hellohello****hellohello****hellohello****hellohello****hellohello****hellohello****hellohello****hellohello****hellohello****hellohello****hellohello****hellohello****hellohello****hellohello****hellohello****hellohello****hellohello****hellohello****hellohello****hellohello****hellohello****hellohello****hellohello****hellohello****hellohello****hellohello****hellohello****hellohello****hellohello****hellohello****hellohello****hellohello****hellohello****hellohello****hellohello****hellohello****hellohello****hellohello****hellohello****hellohello****hellohello****hellohello****hellohello****hellohello****hellohello****hellohello****hellohello****hellohello****hellohello****hellohello****hellohello****hellohello****hellohello****hellohello****hellohello****hellohello****hellohello****hellohello****hellohello****hellohello****hellohello****hellohello****hellohello****hellohello****hellohello****hellohello****hellohello****hellohello****hellohello****hellohello****hellohello****hellohello****hellohello****hellohello****hellohello****hellohello****hellohello****hellohello****hellohello****hellohello****hellohello****hellohello****hellohello****hellohello****hellohello****hellohello****hellohello****hellohello****hellohello****hellohello****hellohello****hellohello****hellohello****hellohello****hellohello****hellohello****hellohello****hellohello****hellohello****hellohello****hellohello****hellohello****hellohello****hellohello****hellohello****hellohello****hellohello****hellohello****hellohello****hellohello****hellohello****hellohello****hellohello****hellohello****hellohello****hellohello****hellohello****hellohello****hellohello****hellohello****hellohello****hellohello****hellohello****hellohello****hellohello****hellohello****hellohello****hellohello****hellohello****hellohello****hellohello****hellohello****hellohello****hellohello****hellohello****hellohello****hellohello****hellohello****hellohello****hellohello****hellohello****hellohello****hellohello****hellohello****hellohello****hellohello****hellohello****hellohello****hellohello****hellohello****hellohello****hellohello****hellohello****hellohello****hellohello****hellohello****hellohello****hellohello****hellohello****hellohello****hellohello****hellohello****hellohello****hellohello****hellohello****hellohello****hellohello****hellohello****hellohello****hellohello****hellohello****hellohello****hellohello****hellohello****hellohello****hellohello****hellohello****hellohello****hellohello****hellohello****hellohello****hellohello****hellohello****hellohello****hellohello****hellohello****hellohello****hellohello****hellohello****hellohello****hellohello****hellohello****hellohello****hellohello****hellohello****hellohello****hellohello****hellohello****hellohello****hellohello****hellohello****hellohello****hellohello****hellohello****hellohello****hellohello****hellohello****hellohello****hellohello****hellohello****hellohello****hellohello****hellohello****hellohello****hellohello****hellohello****hellohello****hellohello****hellohello****hellohello****hellohello****hellohello****hellohello****hellohello****hellohello****hellohello****hellohello****hellohello****hellohello****hellohello****hellohello****hellohello****hellohello****hellohello****hellohello****hellohello****hellohello****hellohello****hellohello****hellohello****hellohello****hellohello****hellohello****hellohello****hellohello****hellohello****hellohello****hellohello****hellohello****hellohello****hellohello****hellohello****hellohello****hellohello****hellohello****hellohello****hellohello****hellohello****hellohello****hellohello****hellohello****hellohello****hellohello****hellohello****hellohello****hellohello****hellohello****hellohello****hellohello****hellohello****hellohello****hellohello****hellohello****hellohello****hellohello****hellohello****hellohello****hellohello****hellohello****hellohello****hellohello****hellohello****hellohello****hellohello****hellohello****hellohello****hellohello****hellohello****hellohello****hellohello****hellohello****hellohello****hellohello****hellohello****hellohello****hellohello****hellohello****hellohello****hellohello****hellohello****hellohello****hellohello****hellohello****hellohello****hellohello****hellohello****hellohello****hellohello****hellohello****hellohello****hellohello****hellohello****hellohello****hellohello****hellohello****hellohello****hellohello****hellohello****hellohello****hellohello****hellohello****hellohello****hellohello****hellohello****hellohello****hellohello****hellohello****hellohello****hellohello****hellohello****hellohello****hellohello****hellohello****hellohello****hellohello****hellohello****hellohello****hellohello****hellohello****hellohello****hellohello****hellohello****hellohello****hellohello****hellohello****hellohello****hellohello****hellohello****hellohello****hellohello****hellohello****hellohello****hellohello****hellohello****hellohello****hellohello****hellohello****hellohello****hellohello****hellohello****hellohello****hellohello****hellohello****hellohello****hellohello****hellohello****hellohello****hellohello****hellohello****hellohello****hellohello****hellohello****hellohello****hellohello****hellohello****hellohello****hellohello****hellohello****hellohello****hellohello****hellohello****hellohello****hellohello****hellohello****hellohello****hellohello****hellohello****hellohello****hellohello****hellohello****hellohello****hellohello****hellohello****hellohello****hellohello****hellohello****hellohello****hellohello****hellohello****hellohello****hellohello****hellohello****hellohello****hellohello****hellohello****hellohello****hellohello****hellohello****hellohello****hellohello****hellohello****hellohello****hellohello****hellohello****hellohello****hellohello****hellohello****hellohello****hellohello****hellohello****hellohello****hellohello****hellohello****hellohello****hellohello****hellohello****hellohello****hellohello****hellohello****hellohello****hellohello****hellohello****hellohello****hellohello****hellohello****hellohello****hellohello****hellohello****hellohello****hellohello****hellohello****hellohello****hellohello****hellohello****hellohello****hellohello****hellohello****hellohello****hellohello****hellohello****hellohello****hellohello****hellohello****hellohello****hellohello****hellohello****hellohello****hellohello****hellohello****hellohello****hellohello****hellohello****hellohello****hellohello****hellohello****hellohello****hellohello****hellohello****hellohello****hellohello****hellohello****hellohello****hellohello****hellohello****hellohello****hellohello****hellohello****hellohello****hellohello****hellohello****hellohello****hellohello****hellohello****hellohello****hellohello****hellohello****hellohello****hellohello****hellohello****hellohello****hellohello****hellohello****hellohello****hellohello****hellohello****hellohello****hellohello****hellohello****hellohello****hellohello****hellohello****hellohello****hellohello****hellohello****hellohello****hellohello****hellohello****hellohello****hellohello****hellohello****hellohello****hellohello****hellohello****hellohello****hellohello****hellohello****hellohello****hellohello****hellohello****hellohello****hellohello****hellohello****hellohello****hellohello****hellohello****hellohello****hellohello****hellohello****hellohello****hellohello****hellohello****hellohello****hellohello****hellohello****hellohello****hellohello****hellohello****hellohello****hellohello****hellohello****hellohello****hellohello****hellohello****hellohello****hellohello****hellohello****hellohello****hellohello****hellohello****hellohello****hellohello****hellohello****hellohello****hellohello****hellohello****hellohello****hellohello****hellohello****hellohello****hellohello****hellohello****hellohello****hellohello****hellohello****hellohello****hellohello****hellohello****hellohello****hellohello****hellohello****hellohello****hellohello****hellohello****hellohello****hellohello****hellohello****hellohello****hellohello****hellohello****hellohello****hellohello****hellohello****hellohello****hellohello****hellohello****hellohello****hellohello****hellohello****hellohello****hellohello****hellohello****hellohello****hellohello****hellohello****hellohello****hellohello****hellohello****hellohello****hellohello****hellohello****hellohello****hellohello****hellohello****hellohello****hellohello****hellohello****hellohello****hellohello****hellohello****hellohello****hellohello****hellohello****hellohello****hellohello****hellohello****hellohello****hellohello****hellohello****hellohello****hellohello****hellohello****hellohello****hellohello****hellohello****hellohello****hellohello****hellohello****hellohello****hellohello****hellohello****hellohello****hellohello****hellohello****hellohello****hellohello****hellohello****hellohello****hellohello****hellohello****hellohello****hellohello****hellohello****hellohello****hellohello****hellohello****hellohello****hellohello****hellohello****hellohello****hellohello****hellohello****hellohello****hellohello****hellohello****hellohello****hellohello****hellohello****hellohello****hellohello****hellohello****hellohello****hellohello****hellohello****hellohello****hellohello****hellohello****hellohello****hellohello****hellohello****hellohello****hellohello****hellohello****hellohello****hellohello****hellohello****hellohello****hellohello****hellohello****hellohello****hellohello****hellohello****hellohello****hellohello****hellohello****hellohello****hellohello****hellohello****hellohello****hellohello****hellohello****hellohello****hellohello****hellohello****hellohello****hellohello****hellohello****hellohello****hellohello****hellohello****hellohello****hellohello****hellohello****hellohello****hellohello****hellohello****hellohello****hellohello****hellohello****hellohello****hellohello****hellohello****hellohello****hellohello****hellohello****hellohello****hellohello****hellohello****hellohello****hellohello****hellohello****hellohello****hellohello****hellohello****hellohello****hellohello****hellohello****hellohello****hellohello****hellohello****hellohello****hellohello****hellohello****hellohello****hellohello****hellohello****hellohello****hellohello****hellohello****hellohello****hellohello****hellohello****hellohello****hellohello****hellohello****hellohello****hellohello****hellohello****hellohello****hellohello****hellohello****hellohello****hellohello****hellohello****hellohello****hellohello****hellohello****hellohello****hellohello****hellohello****hellohello****hellohello****hellohello****hellohello****hellohello****hellohello****hellohello****hellohello****hellohello****hellohello****hellohello****hellohello****hellohello****hellohello****hellohello****hellohello****hellohello****hellohello****hellohello****hellohello****hellohello****hellohello****hellohello****hellohello****hellohello****hellohello****hellohello****hellohello****hellohello****hellohello****hellohello****hellohello****hellohello****hellohello****hellohello****hellohello****hellohello****hellohello****hellohello****hellohello****hellohello****hellohello****hellohello****hellohello****hellohello****hellohello****hellohello****hellohello****hellohello****hellohello****hellohello****hellohello****hellohello****hellohello****hellohello****hellohello****hellohello****hellohello****hellohello****hellohello****hellohello****hellohello****hellohello****hellohello****hellohello****hellohello****hellohello****hellohello****hellohello****hellohello****hellohello****hellohello****hellohello****hellohello****hellohello****hellohello****hellohello****hellohello****hellohello****hellohello****hellohello****hellohello****hellohello****hellohello****hellohello****hellohello****hellohello****hellohello****hellohello****hellohello****hellohello****hellohello****hellohello****hellohello****hellohello****hellohello****hellohello****hellohello****hellohello****hellohello****hellohello****hellohello****hellohello****hellohello****hellohello****hellohello****hellohello****hellohello****hellohello****hellohello****hellohello****hellohello****hellohello****hellohello****hellohello****hellohello****hellohello****hellohello****hellohello****hellohello****hellohello****hellohello****hellohello****hellohello****hellohello****hellohello****hellohello****hellohello****hellohello****hellohello****hellohello****hellohello****hellohello****hellohello****hellohello****hellohello****hellohello****hellohello****hellohello****hellohello****hellohello****hellohello****hellohello****hellohello****hellohello****hellohello****hellohello****hellohello****hellohello****hellohello****hellohello****hellohello****hellohello****hellohello****hellohello****hellohello****hellohello****hellohello****hellohello****hellohello****hellohello****hellohello****hellohello****hellohello****hellohello****hellohello****hellohello****hellohello****hellohello****hellohello****hellohello****hellohello****hellohello****hellohello****hellohello****hellohello****hellohello****hellohello****hellohello****hellohello****hellohello****hellohello****hellohello****hellohello****hellohello****hellohello****hellohello****hellohello****hellohello****hellohello****hellohello****hellohello****hellohello****hellohello****hellohello****hellohello****hellohello****hellohello****hellohello****hellohello****hellohello****hellohello****hellohello****hellohello****hellohello****hellohello****hellohello****hellohello****hellohello****hellohello****hellohello****hellohello****hellohello****hellohello****hellohello****hellohello****hellohello****hellohello****hellohello****hellohello****hellohello****hellohello****hellohello****hellohello****hellohello****hellohello****hellohello****hellohello****hellohello****hellohello****hellohello****hellohello****hellohello****hellohello****hellohello****hellohello****hellohello****hellohello****hellohello****hellohello****hellohello****hellohello****hellohello****hellohello****hellohello****hellohello****hellohello****hellohello****hellohello****hellohello****hellohello****hellohello****hellohello****hellohello****hellohello****hellohello****hellohello****hellohello****hellohello****hellohello****hellohello****hellohello****hellohello****hellohello****hellohello****hellohello****hellohello****hellohello****hellohello****hellohello****hellohello****hellohello****hellohello****hellohello****hellohello****hellohello****hellohello****hellohello****hellohello****hellohello****hellohello****hellohello****hellohello****hellohello****hellohello****hellohello****hellohello****hellohello****hellohello****hellohello****hellohello****hellohello****hellohello****hellohello****hellohello****hellohello****hellohello****hellohello****hellohello****hellohello****hellohello****hellohello****hellohello****hellohello****hellohello****hellohello****hellohello****hellohello****hellohello****hellohello****hellohello****hellohello****hellohello****hellohello****hellohello****hellohello****hellohello****hellohello****hellohello****hellohello****hellohello****hellohello****hellohello****hellohello****hellohello****hellohello****hellohello****hellohello****hellohello****hellohello****hellohello****hellohello****hellohello****hellohello****hellohello****hellohello****hellohello****hellohello****hellohello****hellohello****hellohello****hellohello****hellohello****hellohello****hellohello****hellohello****hellohello****hellohello****hellohello****hellohello****hellohello****hellohello****hellohello****hellohello****hellohello****hellohello****hellohello****hellohello****hellohello****hellohello****hellohello****hellohello****hellohello****hellohello****hellohello****hellohello****hellohello****hellohello****hellohello****hellohello****hellohello****hellohello****hellohello****hellohello****hellohello****hellohello****hellohello****hellohello****hellohello****hellohello****hellohello****hellohello****hellohello****hellohello****hellohello****hellohello****hellohello****hellohello****hellohello****hellohello****hellohello****hellohello****hellohello****hellohello****hellohello****hellohello****hellohello****hellohello****hellohello****hellohello****hellohello****hellohello****hellohello****hellohello****hellohello****hellohello****hellohello****hellohello****hellohello****hellohello****hellohello****hellohello****hellohello****hellohello****hellohello****hellohello****hellohello****hellohello****hellohello****hellohello****hellohello****hellohello****hellohello****hellohello****hellohello****hellohello****hellohello****hellohello****hellohello****hellohello****hellohello****hellohello****hellohello****hellohello****hellohello****hellohello****hellohello****hellohello****hellohello****hellohello****hellohello****hellohello****hellohello****hellohello****hellohello****hellohello****hellohello****hellohello****hellohello****hellohello****hellohello****hellohello****hellohello****hellohello****hellohello****hellohello****hellohello****hellohello****hellohello****hellohello****hellohello****hellohello****hellohello****hellohello****hellohello****hellohello****hellohello****hellohello****hellohello****hellohello****hellohello****hellohello****hellohello****hellohello****hellohello****hellohello****hellohello****hellohello****hellohello****hellohello****hellohello****hellohello****hellohello****hellohello****hellohello****hellohello****hellohello****hellohello****hellohello****hellohello****hellohello****hellohello****hellohello****hellohello****hellohello****hellohello****hellohello****hellohello****hellohello****hellohello****hellohello****hellohello****hellohello****hellohello****hellohello****hellohello****hellohello****hellohello****hellohello****hellohello****hellohello****hellohello****hellohello****hellohello****hellohello****hellohello****hellohello****hellohello****hellohello****hellohello****hellohello****hellohello****hellohello****hellohello****hellohello****hellohello****hellohello****hellohello****hellohello****hellohello****hellohello****hellohello****hellohello****hellohello****hellohello****hellohello****hellohello****hellohello****hellohello****hellohello****hellohello****hellohello****hellohello****hellohello****hellohello****hellohello****hellohello****hellohello****hellohello****hellohello****hellohello****hellohello****hellohello****hellohello****hellohello****hellohello****hellohello****hellohello****hellohello****hellohello****hellohello****hellohello****hellohello****hellohello****hellohello****hellohello****hellohello****hellohello****hellohello****hellohello****hellohello****hellohello****hellohello****hellohello****hellohello****hellohello****hellohello****hellohello****hellohello****hellohello****hellohello****hellohello****hellohello****hellohello****hellohello****hellohello****hellohello****hellohello****hellohello****hellohello****hellohello****hellohello****hellohello****hellohello****hellohello****hellohello****hellohello****hellohello****hellohello****hellohello****hellohello****hellohello****hellohello****hellohello****hellohello****hellohello****hellohello****hellohello****hellohello****hellohello****hellohello****hellohello****hellohello****hellohello****hellohello****hellohello****hellohello****hellohello****hellohello****hellohello****hellohello****hellohello****hellohello****hellohello****hellohello****hellohello****hellohello****hellohello****hellohello****hellohello****hellohello****hellohello****hellohello****hellohello****hellohello****hellohello****hellohello****hellohello****hellohello****hellohello****hellohello****hellohello****hellohello****hellohello****hellohello****hellohello****hellohello****hellohello****hellohello****hellohello****hellohello****hellohello****hellohello****hellohello****hellohello****hellohello****hellohello****hellohello****hellohello****hellohello****hellohello****hellohello****hellohello****hellohello****hellohello****hellohello****hellohello****hellohello****hellohello****hellohello****hellohello****hellohello****hellohello****hellohello****hellohello****hellohello****hellohello****hellohello****hellohello****hellohello****hellohello****hellohello****hellohello****hellohello****hellohello****hellohello****hellohello****hellohello****hellohello****hellohello****hellohello****hellohello****hellohello****hellohello****hellohello****hellohello****hellohello****hellohello****hellohello****hellohello****hellohello****hellohello****hellohello****hellohello****hellohello****hellohello****hellohello****hellohello****hellohello****hellohello****hellohello****hellohello****hellohello****hellohello****hellohello****hellohello****hellohello****hellohello****hellohello****hellohello****hellohello****hellohello****hellohello****hellohello****hellohello****hellohello****hellohello****hellohello****hellohello****hellohello****hellohello****hellohello****hellohello****hellohello****hellohello****hellohello****hellohello****hellohello****hellohello****hellohello****hellohello****hellohello****hellohello****hellohello****hellohello****hellohello****hellohello****hellohello****hellohello****hellohello****hellohello****hellohello****hellohello****hellohello****hellohello****hellohello****hellohello****hellohello****hellohello****hellohello****hellohello****hellohello****hellohello****hellohello****hellohello****hellohello****hellohello****hellohello****hellohello****hellohello****hellohello****hellohello****hellohello****hellohello****hellohello****hellohello****hellohello****hellohello****hellohello****hellohello****hellohello****hellohello****hellohello****hellohello****hellohello****hellohello****hellohello****hellohello****hellohello****hellohello****hellohello****hellohello****hellohello****hellohello****hellohello****hellohello****hellohello****hellohello****hellohello****hellohello****hellohello****hellohello****hellohello****hellohello****hellohello****hellohello****hellohello****hellohello****hellohello****hellohello****hellohello****hellohello****hellohello****hellohello****hellohello****hellohello****hellohello****hellohello****hellohello****hellohello****hellohello****hellohello****hellohello****hellohello****hellohello****hellohello****hellohello****hellohello****hellohello****hellohello****hellohello****hellohello****hellohello****hellohello****hellohello****hellohello****hellohello****hellohello****hellohello****hellohello****hellohello****hellohello****hellohello****hellohello****hellohello****hellohello****hellohello****hellohello****hellohello****hellohello****hellohello****hellohello****hellohello****hellohello****hellohello****hellohello****hellohello****hellohello****hellohello****hellohello****hellohello****hellohello****hellohello****hellohello****hellohello****hellohello****hellohello****hellohello****hellohello****hellohello****hellohello****hellohello****hellohello****hellohello****hellohello****hellohello****hellohello****hellohello****hellohello****hellohello****hellohello****hellohello****hellohello****hellohello****hellohello****hellohello****hellohello****hellohello****hellohello****hellohello****hellohello****hellohello****hellohello****hellohello****hellohello****hellohello****hellohello****hellohello****hellohello****hellohello****hellohello****hellohello****hellohello****hellohello****hellohello****hellohello****hellohello****hellohello****hellohello****hellohello****hellohello****hellohello****hellohello****hellohello****hellohello****hellohello****hellohello****hellohello****hellohello****hellohello****hellohello****hellohello****hellohello****hellohello****hellohello****hellohello****hellohello****hellohello****hellohello****hellohello****hellohello****hellohello****hellohello****hellohello****hellohello****hellohello****hellohello****hellohello****hellohello****hellohello****hellohello****hellohello****hellohello****hellohello****hellohello****hellohello****hellohello****hellohello****hellohello****hellohello****hellohello****hellohello****hellohello****hellohello****hellohello****hellohello****hellohello****hellohello****hellohello****hellohello****hellohello****hellohello****hellohello****hellohello****hellohello****hellohello****hellohello****hellohello****hellohello****hellohello****hellohello****hellohello****hellohello****hellohello****hellohello****hellohello****hellohello****hellohello****hellohello****hellohello****hellohello****hellohello****hellohello****hellohello****hellohello****hellohello****hellohello****hellohello****hellohello****hellohello****hellohello****hellohello****hellohello****hellohello****hellohello****hellohello****hellohello****hellohello****hellohello****hellohello****hellohello****hellohello****hellohello****hellohello****hellohello****hellohello****hellohello****hellohello****hellohello****hellohello****hellohello****hellohello****hellohello****hellohello****hellohello****hellohello****hellohello****hellohello****hellohello****hellohello****hellohello****hellohello****hellohello****hellohello****hellohello****hellohello****hellohello****hellohello****hellohello****hellohello****hellohello****hellohello****hellohello****hellohello****hellohello****hellohello****hellohello****hellohello****hellohello****hellohello****hellohello****hellohello****hellohello****hellohello****hellohello****hellohello****hellohello****hellohello****hellohello****hellohello****hellohello****hellohello****hellohello****hellohello****hellohello****hellohello****hellohello****hellohello****hellohello****hellohello****hellohello****hellohello****hellohello****hellohello****hellohello****hellohello****hellohello****hellohello****hellohello****hellohello****hellohello****hellohello****hellohello****hellohello****hellohello****hellohello****hellohello****hellohello****hellohello****hellohello****hellohello****hellohello****hellohello****hellohello****hellohello****hellohello****hellohello****hellohello****hellohello****hellohello****hellohello****hellohello****hellohello****hellohello****hellohello****hellohello****hellohello****hellohello****hellohello****hellohello****hellohello****hellohello****hellohello****hellohello****hellohello****hellohello****hellohello****hellohello****hellohello****hellohello****hellohello****hellohello****hellohello****hellohello****hellohello****hellohello****hellohello****hellohello****hellohello****hellohello****hellohello****hellohello****hellohello****hellohello****hellohello****hellohello****hellohello****hellohello****hellohello****hellohello****hellohello****hellohello****hellohello****hellohello****hellohello****hellohello****hellohello****hellohello****hellohello****hellohello****hellohello****hellohello****hellohello****hellohello****hellohello****hellohello****hellohello****hellohello****hellohello****hellohello****hellohello****hellohello****hellohello****hellohello****hellohello****hellohello****hellohello****hellohello****hellohello****hellohello****hellohello****hellohello****hellohello****hellohello****hellohello****hellohello****hellohello****hellohello****hellohello****hellohello****hellohello****hellohello****hellohello****hellohello****hellohello****hellohello****hellohello****hellohello****hellohello****hellohello****hellohello****hellohello****hellohello****hellohello****hellohello****hellohello****hellohello****hellohello****hellohello****hellohello****hellohello****hellohello****hellohello****hellohello****hellohello****hellohello****hellohello****hellohello****hellohello****hellohello****hellohello****hellohello****hellohello****hellohello****hellohello****hellohello****hellohello****hellohello****hellohello****hellohello****hellohello****hellohello****hellohello****hellohello****hellohello****hellohello****hellohello****hellohello****hellohello****hellohello****hellohello****hellohello****hellohello****hellohello****hellohello****hellohello****hellohello****hellohello****hellohello****hellohello****hellohello****hellohello****hellohello****hellohello****hellohello****hellohello****hellohello****hellohello****hellohello****hellohello****hellohello****hellohello****hellohello****hellohello****hellohello****hellohello****hellohello****hellohello****hellohello****hellohello****hellohello****hellohello****hellohello****hellohello****hellohello****hellohello****hellohello****hellohello****hellohello****hellohello****hellohello****hellohello****hellohello****hellohello****hellohello****hellohello****hellohello****hellohello****hellohello****hellohello****hellohello****hellohello****hellohello****hellohello****hellohello****hellohello****hellohello****hellohello****hellohello****hellohello****hellohello****hellohello****hellohello****hellohello****hellohello****hellohello****hellohello****hellohello****hellohello****hellohello****hellohello****hellohello****hellohello****hellohello****hellohello****hellohello****hellohello****hellohello****hellohello****hellohello****hellohello****hellohello****hellohello****hellohello****hellohello****hellohello****hellohello****hellohello****hellohello****hellohello****hellohello****hellohello****hellohello****hellohello****hellohello****hellohello****hellohello****hellohello****hellohello****hellohello****hellohello****hellohello****hellohello****hellohello****hellohello****hellohello****hellohello****hellohello****hellohello****hellohello****hellohello****hellohello****hellohello****hellohello****hellohello****hellohello****hellohello****hellohello****hellohello****hellohello****hellohello****hellohello****hellohello****hellohello****hellohello****hellohello****hellohello****hellohello****hellohello****hellohello****hellohello****hellohello****hellohello****hellohello****hellohello****hellohello****hellohello****hellohello****hellohello****hellohello****hellohello****hellohello****hellohello****hellohello****hellohello****hellohello****hellohello****hellohello****hellohello****hellohello****hellohello****hellohello****hellohello****hellohello****hellohello****hellohello****hellohello****hellohello****hellohello****hellohello****hellohello****hellohello****hellohello****hellohello****hellohello****hellohello****hellohello****hellohello****hellohello****hellohello****hellohello****hellohello****hellohello****hellohello****hellohello****hellohello****hellohello****hellohello****hellohello****hellohello****hellohello****hellohello****hellohello****hellohello****hellohello****hellohello****hellohello****hellohello****hellohello****hellohello****hellohello****hellohello****hellohello****hellohello****hellohello****hellohello****hellohello****hellohello****hellohello****hellohello****hellohello****hellohello****hellohello****hellohello****hellohello****hellohello****hellohello****hellohello****hellohello****hellohello****hellohello****hellohello****hellohello****hellohello****hellohello****hellohello****hellohello****hellohello****hellohello****hellohello****hellohello****hellohello****hellohello****hellohello****hellohello****hellohello****hellohello****hellohello****hellohello****hellohello****hellohello****hellohello****hellohello****hellohello****hellohello****hellohello****hellohello****hellohello****hellohello****hellohello****hellohello****hellohello****hellohello****hellohello****hellohello****hellohello****hellohello****hellohello****hellohello****hellohello****hellohello****hellohello****hellohello****hellohello****hellohello****hellohello****hellohello****hellohello****hellohello****hellohello****hellohello****hellohello****hellohello****hellohello****hellohello****hellohello****hellohello****hellohello****hellohello****hellohello****hellohello****hellohello****hellohello****hellohello****hellohello****hellohello****hellohello****hellohello****hellohello****hellohello****hellohello****hellohello****hellohello****hellohello****hellohello****hellohello****hellohello****hellohello****hellohello****hellohello****hellohello****hellohello****hellohello****hellohello****hellohello****hellohello****hellohello****hellohello****hellohello****hellohello****hellohello****hellohello****hellohello****hellohello****hellohello****hellohello****hellohello****hellohello****hellohello****hellohello****hellohello****hellohello****hellohello****hellohello****hellohello****hellohello****hellohello****hellohello****hellohello****hellohello****hellohello****hellohello****hellohello****hellohello****hellohello****hellohello****hellohello****hellohello****hellohello****hellohello****hellohello****hellohello****hellohello****hellohello****hellohello****hellohello****hellohello****hellohello****hellohello****hellohello****hellohello****hellohello****hellohello****hellohello****hellohello****hellohello****hellohello****hellohello****hellohello****hellohello****hellohello****hellohello****hellohello****hellohello****hellohello****hellohello****hellohello****hellohello****hellohello****hellohello****hellohello****hellohello****hellohello****hellohello****hellohello****hellohello****hellohello****hellohello****hellohello****hellohello****hellohello****hellohello****hellohello****hellohello****hellohello****hellohello****hellohello****hellohello****hellohello****hellohello****hellohello****hellohello****hellohello****hellohello****hellohello****hellohello****hellohello****hellohello****hellohello****hellohello****hellohello****hellohello****hellohello****hellohello****hellohello****hellohello****hellohello****hellohello****hellohello****hellohello****hellohello****hellohello****hellohello****hellohello****hellohello****hellohello****hellohello****hellohello****hellohello****hellohello****hellohello****hellohello****hellohello****hellohello****hellohello****hellohello****hellohello****hellohello****hellohello****hellohello****hellohello****hellohello****hellohello****hellohello****hellohello****hellohello****hellohello****hellohello****hellohello****hellohello****hellohello****hellohello****hellohello****hellohello****hellohello****hellohello****hellohello****hellohello****hellohello****hellohello****hellohello****hellohello****hellohello****hellohello****hellohello****hellohello****hellohello****hellohello****hellohello****hellohello****hellohello****hellohello****hellohello****hellohello****hellohello****hellohello****hellohello****hellohello****hellohello****hellohello****hellohello****hellohello****hellohello****hellohello****hellohello****hellohello****hellohello****hellohello****hellohello****hellohello****hellohello****hellohello****hellohello****hellohello****hellohello****hellohello****hellohello****hellohello****hellohello****hellohello****hellohello****hellohello****hellohello****hellohello****hellohello****hellohello****hellohello****hellohello****hellohello****hellohello****hellohello****hellohello****hellohello****hellohello****hellohello****hellohello****hellohello****hellohello****hellohello****hellohello****hellohello****hellohello****hellohello****hellohello****hellohello****hellohello****hellohello****hellohello****hellohello****hellohello****hellohello****hellohello****hellohello****hellohello****hellohello****hellohello****hellohello****hellohello****hellohello****hellohello****hellohello****hellohello****hellohello****hellohello****hellohello****hellohello****hellohello****hellohello****hellohello****hellohello****hellohello****hellohello****hellohello****hellohello****hellohello****hellohello****hellohello****hellohello****hellohello****hellohello****hellohello****hellohello****hellohello****hellohello****hellohello****hellohello****hellohello****hellohello****hellohello****hellohello****hellohello****hellohello****hellohello****hellohello****hellohello****hellohello****hellohello****hellohello****hellohello****hellohello****hellohello****hellohello****hellohello****hellohello****hellohello****hellohello****hellohello****hellohello****hellohello****hellohello****hellohello****hellohello****hellohello****hellohello****hellohello****hellohello****hellohello****hellohello****hellohello****hellohello****hellohello****hellohello****hellohello****hellohello****hellohello****hellohello****hellohello****hellohello****hellohello****hellohello****hellohello****hellohello****hellohello****hellohello****hellohello****hellohello****hellohello****hellohello****hellohello****hellohello****hellohello****hellohello****hellohello****hellohello****hellohello****hellohello****hellohello****hellohello****hellohello****hellohello****hellohello****hellohello****hellohello****hellohello****hellohello****hellohello****hellohello****hellohello****hellohello****hellohello****hellohello****hellohello****hellohello****hellohello****hellohello****hellohello****hellohello****hellohello****hellohello****hellohello****hellohello****hellohello****hellohello****hellohello****hellohello****hellohello****hellohello****hellohello****hellohello****hellohello****hellohello****hellohello****hellohello****hellohello****hellohello****hellohello****hellohello****hellohello****hellohello****hellohello****hellohello****hellohello****hellohello****hellohello****hellohello****hellohello****hellohello****hellohello****hellohello****hellohello****hellohello****hellohello****hellohello****hellohello****hellohello****hellohello****hellohello****hellohello****hellohello****hellohello****hellohello****hellohello****hellohello****hellohello****hellohello****hellohello****hellohello****hellohello****hellohello****hellohello****hellohello****hellohello****hellohello****hellohello****hellohello****hellohello****hellohello****hellohello****hellohello****hellohello****hellohello****hellohello****hellohello****hellohello****hellohello****hellohello****hellohello****hellohello****hellohello****hellohello****hellohello****hellohello****hellohello****hellohello****hellohello****hellohello****hellohello****hellohello****hellohello****hellohello****hellohello****hellohello****hellohello****hellohello****hellohello****hellohello****hellohello****hellohello****hellohello****hellohello****hellohello****hellohello****hellohello****hellohello****hellohello****hellohello****hellohello****hellohello****hellohello****hellohello****hellohello****hellohello****hellohello****hellohello****hellohello****hellohello****hellohello****hellohello****hellohello****hellohello****hellohello****hellohello****hellohello****hellohello****hellohello****hellohello****hellohello****hellohello****hellohello****hellohello****hellohello****hellohello****hellohello****hellohello****hellohello****hellohello****hellohello****hellohello****hellohello****hellohello****hellohello****hellohello****hellohello****hellohello****hellohello****hellohello****hellohello****hellohello****hellohello****hellohello****hellohello****hellohello****hellohello****hellohello****hellohello****hellohello****hellohello****hellohello****hellohello****hellohello****hellohello****hellohello****hellohello****hellohello****hellohello****hellohello****hellohello****hellohello****hellohello****hellohello****hellohello****hellohello****hellohello****hellohello****hellohello****hellohello****hellohello****hellohello****hellohello****hellohello****hellohello****hellohello****hellohello****hellohello****hellohello****hellohello****hellohello****hellohello****hellohello****hellohello****hellohello****hellohello****hellohello****hellohello****hellohello****hellohello****hellohello****hellohello****hellohello****hellohello****hellohello****hellohello****hellohello****hellohello****hellohello****hellohello****hellohello****hellohello****hellohello****hellohello****hellohello****hellohello****hellohello****hellohello****hellohello****hellohello****hellohello****hellohello****hellohello****hellohello****hellohello****hellohello****hellohello****hellohello****hellohello****hellohello****hellohello****hellohello****hellohello****hellohello****hellohello****hellohello****hellohello****hellohello****hellohello****hellohello****hellohello****hellohello****hellohello****hellohello****hellohello****hellohello****hellohello****hellohello****hellohello****hellohello****hellohello****hellohello****hellohello****hellohello****hellohello****hellohello****hellohello****hellohello****hellohello****hellohello****hellohello****hellohello****hellohello****hellohello****hellohello****hellohello****hellohello****hellohello****hellohello****hellohello****hellohello****hellohello****hellohello****hellohello****hellohello****hellohello****hellohello****hellohello****hellohello****hellohello****hellohello****hellohello****hellohello****hellohello****hellohello****hellohello****hellohello****hellohello****hellohello****hellohello****hellohello****hellohello****hellohello****hellohello****hellohello****hellohello****hellohello****hellohello****hellohello****hellohello****hellohello****hellohello****hellohello****hellohello****hellohello****hellohello****hellohello****hellohello****hellohello****hellohello****hellohello****hellohello****hellohello****hellohello****hellohello****hellohello****hellohello****hellohello****hellohello****hellohello****hellohello****hellohello****hellohello****hellohello****hellohello****hellohello****hellohello****hellohello****hellohello****hellohello****hellohello****hellohello****hellohello****hellohello****hellohello****hellohello****hellohello****hellohello****hellohello****hellohello****hellohello****hellohello****hellohello****hellohello****hellohello****hellohello****hellohello****hellohello****hellohello****hellohello****hellohello****hellohello****hellohello****hellohello****hellohello****hellohello****hellohello****hellohello****hellohello****hellohello****hellohello****hellohello****hellohello****hellohello****hellohello****hellohello****hellohello****hellohello****hellohello****hellohello****hellohello****hellohello****hellohello****hellohello****hellohello****hellohello****hellohello****hellohello****hellohello****hellohello****hellohello****hellohello****hellohello****hellohello****hellohello****hellohello****hellohello****hellohello****hellohello****hellohello****hellohello****hellohello****hellohello****hellohello****hellohello****hellohello****hellohello****hellohello****hellohello****hellohello****hellohello****hellohello****hellohello****hellohello****hellohello****hellohello****hellohello****hellohello****hellohello****hellohello****hellohello****hellohello****hellohello****hellohello****hellohello****hellohello****hellohello****hellohello****hellohello****hellohello****hellohello****hellohello****hellohello****hellohello****hellohello****hellohello****hellohello****hellohello****hellohello****hellohello****hellohello****hellohello****hellohello****hellohello****hellohello****hellohello****hellohello****hellohello****hellohello****hellohello****hellohello****hellohello****hellohello****hellohello****hellohello****hellohello****hellohello****hellohello****hellohello****hellohello****hellohello****hellohello****hellohello****hellohello****hellohello****hellohello****hellohello****hellohello****hellohello****hellohello****hellohello****hellohello****hellohello****hellohello****hellohello****hellohello****hellohello****hellohello****hellohello****hellohello****hellohello****hellohello****hellohello****hellohello****hellohello****hellohello****hellohello****hellohello****hellohello****hellohello****hellohello****hellohello****hellohello****hellohello****hellohello****hellohello****hellohello****hellohello****hellohello****hellohello****hellohello****hellohello****hellohello****hellohello****hellohello****hellohello****hellohello****hellohello****hellohello****hellohello****hellohello****hellohello****hellohello****hellohello****hellohello****hellohello****hellohello****hellohello****hellohello****hellohello****hellohello****hellohello****hellohello****hellohello****hellohello****hellohello****hellohello****hellohello****hellohello****hellohello****hellohello****hellohello****hellohello****hellohello****hellohello****hellohello****hellohello****hellohello****hellohello****hellohello****hellohello****hellohello****hellohello****hellohello****hellohello****hellohello****hellohello****hellohello****hellohello****hellohello****hellohello****hellohello****hellohello****hellohello****hellohello****hellohello****hellohello****hellohello****hellohello****hellohello****hellohello****hellohello****hellohello****hellohello****hellohello****hellohello****hellohello****hellohello****hellohello****hellohello****hellohello****hellohello****hellohello****hellohello****hellohello****hellohello****hellohello****hellohello****hellohello****hellohello****hellohello****hellohello****hellohello****hellohello****hellohello****hellohello****hellohello****hellohello****hellohello****hellohello****hellohello****hellohello****hellohello****hellohello****hellohello****hellohello****hellohello****hellohello****hellohello****hellohello****hellohello****hellohello****hellohello****hellohello****hellohello****hellohello****hellohello****hellohello****hellohello****hellohello****hellohello****hellohello****hellohello****hellohello****hellohello****hellohello****hellohello****hellohello****hellohello****hellohello****hellohello****hellohello****hellohello****hellohello****hellohello****hellohello****hellohello****hellohello****hellohello****hellohello****hellohello****hellohello****hellohello****hellohello****hellohello****hellohello****hellohello****hellohello****hellohello****hellohello****hellohello****hellohello****hellohello****hellohello****hellohello****hellohello****hellohello****hellohello****hellohello****hellohello****hellohello****hellohello****hellohello****hellohello****hellohello****hellohello****hellohello****hellohello****hellohello****hellohello****hellohello****hellohello****hellohello****hellohello****hellohello****hellohello****hellohello****hellohello****hellohello****hellohello****hellohello****hellohello****hellohello****hellohello****hellohello****hellohello****hellohello****hellohello****hellohello****hellohello****hellohello****hellohello****hellohello****hellohello****hellohello****hellohello****hellohello****hellohello****hellohello****hellohello****hellohello****hellohello****hellohello****hellohello****hellohello****hellohello****hellohello****hellohello****hellohello****hellohello****hellohello****hellohello****hellohello****hellohello****hellohello****hellohello****hellohello****hellohello****hellohello****hellohello****hellohello****hellohello****hellohello****hellohello****hellohello****hellohello****hellohello****hellohello****hellohello****hellohello****hellohello****hellohello****hellohello****hellohello****hellohello****hellohello****hellohello****hellohello****hellohello****hellohello****hellohello****hellohello****hellohello****hellohello****hellohello****hellohello****hellohello****hellohello****hellohello****hellohello****hellohello****hellohello****hellohello****hellohello****hellohello****hellohello****hellohello****hellohello****hellohello****hellohello****hellohello****hellohello****hellohello****hellohello****hellohello****hellohello****hellohello****hellohello****hellohello****hellohello****hellohello****hellohello****hellohello****hellohello****hellohello****hellohello****hellohello****hellohello****hellohello****hellohello****hellohello****hellohello****hellohello****hellohello****hellohello****hellohello****hellohello****hellohello****hellohello****hellohello****hellohello****hellohello****hellohello****hellohello****hellohello****hellohello****hellohello****hellohello****hellohello****hellohello****hellohello****hellohello****hellohello****hellohello****hellohello****hellohello****hellohello****hellohello****hellohello****hellohello****hellohello****hellohello****hellohello****hellohello****hellohello****hellohello****hellohello****hellohello****hellohello****hellohello****hellohello****hellohello****hellohello****hellohello****hellohello****hellohello****hellohello****hellohello****hellohello****hellohello****hellohello****hellohello****hellohello****hellohello****hellohello****hellohello****hellohello****hellohello****hellohello****hellohello****hellohello****hellohello****hellohello****hellohello****hellohello****hellohello****hellohello****hellohello****hellohello****hellohello****hellohello****hellohello****hellohello****hellohello****hellohello****hellohello****hellohello****hellohello****hellohello****hellohello****hellohello****hellohello****hellohello****hellohello****hellohello****hellohello****hellohello****hellohello****hellohello****hellohello****hellohello****hellohello****hellohello****hellohello****hellohello****hellohello****hellohello****hellohello****hellohello****hellohello****hellohello****hellohello****hellohello****hellohello****hellohello****hellohello****hellohello****hellohello****hellohello****hellohello****hellohello****hellohello****hellohello****hellohello****hellohello****hellohello****hellohello****hellohello****hellohello****hellohello****hellohello****hellohello****hellohello****hellohello****hellohello****hellohello****hellohello****hellohello****hellohello****hellohello****hellohello****hellohello****hellohello****hellohello****hellohello****hellohello****hellohello****hellohello****hellohello****hellohello****hellohello****hellohello****hellohello****hellohello****hellohello****hellohello****hellohello****hellohello****hellohello****hellohello****hellohello****hellohello****hellohello****hellohello****hellohello****hellohello****hellohello****hellohello****hellohello****hellohello****hellohello****hellohello****hellohello****hellohello****hellohello****hellohello****hellohello****hellohello****hellohello****hellohello****hellohello****hellohello****hellohello****hellohello****hellohello****hellohello****hellohello****hellohello****hellohello****hellohello****hellohello****hellohello****hellohello****hellohello****hellohello****hellohello****hellohello****hellohello****hellohello****hellohello****hellohello****hellohello****hellohello****hellohello****hellohello****hellohello****hellohello****hellohello****hellohello****hellohello****hellohello****hellohello****hellohello****hellohello****hellohello****hellohello****hellohello****hellohello****hellohello****hellohello****hellohello****hellohello****hellohello****hellohello****hellohello****hellohello****hellohello****hellohello****hellohello****hellohello****hellohello****hellohello****hellohello****hellohello****hellohello****hellohello****hellohello****hellohello****hellohello****hellohello****hellohello****hellohello****hellohello****hellohello****hellohello****hellohello****hellohello****hellohello****hellohello****hellohello****hellohello****hellohello****hellohello****hellohello****hellohello****hellohello****hellohello****hellohello****hellohello****hellohello****hellohello****hellohello****hellohello****hellohello****hellohello****hellohello****hellohello****hellohello****hellohello****hellohello****hellohello****hellohello****hellohello****hellohello****hellohello****hellohello****hellohello****hellohello****hellohello****hellohello****hellohello****hellohello****hellohello****hellohello****hellohello****hellohello****hellohello****hellohello****hellohello****hellohello****hellohello****hellohello****hellohello****hellohello****hellohello****hellohello****hellohello****hellohello****hellohello****hellohello****hellohello****hellohello****hellohello****hellohello****hellohello****hellohello****hellohello****hellohello****hellohello****hellohello****hellohello****hellohello****hellohello****hellohello****hellohello****hellohello****hellohello****hellohello****hellohello****hellohello****hellohello****hellohello****hellohello****hellohello****hellohello****hellohello****hellohello****hellohello****hellohello****hellohello****hellohello****hellohello****hellohello****hellohello****hellohello****hellohello****hellohello****hellohello****hellohello****hellohello****hellohello****hellohello****hellohello****hellohello****hellohello****hellohello****hellohello****hellohello****hellohello****hellohello****hellohello****hellohello****hellohello****hellohello****hellohello****hellohello****hellohello****hellohello****hellohello****hellohello****hellohello****hellohello****hellohello****hellohello****hellohello****hellohello****hellohello****hellohello****hellohello****hellohello****hellohello****hellohello****hellohello****hellohello****hellohello****hellohello****hellohello****hellohello****hellohello****hellohello****hellohello****hellohello****hellohello****hellohello****hellohello****hellohello****hellohello****hellohello****hellohello****hellohello****hellohello****hellohello****hellohello****hellohello****hellohello****hellohello****hellohello****hellohello****hellohello****hellohello****hellohello****hellohello****hellohello****hellohello****hellohello****hellohello****hellohello****hellohello****hellohello****hellohello****hellohello****hellohello****hellohello****hellohello****hellohello****hellohello****hellohello****hellohello****hellohello****hellohello****hellohello****hellohello****hellohello****hellohello****hellohello****hellohello****hellohello****hellohello****hellohello****hellohello****hellohello****hellohello****hellohello****hellohello****hellohello****hellohello****hellohello****hellohello****hellohello****hellohello****hellohello****hellohello****hellohello****hellohello****hellohello****hellohello****hellohello****hellohello****hellohello****hellohello****hellohello****hellohello****hellohello****hellohello****hellohello****hellohello****hellohello****hellohello****hellohello****hellohello****hellohello****hellohello****hellohello****hellohello****hellohello****hellohello****hellohello****hellohello****hellohello****hellohello****hellohello****hellohello****hellohello****hellohello****hellohello****hellohello****hellohello****hellohello****hellohello****hellohello****hellohello****hellohello****hellohello****hellohello****hellohello****hellohello****hellohello****hellohello****hellohello****hellohello****hellohello****hellohello****hellohello****hellohello****hellohello****hellohello****hellohello****hellohello****hellohello****hellohello****hellohello****hellohello****hellohello****hellohello****hellohello****hellohello****hellohello****hellohello****hellohello****hellohello****hellohello****hellohello****hellohello****hellohello****hellohello****hellohello****hellohello****hellohello****hellohello****hellohello****hellohello****hellohello****hellohello****hellohello****hellohello****hellohello****hellohello****hellohello****hellohello****hellohello****hellohello****hellohello****hellohello****hellohello****hellohello****hellohello****hellohello****hellohello****hellohello****hellohello****hellohello****hellohello****hellohello****hellohello****hellohello****hellohello****hellohello****hellohello****hellohello****hellohello****hellohello****hellohello****hellohello****hellohello****hellohello****hellohello****hellohello****hellohello****hellohello****hellohello****hellohello****hellohello****hellohello****hellohello****hellohello****hellohello****hellohello****hellohello****hellohello****hellohello****hellohello****hellohello****hellohello****hellohello****hellohello****hellohello****hellohello****hellohello****hellohello****hellohello****hellohello****hellohello****hellohello****hellohello****hellohello****hellohello****hellohello****hellohello****hellohello****hellohello****hellohello****hellohello****hellohello****hellohello****hellohello****hellohello****hellohello****hellohello****hellohello****hellohello****hellohello****hellohello****hellohello****hellohello****hellohello****hellohello****hellohello****hellohello****hellohello****hellohello****hellohello****hellohello****hellohello****hellohello****hellohello****hellohello****hellohello****hellohello****hellohello****hellohello****hellohello****hellohello****hellohello****hellohello****hellohello****hellohello****hellohello****hellohello****hellohello****hellohello****hellohello****hellohello****hellohello****hellohello****hellohello****hellohello****hellohello****hellohello****hellohello****hellohello****hellohello****hellohello****hellohello****hellohello****hellohello****hellohello****hellohello****hellohello****hellohello****hellohello****hellohello****hellohello****hellohello****hellohello****hellohello****hellohello****hellohello****hellohello****hellohello****hellohello****hellohello****hellohello****hellohello****hellohello****hellohello****hellohello****hellohello****hellohello****hellohello****hellohello****hellohello****hellohello****hellohello****hellohello****hellohello****hellohello****hellohello****hellohello****hellohello****hellohello****hellohello****hellohello****hellohello****hellohello****hellohello****hellohello****hellohello****hellohello****hellohello****hellohello****hellohello****hellohello****hellohello****hellohello****hellohello****hellohello****hellohello****hellohello****hellohello****hellohello****hellohello****hellohello****hellohello****hellohello****hellohello****hellohello****hellohello****hellohello****hellohello****hellohello****hellohello****hellohello****hellohello****hellohello****hellohello****hellohello****hellohello****hellohello****hellohello****hellohello****hellohello****hellohello****hellohello****hellohello****hellohello****hellohello****hellohello****hellohello****hellohello****hellohello****hellohello****hellohello****hellohello****hellohello****hellohello****hellohello****hellohello****hellohello****hellohello****hellohello****hellohello****hellohello****hellohello****hellohello****hellohello****hellohello****hellohello****hellohello****hellohello****hellohello****hellohello****hellohello****hellohello****hellohello****hellohello****hellohello****hellohello****hellohello****hellohello****hellohello****hellohello****hellohello****hellohello****hellohello****hellohello****hellohello****hellohello****hellohello****hellohello****hellohello****hellohello****hellohello****hellohello****hellohello****hellohello****hellohello****hellohello****hellohello****hellohello****hellohello****hellohello****hellohello****hellohello****hellohello****hellohello****hellohello****hellohello****hellohello****hellohello****hellohello****hellohello****hellohello****hellohello****hellohello****hellohello****hellohello****hellohello****hellohello****hellohello****hellohello****hellohello****hellohello****hellohello****hellohello****hellohello****hellohello****hellohello****hellohello****hellohello****hellohello****hellohello****hellohello****hellohello****hellohello****hellohello****hellohello****hellohello****hellohello****hellohello****hellohello****hellohello****hellohello****hellohello****hellohello****hellohello****hellohello****hellohello****hellohello****hellohello****hellohello****hellohello****hellohello****hellohello****hellohello****hellohello****hellohello****hellohello****hellohello****hellohello****hellohello****hellohello****hellohello****hellohello****hellohello****hellohello****hellohello****hellohello****hellohello****hellohello****hellohello****hellohello****hellohello****hellohello****hellohello****hellohello****hellohello****hellohello****hellohello****hellohello****hellohello****hellohello****hellohello****hellohello****hellohello****hellohello****hellohello****hellohello****hellohello****hellohello****hellohello****hellohello****hellohello****hellohello****hellohello****hellohello****hellohello****hellohello****hellohello****hellohello****hellohello****hellohello****hellohello****hellohello****hellohello****hellohello****hellohello****hellohello****hellohello****hellohello****hellohello****hellohello****hellohello****hellohello****hellohello****hellohello****hellohello****hellohello****hellohello****hellohello****hellohello****hellohello****hellohello****hellohello****hellohello****hellohello****hellohello****hellohello****hellohello****hellohello****hellohello****hellohello****hellohello****hellohello****hellohello****hellohello****hellohello****hellohello****hellohello****hellohello****hellohello****hellohello****hellohello****hellohello****hellohello****hellohello****hellohello****hellohello****hellohello****hellohello****hellohello****hellohello****hellohello****hellohello****hellohello****hellohello****hellohello****hellohello****hellohello****hellohello****hellohello****hellohello****hellohello****hellohello****hellohello****hellohello****hellohello****hellohello****hellohello****hellohello****hellohello****hellohello****hellohello****hellohello****hellohello****hellohello****hellohello****hellohello****hellohello****hellohello****hellohello****hellohello****hellohello****hellohello****hellohello****hellohello****hellohello****hellohello****hellohello****hellohello****hellohello****hellohello****hellohello****hellohello****hellohello****hellohello****hellohello****hellohello****hellohello****hellohello****hellohello****hellohello****hellohello****hellohello****hellohello****hellohello****hellohello****hellohello****hellohello****hellohello****hellohello****hellohello****hellohello****hellohello****hellohello****hellohello****hellohello****hellohello****hellohello****hellohello****hellohello****hellohello****hellohello****hellohello****hellohello****hellohello****hellohello****hellohello****hellohello****hellohello****hellohello****hellohello****hellohello****hellohello****hellohello****hellohello****hellohello****hellohello****hellohello****hellohello****hellohello****hellohello****hellohello****hellohello****hellohello****hellohello****hellohello****hellohello****hellohello****hellohello****hellohello****hellohello****hellohello****hellohello****hellohello****hellohello****hellohello****hellohello****hellohello****hellohello****hellohello****hellohello****hellohello****hellohello****hellohello****hellohello****hellohello****hellohello****hellohello****hellohello****hellohello****hellohello****hellohello****hellohello****hellohello****hellohello****hellohello****hellohello****hellohello****hellohello****hellohello****hellohello****hellohello****hellohello****hellohello****hellohello****hellohello****hellohello****hellohello****hellohello****hellohello****hellohello****hellohello****hellohello****hellohello****hellohello****hellohello****hellohello****hellohello****hellohello****hellohello****hellohello****hellohello****hellohello****hellohello****hellohello****hellohello****hellohello****hellohello****hellohello****hellohello****hellohello****hellohello****hellohello****hellohello****hellohello****hellohello****hellohello****hellohello****hellohello****hellohello****hellohello****hellohello****hellohello****hellohello****hellohello****hellohello****hellohello****hellohello****hellohello****hellohello****hellohello****hellohello****hellohello****hellohello****hellohello****hellohello****hellohello****hellohello****hellohello****hellohello****hellohello****hellohello****hellohello****hellohello****hellohello****hellohello****hellohello****hellohello****hellohello****hellohello****hellohello****hellohello****hellohello****hellohello****hellohello****hellohello****hellohello****hellohello****hellohello****hellohello****hellohello****hellohello****hellohello****hellohello****hellohello****hellohello****hellohello****hellohello****hellohello****hellohello****hellohello****hellohello****hellohello****hellohello****hellohello****hellohello****hellohello****hellohello****hellohello****hellohello****hellohello****hellohello****hellohello****hellohello****hellohello****hellohello****hellohello****hellohello****hellohello****hellohello****hellohello****hellohello****hellohello****hellohello****hellohello****hellohello****hellohello****hellohello****hellohello****hellohello****hellohello****hellohello****hellohello****hellohello****hellohello****hellohello****hellohello****hellohello****hellohello****hellohello****hellohello****hellohello****hellohello****hellohello****hellohello****hellohello****hellohello****hellohello****hellohello****hellohello****hellohello****hellohello****hellohello****hellohello****hellohello****hellohello****hellohello****hellohello****hellohello****hellohello****hellohello****hellohello****hellohello****hellohello****hellohello****hellohello****hellohello****hellohello****hellohello****hellohello****hellohello****hellohello****hellohello****hellohello****hellohello****hellohello****hellohello****hellohello****hellohello****hellohello****hellohello****hellohello****hellohello****hellohello****hellohello****hellohello****hellohello****hellohello****hellohello****hellohello****hellohello****hellohello****hellohello****hellohello****hellohello****hellohello****hellohello****hellohello****hellohello****hellohello****hellohello****hellohello****hellohello****hellohello****hellohello****hellohello****hellohello****hellohello****hellohello****hellohello****hellohello****hellohello****hellohello****hellohello****hellohello****hellohello****hellohello****hellohello****hellohello****hellohello****hellohello****hellohello****hellohello****hellohello****hellohello****hellohello****hellohello****hellohello****hellohello****hellohello****hellohello****hellohello****hellohello****hellohello****hellohello****hellohello****hellohello****hellohello****hellohello****hellohello****hellohello****hellohello****hellohello****hellohello****hellohello****hellohello****hellohello****hellohello****hellohello****hellohello****hellohello****hellohello****hellohello****hellohello****hellohello****hellohello****hellohello****hellohello****hellohello****hellohello****hellohello****hellohello****hellohello****hellohello****hellohello****hellohello****hellohello****hellohello****hellohello****hellohello****hellohello****hellohello****hellohello****hellohello****hellohello****hellohello****hellohello****hellohello****hellohello****hellohello****hellohello****hellohello****hellohello****hellohello****hellohello****hellohello****hellohello****hellohello****hellohello****hellohello****hellohello****hellohello****hellohello****hellohello****hellohello****hellohello****hellohello****hellohello****hellohello****hellohello****hellohello****hellohello****hellohello****hellohello****hellohello****hellohello****hellohello****hellohello****hellohello****hellohello****hellohello****hellohello****hellohello****hellohello****hellohello****hellohello****hellohello****hellohello****hellohello****hellohello****hellohello****hellohello****hellohello****hellohello****hellohello****hellohello****hellohello****hellohello****hellohello****hellohello****hellohello****hellohello****hellohello****hellohello****hellohello****hellohello****hellohello****hellohello****hellohello****hellohello****hellohello****hellohello****hellohello****hellohello****hellohello****hellohello****hellohello****hellohello****hellohello****hellohello****hellohello****hellohello****hellohello****hellohello****hellohello****hellohello****hellohello****hellohello****hellohello****hellohello****hellohello****hellohello****hellohello****hellohello****hellohello****hellohello****hellohello****hellohello****hellohello****hellohello****hellohello****hellohello****hellohello****hellohello****hellohello****hellohello****hellohello****hellohello****hellohello****hellohello****hellohello****hellohello****hellohello****hellohello****hellohello****hellohello****hellohello****hellohello****hellohello****hellohello****hellohello****hellohello****hellohello****hellohello****hellohello****hellohello****hellohello****hellohello****hellohello****hellohello****hellohello****hellohello****hellohello****hellohello****hellohello****hellohello****hellohello****hellohello****hellohello****hellohello****hellohello****hellohello****hellohello****hellohello****hellohello****hellohello****hellohello****hellohello****hellohello****hellohello****hellohello****hellohello****hellohello****hellohello****hellohello****hellohello****hellohello****hellohello****hellohello****hellohello****hellohello****hellohello****hellohello****hellohello****hellohello****hellohello****hellohello****hellohello****hellohello****hellohello****hellohello****hellohello****hellohello****hellohello****hellohello****hellohello****hellohello****hellohello****hellohello****hellohello****hellohello****hellohello****hellohello****hellohello****hellohello****hellohello****hellohello****hellohello****hellohello****hellohello****hellohello****hellohello****hellohello****hellohello****hellohello****hellohello****hellohello****hellohello****hellohello****hellohello****hellohello****hellohello****hellohello****hellohello****hellohello****hellohello****hellohello****hellohello****hellohello****hellohello****hellohello****hellohello****hellohello****hellohello****hellohello****hellohello****hellohello****hellohello****hellohello****hellohello****hellohello****hellohello****hellohello****hellohello****hellohello****hellohello****hellohello****hellohello****hellohello****hellohello****hellohello****hellohello****hellohello****hellohello****hellohello****hellohello****hellohello****hellohello****hellohello****hellohello****hellohello****hellohello****hellohello****hellohello****hellohello****hellohello****hellohello****hellohello****hellohello****hellohello****hellohello****hellohello****hellohello****hellohello****hellohello****hellohello****hellohello****hellohello****hellohello****hellohello****hellohello****hellohello****hellohello****hellohello****hellohello****hellohello****hellohello****hellohello****hellohello****hellohello****hellohello****hellohello****hellohello****hellohello****hellohello****hellohello****hellohello****hellohello****hellohello****hellohello****hellohello****hellohello****hellohello****hellohello****hellohello****hellohello****hellohello****hellohello****hellohello****hellohello****hellohello****hellohello****hellohello****hellohello****hellohello****hellohello****hellohello****hellohello****hellohello****hellohello****hellohello****hellohello****hellohello****hellohello****hellohello****hellohello****hellohello****hellohello****hellohello****hellohello****hellohello****hellohello****hellohello****hellohello****hellohello****hellohello****hellohello****hellohello****hellohello****hellohello****hellohello****hellohello****hellohello****hellohello****hellohello****hellohello****hellohello****hellohello****hellohello****hellohello****hellohello****hellohello****hellohello****hellohello****hellohello****hellohello****hellohello****hellohello****hellohello****hellohello****hellohello****hellohello****hellohello****hellohello****hellohello****hellohello****hellohello****hellohello****hellohello****hellohello****hellohello****hellohello****hellohello****hellohello****hellohello****hellohello****hellohello****hellohello****hellohello****hellohello****hellohello****hellohello****hellohello****hellohello****hellohello****hellohello****hellohello****hellohello****hellohello****hellohello****hellohello****hellohello****hellohello****hellohello****hellohello****hellohello****hellohello****hellohello****hellohello****hellohello****hellohello****hellohello****hellohello****hellohello****hellohello****hellohello****hellohello****hellohello****hellohello****hellohello****hellohello****hellohello****hellohello****hellohello****hellohello****hellohello****hellohello****hellohello****hellohello****hellohello****hellohello****hellohello****hellohello****hellohello****hellohello****hellohello****hellohello****hellohello****hellohello****hellohello****hellohello****hellohello****hellohello****hellohello****hellohello****hellohello****hellohello****hellohello****hellohello****hellohello****hellohello****hellohello****hellohello****hellohello****hellohello****hellohello****hellohello****hellohello****hellohello****hellohello****hellohello****hellohello****hellohello****hellohello****hellohello****hellohello****hellohello****hellohello****hellohello****hellohello****hellohello****hellohello****hellohello****hellohello****hellohello****hellohello****hellohello****hellohello****hellohello****hellohello****hellohello****hellohello****hellohello****hellohello****hellohello****hellohello****hellohello****hellohello****hellohello****hellohello****hellohello****hellohello****hellohello****hellohello****hellohello****hellohello****hellohello****hellohello****hellohello****hellohello****hellohello****hellohello****hellohello****hellohello****hellohello****hellohello****hellohello****hellohello****hellohello****hellohello****hellohello****hellohello****hellohello****hellohello****hellohello****hellohello****hellohello****hellohello****hellohello****hellohello****hellohello****hellohello****hellohello****hellohello****hellohello****hellohello****hellohello****hellohello****hellohello****hellohello****hellohello****hellohello****hellohello****hellohello****hellohello****hellohello****hellohello****hellohello****hellohello****hellohello****hellohello****hellohello****hellohello****hellohello****hellohello****hellohello****hellohello****hellohello****hellohello****hellohello****hellohello****hellohello****hellohello****hellohello****hellohello****hellohello****hellohello****hellohello****hellohello****hellohello****hellohello****hellohello****hellohello****hellohello****hellohello****hellohello****hellohello****hellohello****hellohello****hellohello****hellohello****hellohello****hellohello****hellohello****hellohello****hellohello****hellohello****hellohello****hellohello****hellohello****hellohello****hellohello****hellohello****hellohello****hellohello****hellohello****hellohello****hellohello****hellohello****hellohello****hellohello****hellohello****hellohello****hellohello****hellohello****hellohello****hellohello****hellohello****hellohello****hellohello****hellohello****hellohello****hellohello****hellohello****hellohello****hellohello****hellohello****hellohello****hellohello****hellohello****hellohello****hellohello****hellohello****hellohello****hellohello****hellohello****hellohello****hellohello****hellohello****hellohello****hellohello****hellohello****hellohello****hellohello****hellohello****hellohello****hellohello****hellohello****hellohello****hellohello****hellohello****hellohello****hellohello****hellohello****hellohello****hellohello****hellohello****hellohello****hellohello****hellohello****hellohello****hellohello****hellohello****hellohello****hellohello****hellohello****hellohello****hellohello****hellohello****hellohello****hellohello****hellohello****hellohello****hellohello****hellohello****hellohello****hellohello****hellohello****hellohello****hellohello****hellohello****hellohello****hellohello****hellohello****hellohello****hellohello****hellohello****hellohello****hellohello****hellohello****hellohello****hellohello****hellohello****hellohello****hellohello****hellohello****hellohello****hellohello****hellohello****hellohello****hellohello****hellohello****hellohello****hellohello****hellohello****hellohello****hellohello****hellohello****hellohello****hellohello****hellohello****hellohello****hellohello****hellohello****hellohello****hellohello****hellohello****hellohello****hellohello****hellohello****hellohello****hellohello****hellohello****hellohello****hellohello****hellohello****hellohello****hellohello****hellohello****hellohello****hellohello****hellohello****hellohello****hellohello****hellohello****hellohello****hellohello****hellohello****hellohello****hellohello****hellohello****hellohello****hellohello****hellohello****hellohello****hellohello****hellohello****hellohello****hellohello****hellohello****hellohello****hellohello****hellohello****hellohello****hellohello****hellohello****hellohello****hellohello****hellohello****hellohello****hellohello****hellohello****hellohello****hellohello****hellohello****hellohello****hellohello****hellohello****hellohello****hellohello****hellohello****hellohello****hellohello****hellohello****hellohello****hellohello****hellohello****hellohello****hellohello****hellohello****hellohello****hellohello****hellohello****hellohello****hellohello****hellohello****hellohello****hellohello****hellohello****hellohello****hellohello****hellohello****hellohello****hellohello****hellohello****hellohello****hellohello****hellohello****hellohello****hellohello****hellohello****hellohello****hellohello****hellohello****hellohello****hellohello****hellohello****hellohello****hellohello****hellohello****hellohello****hellohello****hellohello****hellohello****hellohello****hellohello****hellohello****hellohello****hellohello****hellohello****hellohello****hellohello****hellohello****hellohello****hellohello****hellohello****hellohello****hellohello****hellohello****hellohello****hellohello****hellohello****hellohello****hellohello****hellohello****hellohello****hellohello****hellohello****hellohello****hellohello****hellohello****hellohello****hellohello****hellohello****hellohello****hellohello****hellohello****hellohello****hellohello****hellohello****hellohello****hellohello****hellohello****hellohello****hellohello****hellohello****hellohello****hellohello****hellohello****hellohello****hellohello****hellohello****hellohello****hellohello****hellohello****hellohello****hellohello****hellohello****hellohello****hellohello****hellohello****hellohello****hellohello****hellohello****hellohello****hellohello****hellohello****hellohello****hellohello****hellohello****hellohello****hellohello****hellohello****hellohello****hellohello****hellohello****hellohello****hellohello****hellohello****hellohello****hellohello****hellohello****hellohello****hellohello****hellohello****hellohello****hellohello****hellohello****hellohello****hellohello****hellohello****hellohello****hellohello****hellohello****hellohello****hellohello****hellohello****hellohello****hellohello****hellohello****hellohello****hellohello****hellohello****hellohello****hellohello****hellohello****hellohello****hellohello****hellohello****hellohello****hellohello****hellohello****hellohello****hellohello****hellohello****hellohello****hellohello****hellohello****hellohello****hellohello****hellohello****hellohello****hellohello****hellohello****hellohello****hellohello****hellohello****hellohello****hellohello****hellohello****hellohello****hellohello****hellohello****hellohello****hellohello****hellohello****hellohello****hellohello****hellohello****hellohello****hellohello****hellohello****hellohello****hellohello****hellohello****hellohello****hellohello****hellohello****hellohello****hellohello****hellohello****hellohello****hellohello****hellohello****hellohello****hellohello****hellohello****hellohello****hellohello****hellohello****hellohello****hellohello****hellohello****hellohello****hellohello****hellohello****hellohello****hellohello****hellohello****hellohello****hellohello****hellohello****hellohello****hellohello****hellohello****hellohello****hellohello****hellohello****hellohello****hellohello****hellohello****hellohello****hellohello****hellohello****hellohello****hellohello****hellohello****hellohello****hellohello****hellohello****hellohello****hellohello****hellohello****hellohello****hellohello****hellohello****hellohello****hellohello****hellohello****hellohello****hellohello****hellohello****hellohello****hellohello****hellohello****hellohello****hellohello****hellohello****hellohello****hellohello****hellohello****hellohello****hellohello****hellohello****hellohello****hellohello****hellohello****hellohello****hellohello****hellohello****hellohello****hellohello****hellohello****hellohello****hellohello****hellohello****hellohello****hellohello****hellohello****hellohello****hellohello****hellohello****hellohello****hellohello****hellohello****hellohello****hellohello****hellohello****hellohello****hellohello****hellohello****hellohello****hellohello****hellohello****hellohello****hellohello****hellohello****hellohello****hellohello****hellohello****hellohello****hellohello****hellohello****hellohello****hellohello****hellohello****hellohello****hellohello****hellohello****hellohello****hellohello****hellohello****hellohello****hellohello****hellohello****hellohello****hellohello****hellohello****hellohello****hellohello****hellohello****hellohello****hellohello****hellohello****hellohello****hellohello****hellohello****hellohello****hellohello****hellohello****hellohello****hellohello****hellohello****hellohello****hellohello****hellohello****hellohello****hellohello****hellohello****hellohello****hellohello****hellohello****hellohello****hellohello****hellohello****hellohello****hellohello****hellohello****hellohello****hellohello****hellohello****hellohello****hellohello****hellohello****hellohello****hellohello****hellohello****hellohello****hellohello****hellohello****hellohello****hellohello****hellohello****hellohello****hellohello****hellohello****hellohello****hellohello****hellohello****hellohello****hellohello****hellohello****hellohello****hellohello****hellohello****hellohello****hellohello****hellohello****hellohello****hellohello****hellohello****hellohello****hellohello****hellohello****hellohello****hellohello****hellohello****hellohello****hellohello****hellohello****hellohello****hellohello****hellohello****hellohello****hellohello****hellohello****hellohello****hellohello****hellohello****hellohello****hellohello****hellohello****hellohello****hellohello****hellohello****hellohello****hellohello****hellohello****hellohello****hellohello****hellohello****hellohello****hellohello****hellohello****hellohello****hellohello****hellohello****hellohello****hellohello****hellohello****hellohello****hellohello****hellohello****hellohello****hellohello****hellohello****hellohello****hellohello****hellohello****hellohello****hellohello****hellohello****hellohello****hellohello****hellohello****hellohello****hellohello****hellohello****hellohello****hellohello****hellohello****hellohello****hellohello****hellohello****hellohello****hellohello****hellohello****hellohello****hellohello****hellohello****hellohello****hellohello****hellohello****hellohello****hellohello****hellohello****hellohello****hellohello****hellohello****hellohello****hellohello****hellohello****hellohello****hellohello****hellohello****hellohello****hellohello****hellohello****hellohello****hellohello****hellohello****hellohello****hellohello****hellohello****hellohello****hellohello****hellohello****hellohello****hellohello****hellohello****hellohello****hellohello****hellohello****hellohello****hellohello****hellohello****hellohello****hellohello****hellohello****hellohello****hellohello****hellohello****hellohello****hellohello****hellohello****hellohello****hellohello****hellohello****hellohello****hellohello****hellohello****hellohello****hellohello****hellohello****hellohello****hellohello****hellohello****hellohello****hellohello****hellohello****hellohello****hellohello****hellohello****hellohello****hellohello****hellohello****hellohello****hellohello****hellohello****hellohello****hellohello****hellohello****hellohello****hellohello****hellohello****hellohello****hellohello****hellohello****hellohello****hellohello****hellohello****hellohello****hellohello****hellohello****hellohello****hellohello****hellohello****hellohello****hellohello****hellohello****hellohello****hellohello****hellohello****hellohello****hellohello****hellohello****hellohello****hellohello****hellohello****hellohello****hellohello****hellohello****hellohello****hellohello****hellohello****hellohello****hellohello****hellohello****hellohello****hellohello****hellohello****hellohello****hellohello****hellohello****hellohello****hellohello****hellohello****hellohello****hellohello****hellohello****hellohello****hellohello****hellohello****hellohello****hellohello****hellohello****hellohello****hellohello****hellohello****hellohello****hellohello****hellohello****hellohello****hellohello****hellohello****hellohello****hellohello****hellohello****hellohello****hellohello****hellohello****hellohello****hellohello****hellohello****hellohello****hellohello****hellohello****hellohello****hellohello****hellohello****hellohello****hellohello****hellohello****hellohello****hellohello****hellohello****hellohello****hellohello****hellohello****hellohello****hellohello****hellohello****hellohello****hellohello****hellohello****hellohello****hellohello****hellohello****hellohello****hellohello****hellohello****hellohello****hellohello****hellohello****hellohello****hellohello****hellohello****hellohello****hellohello****hellohello****hellohello****hellohello****hellohello****hellohello****hellohello****hellohello****hellohello****hellohello****hellohello****hellohello****hellohello****hellohello****hellohello****hellohello****hellohello****hellohello****hellohello****hellohello****hellohello****hellohello****hellohello****hellohello****hellohello****hellohello****hellohello****hellohello****hellohello****hellohello****hellohello****hellohello****hellohello****hellohello****hellohello****hellohello****hellohello****hellohello****hellohello****hellohello****hellohello****hellohello****hellohello****hellohello****hellohello****hellohello****hellohello****hellohello****hellohello****hellohello****hellohello****hellohello****hellohello****hellohello****hellohello****hellohello****hellohello****hellohello****hellohello****hellohello****hellohello****hellohello****hellohello****hellohello****hellohello****hellohello****hellohello****hellohello****hellohello****hellohello****hellohello****hellohello****hellohello****hellohello****hellohello****hellohello****hellohello****hellohello****hellohello****hellohello****hellohello****hellohello****hellohello****hellohello****hellohello****hellohello****hellohello****hellohello****hellohello****hellohello****hellohello****hellohello****hellohello****hellohello****hellohello****hellohello****hellohello****hellohello****hellohello****hellohello****hellohello****hellohello****hellohello****hellohello****hellohello****hellohello****hellohello****hellohello****hellohello****hellohello****hellohello****hellohello****hellohello****hellohello****hellohello****hellohello****hellohello****hellohello****hellohello****hellohello****hellohello****hellohello****hellohello****hellohello****hellohello****hellohello****hellohello****hellohello****hellohello****hellohello****hellohello****hellohello****hellohello****hellohello****hellohello****hellohello****hellohello****hellohello****hellohello****hellohello****hellohello****hellohello****hellohello****hellohello****hellohello****hellohello****hellohello****hellohello****hellohello****hellohello****hellohello****hellohello****hellohello****hellohello****hellohello****hellohello****hellohello****hellohello****hellohello****hellohello****hellohello****hellohello****hellohello****hellohello****hellohello****hellohello****hellohello****hellohello****hellohello****hellohello****hellohello****hellohello****hellohello****hellohello****hellohello****hellohello****hellohello****hellohello****hellohello****hellohello****hellohello****hellohello****hellohello****hellohello****hellohello****hellohello****hellohello****hellohello****hellohello****hellohello****hellohello****hellohello****hellohello****hellohello****hellohello****hellohello****hellohello****hellohello****hellohello****hellohello****hellohello****hellohello****hellohello****hellohello****hellohello****hellohello****hellohello****hellohello****hellohello****hellohello****hellohello****hellohello****hellohello****hellohello****hellohello****hellohello****hellohello****hellohello****hellohello****hellohello****hellohello****hellohello****hellohello****hellohello****hellohello****hellohello****hellohello****hellohello****hellohello****hellohello****hellohello****hellohello****hellohello****hellohello****hellohello****hellohello****hellohello****hellohello****hellohello****hellohello****hellohello****hellohello****hellohello****hellohello****hellohello****hellohello****hellohello****hellohello****hellohello****hellohello****hellohello****hellohello****hellohello****hellohello****hellohello****hellohello****hellohello****hellohello****hellohello****hellohello****hellohello****hellohello****hellohello****hellohello****hellohello****hellohello****hellohello****hellohello****hellohello****hellohello****hellohello****hellohello****hellohello****hellohello****hellohello****hellohello****hellohello****hellohello****hellohello****hellohello****hellohello****hellohello****hellohello****hellohello****hellohello****hellohello****hellohello****hellohello****hellohello****hellohello****hellohello****hellohello****hellohello****hellohello****hellohello****hellohello****hellohello****hellohello****hellohello****hellohello****hellohello****hellohello****hellohello****hellohello****hellohello****hellohello****hellohello****hellohello****hellohello****hellohello****hellohello****hellohello****hellohello****hellohello****hellohello****hellohello****hellohello****hellohello****hellohello****hellohello****hellohello****hellohello****hellohello****hellohello****hellohello****hellohello****hellohello****hellohello****hellohello****hellohello****hellohello****hellohello****hellohello****hellohello****hellohello****hellohello****hellohello****hellohello****hellohello****hellohello****hellohello****hellohello****hellohello****hellohello****hellohello****hellohello****hellohello****hellohello****hellohello****hellohello****hellohello****hellohello****hellohello****hellohello****hellohello****hellohello****hellohello****hellohello****hellohello****hellohello****hellohello****hellohello****hellohello****hellohello****hellohello****hellohello****hellohello****hellohello****hellohello****hellohello****hellohello****hellohello****hellohello****hellohello****hellohello****hellohello****hellohello****hellohello****hellohello****hellohello****hellohello****hellohello****hellohello****hellohello****hellohello****hellohello****hellohello****hellohello****hellohello****hellohello****hellohello****hellohello****hellohello****hellohello****hellohello****hellohello****hellohello****hellohello****hellohello****hellohello****hellohello****hellohello****hellohello****hellohello****hellohello****hellohello****hellohello****hellohello****hellohello****hellohello****hellohello****hellohello****hellohello****hellohello****hellohello****hellohello****hellohello****hellohello****hellohello****hellohello****hellohello****hellohello****hellohello****hellohello****hellohello****hellohello****hellohello****hellohello****hellohello****hellohello****hellohello****hellohello****hellohello****hellohello****hellohello****hellohello****hellohello****hellohello****hellohello****hellohello****hellohello****hellohello****hellohello****hellohello****hellohello****hellohello****hellohello****hellohello****hellohello****hellohello****hellohello****hellohello****hellohello****hellohello****hellohello****hellohello****hellohello****hellohello****hellohello****hellohello****hellohello****hellohello****hellohello****hellohello****hellohello****hellohello****hellohello****hellohello****hellohello****hellohello****hellohello****hellohello****hellohello****hellohello****hellohello****hellohello****hellohello****hellohello****hellohello****hellohello****hellohello****hellohello****hellohello****hellohello****hellohello****hellohello****hellohello****hellohello****hellohello****hellohello****hellohello****hellohello****hellohello****hellohello****hellohello****hellohello****hellohello****hellohello****hellohello****hellohello****hellohello****hellohello****hellohello****hellohello****hellohello****hellohello****hellohello****hellohello****hellohello****hellohello****hellohello****hellohello****hellohello****hellohello****hellohello****hellohello****hellohello****hellohello****hellohello****hellohello****hellohello****hellohello****hellohello****hellohello****hellohello****hellohello****hellohello****hellohello****hellohello****hellohello****hellohello****hellohello****hellohello****hellohello****hellohello****hellohello****hellohello****hellohello****hellohello****hellohello****hellohello****hellohello****hellohello****hellohello****hellohello****hellohello****hellohello****hellohello****hellohello****hellohello****hellohello****hellohello****hellohello****hellohello****hellohello****hellohello****hellohello****hellohello****hellohello****hellohello****hellohello****hellohello****hellohello****hellohello****hellohello****hellohello****hellohello****hellohello****hellohello****hellohello****hellohello****hellohello****hellohello****hellohello****hellohello****hellohello****hellohello****hellohello****hellohello****hellohello****hellohello****hellohello****hellohello****hellohello****hellohello****hellohello****hellohello****hellohello****hellohello****hellohello****hellohello****hellohello****hellohello****hellohello****hellohello****hellohello****hellohello****hellohello****hellohello****hellohello****hellohello****hellohello****hellohello****hellohello****hellohello****hellohello****hellohello****hellohello****hellohello****hellohello****hellohello****hellohello****hellohello****hellohello****hellohello****hellohello****hellohello****hellohello****hellohello****hellohello****hellohello****hellohello****hellohello****hellohello****hellohello****hellohello****hellohello****hellohello****hellohello****hellohello****hellohello****hellohello****hellohello****hellohello****hellohello****hellohello****hellohello****hellohello****hellohello****hellohello****hellohello****hellohello****hellohello****hellohello****hellohello****hellohello****hellohello****hellohello****hellohello****hellohello****hellohello****hellohello****hellohello****hellohello****hellohello****hellohello****hellohello****hellohello****hellohello****hellohello****hellohello****hellohello****hellohello****hellohello****hellohello****hellohello****hellohello****hellohello****hellohello****hellohello****hellohello****hellohello****hellohello****hellohello****hellohello****hellohello****hellohello****hellohello****hellohello****hellohello****hellohello****hellohello****hellohello****hellohello****hellohello****hellohello****hellohello****hellohello****hellohello****hellohello****hellohello****hellohello****hellohello****hellohello****hellohello****hellohello****hellohello****hellohello****hellohello****hellohello****hellohello****hellohello****hellohello****hellohello****hellohello****hellohello****hellohello****hellohello****hellohello****hellohello****hellohello****hellohello****hellohello****hellohello****hellohello****hellohello****hellohello****hellohello****hellohello****hellohello****hellohello****hellohello****hellohello****hellohello****hellohello****hellohello****hellohello****hellohello****hellohello****hellohello****hellohello****hellohello****hellohello****hellohello****hellohello****hellohello****hellohello****hellohello****hellohello****hellohello****hellohello****hellohello****hellohello****hellohello****hellohello****hellohello****hellohello****hellohello****hellohello****hellohello****hellohello****hellohello****hellohello****hellohello****hellohello****hellohello****hellohello****hellohello****hellohello****hellohello****hellohello****hellohello****hellohello****hellohello****hellohello****hellohello****hellohello****hellohello****hellohello****hellohello****hellohello****hellohello****hellohello****hellohello****hellohello****hellohello****hellohello****hellohello****hellohello****hellohello****hellohello****hellohello****hellohello****hellohello****hellohello****hellohello****hellohello****hellohello****hellohello****hellohello****hellohello****hellohello****hellohello****hellohello****hellohello****hellohello****hellohello****hellohello****hellohello****hellohello****hellohello****hellohello****hellohello****hellohello****hellohello****hellohello****hellohello****hellohello****hellohello****hellohello****hellohello****hellohello****hellohello****hellohello****hellohello****hellohello****hellohello****hellohello****hellohello****hellohello****hellohello****hellohello****hellohello****hellohello****hellohello****hellohello****hellohello****hellohello****hellohello****hellohello****hellohello****hellohello****hellohello****hellohello****hellohello****hellohello****hellohello****hellohello****hellohello****hellohello****hellohello****hellohello****hellohello****hellohello****hellohello****hellohello****hellohello****hellohello****hellohello****hellohello****hellohello****hellohello****hellohello****hellohello****hellohello****hellohello****hellohello****hellohello****hellohello****hellohello****hellohello****hellohello****hellohello****hellohello****hellohello****hellohello****hellohello****hellohello****hellohello****hellohello****hellohello****hellohello****hellohello****hellohello****hellohello****hellohello****hellohello****hellohello****hellohello****hellohello****hellohello****hellohello****hellohello****hellohello****hellohello****hellohello****hellohello****hellohello****hellohello****hellohello****hellohello****hellohello****hellohello****hellohello****hellohello****hellohello****hellohello****hellohello****hellohello****hellohello****hellohello****hellohello****hellohello****hellohello****hellohello****hellohello****hellohello****hellohello****hellohello****hellohello****hellohello****hellohello****hellohello****hellohello****hellohello****hellohello****hellohello****hellohello****hellohello****hellohello****hellohello****hellohello****hellohello****hellohello****hellohello****hellohello****hellohello****hellohello****hellohello****hellohello****hellohello****hellohello****hellohello****hellohello****hellohello****hellohello****hellohello****hellohello****hellohello****hellohello****hellohello****hellohello****hellohello****hellohello****hellohello****hellohello****hellohello****hellohello****hellohello****hellohello****hellohello****hellohello****hellohello****hellohello****hellohello****hellohello****hellohello****hellohello****hellohello****hellohello****hellohello****hellohello****hellohello****hellohello****hellohello****hellohello****hellohello****hellohello****hellohello****hellohello****hellohello****hellohello****hellohello****hellohello****hellohello****hellohello****hellohello****hellohello****hellohello****hellohello****hellohello****hellohello****hellohello****hellohello****hellohello****hellohello****hellohello****hellohello****hellohello****hellohello****hellohello****hellohello****hellohello****hellohello****hellohello****hellohello****hellohello****hellohello****hellohello****hellohello****hellohello****hellohello****hellohello****hellohello****hellohello****hellohello****hellohello****hellohello****hellohello****hellohello****hellohello****hellohello****hellohello****hellohello****hellohello****hellohello****hellohello****hellohello****hellohello****hellohello****hellohello****hellohello****hellohello****hellohello****hellohello****hellohello****hellohello****hellohello****hellohello****hellohello****hellohello****hellohello****hellohello****hellohello****hellohello****hellohello****hellohello****hellohello****hellohello****hellohello****hellohello****hellohello****hellohello****hellohello****hellohello****hellohello****hellohello****hellohello****hellohello****hellohello****hellohello****hellohello****hellohello****hellohello****hellohello****hellohello****hellohello****hellohello****hellohello****hellohello****hellohello****hellohello****hellohello****hellohello****hellohello****hellohello****hellohello****hellohello****hellohello****hellohello****hellohello****hellohello****hellohello****hellohello****hellohello****hellohello****hellohello****hellohello****hellohello****hellohello****hellohello****hellohello****hellohello****hellohello****hellohello****hellohello****hellohello****hellohello****hellohello****hellohello****hellohello****hellohello****hellohello****hellohello****hellohello****hellohello****hellohello****hellohello****hellohello****hellohello****hellohello****hellohello****hellohello****hellohello****hellohello****hellohello****hellohello****hellohello****hellohello****hellohello****hellohello****hellohello****hellohello****hellohello****hellohello****hellohello****hellohello****hellohello****hellohello****hellohello****hellohello****hellohello****hellohello****hellohello****hellohello****hellohello****hellohello****hellohello****hellohello****hellohello****hellohello****hellohello****hellohello****hellohello****hellohello****hellohello****hellohello****hellohello****hellohello****hellohello****hellohello****hellohello****hellohello****hellohello****hellohello****hellohello****hellohello****hellohello****hellohello****hellohello****hellohello****hellohello****hellohello****hellohello****hellohello****hellohello****hellohello****hellohello****hellohello****hellohello****hellohello****hellohello****hellohello****hellohello****hellohello****hellohello****hellohello****hellohello****hellohello****hellohello****hellohello****hellohello****hellohello****hellohello****hellohello****hellohello****hellohello****hellohello****hellohello****hellohello****hellohello****hellohello****hellohello****hellohello****hellohello****hellohello****hellohello****hellohello****hellohello****hellohello****hellohello****hellohello****hellohello****hellohello****hellohello****hellohello****hellohello****hellohello****hellohello****hellohello****hellohello****hellohello****hellohello****hellohello****hellohello****hellohello****hellohello****hellohello****hellohello****hellohello****hellohello****hellohello****hellohello****hellohello****hellohello****hellohello****hellohello****hellohello****hellohello****hellohello****hellohello****hellohello****hellohello****hellohello****hellohello****hellohello****hellohello****hellohello****hellohello****hellohello****hellohello****hellohello****hellohello****hellohello****hellohello****hellohello****hellohello****hellohello****hellohello****hellohello****hellohello****hellohello****hellohello****hellohello****hellohello****hellohello****hellohello****hellohello****hellohello****hellohello****hellohello****hellohello****hellohello****hellohello****hellohello****hellohello****hellohello****hellohello****hellohello****hellohello****hellohello****hellohello****hellohello****hellohello****hellohello****hellohello****hellohello****hellohello****hellohello****hellohello****hellohello****hellohello****hellohello****hellohello****hellohello****hellohello****hellohello****hellohello****hellohello****hellohello****hellohello****hellohello****hellohello****hellohello****hellohello****hellohello****hellohello****hellohello****hellohello****hellohello****hellohello****hellohello****hellohello****hellohello****hellohello****hellohello****hellohello****hellohello****hellohello****hellohello****hellohello****hellohello****hellohello****hellohello****hellohello****hellohello****hellohello****hellohello****hellohello****hellohello****hellohello****hellohello****hellohello****hellohello****hellohello****hellohello****hellohello****hellohello****hellohello****hellohello****hellohello****hellohello****hellohello****hellohello****hellohello****hellohello****hellohello****hellohello****hellohello****hellohello****hellohello****hellohello****hellohello****hellohello****hellohello****hellohello****hellohello****hellohello****hellohello****hellohello****hellohello****hellohello****hellohello****hellohello****hellohello****hellohello****hellohello****hellohello****hellohello****hellohello****hellohello****hellohello****hellohello****hellohello****hellohello****hellohello****hellohello****hellohello****hellohello****hellohello****hellohello****hellohello****hellohello****hellohello****hellohello****hellohello****hellohello****hellohello****hellohello****hellohello****hellohello****hellohello****hellohello****hellohello****hellohello****hellohello****hellohello****hellohello****hellohello****hellohello****hellohello****hellohello****hellohello****hellohello****hellohello****hellohello****hellohello****hellohello****hellohello****hellohello****hellohello****hellohello****hellohello****hellohello****hellohello****hellohello****hellohello****hellohello****hellohello****hellohello****hellohello****hellohello****hellohello****hellohello****hellohello****hellohello****hellohello****hellohello****hellohello****hellohello****hellohello****hellohello****hellohello****hellohello****hellohello****hellohello****hellohello****hellohello****hellohello****hellohello****hellohello****hellohello****hellohello****hellohello****hellohello****hellohello****hellohello****hellohello****hellohello****hellohello****hellohello****hellohello****hellohello****hellohello****hellohello****hellohello****hellohello****hellohello****hellohello****hellohello****hellohello****hellohello****hellohello****hellohello****hellohello****hellohello****hellohello****hellohello****hellohello****hellohello****hellohello****hellohello****hellohello****hellohello****hellohello****hellohello****hellohello****hellohello****hellohello****hellohello****hellohello****hellohello****hellohello****hellohello****hellohello****hellohello****hellohello****hellohello****hellohello****hellohello****hellohello****hellohello****hellohello****hellohello****hellohello****hellohello****hellohello****hellohello****hellohello****hellohello****hellohello****hellohello****hellohello****hellohello****hellohello****hellohello****hellohello****hellohello****hellohello****hellohello****hellohello****hellohello****hellohello****hellohello****hellohello****hellohello****hellohello****hellohello****hellohello****hellohello****hellohello****hellohello****hellohello****hellohello****hellohello****hellohello****hellohello****hellohello****hellohello****hellohello****hellohello****hellohello****hellohello****hellohello****hellohello****hellohello****hellohello****hellohello****hellohello****hellohello****hellohello****hellohello****hellohello****hellohello****hellohello****hellohello****hellohello****hellohello****hellohello****hellohello****hellohello****hellohello****hellohello****hellohello****hellohello****hellohello****hellohello****hellohello****hellohello****hellohello****hellohello****hellohello****hellohello****hellohello****hellohello****hellohello****hellohello****hellohello****hellohello****hellohello****hellohello****hellohello****hellohello****hellohello****hellohello****hellohello****hellohello****hellohello****hellohello****hellohello****hellohello****hellohello****hellohello****hellohello****hellohello****hellohello****hellohello****hellohello****hellohello****hellohello****hellohello****hellohello****hellohello****hellohello****hellohello****hellohello****hellohello****hellohello****hellohello****hellohello****hellohello****hellohello****hellohello****hellohello****hellohello****hellohello****hellohello****hellohello****hellohello****hellohello****hellohello****hellohello****hellohello****hellohello****hellohello****hellohello****hellohello****hellohello****hellohello****hellohello****hellohello****hellohello****hellohello****hellohello****hellohello****hellohello****hellohello****hellohello****hellohello****hellohello****hellohello****hellohello****hellohello****hellohello****hellohello****hellohello****hellohello****hellohello****hellohello****hellohello****hellohello****hellohello****hellohello****hellohello****hellohello****hellohello****hellohello****hellohello****hellohello****hellohello****hellohello****hellohello****hellohello****hellohello****hellohello****hellohello****hellohello****hellohello****hellohello****hellohello****hellohello****hellohello****hellohello****hellohello****hellohello****hellohello****hellohello****hellohello****hellohello****hellohello****hellohello****hellohello****hellohello****hellohello****hellohello****hellohello****hellohello****hellohello****hellohello****hellohello****hellohello****hellohello****hellohello****hellohello****hellohello****hellohello****hellohello****hellohello****hellohello****hellohello****hellohello****hellohello****hellohello****hellohello****hellohello****hellohello****hellohello****hellohello****hellohello****hellohello****hellohello****hellohello****hellohello****hellohello****hellohello****hellohello****hellohello****hellohello****hellohello****hellohello****hellohello****hellohello****hellohello****hellohello****hellohello****hellohello****hellohello****hellohello****hellohello****hellohello****hellohello****hellohello****hellohello****hellohello****hellohello****hellohello****hellohello****hellohello****hellohello****hellohello****hellohello****hellohello****hellohello****hellohello****hellohello****hellohello****hellohello****hellohello****hellohello****hellohello****hellohello****hellohello****hellohello****hellohello****hellohello****hellohello****hellohello****hellohello****hellohello****hellohello****hellohello****hellohello****hellohello****hellohello****hellohello****hellohello****hellohello****hellohello****hellohello****hellohello****hellohello****hellohello****hellohello****hellohello****hellohello****hellohello****hellohello****hellohello****hellohello****hellohello****hellohello****hellohello****hellohello****hellohello****hellohello****hellohello****hellohello****hellohello****hellohello****hellohello****hellohello****hellohello****hellohello****hellohello****hellohello****hellohello****hellohello****hellohello****hellohello****hellohello****hellohello****hellohello****hellohello****hellohello****hellohello****hellohello****hellohello****hellohello****hellohello****hellohello****hellohello****hellohello****hellohello****hellohello****hellohello****hellohello****hellohello****hellohello****hellohello****hellohello****hellohello****hellohello****hellohello****hellohello****hellohello****hellohello****hellohello****hellohello****hellohello****hellohello****hellohello****hellohello****hellohello****hellohello****hellohello****hellohello****hellohello****hellohello****hellohello****hellohello****hellohello****hellohello****hellohello****hellohello****hellohello****hellohello****hellohello****hellohello****hellohello****hellohello****hellohello****hellohello****hellohello****hellohello****hellohello****hellohello****hellohello****hellohello****hellohello****hellohello****hellohello****hellohello****hellohello****hellohello****hellohello****hellohello****hellohello****hellohello****hellohello****hellohello****hellohello****hellohello****hellohello****hellohello****hellohello****hellohello****hellohello****hellohello****hellohello****hellohello****hellohello****hellohello****hellohello****hellohello****hellohello****hellohello****hellohello****hellohello****hellohello****hellohello****hellohello****hellohello****hellohello****hellohello****hellohello****hellohello****hellohello****hellohello****hellohello****hellohello****hellohello****hellohello****hellohello****hellohello****hellohello****hellohello****hellohello****hellohello****hellohello****hellohello****hellohello****hellohello****hellohello****hellohello****hellohello****hellohello****hellohello****hellohello****hellohello****hellohello****hellohello****hellohello****hellohello****hellohello****hellohello****hellohello****hellohello****hellohello****hellohello****hellohello****hellohello****hellohello****hellohello****hellohello****hellohello****hellohello****hellohello****hellohello****hellohello****hellohello****hellohello****hellohello****hellohello****hellohello****hellohello****hellohello****hellohello****hellohello****hellohello****hellohello****hellohello****hellohello****hellohello****hellohello****hellohello****hellohello****hellohello****hellohello****hellohello****hellohello****hellohello****hellohello****hellohello****hellohello****hellohello****hellohello****hellohello****hellohello****hellohello****hellohello****hellohello****hellohello****hellohello****hellohello****hellohello****hellohello****hellohello****hellohello****hellohello****hellohello****hellohello****hellohello****hellohello****hellohello****hellohello****hellohello****hellohello****hellohello****hellohello****hellohello****hellohello****hellohello****hellohello****hellohello****hellohello****hellohello****hellohello****hellohello****hellohello****hellohello****hellohello****hellohello****hellohello****hellohello****hellohello****hellohello****hellohello****hellohello****hellohello****hellohello****hellohello****hellohello****hellohello****hellohello****hellohello****hellohello****hellohello****hellohello****hellohello****hellohello****hellohello****hellohello****hellohello****hellohello****hellohello****hellohello****hellohello****hellohello****hellohello****hellohello****hellohello****hellohello****hellohello****hellohello****hellohello****hellohello****hellohello****hellohello****hellohello****hellohello****hellohello****hellohello****hellohello****hellohello****hellohello****hellohello****hellohello****hellohello****hellohello****hellohello****hellohello****hellohello****hellohello****hellohello****hellohello****hellohello****hellohello****hellohello****hellohello****hellohello****hellohello****hellohello****hellohello****hellohello****hellohello****hellohello****hellohello****hellohello****hellohello****hellohello****hellohello****hellohello****hellohello****hellohello****hellohello****hellohello****hellohello****hellohello****hellohello****hellohello****hellohello****hellohello****hellohello****hellohello****hellohello****hellohello****hellohello****hellohello****hellohello****hellohello****hellohello****hellohello****hellohello****hellohello****hellohello****hellohello****hellohello****hellohello****hellohello****hellohello****hellohello****hellohello****hellohello****hellohello****hellohello****hellohello****hellohello****hellohello****hellohello****hellohello****hellohello****hellohello****hellohello****hellohello****hellohello****hellohello****hellohello****hellohello****hellohello****hellohello****hellohello****hellohello****hellohello****hellohello****hellohello****hellohello****hellohello****hellohello****hellohello****hellohello****hellohello****hellohello****hellohello****hellohello****hellohello****hellohello****hellohello****hellohello****hellohello****hellohello****hellohello****hellohello****hellohello****hellohello****hellohello****hellohello****hellohello****hellohello****hellohello****hellohello****hellohello****hellohello****hellohello****hellohello****hellohello****hellohello****hellohello****hellohello****hellohello****hellohello****hellohello****hellohello****hellohello****hellohello****hellohello****hellohello****hellohello****hellohello****hellohello****hellohello****hellohello****hellohello****hellohello****hellohello****hellohello****hellohello****hellohello****hellohello****hellohello****hellohello****hellohello****hellohello****hellohello****hellohello****hellohello****hellohello****hellohello****hellohello****hellohello****hellohello****hellohello****hellohello****hellohello****hellohello****hellohello****hellohello****hellohello****hellohello****hellohello****hellohello****hellohello****hellohello****hellohello****hellohello****hellohello****hellohello****hellohello****hellohello****hellohello****hellohello****hellohello****hellohello****hellohello****hellohello****hellohello****hellohello****hellohello****hellohello****hellohello****hellohello****hellohello****hellohello****hellohello****hellohello****hellohello****hellohello****hellohello****hellohello****hellohello****hellohello****hellohello****hellohello****hellohello****hellohello****hellohello****hellohello****hellohello****hellohello****hellohello****hellohello****hellohello****hellohello****hellohello****hellohello****hellohello****hellohello****hellohello****hellohello****hellohello****hellohello****hellohello****hellohello****hellohello****hellohello****hellohello****hellohello****hellohello****hellohello****hellohello****hellohello****hellohello****hellohello****hellohello****hellohello****hellohello****hellohello****hellohello****hellohello****hellohello****hellohello****hellohello****hellohello****hellohello****hellohello****hellohello****hellohello****hellohello****hellohello****hellohello****hellohello****hellohello****hellohello****hellohello****hellohello****hellohello****hellohello****hellohello****hellohello****hellohello****hellohello****hellohello****hellohello****hellohello****hellohello****hellohello****hellohello****hellohello****hellohello****hellohello****hellohello****hellohello****hellohello****hellohello****hellohello****hellohello****hellohello****hellohello****hellohello****hellohello****hellohello****hellohello****hellohello****hellohello****hellohello****hellohello****hellohello****hellohello****hellohello****hellohello****hellohello****hellohello****hellohello****hellohello****hellohello****hellohello****hellohello****hellohello****hellohello****hellohello****hellohello****hellohello****hellohello****hellohello****hellohello****hellohello****hellohello****hellohello****hellohello****hellohello****hellohello****hellohello****hellohello****hellohello****hellohello****hellohello****hellohello****hellohello****hellohello****hellohello****hellohello****hellohello****hellohello****hellohello****hellohello****hellohello****hellohello****hellohello****hellohello****hellohello****hellohello****hellohello****hellohello****hellohello****hellohello****hellohello****hellohello****hellohello****hellohello****hellohello****hellohello****hellohello****hellohello****hellohello****hellohello****hellohello****hellohello****hellohello****hellohello****hellohello****hellohello****hellohello****hellohello****hellohello****hellohello****hellohello****hellohello****hellohello****hellohello****hellohello****hellohello****hellohello****hellohello****hellohello****hellohello****hellohello****hellohello****hellohello****hellohello****hellohello****hellohello****hellohello****hellohello****hellohello****hellohello****hellohello****hellohello****hellohello****hellohello****hellohello****hellohello****hellohello****hellohello****hellohello****hellohello****hellohello****hellohello****hellohello****hellohello****hellohello****hellohello****hellohello****hellohello****hellohello****hellohello****hellohello****hellohello****hellohello****hellohello****hellohello****hellohello****hellohello****hellohello****hellohello****hellohello****hellohello****hellohello****hellohello****hellohello****hellohello****hellohello****hellohello****hellohello****hellohello****hellohello****hellohello****hellohello****hellohello****hellohello****hellohello****hellohello****hellohello****hellohello****hellohello****hellohello****hellohello****hellohello****hellohello****hellohello****hellohello****hellohello****hellohello****hellohello****hellohello****hellohello****hellohello****hellohello****hellohello****hellohello****hellohello****hellohello****hellohello****hellohello****hellohello****hellohello****hellohello****hellohello****hellohello****hellohello****hellohello****hellohello****hellohello****hellohello****hellohello****hellohello****hellohello****hellohello****hellohello****hellohello****hellohello****hellohello****hellohello****hellohello****hellohello****hellohello****hellohello****hellohello****hellohello****hellohello****hellohello****hellohello****hellohello****hellohello****hellohello****hellohello****hellohello****hellohello****hellohello****hellohello****hellohello****hellohello****hellohello****hellohello****hellohello****hellohello****hellohello****hellohello****hellohello****hellohello****hellohello****hellohello****hellohello****hellohello****hellohello****hellohello****hellohello****hellohello****hellohello****hellohello****hellohello****hellohello****hellohello****hellohello****hellohello****hellohello****hellohello****hellohello****hellohello****hellohello****hellohello****hellohello****hellohello****hellohello****hellohello****hellohello****hellohello****hellohello****hellohello****hellohello****hellohello****hellohello****hellohello****hellohello****hellohello****hellohello****hellohello****hellohello****hellohello****hellohello****hellohello****hellohello****hellohello****hellohello****hellohello****hellohello****hellohello****hellohello****hellohello****hellohello****hellohello****hellohello****hellohello****hellohello****hellohello****hellohello****hellohello****hellohello****hellohello****hellohello****hellohello****hellohello****hellohello****hellohello****hellohello****hellohello****hellohello****hellohello****hellohello****hellohello****hellohello****hellohello****hellohello****hellohello****hellohello****hellohello****hellohello****hellohello****hellohello****hellohello****hellohello****hellohello****hellohello****hellohello****hellohello****hellohello****hellohello****hellohello****hellohello****hellohello****hellohello****hellohello****hellohello****hellohello****hellohello****hellohello****hellohello****hellohello****hellohello****hellohello****hellohello****hellohello****hellohello****hellohello****hellohello****hellohello****hellohello****hellohello****hellohello****hellohello****hellohello****hellohello****hellohello****hellohello****hellohello****hellohello****hellohello****hellohello****hellohello****hellohello****hellohello****hellohello****hellohello****hellohello****hellohello****hellohello****hellohello****hellohello****hellohello****hellohello****hellohello****hellohello****hellohello****hellohello****hellohello****hellohello****hellohello****hellohello****hellohello****hellohello****hellohello****hellohello****hellohello****hellohello****hellohello****hellohello****hellohello****hellohello****hellohello****hellohello****hellohello****hellohello****hellohello****hellohello****hellohello****hellohello****hellohello****hellohello****hellohello****hellohello****hellohello****hellohello****hellohello****hellohello****hellohello****hellohello****hellohello****hellohello****hellohello****hellohello****hellohello****hellohello****hellohello****hellohello****hellohello****hellohello****hellohello****hellohello****hellohello****hellohello****hellohello****hellohello****hellohello****hellohello****hellohello****hellohello****hellohello****hellohello****hellohello****hellohello****hellohello****hellohello****hellohello****hellohello****hellohello****hellohello****hellohello****hellohello****hellohello****hellohello****hellohello****hellohello****hellohello****hellohello****hellohello****hellohello****hellohello****hellohello****hellohello****hellohello****hellohello****hellohello****hellohello****hellohello****hellohello****hellohello****hellohello****hellohello****hellohello****hellohello****hellohello****hellohello****hellohello****hellohello****hellohello****hellohello****hellohello****hellohello****hellohello****hellohello****hellohello****hellohello****hellohello****hellohello****hellohello****hellohello****hellohello****hellohello****hellohello****hellohello****hellohello****hellohello****hellohello****hellohello****hellohello****hellohello****hellohello****hellohello****hellohello****hellohello****hellohello****hellohello****hellohello****hellohello****hellohello****hellohello****hellohello****hellohello****hellohello****hellohello****hellohello****hellohello****hellohello****hellohello****hellohello****hellohello****hellohello****hellohello****hellohello****hellohello****hellohello****hellohello****hellohello****hellohello****hellohello****hellohello****hellohello****hellohello****hellohello****hellohello****hellohello****hellohello****hellohello****hellohello****hellohello****hellohello****hellohello****hellohello****hellohello****hellohello****hellohello****hellohello****hellohello****hellohello****hellohello****hellohello****hellohello****hellohello****hellohello****hellohello****hellohello****hellohello****hellohello****hellohello****hellohello****hellohello****hellohello****hellohello****hellohello****hellohello****hellohello****hellohello****hellohello****hellohello****hellohello****hellohello****hellohello****hellohello****hellohello****hellohello****hellohello****hellohello****hellohello****hellohello****hellohello****hellohello****hellohello****hellohello****hellohello****hellohello****hellohello****hellohello****hellohello****hellohello****hellohello****hellohello****hellohello****hellohello****hellohello****hellohello****hellohello****hellohello****hellohello****hellohello****hellohello****hellohello****hellohello****hellohello****hellohello****hellohello****hellohello****hellohello****hellohello****hellohello****hellohello****hellohello****hellohello****hellohello****hellohello****hellohello****hellohello****hellohello****hellohello****hellohello****hellohello****hellohello****hellohello****hellohello****hellohello****hellohello****hellohello****hellohello****hellohello****hellohello****hellohello****hellohello****hellohello****hellohello****hellohello****hellohello****hellohello****hellohello****hellohello****hellohello****hellohello****hellohello****hellohello****hellohello****hellohello****hellohello****hellohello****hellohello****hellohello****hellohello****hellohello****hellohello****hellohello****hellohello****hellohello****hellohello****hellohello****hellohello****hellohello****hellohello****hellohello****hellohello****hellohello****hellohello****hellohello****hellohello****hellohello****hellohello****hellohello****hellohello****hellohello****hellohello****hellohello****hellohello****hellohello****hellohello****hellohello****hellohello****hellohello****hellohello****hellohello****hellohello****hellohello****hellohello****hellohello****hellohello****hellohello****hellohello****hellohello****hellohello****hellohello****hellohello****hellohello****hellohello****hellohello****hellohello****hellohello****hellohello****hellohello****hellohello****hellohello****hellohello****hellohello****hellohello****hellohello****hellohello****hellohello****hellohello****hellohello****hellohello****hellohello****hellohello****hellohello****hellohello****hellohello****hellohello****hellohello****hellohello****hellohello****hellohello****hellohello****hellohello****hellohello****hellohello****hellohello****hellohello****hellohello****hellohello****hellohello****hellohello****hellohello****hellohello****hellohello****hellohello****hellohello****hellohello****hellohello****hellohello****hellohello****hellohello****hellohello****hellohello****hellohello****hellohello****hellohello****hellohello****hellohello****hellohello****hellohello****hellohello****hellohello****hellohello****hellohello****hellohello****hellohello****hellohello****hellohello****hellohello****hellohello****hellohello****hellohello****hellohello****hellohello****hellohello****hellohello****hellohello****hellohello****hellohello****hellohello****hellohello****hellohello****hellohello****hellohello****hellohello****hellohello****hellohello****hellohello****hellohello****hellohello****hellohello****hellohello****hellohello****hellohello****hellohello****hellohello****hellohello****hellohello****hellohello****hellohello****hellohello****hellohello****hellohello****hellohello****hellohello****hellohello****hellohello****hellohello****hellohello****hellohello****hellohello****hellohello****hellohello****hellohello****hellohello****hellohello****hellohello****hellohello****hellohello****hellohello****hellohello****hellohello****hellohello****hellohello****hellohello****hellohello****hellohello****hellohello****hellohello****hellohello****hellohello****hellohello****hellohello****hellohello****hellohello****hellohello****hellohello****hellohello****hellohello****hellohello****hellohello****hellohello****hellohello****hellohello****hellohello****hellohello****hellohello****hellohello****hellohello****hellohello****hellohello****hellohello****hellohello****hellohello****hellohello****hellohello****hellohello****hellohello****hellohello****hellohello****hellohello****hellohello****hellohello****hellohello****hellohello****hellohello****hellohello****hellohello****hellohello****hellohello****hellohello****hellohello****hellohello****hellohello****hellohello****hellohello****hellohello****hellohello****hellohello****hellohello****hellohello****hellohello****hellohello****hellohello****hellohello****hellohello****hellohello****hellohello****hellohello****hellohello****hellohello****hellohello****hellohello****hellohello****hellohello****hellohello****hellohello****hellohello****hellohello****hellohello****hellohello****hellohello****hellohello****hellohello****hellohello****hellohello****hellohello****hellohello****hellohello****hellohello****hellohello****hellohello****hellohello****hellohello****hellohello****hellohello****hellohello****hellohello****hellohello****hellohello****hellohello****hellohello****hellohello****hellohello****hellohello****hellohello****hellohello****hellohello****hellohello****hellohello****hellohello****hellohello****hellohello****hellohello****hellohello****hellohello****hellohello****hellohello****hellohello****hellohello****hellohello****hellohello****hellohello****hellohello****hellohello****hellohello****hellohello****hellohello****hellohello****hellohello****hellohello****hellohello****hellohello****hellohello****hellohello****hellohello****hellohello****hellohello****hellohello****hellohello****hellohello****hellohello****hellohello****hellohello****hellohello****hellohello****hellohello****hellohello****hellohello****hellohello****hellohello****hellohello****hellohello****hellohello****hellohello****hellohello****hellohello****hellohello****hellohello****hellohello****hellohello****hellohello****hellohello****hellohello****hellohello****hellohello****hellohello****hellohello****hellohello****hellohello****hellohello****hellohello****hellohello****hellohello****hellohello****hellohello****hellohello****hellohello****hellohello****hellohello****hellohello****hellohello****hellohello****hellohello****hellohello****hellohello****hellohello****hellohello****hellohello****hellohello****hellohello****hellohello****hellohello****hellohello****hellohello****hellohello****hellohello****hellohello****hellohello****hellohello****hellohello****hellohello****hellohello****hellohello****hellohello****hellohello****hellohello****hellohello****hellohello****hellohello****hellohello****hellohello****hellohello****hellohello****hellohello****hellohello****hellohello****hellohello****hellohello****hellohello****hellohello****hellohello****hellohello****hellohello****hellohello****hellohello****hellohello****hellohello****hellohello****hellohello****hellohello****hellohello****hellohello****hellohello****hellohello****hellohello****hellohello****hellohello****hellohello****hellohello****hellohello****hellohello****hellohello****hellohello****hellohello****hellohello****hellohello****hellohello****hellohello****hellohello****hellohello****hellohello****hellohello****hellohello****hellohello****hellohello****hellohello****hellohello****hellohello****hellohello****hellohello****hellohello****hellohello****hellohello****hellohello****hellohello****hellohello****hellohello****hellohello****hellohello****hellohello****hellohello****hellohello****hellohello****hellohello****hellohello****hellohello****hellohello****hellohello****hellohello****hellohello****hellohello****hellohello****hellohello****hellohello****hellohello****hellohello****hellohello****hellohello****hellohello****hellohello****hellohello****hellohello****hellohello****hellohello****hellohello****hellohello****hellohello****hellohello****hellohello****hellohello****hellohello****hellohello****hellohello****hellohello****hellohello****hellohello****hellohello****hellohello****hellohello****hellohello****hellohello****hellohello****hellohello****hellohello****hellohello****hellohello****hellohello****hellohello****hellohello****hellohello****hellohello****hellohello****hellohello****hellohello****hellohello****hellohello****hellohello****hellohello****hellohello****hellohello****hellohello****hellohello****hellohello****hellohello****hellohello****hellohello****hellohello****hellohello****hellohello****hellohello****hellohello****hellohello****hellohello****hellohello****hellohello****hellohello****hellohello****hellohello****hellohello****hellohello****hellohello****hellohello****hellohello****hellohello****hellohello****hellohello****hellohello****hellohello****hellohello****hellohello****hellohello****hellohello****hellohello****hellohello****hellohello****hellohello****hellohello****hellohello****hellohello****hellohello****hellohello****hellohello****hellohello****hellohello****hellohello****hellohello****hellohello****hellohello****hellohello****hellohello****hellohello****hellohello****hellohello****hellohello****hellohello****hellohello****hellohello****hellohello****hellohello****hellohello****hellohello****hellohello****hellohello****hellohello****hellohello****hellohello****hellohello****hellohello****hellohello****hellohello****hellohello****hellohello****hellohello****hellohello****hellohello****hellohello****hellohello****hellohello****hellohello****hellohello****hellohello****hellohello****hellohello****hellohello****hellohello****hellohello****hellohello****hellohello****hellohello****hellohello****hellohello****hellohello****hellohello****hellohello****hellohello****hellohello****hellohello****hellohello****hellohello****hellohello****hellohello****hellohello****hellohello****hellohello****hellohello****hellohello****hellohello****hellohello****hellohello****hellohello****hellohello****hellohello****hellohello****hellohello****hellohello****hellohello****hellohello****hellohello****hellohello****hellohello****hellohello****hellohello****hellohello****hellohello****hellohello****hellohello****hellohello****hellohello****hellohello****hellohello****hellohello****hellohello****hellohello****hellohello****hellohello****hellohello****hellohello****hellohello****hellohello****hellohello****hellohello****hellohello****hellohello****hellohello****hellohello****hellohello****hellohello****hellohello****hellohello****hellohello****hellohello****hellohello****hellohello****hellohello****hellohello****hellohello****hellohello****hellohello****hellohello****hellohello****hellohello****hellohello****hellohello****hellohello****hellohello****hellohello****hellohello****hellohello****hellohello****hellohello****hellohello****hellohello****hellohello****hellohello****hellohello****hellohello****hellohello****hellohello****hellohello****hellohello****hellohello****hellohello****hellohello****hellohello****hellohello****hellohello****hellohello****hellohello****hellohello****hellohello****hellohello****hellohello****hellohello****hellohello****hellohello****hellohello****hellohello****hellohello****hellohello****hellohello****hellohello****hellohello****hellohello****hellohello****hellohello****hellohello****hellohello****hellohello****hellohello****hellohello****hellohello****hellohello****hellohello****hellohello****hellohello****hellohello****hellohello****hellohello****hellohello****hellohello****hellohello****hellohello****hellohello****hellohello****hellohello****hellohello****hellohello****hellohello****hellohello****hellohello****hellohello****hellohello****hellohello****hellohello****hellohello****hellohello****hellohello****hellohello****hellohello****hellohello****hellohello****hellohello****hellohello****hellohello****hellohello****hellohello****hellohello****hellohello****hellohello****hellohello****hellohello****hellohello****hellohello****hellohello****hellohello****hellohello****hellohello****hellohello****hellohello****hellohello****hellohello****hellohello****hellohello****hellohello****hellohello****hellohello****hellohello****hellohello****hellohello****hellohello****hellohello****hellohello****hellohello****hellohello****hellohello****hellohello****hellohello****hellohello****hellohello****hellohello****hellohello****hellohello****hellohello****hellohello****hellohello****hellohello****hellohello****hellohello****hellohello****hellohello****hellohello****hellohello****hellohello****hellohello****hellohello****hellohello****hellohello****hellohello****hellohello****hellohello****hellohello****hellohello****hellohello****hellohello****hellohello****hellohello****hellohello****hellohello****hellohello****hellohello****hellohello****hellohello****hellohello****hellohello****hellohello****hellohello****hellohello****hellohello****hellohello****hellohello****hellohello****hellohello****hellohello****hellohello****hellohello****hellohello****hellohello****hellohello****hellohello****hellohello****hellohello****hellohello****hellohello****hellohello****hellohello****hellohello****hellohello****hellohello****hellohello****hellohello****hellohello****hellohello****hellohello****hellohello****hellohello****hellohello****hellohello****hellohello****hellohello****hellohello****hellohello****hellohello****hellohello****hellohello****hellohello****"
          ]
        }
      ]
    },
    {
      "cell_type": "markdown",
      "source": [
        "#### tell() and seek()\n",
        "\n",
        "- tell() -> tells where the cursor is at .\n",
        "- seek() -> manipulate cursor at any place"
      ],
      "metadata": {
        "id": "l0Anws_s0v3Y"
      }
    },
    {
      "cell_type": "code",
      "source": [
        "L = ['hello\\n','hi\\n','how are you\\n','I am fine']\n",
        "with open('sample.txt','w') as f:\n",
        "  f.writelines(L)"
      ],
      "metadata": {
        "id": "ola9nM6R0lOq"
      },
      "execution_count": 112,
      "outputs": []
    },
    {
      "cell_type": "code",
      "source": [
        "with open('sample.txt','r') as f:\n",
        "  print(f.read(10))\n",
        "  print(f.tell()) #0\n",
        "  print(f.seek(2))\n",
        "  print(f.read(5))\n"
      ],
      "metadata": {
        "id": "aiS5ExIb1LsK",
        "colab": {
          "base_uri": "https://localhost:8080/"
        },
        "outputId": "4e10094b-1e51-4b33-fb61-216fd57dc9bc"
      },
      "execution_count": 113,
      "outputs": [
        {
          "output_type": "stream",
          "name": "stdout",
          "text": [
            "hello\n",
            "hi\n",
            "h\n",
            "10\n",
            "2\n",
            "llo\n",
            "h\n"
          ]
        }
      ]
    },
    {
      "cell_type": "code",
      "source": [
        "# seek during write\n",
        "with open('sample.txt','w') as f:\n",
        "  f.write(\"Hi i am yash\")\n",
        "  f.seek(0)\n",
        "  f.write(\"yo\")\n"
      ],
      "metadata": {
        "id": "_l_fpOJk1WDY"
      },
      "execution_count": 114,
      "outputs": []
    },
    {
      "cell_type": "markdown",
      "source": [
        "Problem with working with text files\n",
        "\n",
        "- can't work with binary files like images\n",
        "- not good for other datatypes like int/float/list/tuples"
      ],
      "metadata": {
        "id": "ZDKMeXDj2IEq"
      }
    },
    {
      "cell_type": "markdown",
      "source": [
        "#### Working with binary files"
      ],
      "metadata": {
        "id": "hfTqVYoc2K5H"
      }
    },
    {
      "cell_type": "code",
      "source": [
        "with open('ss.jpg','rb') as f:\n",
        "  with open('ss_copy','wb') as wf:\n",
        "    wf.write(f.read())\n"
      ],
      "metadata": {
        "id": "euKydlk92BgS",
        "colab": {
          "base_uri": "https://localhost:8080/",
          "height": 180
        },
        "outputId": "2748c675-e708-4f59-a2b7-0537a8b41dc4"
      },
      "execution_count": 115,
      "outputs": [
        {
          "output_type": "error",
          "ename": "FileNotFoundError",
          "evalue": "[Errno 2] No such file or directory: 'ss.jpg'",
          "traceback": [
            "\u001b[0;31m---------------------------------------------------------------------------\u001b[0m",
            "\u001b[0;31mFileNotFoundError\u001b[0m                         Traceback (most recent call last)",
            "\u001b[0;32m/tmp/ipython-input-3333238373.py\u001b[0m in \u001b[0;36m<cell line: 0>\u001b[0;34m()\u001b[0m\n\u001b[0;32m----> 1\u001b[0;31m \u001b[0;32mwith\u001b[0m \u001b[0mopen\u001b[0m\u001b[0;34m(\u001b[0m\u001b[0;34m'ss.jpg'\u001b[0m\u001b[0;34m,\u001b[0m\u001b[0;34m'rb'\u001b[0m\u001b[0;34m)\u001b[0m \u001b[0;32mas\u001b[0m \u001b[0mf\u001b[0m\u001b[0;34m:\u001b[0m\u001b[0;34m\u001b[0m\u001b[0;34m\u001b[0m\u001b[0m\n\u001b[0m\u001b[1;32m      2\u001b[0m   \u001b[0;32mwith\u001b[0m \u001b[0mopen\u001b[0m\u001b[0;34m(\u001b[0m\u001b[0;34m'ss_copy'\u001b[0m\u001b[0;34m,\u001b[0m\u001b[0;34m'wb'\u001b[0m\u001b[0;34m)\u001b[0m \u001b[0;32mas\u001b[0m \u001b[0mwf\u001b[0m\u001b[0;34m:\u001b[0m\u001b[0;34m\u001b[0m\u001b[0;34m\u001b[0m\u001b[0m\n\u001b[1;32m      3\u001b[0m     \u001b[0mwf\u001b[0m\u001b[0;34m.\u001b[0m\u001b[0mwrite\u001b[0m\u001b[0;34m(\u001b[0m\u001b[0mf\u001b[0m\u001b[0;34m.\u001b[0m\u001b[0mread\u001b[0m\u001b[0;34m(\u001b[0m\u001b[0;34m)\u001b[0m\u001b[0;34m)\u001b[0m\u001b[0;34m\u001b[0m\u001b[0;34m\u001b[0m\u001b[0m\n",
            "\u001b[0;31mFileNotFoundError\u001b[0m: [Errno 2] No such file or directory: 'ss.jpg'"
          ]
        }
      ]
    },
    {
      "cell_type": "markdown",
      "source": [
        "#### Working with other datatype"
      ],
      "metadata": {
        "id": "rRtsdSmd4SN5"
      }
    },
    {
      "cell_type": "code",
      "source": [
        "with open('sample.txt','w') as f:\n",
        "  f.write(5)"
      ],
      "metadata": {
        "id": "4z_EOpLR3V_J",
        "colab": {
          "base_uri": "https://localhost:8080/",
          "height": 162
        },
        "outputId": "5d2e4ee9-9521-44bc-a75e-d09ca1312557"
      },
      "execution_count": 116,
      "outputs": [
        {
          "output_type": "error",
          "ename": "TypeError",
          "evalue": "write() argument must be str, not int",
          "traceback": [
            "\u001b[0;31m---------------------------------------------------------------------------\u001b[0m",
            "\u001b[0;31mTypeError\u001b[0m                                 Traceback (most recent call last)",
            "\u001b[0;32m/tmp/ipython-input-1855061156.py\u001b[0m in \u001b[0;36m<cell line: 0>\u001b[0;34m()\u001b[0m\n\u001b[1;32m      1\u001b[0m \u001b[0;32mwith\u001b[0m \u001b[0mopen\u001b[0m\u001b[0;34m(\u001b[0m\u001b[0;34m'sample.txt'\u001b[0m\u001b[0;34m,\u001b[0m\u001b[0;34m'w'\u001b[0m\u001b[0;34m)\u001b[0m \u001b[0;32mas\u001b[0m \u001b[0mf\u001b[0m\u001b[0;34m:\u001b[0m\u001b[0;34m\u001b[0m\u001b[0;34m\u001b[0m\u001b[0m\n\u001b[0;32m----> 2\u001b[0;31m   \u001b[0mf\u001b[0m\u001b[0;34m.\u001b[0m\u001b[0mwrite\u001b[0m\u001b[0;34m(\u001b[0m\u001b[0;36m5\u001b[0m\u001b[0;34m)\u001b[0m\u001b[0;34m\u001b[0m\u001b[0;34m\u001b[0m\u001b[0m\n\u001b[0m",
            "\u001b[0;31mTypeError\u001b[0m: write() argument must be str, not int"
          ]
        }
      ]
    },
    {
      "cell_type": "code",
      "source": [
        "with open('sample.txt','w') as f:\n",
        "  f.write('5')"
      ],
      "metadata": {
        "id": "giO-LX2v4epS"
      },
      "execution_count": 117,
      "outputs": []
    },
    {
      "cell_type": "code",
      "source": [
        "with open('sample.txt','r') as f:\n",
        "  print(f.read())"
      ],
      "metadata": {
        "id": "6IU3FxgH4iG5",
        "colab": {
          "base_uri": "https://localhost:8080/"
        },
        "outputId": "0b2707e3-8bae-40e9-f021-c8d4196408b7"
      },
      "execution_count": 118,
      "outputs": [
        {
          "output_type": "stream",
          "name": "stdout",
          "text": [
            "5\n"
          ]
        }
      ]
    },
    {
      "cell_type": "code",
      "source": [
        "with open('sample.txt','r') as f:\n",
        "  print(int(f.read())+6)"
      ],
      "metadata": {
        "id": "zU3-UtF04ne7",
        "colab": {
          "base_uri": "https://localhost:8080/"
        },
        "outputId": "0c3c31dc-44e3-4516-e7e9-1f4563a98144"
      },
      "execution_count": 119,
      "outputs": [
        {
          "output_type": "stream",
          "name": "stdout",
          "text": [
            "11\n"
          ]
        }
      ]
    },
    {
      "cell_type": "code",
      "source": [
        "# more complex datatype\n",
        "d = {\n",
        "    'name':'yash',\n",
        "    'age':22,\n",
        "    'gender':'male'\n",
        "}\n",
        "\n",
        "with open('sample.txt','w') as f:\n",
        "  f.write(str(d))"
      ],
      "metadata": {
        "id": "24hAzcbn4z5T"
      },
      "execution_count": 120,
      "outputs": []
    },
    {
      "cell_type": "code",
      "source": [
        "with open('sample.txt','r') as f:\n",
        "  print(f.read())\n",
        "  print(type(f.read()))\n",
        "\n",
        "  # now can't change to dict"
      ],
      "metadata": {
        "id": "hf82G1by5JXk",
        "colab": {
          "base_uri": "https://localhost:8080/"
        },
        "outputId": "be8de18b-0be2-4fe8-ac54-263cd240c403"
      },
      "execution_count": 121,
      "outputs": [
        {
          "output_type": "stream",
          "name": "stdout",
          "text": [
            "{'name': 'yash', 'age': 22, 'gender': 'male'}\n",
            "<class 'str'>\n"
          ]
        }
      ]
    },
    {
      "cell_type": "markdown",
      "source": [
        "### 10.2  Serialization and Deserialization\n",
        "\n",
        "- Serialization : process of converting python data types to json format .\n",
        "- Deserialization : process of converting JSON to python data  types ."
      ],
      "metadata": {
        "id": "D1RxEF9N5awj"
      }
    },
    {
      "cell_type": "markdown",
      "source": [
        "    JSON : universal data format - Javascript on notation"
      ],
      "metadata": {
        "id": "w8iRbmpd5qT0"
      }
    },
    {
      "cell_type": "markdown",
      "source": [
        "#### Serialization using json module"
      ],
      "metadata": {
        "id": "Ew32ZQyc5wlI"
      }
    },
    {
      "cell_type": "code",
      "source": [
        "import json\n",
        "# List\n",
        "L =[1,2,3,4]\n",
        "with open('demo.json','w') as f:\n",
        "  json.dump(L,f)"
      ],
      "metadata": {
        "id": "UtiMnd0l5QYx"
      },
      "execution_count": 122,
      "outputs": []
    },
    {
      "cell_type": "code",
      "source": [
        "with open('demo.json','r') as f:\n",
        "  print(f.read())"
      ],
      "metadata": {
        "id": "sVJ5njMK6GZc",
        "colab": {
          "base_uri": "https://localhost:8080/"
        },
        "outputId": "777998c1-9b0b-4cb1-bd16-4e79f1794483"
      },
      "execution_count": 123,
      "outputs": [
        {
          "output_type": "stream",
          "name": "stdout",
          "text": [
            "[1, 2, 3, 4]\n"
          ]
        }
      ]
    },
    {
      "cell_type": "code",
      "source": [
        "# Dictionary\n",
        "dict = {\"name\":\"yash\",\"age\":23,\"gender\":\"male\"}\n",
        "with open('dictionary.json','w') as f:\n",
        "  json.dump(dict,f,indent=4)"
      ],
      "metadata": {
        "id": "lp5D1_9i6ROA"
      },
      "execution_count": 124,
      "outputs": []
    },
    {
      "cell_type": "markdown",
      "source": [
        "#### Deserialization"
      ],
      "metadata": {
        "id": "AFnTkmum6yNs"
      }
    },
    {
      "cell_type": "code",
      "source": [
        "import json\n",
        "with open('demo.json','r') as f:\n",
        "  d = json.load(f)\n",
        "  print(d)\n",
        "type(d)"
      ],
      "metadata": {
        "id": "3rmOtXZi6l0j",
        "colab": {
          "base_uri": "https://localhost:8080/"
        },
        "outputId": "d4826780-bb18-4c81-aefb-6e2f1669cc7c"
      },
      "execution_count": 125,
      "outputs": [
        {
          "output_type": "stream",
          "name": "stdout",
          "text": [
            "[1, 2, 3, 4]\n"
          ]
        },
        {
          "output_type": "execute_result",
          "data": {
            "text/plain": [
              "list"
            ]
          },
          "metadata": {},
          "execution_count": 125
        }
      ]
    },
    {
      "cell_type": "code",
      "source": [
        "import json\n",
        "with open('dictionary.json','r') as f:\n",
        "  d = json.load(f)\n",
        "  print(d)\n",
        "type(d)"
      ],
      "metadata": {
        "id": "g9Mu7V207MCS",
        "colab": {
          "base_uri": "https://localhost:8080/"
        },
        "outputId": "6e5a7647-3ad3-4203-8213-c36957a1b014"
      },
      "execution_count": 126,
      "outputs": [
        {
          "output_type": "stream",
          "name": "stdout",
          "text": [
            "{'name': 'yash', 'age': 23, 'gender': 'male'}\n"
          ]
        },
        {
          "output_type": "execute_result",
          "data": {
            "text/plain": [
              "dict"
            ]
          },
          "metadata": {},
          "execution_count": 126
        }
      ]
    },
    {
      "cell_type": "markdown",
      "source": [
        "#### serialize and deserialize tuple - Tuple store like list"
      ],
      "metadata": {
        "id": "EFym5owA7lTd"
      }
    },
    {
      "cell_type": "code",
      "source": [
        "import json\n",
        "tup1 = (1,2,3,4)\n",
        "with open('tup1.json','w') as f:\n",
        "  json.dump(tup1,f)\n"
      ],
      "metadata": {
        "id": "S2nS1Djg7fAp"
      },
      "execution_count": 127,
      "outputs": []
    },
    {
      "cell_type": "code",
      "source": [
        "with open('tup1.json','r') as f:\n",
        "  s = json.load(f)\n",
        "  print(s)\n",
        "  print(type(s))"
      ],
      "metadata": {
        "id": "8knTDMcR71qn",
        "colab": {
          "base_uri": "https://localhost:8080/"
        },
        "outputId": "5a0b5bb1-7956-4b6a-f85d-b2b9fa0382cc"
      },
      "execution_count": 128,
      "outputs": [
        {
          "output_type": "stream",
          "name": "stdout",
          "text": [
            "[1, 2, 3, 4]\n",
            "<class 'list'>\n"
          ]
        }
      ]
    },
    {
      "cell_type": "code",
      "source": [
        "# serialize and desrialize a nested dict\n",
        "d = {\n",
        "    'student':'yash',\n",
        "    'marks':[23,14,34,45,56]\n",
        "}\n",
        "\n",
        "with open('dictnest.json','w') as f:\n",
        "  json.dump(d,f)"
      ],
      "metadata": {
        "id": "6oqRYOgd7-SM"
      },
      "execution_count": 129,
      "outputs": []
    },
    {
      "cell_type": "code",
      "source": [
        "with open('dictnest.json','r') as f:\n",
        "  s = json.load(f)\n",
        "  print(s)\n",
        "  print(type(s))"
      ],
      "metadata": {
        "id": "tZZ_ALOJ8zHt",
        "colab": {
          "base_uri": "https://localhost:8080/"
        },
        "outputId": "1aeeb908-09a1-4a09-d443-afab8f4709b5"
      },
      "execution_count": 130,
      "outputs": [
        {
          "output_type": "stream",
          "name": "stdout",
          "text": [
            "{'student': 'yash', 'marks': [23, 14, 34, 45, 56]}\n",
            "<class 'dict'>\n"
          ]
        }
      ]
    },
    {
      "cell_type": "markdown",
      "source": [
        "#### Serializing Deserializing custom objects"
      ],
      "metadata": {
        "id": "xPJHUmy49D_S"
      }
    },
    {
      "cell_type": "code",
      "source": [
        "class Person:\n",
        "  def __init__(self,fname,lname,age,gender):\n",
        "    self.fname = fname\n",
        "    self.lname = lname\n",
        "    self.age = age\n",
        "    self.gender=gender\n",
        "\n",
        "# format\n",
        "# yash  age -> 33 gender -> male"
      ],
      "metadata": {
        "id": "OtVjSW-J88_5"
      },
      "execution_count": 131,
      "outputs": []
    },
    {
      "cell_type": "code",
      "source": [
        "p1 = Person('yash','pokhriyal',23,'male')"
      ],
      "metadata": {
        "id": "6lK6Uqpu9qKC"
      },
      "execution_count": 132,
      "outputs": []
    },
    {
      "cell_type": "code",
      "source": [
        "import json\n",
        "\n",
        "with open('cust.json','w') as f:\n",
        "  json.dump(p1,f)"
      ],
      "metadata": {
        "id": "mD2M5Zu29v3s",
        "colab": {
          "base_uri": "https://localhost:8080/",
          "height": 329
        },
        "outputId": "561062da-e02e-4c60-9af3-d03572fd9714"
      },
      "execution_count": 133,
      "outputs": [
        {
          "output_type": "error",
          "ename": "TypeError",
          "evalue": "Object of type Person is not JSON serializable",
          "traceback": [
            "\u001b[0;31m---------------------------------------------------------------------------\u001b[0m",
            "\u001b[0;31mTypeError\u001b[0m                                 Traceback (most recent call last)",
            "\u001b[0;32m/tmp/ipython-input-380883972.py\u001b[0m in \u001b[0;36m<cell line: 0>\u001b[0;34m()\u001b[0m\n\u001b[1;32m      2\u001b[0m \u001b[0;34m\u001b[0m\u001b[0m\n\u001b[1;32m      3\u001b[0m \u001b[0;32mwith\u001b[0m \u001b[0mopen\u001b[0m\u001b[0;34m(\u001b[0m\u001b[0;34m'cust.json'\u001b[0m\u001b[0;34m,\u001b[0m\u001b[0;34m'w'\u001b[0m\u001b[0;34m)\u001b[0m \u001b[0;32mas\u001b[0m \u001b[0mf\u001b[0m\u001b[0;34m:\u001b[0m\u001b[0;34m\u001b[0m\u001b[0;34m\u001b[0m\u001b[0m\n\u001b[0;32m----> 4\u001b[0;31m   \u001b[0mjson\u001b[0m\u001b[0;34m.\u001b[0m\u001b[0mdump\u001b[0m\u001b[0;34m(\u001b[0m\u001b[0mp1\u001b[0m\u001b[0;34m,\u001b[0m\u001b[0mf\u001b[0m\u001b[0;34m)\u001b[0m\u001b[0;34m\u001b[0m\u001b[0;34m\u001b[0m\u001b[0m\n\u001b[0m",
            "\u001b[0;32m/usr/lib/python3.12/json/__init__.py\u001b[0m in \u001b[0;36mdump\u001b[0;34m(obj, fp, skipkeys, ensure_ascii, check_circular, allow_nan, cls, indent, separators, default, sort_keys, **kw)\u001b[0m\n\u001b[1;32m    177\u001b[0m     \u001b[0;31m# could accelerate with writelines in some versions of Python, at\u001b[0m\u001b[0;34m\u001b[0m\u001b[0;34m\u001b[0m\u001b[0m\n\u001b[1;32m    178\u001b[0m     \u001b[0;31m# a debuggability cost\u001b[0m\u001b[0;34m\u001b[0m\u001b[0;34m\u001b[0m\u001b[0m\n\u001b[0;32m--> 179\u001b[0;31m     \u001b[0;32mfor\u001b[0m \u001b[0mchunk\u001b[0m \u001b[0;32min\u001b[0m \u001b[0miterable\u001b[0m\u001b[0;34m:\u001b[0m\u001b[0;34m\u001b[0m\u001b[0;34m\u001b[0m\u001b[0m\n\u001b[0m\u001b[1;32m    180\u001b[0m         \u001b[0mfp\u001b[0m\u001b[0;34m.\u001b[0m\u001b[0mwrite\u001b[0m\u001b[0;34m(\u001b[0m\u001b[0mchunk\u001b[0m\u001b[0;34m)\u001b[0m\u001b[0;34m\u001b[0m\u001b[0;34m\u001b[0m\u001b[0m\n\u001b[1;32m    181\u001b[0m \u001b[0;34m\u001b[0m\u001b[0m\n",
            "\u001b[0;32m/usr/lib/python3.12/json/encoder.py\u001b[0m in \u001b[0;36m_iterencode\u001b[0;34m(o, _current_indent_level)\u001b[0m\n\u001b[1;32m    437\u001b[0m                     \u001b[0;32mraise\u001b[0m \u001b[0mValueError\u001b[0m\u001b[0;34m(\u001b[0m\u001b[0;34m\"Circular reference detected\"\u001b[0m\u001b[0;34m)\u001b[0m\u001b[0;34m\u001b[0m\u001b[0;34m\u001b[0m\u001b[0m\n\u001b[1;32m    438\u001b[0m                 \u001b[0mmarkers\u001b[0m\u001b[0;34m[\u001b[0m\u001b[0mmarkerid\u001b[0m\u001b[0;34m]\u001b[0m \u001b[0;34m=\u001b[0m \u001b[0mo\u001b[0m\u001b[0;34m\u001b[0m\u001b[0;34m\u001b[0m\u001b[0m\n\u001b[0;32m--> 439\u001b[0;31m             \u001b[0mo\u001b[0m \u001b[0;34m=\u001b[0m \u001b[0m_default\u001b[0m\u001b[0;34m(\u001b[0m\u001b[0mo\u001b[0m\u001b[0;34m)\u001b[0m\u001b[0;34m\u001b[0m\u001b[0;34m\u001b[0m\u001b[0m\n\u001b[0m\u001b[1;32m    440\u001b[0m             \u001b[0;32myield\u001b[0m \u001b[0;32mfrom\u001b[0m \u001b[0m_iterencode\u001b[0m\u001b[0;34m(\u001b[0m\u001b[0mo\u001b[0m\u001b[0;34m,\u001b[0m \u001b[0m_current_indent_level\u001b[0m\u001b[0;34m)\u001b[0m\u001b[0;34m\u001b[0m\u001b[0;34m\u001b[0m\u001b[0m\n\u001b[1;32m    441\u001b[0m             \u001b[0;32mif\u001b[0m \u001b[0mmarkers\u001b[0m \u001b[0;32mis\u001b[0m \u001b[0;32mnot\u001b[0m \u001b[0;32mNone\u001b[0m\u001b[0;34m:\u001b[0m\u001b[0;34m\u001b[0m\u001b[0;34m\u001b[0m\u001b[0m\n",
            "\u001b[0;32m/usr/lib/python3.12/json/encoder.py\u001b[0m in \u001b[0;36mdefault\u001b[0;34m(self, o)\u001b[0m\n\u001b[1;32m    178\u001b[0m \u001b[0;34m\u001b[0m\u001b[0m\n\u001b[1;32m    179\u001b[0m         \"\"\"\n\u001b[0;32m--> 180\u001b[0;31m         raise TypeError(f'Object of type {o.__class__.__name__} '\n\u001b[0m\u001b[1;32m    181\u001b[0m                         f'is not JSON serializable')\n\u001b[1;32m    182\u001b[0m \u001b[0;34m\u001b[0m\u001b[0m\n",
            "\u001b[0;31mTypeError\u001b[0m: Object of type Person is not JSON serializable"
          ]
        }
      ]
    },
    {
      "cell_type": "markdown",
      "source": [
        "- We have to tell how to serialize"
      ],
      "metadata": {
        "id": "9dLDZm4C-Lo0"
      }
    },
    {
      "cell_type": "code",
      "source": [
        "# As a string\n",
        "import json\n",
        "\n",
        "def show_obj(person):\n",
        "  if isinstance(person,Person):\n",
        "    return '{} {} age->{} gender{}'.format(person.fname,person.lname,person.age,person.gender)\n",
        "\n",
        "with open('cust.json','w') as f:\n",
        "  json.dump(p1,f,default=show_obj)"
      ],
      "metadata": {
        "id": "unn6eCdr9_nX"
      },
      "execution_count": 134,
      "outputs": []
    },
    {
      "cell_type": "code",
      "source": [
        "with open('cust.json','r') as f:\n",
        "  s=json.load(f)\n",
        "  print(s)"
      ],
      "metadata": {
        "id": "fzC3QMm6AMza",
        "colab": {
          "base_uri": "https://localhost:8080/"
        },
        "outputId": "fa296af0-22f9-4d28-b332-b12c4b4d2ab0"
      },
      "execution_count": 135,
      "outputs": [
        {
          "output_type": "stream",
          "name": "stdout",
          "text": [
            "yash pokhriyal age->23 gendermale\n"
          ]
        }
      ]
    },
    {
      "cell_type": "code",
      "source": [
        "# As a dictionary\n",
        "def show_obj(person):\n",
        "  if isinstance(person,Person):\n",
        "    return {'name':person.fname+person.lname,'age':person.age,'gender':person.gender}\n",
        "\n",
        "with open('cust1.json','w') as f:\n",
        "  json.dump(p1,f,default=show_obj)"
      ],
      "metadata": {
        "id": "Alh1hOQB_Irr"
      },
      "execution_count": 136,
      "outputs": []
    },
    {
      "cell_type": "code",
      "source": [
        "with open('cust1.json','r') as f:\n",
        "  s = json.load(f)\n",
        "  print(s)\n",
        "  print(type(s))"
      ],
      "metadata": {
        "id": "LMwH1V_0ADc6",
        "colab": {
          "base_uri": "https://localhost:8080/"
        },
        "outputId": "1ea1119c-db52-4829-af09-d1a385c39d06"
      },
      "execution_count": 137,
      "outputs": [
        {
          "output_type": "stream",
          "name": "stdout",
          "text": [
            "{'name': 'yashpokhriyal', 'age': 23, 'gender': 'male'}\n",
            "<class 'dict'>\n"
          ]
        }
      ]
    },
    {
      "cell_type": "markdown",
      "source": [
        "- Hum chahte ki hum apne object ko object ki tareeke se\n",
        "- as it is serialize krna hai aur as it is deserialize krna hai\n",
        "- ab hum chahte ki uss object ko as it is uthake dusri file me kese le ja skte hain"
      ],
      "metadata": {
        "id": "I3WD0FVFAzr6"
      }
    },
    {
      "cell_type": "markdown",
      "source": [
        "### 10.3 Pickling\n",
        "\n",
        "- Pickling : is the process whereby a python object hierrarchy is converted into a byte stream .\n",
        "\n",
        "- Unpickling : is the inverse operation , whereby a byte stream (from binary file or bytes like object ) converted back into a object hierarchy"
      ],
      "metadata": {
        "id": "dsLneUWyA8ag"
      }
    },
    {
      "cell_type": "code",
      "source": [
        "class Person:\n",
        "  def __init__(self,name,age):\n",
        "    self.name = name\n",
        "    self.age = age\n",
        "  def display_info(self):\n",
        "    print(\"hi my name is \",self.name,\"my age is \",self.age)"
      ],
      "metadata": {
        "id": "Z4tLPlJ7As1v"
      },
      "execution_count": 138,
      "outputs": []
    },
    {
      "cell_type": "code",
      "source": [
        "p = Person(\"yash\",23)"
      ],
      "metadata": {
        "id": "D6BimrdPBm43"
      },
      "execution_count": 139,
      "outputs": []
    },
    {
      "cell_type": "code",
      "source": [
        "# pickle dump\n",
        "import pickle\n",
        "\n",
        "with open('person.pkl','wb') as f:\n",
        "  pickle.dump(p,f)"
      ],
      "metadata": {
        "id": "As_FdGVRBrHU"
      },
      "execution_count": 140,
      "outputs": []
    },
    {
      "cell_type": "code",
      "source": [
        "# pickle load\n",
        "import json\n",
        "\n",
        "with open('person.pkl','rb') as f:\n",
        "  s=pickle.load(f)\n",
        "  p.display_info()"
      ],
      "metadata": {
        "id": "CIEqmEscCPbL",
        "colab": {
          "base_uri": "https://localhost:8080/"
        },
        "outputId": "9c80f495-e527-4bff-f99e-227708a7741e"
      },
      "execution_count": 141,
      "outputs": [
        {
          "output_type": "stream",
          "name": "stdout",
          "text": [
            "hi my name is  yash my age is  23\n"
          ]
        }
      ]
    },
    {
      "cell_type": "markdown",
      "source": [
        "### Pickle vs json\n",
        "\n",
        "- Pickle lets the user to store data in binary format . Json lets the user store data in a human readable text format\n",
        "\n",
        "- Pickle is python oriented while json is language independent"
      ],
      "metadata": {
        "id": "fAVIHVZ6Cnss"
      }
    },
    {
      "cell_type": "markdown",
      "source": [
        "## 11. Exception Handling\n",
        "\n",
        "\n",
        "- There are two stages when error may occured\n",
        "   \n",
        "   - During compilation -> syntax error\n",
        "   - During runtime     -> exceptions"
      ],
      "metadata": {
        "id": "7I4oJmziC4tP"
      }
    },
    {
      "cell_type": "markdown",
      "source": [
        "### 11.1 Syntax Error\n",
        "\n",
        "- Something in the programme is not written according to programmer grammer .\n",
        "- Error is raised by the interpreter or compiler .\n",
        "- You can solve it by rectifying the programme ."
      ],
      "metadata": {
        "id": "Ult2B5K3DbWs"
      }
    },
    {
      "cell_type": "markdown",
      "source": [
        "Stacktrace:\n",
        "\n",
        "    Stacktrace ek detailed report hai jo batata hai ki program ka code\n",
        "    kis sequence mein call hua jab ek error ya exception aayi."
      ],
      "metadata": {
        "id": "Fo1FkRaYDh8k"
      }
    },
    {
      "cell_type": "code",
      "source": [
        "print \"hello world\""
      ],
      "metadata": {
        "id": "ZUwgbNfSCfbT",
        "colab": {
          "base_uri": "https://localhost:8080/",
          "height": 108
        },
        "outputId": "6470f209-3e99-4b9c-83de-0552da9a3ea6"
      },
      "execution_count": 142,
      "outputs": [
        {
          "output_type": "error",
          "ename": "SyntaxError",
          "evalue": "Missing parentheses in call to 'print'. Did you mean print(...)? (ipython-input-3923495743.py, line 1)",
          "traceback": [
            "\u001b[0;36m  File \u001b[0;32m\"/tmp/ipython-input-3923495743.py\"\u001b[0;36m, line \u001b[0;32m1\u001b[0m\n\u001b[0;31m    print \"hello world\"\u001b[0m\n\u001b[0m    ^\u001b[0m\n\u001b[0;31mSyntaxError\u001b[0m\u001b[0;31m:\u001b[0m Missing parentheses in call to 'print'. Did you mean print(...)?\n"
          ]
        }
      ]
    },
    {
      "cell_type": "markdown",
      "source": [
        "#### Other example of syntax errors\n",
        "- leaving symbols like colon brackets\n",
        "- misspelling a keyword\n",
        "- incorrect indentation\n",
        "- empty if/else loops /class /functions"
      ],
      "metadata": {
        "id": "Zy3hDbPRsEdA"
      }
    },
    {
      "cell_type": "code",
      "source": [
        "a = 5\n",
        "if a == 5"
      ],
      "metadata": {
        "id": "lZyiZ4WWpwu0",
        "colab": {
          "base_uri": "https://localhost:8080/",
          "height": 108
        },
        "outputId": "8efd0f2a-891e-424e-fe84-2f0b8ded74cd"
      },
      "execution_count": 143,
      "outputs": [
        {
          "output_type": "error",
          "ename": "SyntaxError",
          "evalue": "expected ':' (ipython-input-2181300870.py, line 2)",
          "traceback": [
            "\u001b[0;36m  File \u001b[0;32m\"/tmp/ipython-input-2181300870.py\"\u001b[0;36m, line \u001b[0;32m2\u001b[0m\n\u001b[0;31m    if a == 5\u001b[0m\n\u001b[0m             ^\u001b[0m\n\u001b[0;31mSyntaxError\u001b[0m\u001b[0;31m:\u001b[0m expected ':'\n"
          ]
        }
      ]
    },
    {
      "cell_type": "code",
      "source": [
        "# indentation error\n",
        "a = 5\n",
        "if a ==5:\n",
        "print(a)"
      ],
      "metadata": {
        "id": "g12h7zy1sK1o",
        "colab": {
          "base_uri": "https://localhost:8080/",
          "height": 108
        },
        "outputId": "a169bea2-d1eb-435f-a5d3-9630ac7427b4"
      },
      "execution_count": 144,
      "outputs": [
        {
          "output_type": "error",
          "ename": "IndentationError",
          "evalue": "expected an indented block after 'if' statement on line 3 (ipython-input-240424033.py, line 4)",
          "traceback": [
            "\u001b[0;36m  File \u001b[0;32m\"/tmp/ipython-input-240424033.py\"\u001b[0;36m, line \u001b[0;32m4\u001b[0m\n\u001b[0;31m    print(a)\u001b[0m\n\u001b[0m    ^\u001b[0m\n\u001b[0;31mIndentationError\u001b[0m\u001b[0;31m:\u001b[0m expected an indented block after 'if' statement on line 3\n"
          ]
        }
      ]
    },
    {
      "cell_type": "markdown",
      "source": [
        "IndexError\n",
        "- when index is not in object"
      ],
      "metadata": {
        "id": "KPnx0UmmsThe"
      }
    },
    {
      "cell_type": "code",
      "source": [
        "L = [1,2,3,4,5]\n",
        "L[6]"
      ],
      "metadata": {
        "id": "JkxVmBG7sQtq",
        "colab": {
          "base_uri": "https://localhost:8080/",
          "height": 162
        },
        "outputId": "94e8fc1b-3b54-4e4a-8a86-0766b9844d8d"
      },
      "execution_count": 145,
      "outputs": [
        {
          "output_type": "error",
          "ename": "IndexError",
          "evalue": "list index out of range",
          "traceback": [
            "\u001b[0;31m---------------------------------------------------------------------------\u001b[0m",
            "\u001b[0;31mIndexError\u001b[0m                                Traceback (most recent call last)",
            "\u001b[0;32m/tmp/ipython-input-862331119.py\u001b[0m in \u001b[0;36m<cell line: 0>\u001b[0;34m()\u001b[0m\n\u001b[1;32m      1\u001b[0m \u001b[0mL\u001b[0m \u001b[0;34m=\u001b[0m \u001b[0;34m[\u001b[0m\u001b[0;36m1\u001b[0m\u001b[0;34m,\u001b[0m\u001b[0;36m2\u001b[0m\u001b[0;34m,\u001b[0m\u001b[0;36m3\u001b[0m\u001b[0;34m,\u001b[0m\u001b[0;36m4\u001b[0m\u001b[0;34m,\u001b[0m\u001b[0;36m5\u001b[0m\u001b[0;34m]\u001b[0m\u001b[0;34m\u001b[0m\u001b[0;34m\u001b[0m\u001b[0m\n\u001b[0;32m----> 2\u001b[0;31m \u001b[0mL\u001b[0m\u001b[0;34m[\u001b[0m\u001b[0;36m6\u001b[0m\u001b[0;34m]\u001b[0m\u001b[0;34m\u001b[0m\u001b[0;34m\u001b[0m\u001b[0m\n\u001b[0m",
            "\u001b[0;31mIndexError\u001b[0m: list index out of range"
          ]
        }
      ]
    },
    {
      "cell_type": "markdown",
      "source": [
        "ModuleNotFoundError\n",
        "- when module not found"
      ],
      "metadata": {
        "id": "U2rq8ME6shsQ"
      }
    },
    {
      "cell_type": "code",
      "source": [
        "import mathi"
      ],
      "metadata": {
        "id": "Pr_0hAapse1Y",
        "colab": {
          "base_uri": "https://localhost:8080/",
          "height": 322
        },
        "outputId": "78ba5fd8-bd85-4627-90cc-ec7fe691ba13"
      },
      "execution_count": 146,
      "outputs": [
        {
          "output_type": "error",
          "ename": "ModuleNotFoundError",
          "evalue": "No module named 'mathi'",
          "traceback": [
            "\u001b[0;31m---------------------------------------------------------------------------\u001b[0m",
            "\u001b[0;31mModuleNotFoundError\u001b[0m                       Traceback (most recent call last)",
            "\u001b[0;32m/tmp/ipython-input-2478559388.py\u001b[0m in \u001b[0;36m<cell line: 0>\u001b[0;34m()\u001b[0m\n\u001b[0;32m----> 1\u001b[0;31m \u001b[0;32mimport\u001b[0m \u001b[0mmathi\u001b[0m\u001b[0;34m\u001b[0m\u001b[0;34m\u001b[0m\u001b[0m\n\u001b[0m",
            "\u001b[0;31mModuleNotFoundError\u001b[0m: No module named 'mathi'",
            "",
            "\u001b[0;31m---------------------------------------------------------------------------\u001b[0;32m\nNOTE: If your import is failing due to a missing package, you can\nmanually install dependencies using either !pip or !apt.\n\nTo view examples of installing some common dependencies, click the\n\"Open Examples\" button below.\n\u001b[0;31m---------------------------------------------------------------------------\u001b[0m\n"
          ],
          "errorDetails": {
            "actions": [
              {
                "action": "open_url",
                "actionText": "Open Examples",
                "url": "/notebooks/snippets/importing_libraries.ipynb"
              }
            ]
          }
        }
      ]
    },
    {
      "cell_type": "markdown",
      "source": [
        "KeyError\n",
        "- when key not found in dictionary"
      ],
      "metadata": {
        "id": "XpF3lfKWspqZ"
      }
    },
    {
      "cell_type": "code",
      "source": [
        "dict = {\n",
        "    'name':'yash',\n",
        "    'gender':'male',\n",
        "    'age':23\n",
        "}\n",
        "\n",
        "dict['focuS']"
      ],
      "metadata": {
        "id": "wq7hebDjsnu1",
        "colab": {
          "base_uri": "https://localhost:8080/",
          "height": 180
        },
        "outputId": "ef52e432-950f-4f1e-ea5a-dabebc888251"
      },
      "execution_count": 147,
      "outputs": [
        {
          "output_type": "error",
          "ename": "KeyError",
          "evalue": "'focuS'",
          "traceback": [
            "\u001b[0;31m---------------------------------------------------------------------------\u001b[0m",
            "\u001b[0;31mKeyError\u001b[0m                                  Traceback (most recent call last)",
            "\u001b[0;32m/tmp/ipython-input-3043680078.py\u001b[0m in \u001b[0;36m<cell line: 0>\u001b[0;34m()\u001b[0m\n\u001b[1;32m      5\u001b[0m }\n\u001b[1;32m      6\u001b[0m \u001b[0;34m\u001b[0m\u001b[0m\n\u001b[0;32m----> 7\u001b[0;31m \u001b[0mdict\u001b[0m\u001b[0;34m[\u001b[0m\u001b[0;34m'focuS'\u001b[0m\u001b[0;34m]\u001b[0m\u001b[0;34m\u001b[0m\u001b[0;34m\u001b[0m\u001b[0m\n\u001b[0m",
            "\u001b[0;31mKeyError\u001b[0m: 'focuS'"
          ]
        }
      ]
    },
    {
      "cell_type": "markdown",
      "source": [
        "TypeError\n",
        "- is thrown when an operation function is applied to an object of an inappropriate type ."
      ],
      "metadata": {
        "id": "KxbseG_Is8gA"
      }
    },
    {
      "cell_type": "code",
      "source": [
        "'a'+1"
      ],
      "metadata": {
        "id": "gLNMIFd9s1Oq",
        "colab": {
          "base_uri": "https://localhost:8080/",
          "height": 144
        },
        "outputId": "156f2c11-03a4-4bc9-8390-faad802d26a1"
      },
      "execution_count": 148,
      "outputs": [
        {
          "output_type": "error",
          "ename": "TypeError",
          "evalue": "can only concatenate str (not \"int\") to str",
          "traceback": [
            "\u001b[0;31m---------------------------------------------------------------------------\u001b[0m",
            "\u001b[0;31mTypeError\u001b[0m                                 Traceback (most recent call last)",
            "\u001b[0;32m/tmp/ipython-input-322723600.py\u001b[0m in \u001b[0;36m<cell line: 0>\u001b[0;34m()\u001b[0m\n\u001b[0;32m----> 1\u001b[0;31m \u001b[0;34m'a'\u001b[0m\u001b[0;34m+\u001b[0m\u001b[0;36m1\u001b[0m\u001b[0;34m\u001b[0m\u001b[0;34m\u001b[0m\u001b[0m\n\u001b[0m",
            "\u001b[0;31mTypeError\u001b[0m: can only concatenate str (not \"int\") to str"
          ]
        }
      ]
    },
    {
      "cell_type": "markdown",
      "source": [
        "ValueError\n",
        "- is thrown when function argument is of inappropriate type ."
      ],
      "metadata": {
        "id": "_q2mGGYotQvC"
      }
    },
    {
      "cell_type": "code",
      "source": [
        "int('a')"
      ],
      "metadata": {
        "id": "2DMEPMPitNWz",
        "colab": {
          "base_uri": "https://localhost:8080/",
          "height": 144
        },
        "outputId": "c3db042b-9c05-4313-8768-494370e41d24"
      },
      "execution_count": 149,
      "outputs": [
        {
          "output_type": "error",
          "ename": "ValueError",
          "evalue": "invalid literal for int() with base 10: 'a'",
          "traceback": [
            "\u001b[0;31m---------------------------------------------------------------------------\u001b[0m",
            "\u001b[0;31mValueError\u001b[0m                                Traceback (most recent call last)",
            "\u001b[0;32m/tmp/ipython-input-2121867093.py\u001b[0m in \u001b[0;36m<cell line: 0>\u001b[0;34m()\u001b[0m\n\u001b[0;32m----> 1\u001b[0;31m \u001b[0mint\u001b[0m\u001b[0;34m(\u001b[0m\u001b[0;34m'a'\u001b[0m\u001b[0;34m)\u001b[0m\u001b[0;34m\u001b[0m\u001b[0;34m\u001b[0m\u001b[0m\n\u001b[0m",
            "\u001b[0;31mValueError\u001b[0m: invalid literal for int() with base 10: 'a'"
          ]
        }
      ]
    },
    {
      "cell_type": "markdown",
      "source": [
        "NameError\n",
        "- when an object could not be defined"
      ],
      "metadata": {
        "id": "8ELpST13tjYR"
      }
    },
    {
      "cell_type": "code",
      "source": [
        "a"
      ],
      "metadata": {
        "id": "piTMQuC6tdnp",
        "colab": {
          "base_uri": "https://localhost:8080/",
          "height": 144
        },
        "outputId": "a6e95ef3-b771-4f55-bb65-7cf375bcc040"
      },
      "execution_count": 150,
      "outputs": [
        {
          "output_type": "error",
          "ename": "NameError",
          "evalue": "name 'a' is not defined",
          "traceback": [
            "\u001b[0;31m---------------------------------------------------------------------------\u001b[0m",
            "\u001b[0;31mNameError\u001b[0m                                 Traceback (most recent call last)",
            "\u001b[0;32m/tmp/ipython-input-2167009006.py\u001b[0m in \u001b[0;36m<cell line: 0>\u001b[0;34m()\u001b[0m\n\u001b[0;32m----> 1\u001b[0;31m \u001b[0ma\u001b[0m\u001b[0;34m\u001b[0m\u001b[0;34m\u001b[0m\u001b[0m\n\u001b[0m",
            "\u001b[0;31mNameError\u001b[0m: name 'a' is not defined"
          ]
        }
      ]
    },
    {
      "cell_type": "markdown",
      "source": [
        "AttributeError\n",
        "- when attribute is not in object"
      ],
      "metadata": {
        "id": "qXskALHgtt1i"
      }
    },
    {
      "cell_type": "code",
      "source": [
        "L =[1,2,3]\n",
        "L.upper()"
      ],
      "metadata": {
        "id": "pyjq8Jn5toyZ",
        "colab": {
          "base_uri": "https://localhost:8080/",
          "height": 162
        },
        "outputId": "3e193efa-a20f-4d35-fecb-793b6aeecd42"
      },
      "execution_count": 151,
      "outputs": [
        {
          "output_type": "error",
          "ename": "AttributeError",
          "evalue": "'list' object has no attribute 'upper'",
          "traceback": [
            "\u001b[0;31m---------------------------------------------------------------------------\u001b[0m",
            "\u001b[0;31mAttributeError\u001b[0m                            Traceback (most recent call last)",
            "\u001b[0;32m/tmp/ipython-input-3536820770.py\u001b[0m in \u001b[0;36m<cell line: 0>\u001b[0;34m()\u001b[0m\n\u001b[1;32m      1\u001b[0m \u001b[0mL\u001b[0m \u001b[0;34m=\u001b[0m\u001b[0;34m[\u001b[0m\u001b[0;36m1\u001b[0m\u001b[0;34m,\u001b[0m\u001b[0;36m2\u001b[0m\u001b[0;34m,\u001b[0m\u001b[0;36m3\u001b[0m\u001b[0;34m]\u001b[0m\u001b[0;34m\u001b[0m\u001b[0;34m\u001b[0m\u001b[0m\n\u001b[0;32m----> 2\u001b[0;31m \u001b[0mL\u001b[0m\u001b[0;34m.\u001b[0m\u001b[0mupper\u001b[0m\u001b[0;34m(\u001b[0m\u001b[0;34m)\u001b[0m\u001b[0;34m\u001b[0m\u001b[0;34m\u001b[0m\u001b[0m\n\u001b[0m",
            "\u001b[0;31mAttributeError\u001b[0m: 'list' object has no attribute 'upper'"
          ]
        }
      ]
    },
    {
      "cell_type": "markdown",
      "source": [
        "### 11.2 Exceptions\n",
        "\n",
        "If things go wrong during the exceution of the programme (runtime) . It generally happens when  something unforseen has happend\n",
        "\n",
        "- Exceptions are raised by python runtime .\n",
        "- You have to tackle on the fly\n",
        "\n",
        "### Examples\n",
        "- Memory overflow\n",
        "- Divide by 0 logical error\n",
        "- Database error"
      ],
      "metadata": {
        "id": "RLOe2QG3t6-8"
      }
    },
    {
      "cell_type": "code",
      "source": [
        "# creat a file\n",
        "with open('dem.txt','w') as f:\n",
        "  f.write(\"Hey cutie my tutie fruitie ! \")"
      ],
      "metadata": {
        "id": "rjyqrylit00a"
      },
      "execution_count": 152,
      "outputs": []
    },
    {
      "cell_type": "code",
      "source": [
        "# when using external block use try except block where there is chance of error\n",
        "try :\n",
        "  with open('dem1.txt','r') as f:\n",
        "     print(f.read())\n",
        "except:\n",
        "  print(\"Sorry file not found\")"
      ],
      "metadata": {
        "id": "Cg7QIlRsuTUT",
        "colab": {
          "base_uri": "https://localhost:8080/"
        },
        "outputId": "bf36b238-f0c1-4d61-927d-78f4f8784d97"
      },
      "execution_count": 153,
      "outputs": [
        {
          "output_type": "stream",
          "name": "stdout",
          "text": [
            "Sorry file not found\n"
          ]
        }
      ]
    },
    {
      "cell_type": "markdown",
      "source": [
        "Catching specific exceptions"
      ],
      "metadata": {
        "id": "qxmjreiPuzS2"
      }
    },
    {
      "cell_type": "code",
      "source": [
        "try :\n",
        "  with open(\"dem.txt\",'r') as f:\n",
        "    print(f.read())\n",
        "    print(m)\n",
        "except Exception as e:\n",
        "  print(e)\n",
        "  print(e.with_traceback)"
      ],
      "metadata": {
        "id": "85qHySNHutf2",
        "colab": {
          "base_uri": "https://localhost:8080/"
        },
        "outputId": "1cd1764d-de6a-4656-f3d5-bbfca2652a26"
      },
      "execution_count": 154,
      "outputs": [
        {
          "output_type": "stream",
          "name": "stdout",
          "text": [
            "Hey cutie my tutie fruitie ! \n",
            "name 'm' is not defined\n",
            "<built-in method with_traceback of NameError object at 0x78aa87f40fa0>\n"
          ]
        }
      ]
    },
    {
      "cell_type": "code",
      "source": [
        "try :\n",
        "  with open(\"dem1.txt\",'r') as f:\n",
        "    print(f.read())\n",
        "    print(m)\n",
        "except Exception as e:\n",
        "  print(e)\n",
        "  print(e.with_traceback)"
      ],
      "metadata": {
        "id": "Gtk7WZRGvD7m",
        "colab": {
          "base_uri": "https://localhost:8080/"
        },
        "outputId": "be744849-a90a-473e-9336-e467b7d9c1da"
      },
      "execution_count": 155,
      "outputs": [
        {
          "output_type": "stream",
          "name": "stdout",
          "text": [
            "[Errno 2] No such file or directory: 'dem1.txt'\n",
            "<built-in method with_traceback of FileNotFoundError object at 0x78aa87f937c0>\n"
          ]
        }
      ]
    },
    {
      "cell_type": "code",
      "source": [
        "try :\n",
        "  m = 5\n",
        "  with open('dem.txt','r') as f:\n",
        "    print(f.read())\n",
        "    print(m)\n",
        "    print(5/2)\n",
        "    L =[1,2,3]\n",
        "    L.upper()\n",
        "except FileNotFoundError:\n",
        "  print(\"File not found\")\n",
        "except NameError:\n",
        "  print(\"Variable is not defined\")\n",
        "except ZeroDivisionError:\n",
        "  print(\"Cannot divide by zero \")\n",
        "except Exception as e:\n",
        "  print(e)"
      ],
      "metadata": {
        "id": "bXfT9vEVvWbF",
        "colab": {
          "base_uri": "https://localhost:8080/"
        },
        "outputId": "0f10a031-f9d2-4a32-cc2d-1d2667adda20"
      },
      "execution_count": 156,
      "outputs": [
        {
          "output_type": "stream",
          "name": "stdout",
          "text": [
            "Hey cutie my tutie fruitie ! \n",
            "5\n",
            "2.5\n",
            "'list' object has no attribute 'upper'\n"
          ]
        }
      ]
    },
    {
      "cell_type": "code",
      "source": [
        "# else\n",
        "try:\n",
        "  f = open('dem.txt','r')\n",
        "except FileNotFoundError:\n",
        "  print(\"File not found\")\n",
        "else:\n",
        "  print(f.read())"
      ],
      "metadata": {
        "id": "AyiTjhzHwCDg",
        "colab": {
          "base_uri": "https://localhost:8080/"
        },
        "outputId": "a089c72e-83bb-4ea6-dc95-786e760c520f"
      },
      "execution_count": 157,
      "outputs": [
        {
          "output_type": "stream",
          "name": "stdout",
          "text": [
            "Hey cutie my tutie fruitie ! \n"
          ]
        }
      ]
    },
    {
      "cell_type": "code",
      "source": [
        "# finally\n",
        "# finally ke pass jaega hi jaega\n",
        "\n",
        "try :\n",
        "  f = open('dem.txt','r')\n",
        "except FileNotFoundError:\n",
        "  print('File nai mili')\n",
        "except Exception as e :\n",
        "  print('Kuch lafda')\n",
        "else :\n",
        "  print(f.read())\n",
        "finally:\n",
        "  print(\"Ye to print hoga hi \")"
      ],
      "metadata": {
        "id": "yX3B3AwxwZ8X",
        "colab": {
          "base_uri": "https://localhost:8080/"
        },
        "outputId": "5a75d256-3cda-44b3-c50a-9230c14a7b95"
      },
      "execution_count": 158,
      "outputs": [
        {
          "output_type": "stream",
          "name": "stdout",
          "text": [
            "Hey cutie my tutie fruitie ! \n",
            "Ye to print hoga hi \n"
          ]
        }
      ]
    },
    {
      "cell_type": "markdown",
      "source": [
        "- raise Exception or throw\n",
        "- In python programming , exceptions are raised when errors occur at runtime\n",
        "- We can also manually raise exceptions using the raise keyword.\n",
        "\n",
        "- We can optionally pass values to the exception to clarify why that exception was raised ."
      ],
      "metadata": {
        "id": "8vSj8hCpxLzM"
      }
    },
    {
      "cell_type": "code",
      "source": [
        "raise NameError"
      ],
      "metadata": {
        "id": "M71A7TGnxBo1",
        "colab": {
          "base_uri": "https://localhost:8080/",
          "height": 144
        },
        "outputId": "07ba46b1-313a-4361-ce57-39979c82f03f"
      },
      "execution_count": 159,
      "outputs": [
        {
          "output_type": "error",
          "ename": "NameError",
          "evalue": "",
          "traceback": [
            "\u001b[0;31m---------------------------------------------------------------------------\u001b[0m",
            "\u001b[0;31mNameError\u001b[0m                                 Traceback (most recent call last)",
            "\u001b[0;32m/tmp/ipython-input-1567631431.py\u001b[0m in \u001b[0;36m<cell line: 0>\u001b[0;34m()\u001b[0m\n\u001b[0;32m----> 1\u001b[0;31m \u001b[0;32mraise\u001b[0m \u001b[0mNameError\u001b[0m\u001b[0;34m\u001b[0m\u001b[0;34m\u001b[0m\u001b[0m\n\u001b[0m",
            "\u001b[0;31mNameError\u001b[0m: "
          ]
        }
      ]
    },
    {
      "cell_type": "markdown",
      "source": [
        "Example"
      ],
      "metadata": {
        "id": "1HXbOc2IxSlk"
      }
    },
    {
      "cell_type": "code",
      "source": [
        "class Bank:\n",
        "\n",
        "  def __init__(self,balance):\n",
        "    self.balance = balance\n",
        "\n",
        "  def withdraw(self,amount):\n",
        "    if amount<0:\n",
        "      raise Exception(\"Amount cannot be negative .\")\n",
        "    elif self.balance<amount:\n",
        "      raise Exception(\"Not sufficient money .\")\n",
        "    else:\n",
        "      self.balance-=amount\n",
        "      print(\"Successfully withdraw \",amount,\"remaining is\",self.balance)\n",
        "\n"
      ],
      "metadata": {
        "id": "Ba7dH_fFxN1d"
      },
      "execution_count": 160,
      "outputs": []
    },
    {
      "cell_type": "code",
      "source": [
        "raj = Bank(10000)\n",
        "try:\n",
        "  raj.withdraw(1000000)\n",
        "except Exception as e:\n",
        "  print(e)\n",
        "else:\n",
        "  print(raj.balance)"
      ],
      "metadata": {
        "id": "hHd-XIkgyL1i",
        "colab": {
          "base_uri": "https://localhost:8080/"
        },
        "outputId": "b0e1ee7b-0a73-4438-fd95-d2127a0b60aa"
      },
      "execution_count": 161,
      "outputs": [
        {
          "output_type": "stream",
          "name": "stdout",
          "text": [
            "Not sufficient money .\n"
          ]
        }
      ]
    },
    {
      "cell_type": "markdown",
      "source": [
        "- creating custom exceptions\n",
        "- You have to inherit Exception class\n",
        "- exception hierarchy in python"
      ],
      "metadata": {
        "id": "yapF_-5fyqAW"
      }
    },
    {
      "cell_type": "code",
      "source": [
        "class Myexception(Exception):\n",
        "  def __init__(self,message):\n",
        "    print(message)\n",
        "\n",
        "class Bank:\n",
        "  def __init__(self,balance):\n",
        "    self.balance = balance\n",
        "\n",
        "  def withdraw(self,amount):\n",
        "    if amount<0:\n",
        "      raise Myexception(\"Amount cannot be negative .\")\n",
        "    elif amount>self.balance:\n",
        "      raise Myexception(\"Insufficient balance .\")\n",
        "    else:\n",
        "      self.balance-=amount\n",
        "      print(\"Amount of \",amount,\"is successfully withdrawn\")\n",
        "\n",
        "raju = Bank(10000)\n",
        "try:\n",
        "  raju.withdraw(200)\n",
        "except Myexception as e:\n",
        "  pass\n",
        "else:\n",
        "  print(raju.balance)\n"
      ],
      "metadata": {
        "id": "SJ_5jmxdyp1r",
        "colab": {
          "base_uri": "https://localhost:8080/"
        },
        "outputId": "9f95b522-0682-42cd-d8b5-125d1c3283ed"
      },
      "execution_count": 162,
      "outputs": [
        {
          "output_type": "stream",
          "name": "stdout",
          "text": [
            "Amount of  200 is successfully withdrawn\n",
            "9800\n"
          ]
        }
      ]
    },
    {
      "cell_type": "markdown",
      "source": [
        "- Kab bnani\n",
        "- custom exception gives full control\n",
        "- application based errors\n",
        "- as google do different by different devices so avoid hacking"
      ],
      "metadata": {
        "id": "KqP6mSf70uAN"
      }
    },
    {
      "cell_type": "code",
      "source": [
        "class SecurityError(Exception):\n",
        "\n",
        "  def __init__(self,message):\n",
        "    print(message)\n",
        "\n",
        "  def logout(self):\n",
        "    print('logout')\n",
        "\n",
        "class Google:\n",
        "\n",
        "  def __init__(self,name,email,password,device):\n",
        "    self.name = name\n",
        "    self.email = email\n",
        "    self.password = password\n",
        "    self.device = device\n",
        "\n",
        "  def login(self,email,password,device):\n",
        "    if device != self.device :\n",
        "      raise SecurityError(\"Device not matched .\")\n",
        "    if email == self.email and password == self.password:\n",
        "      print(\"Welcome\")\n",
        "    else:\n",
        "      print('Login Error')\n",
        "\n",
        "obj = Google(\"yash\",\"yash@gmail.com\",123,\"android\")\n",
        "\n",
        "try:\n",
        "  obj.login(\"yash@gmail.com\",123,\"androi\")\n",
        "except Exception as e:\n",
        "  e.logout()\n",
        "else :\n",
        "  print(obj.name)\n",
        "finally:\n",
        "  print(\"Database connection closed .\")\n",
        "\n",
        "\n",
        "# Agar dusre device se login hua to sab device se logout krdia\n",
        "# to give extra functionality we use cutsom exception classes"
      ],
      "metadata": {
        "id": "5R-GCNG6zBFB",
        "colab": {
          "base_uri": "https://localhost:8080/"
        },
        "outputId": "651bf621-2682-49f9-af1e-d793c1898672"
      },
      "execution_count": 163,
      "outputs": [
        {
          "output_type": "stream",
          "name": "stdout",
          "text": [
            "Device not matched .\n",
            "logout\n",
            "Database connection closed .\n"
          ]
        }
      ]
    },
    {
      "cell_type": "markdown",
      "source": [
        "## 12. Namespaces\n",
        "\n",
        "A namespace is space that holds names(identifiers). Programmatically speaking , namespaces are dictionary of identifiers(keys) and their objects(values) a = 2, b = 4 {a:2,b:4}\n",
        "\n",
        "There are four type of namespaces\n",
        "\n",
        "- Builtin namespace\n",
        "- Global namespace\n",
        "- Enclosing namespace\n",
        "- Local namespace"
      ],
      "metadata": {
        "id": "8Qc2px043QMZ"
      }
    },
    {
      "cell_type": "markdown",
      "source": [
        "### 12.1 Scope and LEGB rule\n",
        "\n",
        "A scope is a textual region of a python programme where a namespace is directly accessible .\n",
        "\n",
        "The interpreter searches for a name from the inside out , looking in the local , enclosing , global and finally the built in scope . If the interpreter doesn't find the  name in any of these locations,then python raises a NameError exception ."
      ],
      "metadata": {
        "id": "AWD18Vfh3cUb"
      }
    },
    {
      "cell_type": "markdown",
      "source": [
        "#### Local and Global variable"
      ],
      "metadata": {
        "id": "wPo2nTqA4FRS"
      }
    },
    {
      "cell_type": "code",
      "source": [
        "# global\n",
        "a = 5\n",
        "\n",
        "def temp():\n",
        "  # local\n",
        "  b = 3\n",
        "  print(b)\n",
        "\n",
        "print(a)\n",
        "temp()"
      ],
      "metadata": {
        "id": "MjV5KERd2cAW",
        "colab": {
          "base_uri": "https://localhost:8080/"
        },
        "outputId": "17fb53ba-dc2f-472f-d050-997a99036369"
      },
      "execution_count": 164,
      "outputs": [
        {
          "output_type": "stream",
          "name": "stdout",
          "text": [
            "5\n",
            "3\n"
          ]
        }
      ]
    },
    {
      "cell_type": "markdown",
      "source": [
        "- Local and global with same name"
      ],
      "metadata": {
        "id": "GTMXFTjS4ZNk"
      }
    },
    {
      "cell_type": "code",
      "source": [
        "# global\n",
        "a = 5\n",
        "\n",
        "def temp():\n",
        "  a = 3\n",
        "  print(a)\n",
        "\n",
        "print(a)\n",
        "temp()"
      ],
      "metadata": {
        "id": "tMeaASnv4Sr8",
        "colab": {
          "base_uri": "https://localhost:8080/"
        },
        "outputId": "7616a4b2-380a-4ef0-ed87-2f99078ab90a"
      },
      "execution_count": 165,
      "outputs": [
        {
          "output_type": "stream",
          "name": "stdout",
          "text": [
            "5\n",
            "3\n"
          ]
        }
      ]
    },
    {
      "cell_type": "markdown",
      "source": [
        "- Local doesnot have but global have"
      ],
      "metadata": {
        "id": "goCjkyTB4mde"
      }
    },
    {
      "cell_type": "code",
      "source": [
        "a = 6\n",
        "\n",
        "def temp():\n",
        "  print(a)\n",
        "\n",
        "print(a)\n",
        "temp()"
      ],
      "metadata": {
        "id": "Z2boRxo74ics",
        "colab": {
          "base_uri": "https://localhost:8080/"
        },
        "outputId": "c9adf734-a084-4abe-a536-058c9ecbe566"
      },
      "execution_count": 166,
      "outputs": [
        {
          "output_type": "stream",
          "name": "stdout",
          "text": [
            "6\n",
            "6\n"
          ]
        }
      ]
    },
    {
      "cell_type": "markdown",
      "source": [
        "- local editing global"
      ],
      "metadata": {
        "id": "qZIuTacm4xK5"
      }
    },
    {
      "cell_type": "code",
      "source": [
        "a = 6\n",
        "def temp():\n",
        "  a+=1\n",
        "  print(a)\n",
        "\n",
        "print(a)\n",
        "temp()"
      ],
      "metadata": {
        "id": "YEnoyl2y4sT_",
        "colab": {
          "base_uri": "https://localhost:8080/",
          "height": 323
        },
        "outputId": "38dd29f2-e8d3-4fe8-d75f-5823986000b7"
      },
      "execution_count": 167,
      "outputs": [
        {
          "output_type": "stream",
          "name": "stdout",
          "text": [
            "6\n"
          ]
        },
        {
          "output_type": "error",
          "ename": "UnboundLocalError",
          "evalue": "cannot access local variable 'a' where it is not associated with a value",
          "traceback": [
            "\u001b[0;31m---------------------------------------------------------------------------\u001b[0m",
            "\u001b[0;31mUnboundLocalError\u001b[0m                         Traceback (most recent call last)",
            "\u001b[0;32m/tmp/ipython-input-483447878.py\u001b[0m in \u001b[0;36m<cell line: 0>\u001b[0;34m()\u001b[0m\n\u001b[1;32m      5\u001b[0m \u001b[0;34m\u001b[0m\u001b[0m\n\u001b[1;32m      6\u001b[0m \u001b[0mprint\u001b[0m\u001b[0;34m(\u001b[0m\u001b[0ma\u001b[0m\u001b[0;34m)\u001b[0m\u001b[0;34m\u001b[0m\u001b[0;34m\u001b[0m\u001b[0m\n\u001b[0;32m----> 7\u001b[0;31m \u001b[0mtemp\u001b[0m\u001b[0;34m(\u001b[0m\u001b[0;34m)\u001b[0m\u001b[0;34m\u001b[0m\u001b[0;34m\u001b[0m\u001b[0m\n\u001b[0m",
            "\u001b[0;32m/tmp/ipython-input-483447878.py\u001b[0m in \u001b[0;36mtemp\u001b[0;34m()\u001b[0m\n\u001b[1;32m      1\u001b[0m \u001b[0ma\u001b[0m \u001b[0;34m=\u001b[0m \u001b[0;36m6\u001b[0m\u001b[0;34m\u001b[0m\u001b[0;34m\u001b[0m\u001b[0m\n\u001b[1;32m      2\u001b[0m \u001b[0;32mdef\u001b[0m \u001b[0mtemp\u001b[0m\u001b[0;34m(\u001b[0m\u001b[0;34m)\u001b[0m\u001b[0;34m:\u001b[0m\u001b[0;34m\u001b[0m\u001b[0;34m\u001b[0m\u001b[0m\n\u001b[0;32m----> 3\u001b[0;31m   \u001b[0ma\u001b[0m\u001b[0;34m+=\u001b[0m\u001b[0;36m1\u001b[0m\u001b[0;34m\u001b[0m\u001b[0;34m\u001b[0m\u001b[0m\n\u001b[0m\u001b[1;32m      4\u001b[0m   \u001b[0mprint\u001b[0m\u001b[0;34m(\u001b[0m\u001b[0ma\u001b[0m\u001b[0;34m)\u001b[0m\u001b[0;34m\u001b[0m\u001b[0;34m\u001b[0m\u001b[0m\n\u001b[1;32m      5\u001b[0m \u001b[0;34m\u001b[0m\u001b[0m\n",
            "\u001b[0;31mUnboundLocalError\u001b[0m: cannot access local variable 'a' where it is not associated with a value"
          ]
        }
      ]
    },
    {
      "cell_type": "code",
      "source": [
        "# using global keyword we can access and change\n",
        "a = 6\n",
        "def temp():\n",
        "  global a\n",
        "  a+=1\n",
        "  print(a)\n",
        "\n",
        "print(a)\n",
        "temp()\n",
        "print(a)"
      ],
      "metadata": {
        "id": "x43dMv6U43Sv",
        "colab": {
          "base_uri": "https://localhost:8080/"
        },
        "outputId": "af442804-ad3f-48b8-a5a5-1c18f8b5ab53"
      },
      "execution_count": 168,
      "outputs": [
        {
          "output_type": "stream",
          "name": "stdout",
          "text": [
            "6\n",
            "7\n",
            "7\n"
          ]
        }
      ]
    },
    {
      "cell_type": "markdown",
      "source": [
        "- Global created inside the local\n"
      ],
      "metadata": {
        "id": "s4MFtF9p5KVj"
      }
    },
    {
      "cell_type": "code",
      "source": [
        "def temp():\n",
        "  global a\n",
        "  a=6\n",
        "  print(a)\n",
        "\n",
        "\n",
        "temp()\n",
        "print(a)"
      ],
      "metadata": {
        "id": "BLsvdSSm5Db8",
        "colab": {
          "base_uri": "https://localhost:8080/"
        },
        "outputId": "62419c68-158d-4589-9a86-c3b234c34672"
      },
      "execution_count": 169,
      "outputs": [
        {
          "output_type": "stream",
          "name": "stdout",
          "text": [
            "6\n",
            "6\n"
          ]
        }
      ]
    },
    {
      "cell_type": "markdown",
      "source": [
        "- Function parameter is global"
      ],
      "metadata": {
        "id": "nqEYoUfQ5jcE"
      }
    },
    {
      "cell_type": "code",
      "source": [
        "def temp(z):\n",
        "  print(z)\n",
        "\n",
        "a = 5\n",
        "temp(a)\n",
        "print(a)"
      ],
      "metadata": {
        "id": "-8xroX7P5TKF",
        "colab": {
          "base_uri": "https://localhost:8080/"
        },
        "outputId": "7ca5a857-c45b-4efd-f194-d0eccb37556c"
      },
      "execution_count": 170,
      "outputs": [
        {
          "output_type": "stream",
          "name": "stdout",
          "text": [
            "5\n",
            "5\n"
          ]
        }
      ]
    },
    {
      "cell_type": "markdown",
      "source": [
        "#### Built in scope"
      ],
      "metadata": {
        "id": "L-1MEuxR59Mw"
      }
    },
    {
      "cell_type": "code",
      "source": [
        "# type , min ,len ,max,print\n",
        "len([1,2,3])\n",
        "print(\"hi\")"
      ],
      "metadata": {
        "id": "HPYSvboD54V6",
        "colab": {
          "base_uri": "https://localhost:8080/"
        },
        "outputId": "d49cb8fa-89d3-44c1-c969-32e85e7e2cab"
      },
      "execution_count": 171,
      "outputs": [
        {
          "output_type": "stream",
          "name": "stdout",
          "text": [
            "hi\n"
          ]
        }
      ]
    },
    {
      "cell_type": "code",
      "source": [
        "# How to see built in scopes\n",
        "import builtins\n",
        "\n",
        "print(dir(builtins))"
      ],
      "metadata": {
        "id": "6WbyYDaF6K7P",
        "colab": {
          "base_uri": "https://localhost:8080/"
        },
        "outputId": "c903d86e-6dc3-4825-e719-a63e0b6cb2d8"
      },
      "execution_count": 172,
      "outputs": [
        {
          "output_type": "stream",
          "name": "stdout",
          "text": [
            "['ArithmeticError', 'AssertionError', 'AttributeError', 'BaseException', 'BaseExceptionGroup', 'BlockingIOError', 'BrokenPipeError', 'BufferError', 'BytesWarning', 'ChildProcessError', 'ConnectionAbortedError', 'ConnectionError', 'ConnectionRefusedError', 'ConnectionResetError', 'DeprecationWarning', 'EOFError', 'Ellipsis', 'EncodingWarning', 'EnvironmentError', 'Exception', 'ExceptionGroup', 'False', 'FileExistsError', 'FileNotFoundError', 'FloatingPointError', 'FutureWarning', 'GeneratorExit', 'IOError', 'ImportError', 'ImportWarning', 'IndentationError', 'IndexError', 'InterruptedError', 'IsADirectoryError', 'KeyError', 'KeyboardInterrupt', 'LookupError', 'MemoryError', 'ModuleNotFoundError', 'NameError', 'None', 'NotADirectoryError', 'NotImplemented', 'NotImplementedError', 'OSError', 'OverflowError', 'PendingDeprecationWarning', 'PermissionError', 'ProcessLookupError', 'RecursionError', 'ReferenceError', 'ResourceWarning', 'RuntimeError', 'RuntimeWarning', 'StopAsyncIteration', 'StopIteration', 'SyntaxError', 'SyntaxWarning', 'SystemError', 'SystemExit', 'TabError', 'TimeoutError', 'True', 'TypeError', 'UnboundLocalError', 'UnicodeDecodeError', 'UnicodeEncodeError', 'UnicodeError', 'UnicodeTranslateError', 'UnicodeWarning', 'UserWarning', 'ValueError', 'Warning', 'ZeroDivisionError', '__IPYTHON__', '__build_class__', '__debug__', '__doc__', '__import__', '__loader__', '__name__', '__package__', '__spec__', 'abs', 'aiter', 'all', 'anext', 'any', 'ascii', 'bin', 'bool', 'breakpoint', 'bytearray', 'bytes', 'callable', 'chr', 'classmethod', 'compile', 'complex', 'copyright', 'credits', 'delattr', 'dict', 'dir', 'display', 'divmod', 'enumerate', 'eval', 'exec', 'execfile', 'filter', 'float', 'format', 'frozenset', 'get_ipython', 'getattr', 'globals', 'hasattr', 'hash', 'help', 'hex', 'id', 'input', 'int', 'isinstance', 'issubclass', 'iter', 'len', 'license', 'list', 'locals', 'map', 'max', 'memoryview', 'min', 'next', 'object', 'oct', 'open', 'ord', 'pow', 'print', 'property', 'range', 'repr', 'reversed', 'round', 'runfile', 'set', 'setattr', 'slice', 'sorted', 'staticmethod', 'str', 'sum', 'super', 'tuple', 'type', 'vars', 'zip']\n"
          ]
        }
      ]
    },
    {
      "cell_type": "code",
      "source": [
        "# Renaming builtins\n",
        "L =[1,2,3,4,5]\n",
        "def max():\n",
        "  print(\"hi\")\n",
        "\n",
        "max(L)\n",
        "\n",
        "# here legb rule follow\n",
        "# here max gives hi"
      ],
      "metadata": {
        "id": "1ZkeHlyl6Y-R",
        "colab": {
          "base_uri": "https://localhost:8080/",
          "height": 216
        },
        "outputId": "c9903861-8e13-4c85-af14-0c4284b88e65"
      },
      "execution_count": 173,
      "outputs": [
        {
          "output_type": "error",
          "ename": "TypeError",
          "evalue": "max() takes 0 positional arguments but 1 was given",
          "traceback": [
            "\u001b[0;31m---------------------------------------------------------------------------\u001b[0m",
            "\u001b[0;31mTypeError\u001b[0m                                 Traceback (most recent call last)",
            "\u001b[0;32m/tmp/ipython-input-3302216012.py\u001b[0m in \u001b[0;36m<cell line: 0>\u001b[0;34m()\u001b[0m\n\u001b[1;32m      4\u001b[0m   \u001b[0mprint\u001b[0m\u001b[0;34m(\u001b[0m\u001b[0;34m\"hi\"\u001b[0m\u001b[0;34m)\u001b[0m\u001b[0;34m\u001b[0m\u001b[0;34m\u001b[0m\u001b[0m\n\u001b[1;32m      5\u001b[0m \u001b[0;34m\u001b[0m\u001b[0m\n\u001b[0;32m----> 6\u001b[0;31m \u001b[0mmax\u001b[0m\u001b[0;34m(\u001b[0m\u001b[0mL\u001b[0m\u001b[0;34m)\u001b[0m\u001b[0;34m\u001b[0m\u001b[0;34m\u001b[0m\u001b[0m\n\u001b[0m\u001b[1;32m      7\u001b[0m \u001b[0;34m\u001b[0m\u001b[0m\n\u001b[1;32m      8\u001b[0m \u001b[0;31m# here legb rule follow\u001b[0m\u001b[0;34m\u001b[0m\u001b[0;34m\u001b[0m\u001b[0m\n",
            "\u001b[0;31mTypeError\u001b[0m: max() takes 0 positional arguments but 1 was given"
          ]
        }
      ]
    },
    {
      "cell_type": "markdown",
      "source": [
        "#### Enclosing scope"
      ],
      "metadata": {
        "id": "DQCp27ws62vC"
      }
    },
    {
      "cell_type": "code",
      "source": [
        "def outer():\n",
        "\n",
        "  def inner():\n",
        "    print(\"Inner function \")\n",
        "  inner()\n",
        "  print(\"Outer function\")\n",
        "\n",
        "outer()\n"
      ],
      "metadata": {
        "id": "b_sEFwhg6sKz",
        "colab": {
          "base_uri": "https://localhost:8080/"
        },
        "outputId": "3dfc181e-e774-4c5f-fb54-ce3e49f82a73"
      },
      "execution_count": 174,
      "outputs": [
        {
          "output_type": "stream",
          "name": "stdout",
          "text": [
            "Inner function \n",
            "Outer function\n"
          ]
        }
      ]
    },
    {
      "cell_type": "code",
      "source": [
        "def outer():\n",
        "\n",
        "  a = 3\n",
        "  def inner():\n",
        "    a = 4\n",
        "    print(a,\"inner function .\")\n",
        "  inner()\n",
        "  print(a,\"outer function .\")\n",
        "\n",
        "outer()"
      ],
      "metadata": {
        "id": "KgqS21pI7OS9",
        "colab": {
          "base_uri": "https://localhost:8080/"
        },
        "outputId": "9249fe6d-1bf5-4112-a293-a874d1b6b2f9"
      },
      "execution_count": 175,
      "outputs": [
        {
          "output_type": "stream",
          "name": "stdout",
          "text": [
            "4 inner function .\n",
            "3 outer function .\n"
          ]
        }
      ]
    },
    {
      "cell_type": "code",
      "source": [
        "def outer():\n",
        "  a = 3\n",
        "  def inner():\n",
        "    print(a)\n",
        "  inner()\n",
        "  print(\"Outer function .\")\n",
        "\n",
        "a = 1\n",
        "outer()"
      ],
      "metadata": {
        "id": "YXh6g5n27lrn",
        "colab": {
          "base_uri": "https://localhost:8080/"
        },
        "outputId": "e9040452-c04f-4347-816e-9e22290e42ad"
      },
      "execution_count": 176,
      "outputs": [
        {
          "output_type": "stream",
          "name": "stdout",
          "text": [
            "3\n",
            "Outer function .\n"
          ]
        }
      ]
    },
    {
      "cell_type": "markdown",
      "source": [
        "- nonlocal keyword"
      ],
      "metadata": {
        "id": "vdZZGE-P8O_e"
      }
    },
    {
      "cell_type": "code",
      "source": [
        "def outer():\n",
        "  a = 3\n",
        "  def inner():\n",
        "    nonlocal a\n",
        "    a+=1\n",
        "    print(a,\"inner a\")\n",
        "  inner()\n",
        "  print(a,\"outer a\")\n",
        "\n",
        "\n",
        "print(a)\n",
        "outer()"
      ],
      "metadata": {
        "id": "6k-V2mHU8K-b",
        "colab": {
          "base_uri": "https://localhost:8080/"
        },
        "outputId": "10c34377-2fce-4ff6-a1b8-bd3e63e85622"
      },
      "execution_count": 177,
      "outputs": [
        {
          "output_type": "stream",
          "name": "stdout",
          "text": [
            "1\n",
            "4 inner a\n",
            "4 outer a\n"
          ]
        }
      ]
    },
    {
      "cell_type": "markdown",
      "source": [
        "## 13. Decorators\n",
        "\n",
        "A decorator in python is a function that recieves another function as input and adds some functionality (decoration) to and it and returns it .\n",
        "\n",
        "This can happen because python functions are first class citizens .\n",
        "\n",
        "There are two types of decorators available in python\n",
        "\n",
        "- Built in decorators :  like @staticmethod @classmethod @abstractmethod and @property etc\n",
        "\n",
        "- User defined decorators : that we programme  can create according to our needs"
      ],
      "metadata": {
        "id": "ARTYQv_n9Fzg"
      }
    },
    {
      "cell_type": "code",
      "source": [
        "# Python is first class function .\n",
        "def func():\n",
        "  print(\"hie cutie patootie .\")\n",
        "\n",
        "a = func\n",
        "a()"
      ],
      "metadata": {
        "id": "aKXJJLZM7_Qe",
        "colab": {
          "base_uri": "https://localhost:8080/"
        },
        "outputId": "2322950a-94e3-47fa-b848-6e38c269f801"
      },
      "execution_count": 178,
      "outputs": [
        {
          "output_type": "stream",
          "name": "stdout",
          "text": [
            "hie cutie patootie .\n"
          ]
        }
      ]
    },
    {
      "cell_type": "code",
      "source": [
        "def modify(func,num):\n",
        "  return func(num)\n",
        "\n",
        "def square(num):\n",
        "  return num**2\n",
        "\n",
        "modify(square,9)"
      ],
      "metadata": {
        "id": "E5DwKw7q9ufn",
        "colab": {
          "base_uri": "https://localhost:8080/"
        },
        "outputId": "eb0d9872-e7db-4954-a1fa-d2b5a7fa68af"
      },
      "execution_count": 179,
      "outputs": [
        {
          "output_type": "execute_result",
          "data": {
            "text/plain": [
              "81"
            ]
          },
          "metadata": {},
          "execution_count": 179
        }
      ]
    },
    {
      "cell_type": "markdown",
      "source": [
        "Example"
      ],
      "metadata": {
        "id": "7nnlJ--W_sjp"
      }
    },
    {
      "cell_type": "code",
      "source": [
        "def my_decoraters(func):\n",
        "  def wrapper():\n",
        "    print(\"*\"*10)\n",
        "    func()\n",
        "    print(\"*\"*10)\n",
        "  return wrapper\n",
        "\n",
        "def hello():\n",
        "  print(\"hie cutie patootie ..\")\n",
        "\n",
        "a = my_decoraters(hello)\n",
        "a()\n",
        "\n",
        "# wrapper : Ye function ka reference hai. Jaise kisi insaan ka naam.\n",
        "# wrapper() : Ye function ko call karna hai. Jaise us insaan ko bulana."
      ],
      "metadata": {
        "id": "QKYm4dIu-Bsg",
        "colab": {
          "base_uri": "https://localhost:8080/"
        },
        "outputId": "a29973c5-0dd0-4d2a-ae79-e5a78b690307"
      },
      "execution_count": 180,
      "outputs": [
        {
          "output_type": "stream",
          "name": "stdout",
          "text": [
            "**********\n",
            "hie cutie patootie ..\n",
            "**********\n"
          ]
        }
      ]
    },
    {
      "cell_type": "markdown",
      "source": [
        "- return wrapper se hum function object (wrapper) return karte hain, na ki uska result. Isliye a ek naya function ban jata hai\n",
        "- jise hum baad mein call kar sakte hain.Agar hum wrapper() likhte, toh function turant execute ho jata aur a ko None value milti.\n",
        "\n",
        "- generally function return krne ke baad variable wagerah uske memory se hatt jate but inner function ke case me wo rehta hai --> closure\n",
        "- inner function parent function ke mrne ke baad bhi uske cheezzon ko access kar skta hai"
      ],
      "metadata": {
        "id": "O_ayhQrSBG9i"
      }
    },
    {
      "cell_type": "markdown",
      "source": [
        "**Closure**  \n",
        "      A closure is a function that remembers and can access variables from its surrounding scope, even after that outer\n",
        "      function has finished executing."
      ],
      "metadata": {
        "id": "jWVxhTEbBSRU"
      }
    },
    {
      "cell_type": "code",
      "source": [
        "# Better syntax\n",
        "def my_decoraters(func):\n",
        "  def wrapper():\n",
        "    print(\"*\"*10)\n",
        "    func()\n",
        "    print(\"*\"*10)\n",
        "  return wrapper\n",
        "\n",
        "\n",
        "@my_decoraters\n",
        "def hello():\n",
        "  print(\"Hie cutie patootie :) \")"
      ],
      "metadata": {
        "id": "IJ906jy_APhN"
      },
      "execution_count": 181,
      "outputs": []
    },
    {
      "cell_type": "markdown",
      "source": [
        "##### Example Decorater which tells execution time of a function"
      ],
      "metadata": {
        "id": "Xez0rKJrCHP2"
      }
    },
    {
      "cell_type": "code",
      "source": [
        "import time\n",
        "\n",
        "def timer(func):\n",
        "  def wrapper():\n",
        "    start = time.time()\n",
        "    func()\n",
        "    print(\"Time taken by \",func.__name__,\"is \",time.time()-start)\n",
        "  return wrapper\n",
        "\n",
        "\n",
        "@timer\n",
        "def hello():\n",
        "  print(\"Bol bol bhai\")\n",
        "\n",
        "hello()"
      ],
      "metadata": {
        "id": "PfSqIv8bBstM",
        "colab": {
          "base_uri": "https://localhost:8080/"
        },
        "outputId": "7ffa6460-5b67-48db-e76c-0b2e041539c8"
      },
      "execution_count": 182,
      "outputs": [
        {
          "output_type": "stream",
          "name": "stdout",
          "text": [
            "Bol bol bhai\n",
            "Time taken by  hello is  6.151199340820312e-05\n"
          ]
        }
      ]
    },
    {
      "cell_type": "markdown",
      "source": [
        "#### Function with parameter"
      ],
      "metadata": {
        "id": "DXFsxEI8DFst"
      }
    },
    {
      "cell_type": "code",
      "source": [
        "import time\n",
        "\n",
        "def timer(func):\n",
        "  def wrapper(*args):\n",
        "    start = time.time()\n",
        "    func(*args)\n",
        "    print((\"Time taken by \",func.__name__,\"is \",time.time()-start))\n",
        "  return wrapper\n",
        "\n",
        "@timer\n",
        "def square(num):\n",
        "  print(num**2)\n",
        "\n",
        "square(6)\n",
        "\n",
        "@timer\n",
        "def add(a,b):\n",
        "  print(a+b)\n",
        "\n",
        "add(5,6)"
      ],
      "metadata": {
        "id": "Wejz4O6uCU6-",
        "colab": {
          "base_uri": "https://localhost:8080/"
        },
        "outputId": "83a94bdd-c4c3-4da8-d1b7-91d06535025b"
      },
      "execution_count": 183,
      "outputs": [
        {
          "output_type": "stream",
          "name": "stdout",
          "text": [
            "36\n",
            "('Time taken by ', 'square', 'is ', 7.224082946777344e-05)\n",
            "11\n",
            "('Time taken by ', 'add', 'is ', 8.58306884765625e-06)\n"
          ]
        }
      ]
    },
    {
      "cell_type": "markdown",
      "source": [
        "#### A big problem\n",
        "check datatype is it correct or not then it execute\n",
        "(decorator)"
      ],
      "metadata": {
        "id": "sB8ItCGJEJ3M"
      }
    },
    {
      "cell_type": "code",
      "source": [
        "# decorator with arguments\n",
        "# @sanity_check(int)\n",
        "# outer_wrapper ->function\n",
        "# innerwarpper -> inputs\n",
        "\n",
        "\n",
        "\n",
        "# def sanitycheck(*data_types):\n",
        "#   def outer_wrapper(func):\n",
        "#     def inner_wrapper(*args):\n",
        "#       if all(type(arg) in data_types for arg in args):\n",
        "#         func(*args)\n",
        "#       else :\n",
        "#         raise TypeError(\"Ye datatype ni chlega\")\n",
        "#     return inner_wrapper\n",
        "#   return outer_wrapper\n",
        "\n",
        "\n",
        "\n",
        "# @sanitycheck(int)\n",
        "# def sum(a,b):\n",
        "#   print(a+b)\n",
        "\n",
        "# sum(5,6) # commented out the call to sum to avoid type error on tuple\n",
        "\n",
        "# @sanitycheck(int) # removed decorator from square\n",
        "# def square(num):\n",
        "#   print(num**2)\n",
        "\n",
        "# square(2) # commented out calls to square to avoid type error on float and string\n",
        "# square(4.5)\n",
        "# square('hehe')"
      ],
      "metadata": {
        "id": "w_mEHrE-D19K"
      },
      "execution_count": 184,
      "outputs": []
    },
    {
      "cell_type": "markdown",
      "source": [
        "## 14. Iterators"
      ],
      "metadata": {
        "id": "BKzowFkLIics"
      }
    },
    {
      "cell_type": "markdown",
      "source": [
        "### What is Iteration ?\n",
        "\n",
        "Iteration is a general term for taking each item of something , one after another . Any time you use a loop , explicit or implicit , to go over a grop of items , that is iteration ."
      ],
      "metadata": {
        "id": "TbW2mRqHIng9"
      }
    },
    {
      "cell_type": "code",
      "source": [
        "# Example\n",
        "L = [1,2,3,4]\n",
        "for i in L:\n",
        "  print(i)"
      ],
      "metadata": {
        "id": "f8225HxsE54u",
        "colab": {
          "base_uri": "https://localhost:8080/"
        },
        "outputId": "1e5f3bf0-7d63-46ed-c04c-1fd9329c1ba1"
      },
      "execution_count": 185,
      "outputs": [
        {
          "output_type": "stream",
          "name": "stdout",
          "text": [
            "1\n",
            "2\n",
            "3\n",
            "4\n"
          ]
        }
      ]
    },
    {
      "cell_type": "markdown",
      "source": [
        "### What is iterator ?\n",
        "\n",
        "An iterator is an object that allows the programmer to traverse through a sequence of data without having to store the entire data in memory."
      ],
      "metadata": {
        "id": "9mJavYEsI3IX"
      }
    },
    {
      "cell_type": "code",
      "source": [
        "# Example\n",
        "L = [x for x in range(1000000)]\n",
        "# for i in L:\n",
        "#   print(i*2)\n",
        "\n",
        "import sys\n",
        "print(sys.getsizeof(L)/1024)\n",
        "\n",
        "x = range(100000)\n",
        "# for i in x:\n",
        "#   print(i*2)\n",
        "\n",
        "print(sys.getsizeof(x)/1024)"
      ],
      "metadata": {
        "id": "-Izxq74qI0AU",
        "colab": {
          "base_uri": "https://localhost:8080/"
        },
        "outputId": "c2e1f3b5-956c-4cc1-a03b-8a0d83c37eee"
      },
      "execution_count": 186,
      "outputs": [
        {
          "output_type": "stream",
          "name": "stdout",
          "text": [
            "8250.7109375\n",
            "0.046875\n"
          ]
        }
      ]
    },
    {
      "cell_type": "markdown",
      "source": [
        "### What is iterable ?\n",
        "\n",
        "- Iterable is an object , which one can iterate over\n",
        "\n",
        "- It generates an iterator when passed to iter() method"
      ],
      "metadata": {
        "id": "X28jLT4oJafm"
      }
    },
    {
      "cell_type": "code",
      "source": [
        "# Example\n",
        "\n",
        "# Iterable gives iterator\n",
        "L = [1,2,3,4,5]\n",
        "type(L)\n",
        "\n",
        "# list is iterable\n",
        "type(iter(L))"
      ],
      "metadata": {
        "id": "S289JTAUJLlb",
        "colab": {
          "base_uri": "https://localhost:8080/"
        },
        "outputId": "cf3ca879-9dd6-4e12-c7f1-032c1ba39d33"
      },
      "execution_count": 187,
      "outputs": [
        {
          "output_type": "execute_result",
          "data": {
            "text/plain": [
              "list_iterator"
            ]
          },
          "metadata": {},
          "execution_count": 187
        }
      ]
    },
    {
      "cell_type": "markdown",
      "source": [
        "#### Point to remember\n",
        "\n",
        "- Every iterator is iterable\n",
        "- Not all iterable are iterators"
      ],
      "metadata": {
        "id": "ZYGE1ccYKmkz"
      }
    },
    {
      "cell_type": "markdown",
      "source": [
        "List is iterable but not iterator"
      ],
      "metadata": {
        "id": "l3oqcAcIKqUX"
      }
    },
    {
      "cell_type": "code",
      "source": [
        "# check if any object is iterable or not\n",
        "a = 5\n",
        "for i in a:\n",
        "  print(a)\n",
        "\n",
        "# a is not iterable"
      ],
      "metadata": {
        "id": "LPvSch6yJzkH",
        "colab": {
          "base_uri": "https://localhost:8080/",
          "height": 216
        },
        "outputId": "9882c509-20dd-496f-f797-6c2cf000b447"
      },
      "execution_count": 188,
      "outputs": [
        {
          "output_type": "error",
          "ename": "TypeError",
          "evalue": "'int' object is not iterable",
          "traceback": [
            "\u001b[0;31m---------------------------------------------------------------------------\u001b[0m",
            "\u001b[0;31mTypeError\u001b[0m                                 Traceback (most recent call last)",
            "\u001b[0;32m/tmp/ipython-input-2157997843.py\u001b[0m in \u001b[0;36m<cell line: 0>\u001b[0;34m()\u001b[0m\n\u001b[1;32m      1\u001b[0m \u001b[0;31m# check if any object is iterable or not\u001b[0m\u001b[0;34m\u001b[0m\u001b[0;34m\u001b[0m\u001b[0m\n\u001b[1;32m      2\u001b[0m \u001b[0ma\u001b[0m \u001b[0;34m=\u001b[0m \u001b[0;36m5\u001b[0m\u001b[0;34m\u001b[0m\u001b[0;34m\u001b[0m\u001b[0m\n\u001b[0;32m----> 3\u001b[0;31m \u001b[0;32mfor\u001b[0m \u001b[0mi\u001b[0m \u001b[0;32min\u001b[0m \u001b[0ma\u001b[0m\u001b[0;34m:\u001b[0m\u001b[0;34m\u001b[0m\u001b[0;34m\u001b[0m\u001b[0m\n\u001b[0m\u001b[1;32m      4\u001b[0m   \u001b[0mprint\u001b[0m\u001b[0;34m(\u001b[0m\u001b[0ma\u001b[0m\u001b[0;34m)\u001b[0m\u001b[0;34m\u001b[0m\u001b[0;34m\u001b[0m\u001b[0m\n\u001b[1;32m      5\u001b[0m \u001b[0;34m\u001b[0m\u001b[0m\n",
            "\u001b[0;31mTypeError\u001b[0m: 'int' object is not iterable"
          ]
        }
      ]
    },
    {
      "cell_type": "code",
      "source": [
        "dir(a)"
      ],
      "metadata": {
        "id": "vdtB3Z73Kx40",
        "colab": {
          "base_uri": "https://localhost:8080/"
        },
        "outputId": "5b6c4dcc-bdef-4b87-d783-169c8c24b100"
      },
      "execution_count": 189,
      "outputs": [
        {
          "output_type": "execute_result",
          "data": {
            "text/plain": [
              "['__abs__',\n",
              " '__add__',\n",
              " '__and__',\n",
              " '__bool__',\n",
              " '__ceil__',\n",
              " '__class__',\n",
              " '__delattr__',\n",
              " '__dir__',\n",
              " '__divmod__',\n",
              " '__doc__',\n",
              " '__eq__',\n",
              " '__float__',\n",
              " '__floor__',\n",
              " '__floordiv__',\n",
              " '__format__',\n",
              " '__ge__',\n",
              " '__getattribute__',\n",
              " '__getnewargs__',\n",
              " '__getstate__',\n",
              " '__gt__',\n",
              " '__hash__',\n",
              " '__index__',\n",
              " '__init__',\n",
              " '__init_subclass__',\n",
              " '__int__',\n",
              " '__invert__',\n",
              " '__le__',\n",
              " '__lshift__',\n",
              " '__lt__',\n",
              " '__mod__',\n",
              " '__mul__',\n",
              " '__ne__',\n",
              " '__neg__',\n",
              " '__new__',\n",
              " '__or__',\n",
              " '__pos__',\n",
              " '__pow__',\n",
              " '__radd__',\n",
              " '__rand__',\n",
              " '__rdivmod__',\n",
              " '__reduce__',\n",
              " '__reduce_ex__',\n",
              " '__repr__',\n",
              " '__rfloordiv__',\n",
              " '__rlshift__',\n",
              " '__rmod__',\n",
              " '__rmul__',\n",
              " '__ror__',\n",
              " '__round__',\n",
              " '__rpow__',\n",
              " '__rrshift__',\n",
              " '__rshift__',\n",
              " '__rsub__',\n",
              " '__rtruediv__',\n",
              " '__rxor__',\n",
              " '__setattr__',\n",
              " '__sizeof__',\n",
              " '__str__',\n",
              " '__sub__',\n",
              " '__subclasshook__',\n",
              " '__truediv__',\n",
              " '__trunc__',\n",
              " '__xor__',\n",
              " 'as_integer_ratio',\n",
              " 'bit_count',\n",
              " 'bit_length',\n",
              " 'conjugate',\n",
              " 'denominator',\n",
              " 'from_bytes',\n",
              " 'imag',\n",
              " 'is_integer',\n",
              " 'numerator',\n",
              " 'real',\n",
              " 'to_bytes']"
            ]
          },
          "metadata": {},
          "execution_count": 189
        }
      ]
    },
    {
      "cell_type": "code",
      "source": [
        "# How to check iterator -> __iter__ and __next__\n",
        "dir(L)\n",
        "#__iter__ hai but __next__ ni hai\n",
        "# L is not iterator\n",
        "\n",
        "iter(L)\n",
        "dir(iter(L))\n",
        "#isme __iter__ and __next__ hai"
      ],
      "metadata": {
        "id": "_uq9T_HVK0Io",
        "colab": {
          "base_uri": "https://localhost:8080/"
        },
        "outputId": "8f4b4fc3-6f88-4882-8b62-f13ec58fe381"
      },
      "execution_count": 190,
      "outputs": [
        {
          "output_type": "execute_result",
          "data": {
            "text/plain": [
              "['__class__',\n",
              " '__delattr__',\n",
              " '__dir__',\n",
              " '__doc__',\n",
              " '__eq__',\n",
              " '__format__',\n",
              " '__ge__',\n",
              " '__getattribute__',\n",
              " '__getstate__',\n",
              " '__gt__',\n",
              " '__hash__',\n",
              " '__init__',\n",
              " '__init_subclass__',\n",
              " '__iter__',\n",
              " '__le__',\n",
              " '__length_hint__',\n",
              " '__lt__',\n",
              " '__ne__',\n",
              " '__new__',\n",
              " '__next__',\n",
              " '__reduce__',\n",
              " '__reduce_ex__',\n",
              " '__repr__',\n",
              " '__setattr__',\n",
              " '__setstate__',\n",
              " '__sizeof__',\n",
              " '__str__',\n",
              " '__subclasshook__']"
            ]
          },
          "metadata": {},
          "execution_count": 190
        }
      ]
    },
    {
      "cell_type": "markdown",
      "source": [
        "#### Understanding how for loops work"
      ],
      "metadata": {
        "id": "ZTt70slcLAJw"
      }
    },
    {
      "cell_type": "code",
      "source": [
        "num = [1,2,3]\n",
        "for i in num:\n",
        "  print(i)"
      ],
      "metadata": {
        "id": "4X4cjqITK8G_",
        "colab": {
          "base_uri": "https://localhost:8080/"
        },
        "outputId": "e79a2970-296b-414c-e9b0-15a930b60728"
      },
      "execution_count": 191,
      "outputs": [
        {
          "output_type": "stream",
          "name": "stdout",
          "text": [
            "1\n",
            "2\n",
            "3\n"
          ]
        }
      ]
    },
    {
      "cell_type": "code",
      "source": [
        "num = [1,2,3]\n",
        "\n",
        "# stepp1 fetch the iterator\n",
        "iter_num = iter(num)\n",
        "\n",
        "# step 2 next\n",
        "print(next(iter_num))\n",
        "print(next(iter_num))\n",
        "print(next(iter_num))"
      ],
      "metadata": {
        "id": "8obk7wmcLFW4",
        "colab": {
          "base_uri": "https://localhost:8080/"
        },
        "outputId": "cd934f11-1609-4981-a739-9c3c4c01ed0f"
      },
      "execution_count": 192,
      "outputs": [
        {
          "output_type": "stream",
          "name": "stdout",
          "text": [
            "1\n",
            "2\n",
            "3\n"
          ]
        }
      ]
    },
    {
      "cell_type": "markdown",
      "source": [
        "### Problems"
      ],
      "metadata": {
        "id": "WYpkXB0xNH0W"
      }
    },
    {
      "cell_type": "markdown",
      "source": [
        "#### Making our own loop"
      ],
      "metadata": {
        "id": "f7Tz6v1aLhyl"
      }
    },
    {
      "cell_type": "code",
      "source": [
        "def mera_khudka_loop(iterable):\n",
        "  iterator = iter(iterable)\n",
        "  while True:\n",
        "    try:\n",
        "      print(next(iterator))\n",
        "    except StopIteration:\n",
        "      break"
      ],
      "metadata": {
        "id": "ixKVdhn4LKkv"
      },
      "execution_count": 193,
      "outputs": []
    },
    {
      "cell_type": "code",
      "source": [
        "a = [1,2,3]\n",
        "b = (1,2,3)\n",
        "c = range(1,11)\n",
        "d = {1,2,3}\n",
        "e = {0:1,1:1}\n",
        "\n",
        "# print(mera_khudka_loop(a))\n",
        "# print(mera_khudka_loop(b))\n",
        "# print(mera_khudka_loop(c))\n",
        "# print(mera_khudka_loop(d))\n",
        "mera_khudka_loop(e)"
      ],
      "metadata": {
        "id": "eoYR6CLvMDVC",
        "colab": {
          "base_uri": "https://localhost:8080/"
        },
        "outputId": "0f9b5b21-4576-4d8e-d12f-fb2b87e76d2c"
      },
      "execution_count": 194,
      "outputs": [
        {
          "output_type": "stream",
          "name": "stdout",
          "text": [
            "0\n",
            "1\n"
          ]
        }
      ]
    },
    {
      "cell_type": "code",
      "source": [
        "num = [1,2,3]\n",
        "iter_obj = iter(num)\n",
        "iter_obj2 = iter(iter_obj)\n",
        "print(\"Iterator of iterable list :\",id(iter_obj))\n",
        "print(\"Iterator of iterator  :\",id(iter_obj2))"
      ],
      "metadata": {
        "id": "UWo5g6OdMNxq",
        "colab": {
          "base_uri": "https://localhost:8080/"
        },
        "outputId": "b1a972c8-aa7d-443e-da21-29ca2920800b"
      },
      "execution_count": 195,
      "outputs": [
        {
          "output_type": "stream",
          "name": "stdout",
          "text": [
            "Iterator of iterable list : 132673820606624\n",
            "Iterator of iterator  : 132673820606624\n"
          ]
        }
      ]
    },
    {
      "cell_type": "markdown",
      "source": [
        "          agar hum khudka object bnare and we want iteration feature in the object for that we need this knowledge"
      ],
      "metadata": {
        "id": "6qmamTAzMsIH"
      }
    },
    {
      "cell_type": "markdown",
      "source": [
        "#### Lets Create our own range function"
      ],
      "metadata": {
        "id": "iIBQRBf2MyyC"
      }
    },
    {
      "cell_type": "code",
      "source": [
        "\n",
        "class mera_range:\n",
        "  def __init__(self,start,end):\n",
        "    self.start = start\n",
        "    self.end = end\n",
        "  def __iter__(self):\n",
        "    return mera_range_iterator(self)"
      ],
      "metadata": {
        "id": "mHcv9aebMitV"
      },
      "execution_count": 196,
      "outputs": []
    },
    {
      "cell_type": "code",
      "source": [
        "class mera_range_iterator:\n",
        "  def __init__(self,iterable_obj):\n",
        "    self.iterable = iterable_obj\n",
        "\n",
        "  #khudka hi iter hai\n",
        "  def __iter__(self):\n",
        "    return self\n",
        "\n",
        "  def __next__(self):\n",
        "    if self.iterable.start>=self.iterable.end:\n",
        "      raise StopIteration\n",
        "    current = self.iterable.start\n",
        "    self.iterable.start+=1\n",
        "    return current\n"
      ],
      "metadata": {
        "id": "sXYfus9ENzli"
      },
      "execution_count": 197,
      "outputs": []
    },
    {
      "cell_type": "code",
      "source": [
        "for i in mera_range(1,11):\n",
        "  print(i)"
      ],
      "metadata": {
        "id": "8hvfrA1qOigC",
        "colab": {
          "base_uri": "https://localhost:8080/"
        },
        "outputId": "58fdfb42-688b-4f8b-a446-db814c347963"
      },
      "execution_count": 198,
      "outputs": [
        {
          "output_type": "stream",
          "name": "stdout",
          "text": [
            "1\n",
            "2\n",
            "3\n",
            "4\n",
            "5\n",
            "6\n",
            "7\n",
            "8\n",
            "9\n",
            "10\n"
          ]
        }
      ]
    },
    {
      "cell_type": "markdown",
      "source": [
        "       Example : use in dl for large image as iterator take only one image at a time in memory"
      ],
      "metadata": {
        "id": "pEj3aDrzOn6f"
      }
    },
    {
      "cell_type": "markdown",
      "source": [
        "   Toh, seedhe shabdo mein, mera_range ek container hai aur mera_range_iterator us container se ek-ek item nikalne waali machine hai."
      ],
      "metadata": {
        "id": "ZBkRfT0JPYJ9"
      }
    },
    {
      "cell_type": "markdown",
      "source": [
        "## 15. Generators\n",
        "- are simple way of creating iterators"
      ],
      "metadata": {
        "id": "VtmiJ-c7PmQ0"
      }
    },
    {
      "cell_type": "code",
      "source": [
        "# Example\n",
        "# in generator is a function there is yield statement not return\n",
        "def gen_demo():\n",
        "  yield \"first statement\"\n",
        "  yield \"second statement\"\n",
        "  yield \"third statement\""
      ],
      "metadata": {
        "id": "KBRkTMPZOkz8"
      },
      "execution_count": 199,
      "outputs": []
    },
    {
      "cell_type": "code",
      "source": [
        "gen = gen_demo()\n",
        "print(gen)\n",
        "print(next(gen))\n",
        "print(next(gen))\n",
        "print(next(gen))"
      ],
      "metadata": {
        "id": "h9hBkHeSQpY4",
        "colab": {
          "base_uri": "https://localhost:8080/"
        },
        "outputId": "ddd11a5f-c434-4c5b-bc99-328fc7946373"
      },
      "execution_count": 200,
      "outputs": [
        {
          "output_type": "stream",
          "name": "stdout",
          "text": [
            "<generator object gen_demo at 0x78aa87fc4930>\n",
            "first statement\n",
            "second statement\n",
            "third statement\n"
          ]
        }
      ]
    },
    {
      "cell_type": "markdown",
      "source": [
        "\n",
        "### Difference in normal function vs generator\n",
        "     \n",
        "\n",
        "- Normal function apna kaam khtm krke memory se nikal jara\n",
        "- Generator partially kar rha hatjara par yaad rkhra hai ki last time kia kiya tha and yaad rkhra ki variable ki kya value\n",
        "- return ek function ko poora end kar deta hai aur ek value deta hai, jabki yield ek generator function ko pause karta hai aur\n",
        "-  ek-ek karke values deta hai, jise baad mein resume kiya ja sakta hai"
      ],
      "metadata": {
        "id": "JENva-SbRf-x"
      }
    },
    {
      "cell_type": "code",
      "source": [
        "def square(num):\n",
        "  for i in range(1,num+1):\n",
        "    yield i**2"
      ],
      "metadata": {
        "id": "ssrZdlP3Qtda"
      },
      "execution_count": 201,
      "outputs": []
    },
    {
      "cell_type": "code",
      "source": [
        "a = square(5)\n",
        "print(next(a))\n",
        "print(next(a))\n",
        "print(next(a))"
      ],
      "metadata": {
        "id": "xW9dZTIQSSYd",
        "colab": {
          "base_uri": "https://localhost:8080/"
        },
        "outputId": "cf73fad6-9911-4750-f05c-f349e9a3d1a6"
      },
      "execution_count": 202,
      "outputs": [
        {
          "output_type": "stream",
          "name": "stdout",
          "text": [
            "1\n",
            "4\n",
            "9\n"
          ]
        }
      ]
    },
    {
      "cell_type": "code",
      "source": [
        "for i in a :\n",
        "  print(i)"
      ],
      "metadata": {
        "id": "VGWpmLzVSauy",
        "colab": {
          "base_uri": "https://localhost:8080/"
        },
        "outputId": "640ac33e-3f3e-42a7-9705-691932534983"
      },
      "execution_count": 203,
      "outputs": [
        {
          "output_type": "stream",
          "name": "stdout",
          "text": [
            "16\n",
            "25\n"
          ]
        }
      ]
    },
    {
      "cell_type": "markdown",
      "source": [
        "### Problems"
      ],
      "metadata": {
        "id": "G_d7QuwRSo3E"
      }
    },
    {
      "cell_type": "markdown",
      "source": [
        "#### Range function using generators"
      ],
      "metadata": {
        "id": "MV0xlxcdSsuu"
      }
    },
    {
      "cell_type": "code",
      "source": [
        "def mera_apna_range(start,end):\n",
        "  for i in range(start,end):\n",
        "    yield i\n"
      ],
      "metadata": {
        "id": "xDVLl4vhSi2z"
      },
      "execution_count": 204,
      "outputs": []
    },
    {
      "cell_type": "code",
      "source": [
        "for i in mera_apna_range(1,10):\n",
        "  print(i)"
      ],
      "metadata": {
        "id": "tK9qBGxgS5F7",
        "colab": {
          "base_uri": "https://localhost:8080/"
        },
        "outputId": "7587b984-4fc6-4506-8028-5b22ea02134e"
      },
      "execution_count": 205,
      "outputs": [
        {
          "output_type": "stream",
          "name": "stdout",
          "text": [
            "1\n",
            "2\n",
            "3\n",
            "4\n",
            "5\n",
            "6\n",
            "7\n",
            "8\n",
            "9\n"
          ]
        }
      ]
    },
    {
      "cell_type": "markdown",
      "source": [
        "#### Generator expression"
      ],
      "metadata": {
        "id": "iwOJAnKKTCms"
      }
    },
    {
      "cell_type": "code",
      "source": [
        "#List comprehension\n",
        "L =[i for i in range(1,100)]\n",
        "L"
      ],
      "metadata": {
        "collapsed": true,
        "id": "5CjXhrshS8BK",
        "colab": {
          "base_uri": "https://localhost:8080/"
        },
        "outputId": "3b346645-1fc4-425a-94d0-b1ccd6a1efd9"
      },
      "execution_count": 206,
      "outputs": [
        {
          "output_type": "execute_result",
          "data": {
            "text/plain": [
              "[1,\n",
              " 2,\n",
              " 3,\n",
              " 4,\n",
              " 5,\n",
              " 6,\n",
              " 7,\n",
              " 8,\n",
              " 9,\n",
              " 10,\n",
              " 11,\n",
              " 12,\n",
              " 13,\n",
              " 14,\n",
              " 15,\n",
              " 16,\n",
              " 17,\n",
              " 18,\n",
              " 19,\n",
              " 20,\n",
              " 21,\n",
              " 22,\n",
              " 23,\n",
              " 24,\n",
              " 25,\n",
              " 26,\n",
              " 27,\n",
              " 28,\n",
              " 29,\n",
              " 30,\n",
              " 31,\n",
              " 32,\n",
              " 33,\n",
              " 34,\n",
              " 35,\n",
              " 36,\n",
              " 37,\n",
              " 38,\n",
              " 39,\n",
              " 40,\n",
              " 41,\n",
              " 42,\n",
              " 43,\n",
              " 44,\n",
              " 45,\n",
              " 46,\n",
              " 47,\n",
              " 48,\n",
              " 49,\n",
              " 50,\n",
              " 51,\n",
              " 52,\n",
              " 53,\n",
              " 54,\n",
              " 55,\n",
              " 56,\n",
              " 57,\n",
              " 58,\n",
              " 59,\n",
              " 60,\n",
              " 61,\n",
              " 62,\n",
              " 63,\n",
              " 64,\n",
              " 65,\n",
              " 66,\n",
              " 67,\n",
              " 68,\n",
              " 69,\n",
              " 70,\n",
              " 71,\n",
              " 72,\n",
              " 73,\n",
              " 74,\n",
              " 75,\n",
              " 76,\n",
              " 77,\n",
              " 78,\n",
              " 79,\n",
              " 80,\n",
              " 81,\n",
              " 82,\n",
              " 83,\n",
              " 84,\n",
              " 85,\n",
              " 86,\n",
              " 87,\n",
              " 88,\n",
              " 89,\n",
              " 90,\n",
              " 91,\n",
              " 92,\n",
              " 93,\n",
              " 94,\n",
              " 95,\n",
              " 96,\n",
              " 97,\n",
              " 98,\n",
              " 99]"
            ]
          },
          "metadata": {},
          "execution_count": 206
        }
      ]
    },
    {
      "cell_type": "code",
      "source": [
        "# Generator comprehension\n",
        "square_generator = (x**2 for x in range(10) if x%2==0)\n",
        "# Get the first item from the generator\n",
        "first_square = next(square_generator)\n",
        "second_square = next(square_generator)\n",
        "\n",
        "print(first_square)\n",
        "print(second_square)"
      ],
      "metadata": {
        "id": "bX6t1q5wTPsG",
        "colab": {
          "base_uri": "https://localhost:8080/"
        },
        "outputId": "5458938d-7cfe-4e09-b2fb-240792420ba4"
      },
      "execution_count": 207,
      "outputs": [
        {
          "output_type": "stream",
          "name": "stdout",
          "text": [
            "0\n",
            "4\n"
          ]
        }
      ]
    },
    {
      "cell_type": "markdown",
      "source": [
        "    for tuple comprehension tuple()"
      ],
      "metadata": {
        "id": "kBFDs9zwUdY2"
      }
    },
    {
      "cell_type": "markdown",
      "source": [
        "### Benefit of generator\n",
        "\n",
        "- Memory efficient\n",
        "- Ease of use\n",
        "- chaing generator\n",
        "- for infinite streams"
      ],
      "metadata": {
        "id": "Yi7gm9UmUt7M"
      }
    },
    {
      "cell_type": "code",
      "source": [
        "# chaining\n",
        "def fibonnaci(nums):\n",
        "  x,y = 0,1\n",
        "  for _ in range(nums):\n",
        "    x,y = y,x+y\n",
        "    yield x\n",
        "\n",
        "def square(nums):\n",
        "  for num in nums:\n",
        "    yield num**2\n",
        "\n",
        "\n",
        "print(sum(square(fibonnaci(10))))\n",
        "\n",
        "for i in square(fibonnaci(10)):\n",
        "  print(i)"
      ],
      "metadata": {
        "id": "RC_K-M-ITm-L",
        "colab": {
          "base_uri": "https://localhost:8080/"
        },
        "outputId": "9412c0b3-e1b0-4f60-891a-330911b6abb9"
      },
      "execution_count": 208,
      "outputs": [
        {
          "output_type": "stream",
          "name": "stdout",
          "text": [
            "4895\n",
            "1\n",
            "1\n",
            "4\n",
            "9\n",
            "25\n",
            "64\n",
            "169\n",
            "441\n",
            "1156\n",
            "3025\n"
          ]
        }
      ]
    },
    {
      "cell_type": "code",
      "source": [],
      "metadata": {
        "id": "iMgVYh7OU6MX"
      },
      "execution_count": 208,
      "outputs": []
    }
  ]
}